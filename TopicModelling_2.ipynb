{
  "nbformat": 4,
  "nbformat_minor": 0,
  "metadata": {
    "colab": {
      "name": "TopicModelling.ipynb",
      "provenance": [],
      "collapsed_sections": [],
      "authorship_tag": "ABX9TyP6WNj0BfGRXulsZXX9Ac/9",
      "include_colab_link": true
    },
    "kernelspec": {
      "name": "python3",
      "display_name": "Python 3"
    }
  },
  "cells": [
    {
      "cell_type": "markdown",
      "metadata": {
        "id": "view-in-github",
        "colab_type": "text"
      },
      "source": [
        "<a href=\"https://colab.research.google.com/github/AlexanderBelfort/MDPRKT/blob/main/TopicModelling_2.ipynb\" target=\"_parent\"><img src=\"https://colab.research.google.com/assets/colab-badge.svg\" alt=\"Open In Colab\"/></a>"
      ]
    },
    {
      "cell_type": "code",
      "metadata": {
        "id": "A18qGfBS6NWr",
        "colab": {
          "base_uri": "https://localhost:8080/"
        },
        "outputId": "e4d3d1ff-ed49-4b31-e58c-03a28f560f0c"
      },
      "source": [
        "# Run in python console\r\n",
        "import nltk\r\n",
        "nltk.download('stopwords')\r\n",
        "\r\n",
        "# Run in terminal or command prompt\r\n",
        "%pip install spacy\r\n",
        "%pip install pyLDAvis==2.1.2"
      ],
      "execution_count": 1,
      "outputs": [
        {
          "output_type": "stream",
          "text": [
            "[nltk_data] Downloading package stopwords to /root/nltk_data...\n",
            "[nltk_data]   Unzipping corpora/stopwords.zip.\n",
            "Requirement already satisfied: spacy in /usr/local/lib/python3.6/dist-packages (2.2.4)\n",
            "Requirement already satisfied: murmurhash<1.1.0,>=0.28.0 in /usr/local/lib/python3.6/dist-packages (from spacy) (1.0.5)\n",
            "Requirement already satisfied: wasabi<1.1.0,>=0.4.0 in /usr/local/lib/python3.6/dist-packages (from spacy) (0.8.2)\n",
            "Requirement already satisfied: thinc==7.4.0 in /usr/local/lib/python3.6/dist-packages (from spacy) (7.4.0)\n",
            "Requirement already satisfied: numpy>=1.15.0 in /usr/local/lib/python3.6/dist-packages (from spacy) (1.19.5)\n",
            "Requirement already satisfied: setuptools in /usr/local/lib/python3.6/dist-packages (from spacy) (53.0.0)\n",
            "Requirement already satisfied: plac<1.2.0,>=0.9.6 in /usr/local/lib/python3.6/dist-packages (from spacy) (1.1.3)\n",
            "Requirement already satisfied: requests<3.0.0,>=2.13.0 in /usr/local/lib/python3.6/dist-packages (from spacy) (2.23.0)\n",
            "Requirement already satisfied: tqdm<5.0.0,>=4.38.0 in /usr/local/lib/python3.6/dist-packages (from spacy) (4.41.1)\n",
            "Requirement already satisfied: catalogue<1.1.0,>=0.0.7 in /usr/local/lib/python3.6/dist-packages (from spacy) (1.0.0)\n",
            "Requirement already satisfied: blis<0.5.0,>=0.4.0 in /usr/local/lib/python3.6/dist-packages (from spacy) (0.4.1)\n",
            "Requirement already satisfied: srsly<1.1.0,>=1.0.2 in /usr/local/lib/python3.6/dist-packages (from spacy) (1.0.5)\n",
            "Requirement already satisfied: preshed<3.1.0,>=3.0.2 in /usr/local/lib/python3.6/dist-packages (from spacy) (3.0.5)\n",
            "Requirement already satisfied: cymem<2.1.0,>=2.0.2 in /usr/local/lib/python3.6/dist-packages (from spacy) (2.0.5)\n",
            "Requirement already satisfied: certifi>=2017.4.17 in /usr/local/lib/python3.6/dist-packages (from requests<3.0.0,>=2.13.0->spacy) (2020.12.5)\n",
            "Requirement already satisfied: urllib3!=1.25.0,!=1.25.1,<1.26,>=1.21.1 in /usr/local/lib/python3.6/dist-packages (from requests<3.0.0,>=2.13.0->spacy) (1.24.3)\n",
            "Requirement already satisfied: chardet<4,>=3.0.2 in /usr/local/lib/python3.6/dist-packages (from requests<3.0.0,>=2.13.0->spacy) (3.0.4)\n",
            "Requirement already satisfied: idna<3,>=2.5 in /usr/local/lib/python3.6/dist-packages (from requests<3.0.0,>=2.13.0->spacy) (2.10)\n",
            "Requirement already satisfied: importlib-metadata>=0.20; python_version < \"3.8\" in /usr/local/lib/python3.6/dist-packages (from catalogue<1.1.0,>=0.0.7->spacy) (3.4.0)\n",
            "Requirement already satisfied: zipp>=0.5 in /usr/local/lib/python3.6/dist-packages (from importlib-metadata>=0.20; python_version < \"3.8\"->catalogue<1.1.0,>=0.0.7->spacy) (3.4.0)\n",
            "Requirement already satisfied: typing-extensions>=3.6.4; python_version < \"3.8\" in /usr/local/lib/python3.6/dist-packages (from importlib-metadata>=0.20; python_version < \"3.8\"->catalogue<1.1.0,>=0.0.7->spacy) (3.7.4.3)\n",
            "Collecting pyLDAvis==2.1.2\n",
            "\u001b[?25l  Downloading https://files.pythonhosted.org/packages/a5/3a/af82e070a8a96e13217c8f362f9a73e82d61ac8fff3a2561946a97f96266/pyLDAvis-2.1.2.tar.gz (1.6MB)\n",
            "\u001b[K     |████████████████████████████████| 1.6MB 8.3MB/s \n",
            "\u001b[?25hRequirement already satisfied: wheel>=0.23.0 in /usr/local/lib/python3.6/dist-packages (from pyLDAvis==2.1.2) (0.36.2)\n",
            "Requirement already satisfied: numpy>=1.9.2 in /usr/local/lib/python3.6/dist-packages (from pyLDAvis==2.1.2) (1.19.5)\n",
            "Requirement already satisfied: scipy>=0.18.0 in /usr/local/lib/python3.6/dist-packages (from pyLDAvis==2.1.2) (1.4.1)\n",
            "Requirement already satisfied: pandas>=0.17.0 in /usr/local/lib/python3.6/dist-packages (from pyLDAvis==2.1.2) (1.1.5)\n",
            "Requirement already satisfied: joblib>=0.8.4 in /usr/local/lib/python3.6/dist-packages (from pyLDAvis==2.1.2) (1.0.0)\n",
            "Requirement already satisfied: jinja2>=2.7.2 in /usr/local/lib/python3.6/dist-packages (from pyLDAvis==2.1.2) (2.11.3)\n",
            "Requirement already satisfied: numexpr in /usr/local/lib/python3.6/dist-packages (from pyLDAvis==2.1.2) (2.7.2)\n",
            "Requirement already satisfied: pytest in /usr/local/lib/python3.6/dist-packages (from pyLDAvis==2.1.2) (3.6.4)\n",
            "Requirement already satisfied: future in /usr/local/lib/python3.6/dist-packages (from pyLDAvis==2.1.2) (0.16.0)\n",
            "Collecting funcy\n",
            "  Downloading https://files.pythonhosted.org/packages/66/89/479de0afbbfb98d1c4b887936808764627300208bb771fcd823403645a36/funcy-1.15-py2.py3-none-any.whl\n",
            "Requirement already satisfied: python-dateutil>=2.7.3 in /usr/local/lib/python3.6/dist-packages (from pandas>=0.17.0->pyLDAvis==2.1.2) (2.8.1)\n",
            "Requirement already satisfied: pytz>=2017.2 in /usr/local/lib/python3.6/dist-packages (from pandas>=0.17.0->pyLDAvis==2.1.2) (2018.9)\n",
            "Requirement already satisfied: MarkupSafe>=0.23 in /usr/local/lib/python3.6/dist-packages (from jinja2>=2.7.2->pyLDAvis==2.1.2) (1.1.1)\n",
            "Requirement already satisfied: setuptools in /usr/local/lib/python3.6/dist-packages (from pytest->pyLDAvis==2.1.2) (53.0.0)\n",
            "Requirement already satisfied: pluggy<0.8,>=0.5 in /usr/local/lib/python3.6/dist-packages (from pytest->pyLDAvis==2.1.2) (0.7.1)\n",
            "Requirement already satisfied: more-itertools>=4.0.0 in /usr/local/lib/python3.6/dist-packages (from pytest->pyLDAvis==2.1.2) (8.6.0)\n",
            "Requirement already satisfied: atomicwrites>=1.0 in /usr/local/lib/python3.6/dist-packages (from pytest->pyLDAvis==2.1.2) (1.4.0)\n",
            "Requirement already satisfied: py>=1.5.0 in /usr/local/lib/python3.6/dist-packages (from pytest->pyLDAvis==2.1.2) (1.10.0)\n",
            "Requirement already satisfied: six>=1.10.0 in /usr/local/lib/python3.6/dist-packages (from pytest->pyLDAvis==2.1.2) (1.15.0)\n",
            "Requirement already satisfied: attrs>=17.4.0 in /usr/local/lib/python3.6/dist-packages (from pytest->pyLDAvis==2.1.2) (20.3.0)\n",
            "Building wheels for collected packages: pyLDAvis\n",
            "  Building wheel for pyLDAvis (setup.py) ... \u001b[?25l\u001b[?25hdone\n",
            "  Created wheel for pyLDAvis: filename=pyLDAvis-2.1.2-py2.py3-none-any.whl size=97712 sha256=b5670a13cc1e023b35060bf06c05c6d0e72f01065328121d578e791eb146bd2e\n",
            "  Stored in directory: /root/.cache/pip/wheels/98/71/24/513a99e58bb6b8465bae4d2d5e9dba8f0bef8179e3051ac414\n",
            "Successfully built pyLDAvis\n",
            "Installing collected packages: funcy, pyLDAvis\n",
            "Successfully installed funcy-1.15 pyLDAvis-2.1.2\n"
          ],
          "name": "stdout"
        }
      ]
    },
    {
      "cell_type": "code",
      "metadata": {
        "id": "nA2_fr9p6Z36"
      },
      "source": [
        "import re\r\n",
        "import string\r\n",
        "import numpy as np\r\n",
        "import pandas as pd\r\n",
        "from pprint import pprint\r\n",
        "\r\n",
        "# Gensim\r\n",
        "import gensim\r\n",
        "import gensim.corpora as corpora\r\n",
        "from gensim.utils import simple_preprocess\r\n",
        "from gensim.models import CoherenceModel\r\n",
        "\r\n",
        "# spacy for lemmatization\r\n",
        "import spacy\r\n",
        "\r\n",
        "# Plotting tools\r\n",
        "import pyLDAvis\r\n",
        "import pyLDAvis.gensim  # don't skip this\r\n",
        "import matplotlib.pyplot as plt\r\n",
        "%matplotlib inline\r\n",
        "\r\n",
        "# Enable logging for gensim - optional\r\n",
        "import logging\r\n",
        "logging.basicConfig(format='%(asctime)s : %(levelname)s : %(message)s', level=logging.ERROR)\r\n",
        "\r\n",
        "import warnings\r\n",
        "warnings.filterwarnings(\"ignore\",category=DeprecationWarning)"
      ],
      "execution_count": 2,
      "outputs": []
    },
    {
      "cell_type": "code",
      "metadata": {
        "id": "qpj6vGZw6u46",
        "colab": {
          "base_uri": "https://localhost:8080/",
          "height": 204
        },
        "outputId": "e8e1cf7b-60e5-4f32-b256-7ec6a0288e4b"
      },
      "source": [
        "# NLTK Stop words\r\n",
        "from nltk.corpus import stopwords\r\n",
        "stop_words = stopwords.words('english')\r\n",
        "stop_words.extend(['from', 'subject', 're', 'edu', 'use'])\r\n",
        "\r\n",
        "# Import Dataset\r\n",
        "df = pd.read_csv('3.txt', sep='\\t')\r\n",
        "#print(df.target_names.unique())\r\n",
        "#df.head()\r\n",
        "\r\n",
        "# testing\r\n",
        "\r\n",
        "#print(df.columns)\r\n",
        "# returns R - Researcher and P - Participant which are not great names for columns\r\n",
        "# df.columns[0]\r\n",
        "# needs renaming to CONTENT\r\n",
        "col_name = df.columns[0]\r\n",
        "df=df.rename(columns = {col_name:'content'})\r\n",
        "# testing\r\n",
        "# df.columns[0]\r\n",
        "# returns content now\r\n",
        "\r\n",
        "df.head()"
      ],
      "execution_count": 16,
      "outputs": [
        {
          "output_type": "execute_result",
          "data": {
            "text/html": [
              "<div>\n",
              "<style scoped>\n",
              "    .dataframe tbody tr th:only-of-type {\n",
              "        vertical-align: middle;\n",
              "    }\n",
              "\n",
              "    .dataframe tbody tr th {\n",
              "        vertical-align: top;\n",
              "    }\n",
              "\n",
              "    .dataframe thead th {\n",
              "        text-align: right;\n",
              "    }\n",
              "</style>\n",
              "<table border=\"1\" class=\"dataframe\">\n",
              "  <thead>\n",
              "    <tr style=\"text-align: right;\">\n",
              "      <th></th>\n",
              "      <th>content</th>\n",
              "      <th>P = Participant</th>\n",
              "    </tr>\n",
              "  </thead>\n",
              "  <tbody>\n",
              "    <tr>\n",
              "      <th>0</th>\n",
              "      <td>[start of audio recording 17015_171004_0029_05...</td>\n",
              "      <td>NaN</td>\n",
              "    </tr>\n",
              "    <tr>\n",
              "      <th>1</th>\n",
              "      <td>R1 - … ID 17015.  Date today is 5 October 2017.</td>\n",
              "      <td>NaN</td>\n",
              "    </tr>\n",
              "    <tr>\n",
              "      <th>2</th>\n",
              "      <td>R2 - Right, so I had a look at your scan and y...</td>\n",
              "      <td>NaN</td>\n",
              "    </tr>\n",
              "    <tr>\n",
              "      <th>3</th>\n",
              "      <td>P - Yes.</td>\n",
              "      <td>NaN</td>\n",
              "    </tr>\n",
              "    <tr>\n",
              "      <th>4</th>\n",
              "      <td>R2 - What sort of trouble are they causing you?</td>\n",
              "      <td>NaN</td>\n",
              "    </tr>\n",
              "  </tbody>\n",
              "</table>\n",
              "</div>"
            ],
            "text/plain": [
              "                                             content  P = Participant\n",
              "0  [start of audio recording 17015_171004_0029_05...              NaN\n",
              "1    R1 - … ID 17015.  Date today is 5 October 2017.              NaN\n",
              "2  R2 - Right, so I had a look at your scan and y...              NaN\n",
              "3                                           P - Yes.              NaN\n",
              "4    R2 - What sort of trouble are they causing you?              NaN"
            ]
          },
          "metadata": {
            "tags": []
          },
          "execution_count": 16
        }
      ]
    },
    {
      "cell_type": "code",
      "metadata": {
        "colab": {
          "base_uri": "https://localhost:8080/"
        },
        "id": "R2dOLlj37Zdb",
        "outputId": "96d9ad18-9f71-420c-95ee-1fe92f3d0730"
      },
      "source": [
        "# DATA CLEANING STEP\r\n",
        "#\r\n",
        "#\r\n",
        "# Convert to list\r\n",
        "data = df.content.values.tolist()\r\n",
        "\r\n",
        "# Remove new line characters\r\n",
        "data = [re.sub('\\s+', ' ', token) for token in data]\r\n",
        "\r\n",
        "# Remove distracting single quotes\r\n",
        "data = [re.sub(\"\\'\", \"\", token) for token in data]\r\n",
        "\r\n",
        "# remove text in square brackets like [surgeon], [name]\r\n",
        "data = [re.sub('\\[.*?\\]', '', token) for token in data]\r\n",
        "\r\n",
        "# remove numbers\r\n",
        "data = [re.sub('\\w*\\d\\w*', '', token) for token in data]\r\n",
        "\r\n",
        "# remove punctuation\r\n",
        "# might not be necessary now / we can do it later\r\n",
        "# data = [re.sub('[%s]' % re.escape(string.punctuation), '', token) for token in data]\r\n",
        "\r\n",
        "# all to lower\r\n",
        "data = [word.lower() for word in data]\r\n",
        "\r\n",
        "# filter out short tokens like P and R and i\r\n",
        "# neccessary?\r\n",
        "#data = [re.sub(r'\\b\\w{1,1}\\b', '', token) for token in data]\r\n",
        "\r\n",
        "\r\n",
        "pprint(data[:5])"
      ],
      "execution_count": 17,
      "outputs": [
        {
          "output_type": "stream",
          "text": [
            "['',\n",
            " ' - … id . date today is  october .',\n",
            " ' - right, so i had a look at your scan and you’ve got some gallstones.',\n",
            " 'p - yes.',\n",
            " ' - what sort of trouble are they causing you?']\n"
          ],
          "name": "stdout"
        }
      ]
    },
    {
      "cell_type": "code",
      "metadata": {
        "colab": {
          "base_uri": "https://localhost:8080/"
        },
        "id": "UumGwTwd7rWC",
        "outputId": "d44b88ad-578c-429d-b88b-79da1f197f67"
      },
      "source": [
        "# Let’s tokenize each sentence into a list of words\r\n",
        "# removing punctuations and unnecessary characters altogether\r\n",
        "# on this step\r\n",
        "\r\n",
        "def sent_to_words(sentences):\r\n",
        "    for sentence in sentences:\r\n",
        "        yield(gensim.utils.simple_preprocess(str(sentence), deacc=True))  # deacc=True removes punctuations\r\n",
        "\r\n",
        "data_words = list(sent_to_words(data))\r\n",
        "\r\n",
        "print(data_words[:15])"
      ],
      "execution_count": 18,
      "outputs": [
        {
          "output_type": "stream",
          "text": [
            "[[], ['id', 'date', 'today', 'is', 'october'], ['right', 'so', 'had', 'look', 'at', 'your', 'scan', 'and', 'you', 've', 'got', 'some', 'gallstones'], ['yes'], ['what', 'sort', 'of', 'trouble', 'are', 'they', 'causing', 'you'], ['was', 'just', 'telling', 'just', 'now', 'feel', 'constantly', 'bloated', 'can', 'get', 'shot', 'of', 'that', 'but', 'when', 'in', 'the', 'bath', 'and', 'raise', 'this', 'leg', 'it', 'feels', 'like', 'being', 'strangled', 'there', 'so', 'did', 'say', 'to', 'my', 'doctor', 'before', 'and', 'that', 'when', 'he', 'referred', 'me', 'then', 'to', 'have', 'scan', 'done', 'on', 'my', 'see', 'if', 've', 'got', 'gallstones', 'but', 'it', 'like', 'it', 'hasn', 'played', 'up', 'for', 'while', 'now', 'it', 'been', 'okay', 'but', 'like', 'said', 'every', 'time', 'have', 'bath', 'that', 'starts', 'so', 'push', 'the', 'stomach', 'in', 'and', 'think', 'right', 'let', 'wait', 'five', 'minutes', 'now', 'll', 'soon', 'pass', 'and', 'it', 'does', 'but', 'don', 'like', 'that', 'pain', 'and', 'the', 'bloated', 'feeling', 'don', 'like'], ['yeah', 'okay', 'mean', 'normally', 'the', 'classic', 'presentation', 'for', 'gallstones', 'is', 'pains', 'little', 'bit', 'higher', 'under', 'your', 'right', 'hand', 'ribs', 'when', 'you', 'eat', 'and', 'it', 'associated', 'with', 'sort', 'of', 'sickness', 'and', 'nausea', 'do', 'you', 'get', 'any', 'symptoms', 'like', 'that'], ['yeah'], ['you', 'do', 'yeah', 'okay'], ['yes', 'take', 'duloxetine', 'and', 'it', 'makes', 'me', 'feel', 'really', 'sick', 'but', 'have', 'had', 'the', 'pain', 'the', 'sickness', 'feeling', 'have', 'diarrhoea', 'anyway', 'because', 'have', 'ibs', 'so', 'sometimes', 'thinking', 'which', 'one', 'is', 'it', 'which', 'is', 'starting', 'today', 'so', 'never', 'quite', 'sure'], ['no', 'okay', 'you', 've', 'never', 'been', 'jaundiced', 'ever', 'gone', 'yellow', 'in', 'the', 'eyes', 'at', 'all'], ['no', 'no', 'they', 've', 'put', 'me', 'on', 'folic', 'acid', 'and', 'iron', 'tablets'], ['okay', 'and', 'your', 'stools', 'your', 'motions', 'ever', 'gone', 'very', 'pale', 'or', 'your', 'urine', 'ever', 'gone', 'very', 'dark'], ['my', 'urine', 'been', 'dark', 'quite', 'few', 'times', 'yeah'], ['has', 'it', 'ever', 'gone', 'very', 'sort', 'of', 'dark', 'brown']]\n"
          ],
          "name": "stdout"
        }
      ]
    },
    {
      "cell_type": "code",
      "metadata": {
        "colab": {
          "base_uri": "https://localhost:8080/"
        },
        "id": "vQEOdh6L75pq",
        "outputId": "3ecaf191-1562-43be-a740-67a8dc129380"
      },
      "source": [
        "# Build the bigram and trigram models\r\n",
        "bigram = gensim.models.Phrases(data_words, min_count=5, threshold=100) # higher threshold fewer phrases.\r\n",
        "trigram = gensim.models.Phrases(bigram[data_words], threshold=100)  \r\n",
        "\r\n",
        "# Faster way to get a sentence clubbed as a trigram/bigram\r\n",
        "bigram_mod = gensim.models.phrases.Phraser(bigram)\r\n",
        "trigram_mod = gensim.models.phrases.Phraser(trigram)\r\n",
        "\r\n",
        "# See trigram example\r\n",
        "print(trigram_mod[bigram_mod[data_words[0]]])\r\n",
        "\r\n",
        "# this does not work so good as the words\r\n",
        "# gallblader surgery\r\n",
        "# laporscopic cholefcystemy\r\n",
        "# or any of that kind do not really appear often\r\n",
        "# maybe mentioned once\r\n",
        "\r\n",
        "\r\n"
      ],
      "execution_count": 19,
      "outputs": [
        {
          "output_type": "stream",
          "text": [
            "[]\n"
          ],
          "name": "stdout"
        },
        {
          "output_type": "stream",
          "text": [
            "/usr/local/lib/python3.6/dist-packages/gensim/models/phrases.py:598: UserWarning: For a faster implementation, use the gensim.models.phrases.Phraser class\n",
            "  warnings.warn(\"For a faster implementation, use the gensim.models.phrases.Phraser class\")\n"
          ],
          "name": "stderr"
        }
      ]
    },
    {
      "cell_type": "code",
      "metadata": {
        "id": "Lr8PaVVA8Pgy"
      },
      "source": [
        "# Define functions for stopwords, bigrams, trigrams and lemmatization\r\n",
        "def remove_stopwords(texts):\r\n",
        "    return [[word for word in simple_preprocess(str(doc)) if word not in stop_words] for doc in texts]\r\n",
        "\r\n",
        "def make_bigrams(texts):\r\n",
        "    return [bigram_mod[doc] for doc in texts]\r\n",
        "\r\n",
        "def make_trigrams(texts):\r\n",
        "    return [trigram_mod[bigram_mod[doc]] for doc in texts]\r\n",
        "\r\n",
        "def lemmatization(texts, allowed_postags=['NOUN', 'ADJ', 'VERB', 'ADV']):\r\n",
        "    \"\"\"https://spacy.io/api/annotation\"\"\"\r\n",
        "    texts_out = []\r\n",
        "    for sent in texts:\r\n",
        "        doc = nlp(\" \".join(sent)) \r\n",
        "        texts_out.append([token.lemma_ for token in doc if token.pos_ in allowed_postags])\r\n",
        "    return texts_out"
      ],
      "execution_count": 20,
      "outputs": []
    },
    {
      "cell_type": "code",
      "metadata": {
        "colab": {
          "base_uri": "https://localhost:8080/"
        },
        "id": "3mQYgZFj8SN6",
        "outputId": "da0555a1-ee71-43cb-fb3f-bc0568d1c1b8"
      },
      "source": [
        "# Remove Stop Words\r\n",
        "data_words_nostops = remove_stopwords(data_words)\r\n",
        "\r\n",
        "# Form Bigrams\r\n",
        "data_words_bigrams = make_bigrams(data_words_nostops)\r\n",
        "\r\n",
        "# Initialize spacy 'en' model, keeping only tagger component (for efficiency)\r\n",
        "# python3 -m spacy download en\r\n",
        "nlp = spacy.load('en', disable=['parser', 'ner'])\r\n",
        "\r\n",
        "# Do lemmatization keeping only noun, adj, vb, adv\r\n",
        "data_lemmatized = lemmatization(data_words_bigrams, allowed_postags=['NOUN', 'ADJ', 'VERB', 'ADV'])\r\n",
        "\r\n",
        "print(data_lemmatized[:5])\r\n",
        "\r\n",
        "# # # # # # # # # \r\n",
        "## # # # # # \r\n",
        "##\r\n",
        "#"
      ],
      "execution_count": 21,
      "outputs": [
        {
          "output_type": "stream",
          "text": [
            "[[], ['would', 'date', 'today'], ['look', 'scan', 'get', 'gallstone'], [], ['sort', 'trouble', 'cause']]\n"
          ],
          "name": "stdout"
        }
      ]
    },
    {
      "cell_type": "code",
      "metadata": {
        "colab": {
          "base_uri": "https://localhost:8080/"
        },
        "id": "T1hLzPn6872C",
        "outputId": "727190e4-6dec-468f-f30b-47a10557f4be"
      },
      "source": [
        "# Create Dictionary\r\n",
        "id2word = corpora.Dictionary(data_lemmatized)\r\n",
        "\r\n",
        "# Create Corpus\r\n",
        "texts = data_lemmatized\r\n",
        "\r\n",
        "# Term Document Frequency\r\n",
        "corpus = [id2word.doc2bow(text) for text in texts]\r\n",
        "\r\n",
        "# View\r\n",
        "print(corpus[:5])\r\n",
        "\r\n",
        "# words really are not repeated that often :/\r\n",
        "# maximum of two repetitions in the first sentence\r\n",
        "# that is why I added would 5 times at index 1\r\n",
        "# print(corpus[1])"
      ],
      "execution_count": 22,
      "outputs": [
        {
          "output_type": "stream",
          "text": [
            "[[], [(0, 1), (1, 1), (2, 1)], [(3, 1), (4, 1), (5, 1), (6, 1)], [], [(7, 1), (8, 1), (9, 1)]]\n"
          ],
          "name": "stdout"
        }
      ]
    },
    {
      "cell_type": "code",
      "metadata": {
        "id": "UDbNagrm9I3q"
      },
      "source": [
        "# testing if the word with id 25 is actually would\r\n",
        "# id2word[26]\r\n",
        "# out: would\r\n",
        "# test passed\r\n",
        "# # # # # # # # # # # # # # # # # # # #"
      ],
      "execution_count": 10,
      "outputs": []
    },
    {
      "cell_type": "code",
      "metadata": {
        "id": "Z9UYuNji9RH5",
        "colab": {
          "base_uri": "https://localhost:8080/"
        },
        "outputId": "37e5982f-4e35-4b3f-d15f-812af6409775"
      },
      "source": [
        "# Human readable format of corpus (term-frequency)\r\n",
        "[[(id2word[id], freq) for id, freq in cp] for cp in corpus[:2]]"
      ],
      "execution_count": 23,
      "outputs": [
        {
          "output_type": "execute_result",
          "data": {
            "text/plain": [
              "[[], [('date', 1), ('today', 1), ('would', 1)]]"
            ]
          },
          "metadata": {
            "tags": []
          },
          "execution_count": 23
        }
      ]
    },
    {
      "cell_type": "code",
      "metadata": {
        "id": "DwJ4L2Cc9gEo"
      },
      "source": [
        "# # # # # # # # # # # # # # # # #\r\n",
        "# Build LDA model\r\n",
        "lda_model = gensim.models.ldamodel.LdaModel(corpus=corpus,\r\n",
        "                                           id2word=id2word,\r\n",
        "                                           num_topics=10, \r\n",
        "                                           random_state=100,\r\n",
        "                                           update_every=1,\r\n",
        "                                           chunksize=100,\r\n",
        "                                           passes=10,\r\n",
        "                                           alpha='auto',\r\n",
        "                                           per_word_topics=True)"
      ],
      "execution_count": 24,
      "outputs": []
    },
    {
      "cell_type": "code",
      "metadata": {
        "colab": {
          "base_uri": "https://localhost:8080/"
        },
        "id": "WotOGrXH-2CI",
        "outputId": "62fd367b-873d-4bc1-feb0-04d417270607"
      },
      "source": [
        "# Print the Keyword in the 10 topics\r\n",
        "pprint(lda_model.print_topics())\r\n",
        "doc_lda = lda_model[corpus]"
      ],
      "execution_count": 25,
      "outputs": [
        {
          "output_type": "stream",
          "text": [
            "[(0,\n",
            "  '0.059*\"computer\" + 0.056*\"go\" + 0.041*\"detail\" + 0.041*\"need\" + '\n",
            "  '0.036*\"button\" + 0.036*\"press\" + 0.029*\"put\" + 0.024*\"say\" + 0.024*\"able\" + '\n",
            "  '0.021*\"dark\"'),\n",
            " (1,\n",
            "  '0.070*\"personal\" + 0.066*\"go\" + 0.053*\"special\" + 0.041*\"darling\" + '\n",
            "  '0.041*\"purpose\" + 0.036*\"number\" + 0.028*\"try\" + 0.028*\"look\" + '\n",
            "  '0.028*\"tape\" + 0.028*\"lovely\"'),\n",
            " (2,\n",
            "  '0.078*\"expire\" + 0.024*\"quiet\" + 0.023*\"bit\" + 0.013*\"iron\" + '\n",
            "  '0.013*\"together\" + 0.013*\"tablet\" + 0.013*\"acid\" + 0.013*\"folic\" + '\n",
            "  '0.013*\"section\" + 0.013*\"period\"'),\n",
            " (3,\n",
            "  '0.039*\"life\" + 0.039*\"question\" + 0.037*\"get\" + 0.036*\"right\" + '\n",
            "  '0.032*\"leave\" + 0.027*\"questionnaire\" + 0.026*\"say\" + 0.026*\"randomise\" + '\n",
            "  '0.025*\"operation\" + 0.022*\"quality\"'),\n",
            " (4,\n",
            "  '0.027*\"get\" + 0.021*\"tramadol\" + 0.021*\"serious\" + 0.021*\"recurrent\" + '\n",
            "  '0.021*\"minute\" + 0.021*\"take\" + 0.017*\"say\" + 0.016*\"gallstone\" + '\n",
            "  '0.011*\"month\" + 0.011*\"acid\"'),\n",
            " (5,\n",
            "  '0.056*\"expire\" + 0.035*\"never\" + 0.029*\"perspire\" + 0.029*\"mind\" + '\n",
            "  '0.025*\"get\" + 0.017*\"pain\" + 0.017*\"bath\" + 0.017*\"bloated\" + '\n",
            "  '0.009*\"related\" + 0.009*\"stone\"'),\n",
            " (6,\n",
            "  '0.125*\"would\" + 0.066*\"right\" + 0.044*\"date\" + 0.044*\"go\" + 0.039*\"expire\" '\n",
            "  '+ 0.031*\"trial\" + 0.031*\"good\" + 0.025*\"darle\" + 0.025*\"problem\" + '\n",
            "  '0.023*\"quite\"'),\n",
            " (7,\n",
            "  '0.119*\"go\" + 0.056*\"silence\" + 0.045*\"second\" + 0.034*\"overspeake\" + '\n",
            "  '0.023*\"take\" + 0.023*\"randomised\" + 0.013*\"put\" + 0.013*\"well\" + '\n",
            "  '0.013*\"race\" + 0.013*\"night\"'),\n",
            " (8,\n",
            "  '0.065*\"say\" + 0.062*\"think\" + 0.052*\"body\" + 0.040*\"let\" + 0.035*\"lay\" + '\n",
            "  '0.035*\"new\" + 0.035*\"give\" + 0.035*\"back\" + 0.028*\"feel\" + 0.018*\"chill\"'),\n",
            " (9,\n",
            "  '0.058*\"sorry\" + 0.052*\"female\" + 0.052*\"darle\" + 0.043*\"think\" + '\n",
            "  '0.036*\"inaudible\" + 0.030*\"speaker\" + 0.030*\"absolutely\" + 0.024*\"go\" + '\n",
            "  '0.023*\"use\" + 0.015*\"get\"')]\n"
          ],
          "name": "stdout"
        }
      ]
    },
    {
      "cell_type": "code",
      "metadata": {
        "colab": {
          "base_uri": "https://localhost:8080/"
        },
        "id": "mioF1tdYAFFg",
        "outputId": "418c5003-5304-4735-8672-7ac0a6aae1e6"
      },
      "source": [
        "# Compute Perplexity\r\n",
        "print('\\nPerplexity: ', lda_model.log_perplexity(corpus))  # a measure of how good the model is. lower the better.\r\n",
        "\r\n",
        "# Compute Coherence Score\r\n",
        "coherence_model_lda = CoherenceModel(model=lda_model, texts=data_lemmatized, dictionary=id2word, coherence='c_v')\r\n",
        "coherence_lda = coherence_model_lda.get_coherence()\r\n",
        "print('\\nCoherence Score: ', coherence_lda)"
      ],
      "execution_count": 26,
      "outputs": [
        {
          "output_type": "stream",
          "text": [
            "\n",
            "Perplexity:  -6.53812608755137\n",
            "\n",
            "Coherence Score:  0.46112947424991574\n"
          ],
          "name": "stdout"
        }
      ]
    },
    {
      "cell_type": "code",
      "metadata": {
        "colab": {
          "base_uri": "https://localhost:8080/",
          "height": 861
        },
        "id": "Ht8gG265A2QH",
        "outputId": "5de73175-f07c-4e2d-9cc5-51f88c20de14"
      },
      "source": [
        "# Visualize the topics\r\n",
        "pyLDAvis.enable_notebook()\r\n",
        "vis = pyLDAvis.gensim.prepare(lda_model, corpus, id2word)\r\n",
        "vis"
      ],
      "execution_count": 27,
      "outputs": [
        {
          "output_type": "execute_result",
          "data": {
            "text/html": [
              "\n",
              "<link rel=\"stylesheet\" type=\"text/css\" href=\"https://cdn.rawgit.com/bmabey/pyLDAvis/files/ldavis.v1.0.0.css\">\n",
              "\n",
              "\n",
              "<div id=\"ldavis_el671397406116894722254614717\"></div>\n",
              "<script type=\"text/javascript\">\n",
              "\n",
              "var ldavis_el671397406116894722254614717_data = {\"mdsDat\": {\"x\": [0.1364852133994273, -0.002680893079092519, 0.061683937147776535, 0.014398535681062644, 0.07534635664897166, -0.18662645284133675, -0.15423480768573614, 0.03540258536989863, 0.03653139163654317, -0.016305866277514455], \"y\": [-0.06884734745936968, 0.05224133238476309, 0.06482799444729097, 0.0036438313876941647, 0.004438937872977155, 0.14381710228959788, -0.2203588359913808, -0.03391496196540639, 0.0016593116891009045, 0.05249263534473263], \"topics\": [1, 2, 3, 4, 5, 6, 7, 8, 9, 10], \"cluster\": [1, 1, 1, 1, 1, 1, 1, 1, 1, 1], \"Freq\": [17.25071461070705, 14.856355510250484, 12.583305265653049, 11.41546256202903, 9.128677446599106, 9.1267475333776, 8.14103248732837, 7.58104610631027, 4.9608340977961, 4.9558243799489405]}, \"tinfo\": {\"Term\": [\"would\", \"go\", \"expire\", \"personal\", \"think\", \"say\", \"computer\", \"right\", \"sorry\", \"darle\", \"female\", \"special\", \"body\", \"silence\", \"date\", \"detail\", \"need\", \"life\", \"question\", \"darling\", \"purpose\", \"number\", \"get\", \"second\", \"let\", \"press\", \"button\", \"inaudible\", \"put\", \"lay\", \"life\", \"question\", \"leave\", \"questionnaire\", \"operation\", \"complete\", \"quality\", \"record\", \"stop\", \"pick\", \"participant\", \"laptop\", \"lady\", \"risk\", \"randomise\", \"symptom\", \"control\", \"much\", \"thank\", \"pro\", \"complication\", \"obviously\", \"cause\", \"classic\", \"presentation\", \"rib\", \"scan\", \"normally\", \"long\", \"stand\", \"get\", \"high\", \"right\", \"hand\", \"say\", \"gallstone\", \"con\", \"could\", \"pain\", \"computer\", \"detail\", \"need\", \"press\", \"button\", \"able\", \"okay\", \"people\", \"put\", \"dark\", \"future\", \"eye\", \"yellow\", \"trouble\", \"fine\", \"issue\", \"part\", \"top\", \"attack\", \"bad\", \"brown\", \"slightly\", \"one\", \"frequently\", \"unpredictable\", \"definitely\", \"prove\", \"operate\", \"scientific\", \"come\", \"number\", \"time\", \"go\", \"ever\", \"sort\", \"say\", \"mean\", \"pain\", \"think\", \"get\", \"right\", \"never\", \"heart\", \"talk\", \"bout\", \"would\", \"date\", \"good\", \"problem\", \"telling\", \"trial\", \"wrong\", \"quite\", \"today\", \"really\", \"answer\", \"right\", \"sick\", \"randomisation\", \"sign\", \"sure\", \"outcome\", \"fill\", \"perfect\", \"duloxetine\", \"anyway\", \"diarrhoea\", \"sickness\", \"stuff\", \"know\", \"make\", \"carry\", \"paperwork\", \"expire\", \"feeling\", \"darle\", \"go\", \"randomise\", \"pain\", \"think\", \"take\", \"golf\", \"initial\", \"never\", \"playing\", \"thing\", \"feel\", \"sometimes\", \"want\", \"little\", \"sorry\", \"female\", \"inaudible\", \"speaker\", \"absolutely\", \"use\", \"print\", \"darle\", \"save\", \"pale\", \"stool\", \"carbonate\", \"urine\", \"though\", \"fag\", \"term\", \"probably\", \"muscle\", \"lift\", \"joint\", \"motion\", \"awful\", \"form\", \"interference\", \"audio\", \"box\", \"consent\", \"signature\", \"hip\", \"optional\", \"think\", \"due\", \"money\", \"initial\", \"ever\", \"go\", \"get\", \"overspeaking\", \"overspeake\", \"mean\", \"pack\", \"mind\", \"perspire\", \"bloated\", \"never\", \"bath\", \"related\", \"tenth\", \"low\", \"fat\", \"diet\", \"suggest\", \"certainly\", \"higher\", \"likely\", \"pass\", \"push\", \"shoot\", \"strangle\", \"wait\", \"raise\", \"refer\", \"constantly\", \"doctor\", \"see\", \"stomach\", \"jaundice\", \"tell\", \"expire\", \"sometimes\", \"start\", \"pain\", \"get\", \"stone\", \"nausea\", \"associate\", \"eat\", \"well\", \"month\", \"could\", \"sort\", \"overspeake\", \"mean\", \"try\", \"personal\", \"special\", \"darling\", \"purpose\", \"tape\", \"lovely\", \"find\", \"unique\", \"identity\", \"protect\", \"sweetheart\", \"flip\", \"confirm\", \"opinion\", \"birth\", \"professional\", \"hearing\", \"enough\", \"try\", \"look\", \"number\", \"management\", \"medical\", \"page\", \"literally\", \"rapidly\", \"fan\", \"painful\", \"cool\", \"else\", \"go\", \"sweat\", \"body\", \"lay\", \"new\", \"give\", \"back\", \"let\", \"person\", \"chill\", \"roll\", \"surgery\", \"feather\", \"knock\", \"begin\", \"stick\", \"head\", \"wise\", \"downhill\", \"choose\", \"excited\", \"straight\", \"tap\", \"username\", \"feel\", \"do\", \"think\", \"medical\", \"management\", \"page\", \"say\", \"dead\", \"brain\", \"tramadol\", \"serious\", \"recurrent\", \"minute\", \"ago\", \"paracetamol\", \"fibromyalgia\", \"cigarette\", \"formic\", \"sound\", \"remain\", \"turn\", \"alone\", \"also\", \"liver\", \"condition\", \"pancreas\", \"gallbladder\", \"commonest\", \"inflammation\", \"nasty\", \"pop\", \"pancreatitis\", \"call\", \"brain\", \"take\", \"acid\", \"tablet\", \"month\", \"stone\", \"get\", \"gallstone\", \"say\", \"pack\", \"time\", \"thing\", \"yellow\", \"quiet\", \"iron\", \"folic\", \"together\", \"section\", \"pause\", \"point\", \"sit\", \"always\", \"colleague\", \"recorder\", \"meantime\", \"bit\", \"paperwork\", \"carry\", \"acid\", \"tablet\", \"tell\", \"overspeaking\", \"happy\", \"keep\", \"expire\", \"period\", \"want\", \"know\", \"little\", \"time\", \"put\", \"dead\", \"painful\", \"fan\", \"cool\", \"minute\", \"lovely\", \"silence\", \"second\", \"randomised\", \"overspeake\", \"liquid\", \"morphine\", \"penicillin\", \"race\", \"night\", \"remember\", \"make\", \"take\", \"heart\", \"thing\", \"go\", \"well\", \"put\", \"dead\", \"speak\", \"fan\", \"cool\", \"literally\", \"painful\", \"rapidly\", \"else\", \"always\", \"meantime\", \"colleague\", \"sit\", \"pause\", \"look\", \"right\", \"minute\", \"soon\", \"restart\", \"ready\", \"actually\", \"quiet\", \"tape\", \"randomise\", \"get\", \"happy\"], \"Freq\": [10.0, 18.0, 9.0, 4.0, 8.0, 9.0, 6.0, 11.0, 4.0, 6.0, 4.0, 3.0, 3.0, 2.0, 4.0, 4.0, 4.0, 4.0, 4.0, 3.0, 3.0, 4.0, 9.0, 2.0, 3.0, 4.0, 4.0, 3.0, 4.0, 2.0, 4.275432352406228, 4.275400221731817, 3.5056814929334537, 2.9766894842059206, 2.736148751308121, 2.4478682211776603, 2.4478682211776603, 2.4478682211776603, 2.447372667314633, 1.9186045434786672, 1.9186045434786672, 1.9186045434786672, 1.9186045434786672, 1.6780093326104726, 2.8285942626661056, 2.2072537525014053, 1.1492807542199355, 1.1492807542199355, 1.6782197267381045, 0.9844063177984156, 0.9327966279920136, 0.886579227425423, 1.1482088048932, 0.6202945125365276, 0.6202945125365276, 0.6202945125365276, 0.6202945125365276, 0.6202945125365276, 0.6202945125365276, 0.6202945125365276, 4.130558848873676, 0.6202945125365276, 3.9494497713085406, 0.6202945125365276, 2.9025774061213303, 1.3905342319818272, 0.7849780700958028, 0.8830359967081917, 1.0056238910318975, 5.583024245841136, 3.911144925732203, 3.910983866255195, 3.4175270734965957, 3.4175270734965957, 2.239262944949091, 1.7549560333160275, 1.5352606187368016, 2.723193282496595, 2.0191721541867693, 1.0513494380433912, 1.0465261678905229, 1.0465336177782258, 0.5674388338293863, 0.5674388338293863, 0.5674388338293863, 0.5674388338293863, 0.5674388338293863, 0.5674388338293863, 0.5674388338293863, 0.5674388338293863, 0.5674387894848166, 0.5674387894848166, 0.5674387894848166, 0.5674387894848166, 0.5674386564511077, 0.5674386564511077, 0.5674386564511077, 0.5674386564511077, 0.5674386564511077, 1.7553723401360033, 1.5352638115458173, 5.3627441924555015, 1.0465316666171607, 1.0513500588673665, 2.28680475808246, 1.0513508570696204, 1.051345535721261, 1.051346866058351, 1.0513484624628586, 1.1036411754114097, 0.6765932581169218, 0.5674389668630954, 0.5674390112076649, 0.5674389668630954, 10.061787523651686, 3.5508733640327024, 2.4722970182468593, 2.0329748422823424, 1.5937398049781215, 2.472386560732267, 1.393173051052776, 1.8296447411521248, 0.9545302561604297, 0.9545301059213602, 0.9532294862969065, 5.328773065354043, 0.5151829902713103, 0.5151829902713103, 0.5151829902713103, 0.5151829902713103, 0.5151829902713103, 0.5151829902713103, 0.5151829902713103, 0.5151829902713103, 0.5151829902713103, 0.5151829902713103, 0.5151829902713103, 0.5151829902713103, 0.9545464819799331, 0.515185093618283, 0.5151841921838661, 0.5151841921838661, 3.1063565220019833, 0.5151840043850293, 2.033241516630662, 3.5501167600788213, 0.6381957355768678, 0.634277425525399, 0.5580929962629543, 0.5281145176983179, 0.5152110849773024, 0.5152068407235897, 0.5151937323647778, 0.5151906149040862, 0.5151884364375788, 0.5151868964871167, 0.5151862204113041, 0.5151858823733978, 0.5151856570147936, 4.261605747508768, 3.792394970351361, 2.640586109312167, 2.171408043086015, 2.1710843411621346, 1.7021697342281348, 1.0194716094149257, 3.792254040755869, 0.5502334027787054, 0.5502334027787054, 0.5502334027787054, 0.5502334027787054, 0.5502334027787054, 0.5502334027787054, 0.5502334027787054, 0.5502334027787054, 0.5502334027787054, 0.5502334027787054, 0.5502334027787054, 0.5502334027787054, 0.5502334027787054, 0.5502334027787054, 0.5502334027787054, 0.5502334027787054, 0.5502334027787054, 0.5502334027787054, 0.5502334027787054, 0.5502334027787054, 0.5502334027787054, 0.5502334027787054, 3.112342069512334, 0.5502334027787054, 0.5502334027787054, 1.0194809456598881, 1.019473313109262, 1.7363548381187175, 1.0979593082333685, 0.5502362990590769, 0.5502346975864009, 0.5502341864781001, 0.5502336753697992, 1.6931169117287845, 1.6931169117287845, 1.0139328298237393, 2.054566387438312, 1.0139411132422997, 0.5473069902783378, 0.5473069902783378, 0.5473069902783378, 0.5473069902783378, 0.5473069902783378, 0.5473069902783378, 0.5473069902783378, 0.5473069902783378, 0.5473069902783378, 0.547272003734155, 0.5472696059024663, 0.5472592516292658, 0.5472561453473056, 0.5472519491418506, 0.5472490063484147, 0.5472461180511535, 0.5472459545626293, 0.5472430117691933, 0.5472414858763006, 0.5472056273933218, 0.5472138563157075, 0.5472103140643494, 3.3056274414763758, 0.5473036660116788, 0.5472507502260063, 1.0140243833973022, 1.480743356905334, 0.5473069902783378, 0.5473068812859884, 0.5473068812859884, 0.5473068812859884, 0.5473069357821632, 0.5473069902783378, 0.5473068267898137, 0.5473064453165905, 0.5473064998127652, 0.5473058458586684, 0.5473032845384556, 4.121016514408885, 3.103538492226278, 2.3805591761031764, 2.380438220172213, 1.6572852069734763, 1.6547278063034099, 1.0684174683300025, 1.0684174683300025, 1.0683973090081753, 1.0683973090081753, 1.0683973090081753, 1.068380854642792, 1.0683699577120747, 1.0683699577120747, 1.0683699577120747, 1.0683699577120747, 1.0683565544872922, 1.0683565544872922, 1.6574786274937099, 1.6574434304074928, 2.085994652582138, 1.0683575352110568, 1.0683575352110568, 1.0683978538547112, 0.34537544037062223, 0.34537544037062223, 0.34537544037062223, 0.34537544037062223, 0.34537544037062223, 0.34537544037062223, 3.832195545130373, 0.3453755220976026, 2.730969203574344, 1.8357979141029928, 1.8355607453518623, 1.8355607453518623, 1.8351169287462636, 2.0949889501794994, 0.9402818551397318, 0.9402818551397318, 0.9402681498963263, 0.9402681498963263, 0.9402536670504581, 0.9402536670504581, 0.9402043864943831, 0.9401516067272258, 0.9401516067272258, 0.9401516067272258, 0.9401516067272258, 0.940089398530208, 0.940089398530208, 0.940089398530208, 0.940089398530208, 0.940089398530208, 1.4581384624285603, 0.5488348313990747, 3.223055482046702, 0.9402672750935558, 0.9402672750935558, 0.9400889125286688, 3.3708635189653027, 0.3039500039313517, 0.30395014973181345, 1.0113154956590065, 1.0111293077038792, 1.011128493075004, 1.0085278356483052, 0.5458313970924314, 0.5458313970924314, 0.5458313970924314, 0.5458313970924314, 0.5458313970924314, 0.5458313518352718, 0.5457565417502388, 0.5457512466625504, 0.545748304947168, 0.545733732141735, 0.5457334605987767, 0.5457287991113245, 0.5457261741960603, 0.5457199287080176, 0.5457097005899186, 0.5457064873315779, 0.5456991556717017, 0.5456522239970621, 0.5456091391809996, 0.5455498975589136, 0.5458312160637925, 0.9976126233504129, 0.5458313970924314, 0.5458313970924314, 0.5458313970924314, 0.5458313518352718, 1.3145810980914556, 0.7988630004541916, 0.813321124244352, 0.5458311255494731, 0.5458307634921952, 0.5458277312624933, 0.5457267625391368, 0.7597490250876429, 0.410108129634934, 0.410108129634934, 0.410108129634934, 0.4101081000198574, 0.4100790772447882, 0.4100736280706936, 0.41007229539224654, 0.4100691265790502, 0.41005793208009494, 0.4100566586318011, 0.4100451975971564, 0.7470579578514159, 0.4100714661701017, 0.4100643585517174, 0.410108129634934, 0.410108129634934, 0.4100725026977827, 0.4101059973494187, 0.4100719400113273, 0.4100668166030753, 2.476840584020708, 0.410107981559551, 0.4100645066271004, 0.4100978235882768, 0.3424233162889959, 0.4101072707977126, 0.4101066192660274, 0.0603685345356824, 0.0603685345356824, 0.0603685345356824, 0.0603685345356824, 0.06242091117053097, 0.06077845902222733, 1.763942253771338, 1.4230087935288833, 0.7409306349323189, 1.0819218454260273, 0.39991501667360857, 0.39991501667360857, 0.39991501667360857, 0.39991501667360857, 0.39991501667360857, 0.39991498708843887, 0.3999134190744448, 0.7409615218494853, 0.39991498708843887, 0.3999135078299539, 3.7792675643471356, 0.3999185373088028, 0.399929542991931, 0.05886809360720984, 0.05895096166753815, 0.05886809360720984, 0.05886809360720984, 0.05886809360720984, 0.05886809360720984, 0.05886809360720984, 0.05886809360720984, 0.058877926977988715, 0.05887757195595232, 0.058877250217231836, 0.05887666221198406, 0.058876407039895405, 0.058943343486340526, 0.058942426346079844, 0.058909161520898964, 0.05888935424978515, 0.05888935424978515, 0.05888935424978515, 0.05888935424978515, 0.05888894745370178, 0.05888825220221384, 0.058880038619476015, 0.0588792620087714, 0.058878411435142546], \"Total\": [10.0, 18.0, 9.0, 4.0, 8.0, 9.0, 6.0, 11.0, 4.0, 6.0, 4.0, 3.0, 3.0, 2.0, 4.0, 4.0, 4.0, 4.0, 4.0, 3.0, 3.0, 4.0, 9.0, 2.0, 3.0, 4.0, 4.0, 3.0, 4.0, 2.0, 4.891553776967141, 4.891539821473325, 4.121925193170447, 3.592897554243683, 3.3523205530741995, 3.0639755766988466, 3.0639755823559915, 3.0639755823559915, 3.0637862272838325, 2.534929776016668, 2.534929776016668, 2.534929776016668, 2.534929776016668, 2.2943202248917207, 4.007153016470961, 3.292580103319559, 1.765369426547113, 1.7653694312420838, 2.763585691187025, 1.7455719164256633, 1.7393768208488951, 1.7338290881810225, 2.249143140974031, 1.236383184863705, 1.236383184863705, 1.236383184863705, 1.236383184863705, 1.236383184863705, 1.236383184863705, 1.236383184863705, 9.365982878725333, 1.236383184863705, 11.308518560862263, 1.236383184863705, 9.78127456302637, 3.6612456567595135, 1.7216337705642972, 2.20014629578331, 4.550920402827999, 6.206902745622712, 4.5350315171790205, 4.534954960226406, 4.046700620527965, 4.046700620527965, 2.8631554987890993, 2.379224063666849, 2.159129857874905, 4.037867184837874, 3.112279042961001, 1.6752190109530476, 1.6750478781247333, 2.140527398397389, 1.1913079371960105, 1.1913079371960105, 1.1913079371960105, 1.1913079371960105, 1.1913079371960105, 1.1913079371960105, 1.1913079371960105, 1.1913079371960105, 1.1913078928514407, 1.1913078928514407, 1.1913078928514407, 1.1913078928514407, 1.1913079408463707, 1.1913079465035157, 1.1913079578178056, 1.1913079578178056, 1.1913079578178056, 4.414468276214543, 3.970066208921968, 18.61887938259375, 2.6135243963430943, 2.6709477836867586, 9.78127456302637, 3.434721859336237, 4.550920402827999, 8.367206180047088, 9.365982878725333, 11.308518560862263, 3.713822357874736, 1.5323549637109484, 1.660546183670302, 1.6567841783520272, 10.693487974023396, 4.182538591965017, 3.1039393513301348, 2.664655353288331, 2.2253010544321534, 3.5879124913347056, 2.025479567117628, 2.947322762226589, 1.586091501916315, 1.5860913516772455, 1.586167278780776, 11.308518560862263, 1.1467442360271956, 1.1467442360271956, 1.1467442360271956, 1.1467442360271956, 1.1467442360271956, 1.1467442360271956, 1.1467442360271956, 1.1467442360271956, 1.1467442360271956, 1.1467442360271956, 1.1467442360271956, 1.1467442360271956, 2.419744332296628, 1.487791664841403, 1.4964811906899644, 1.496482502271427, 9.38607723817687, 1.613455843280555, 6.376200520879045, 18.61887938259375, 4.007153016470961, 4.550920402827999, 8.367206180047088, 2.759037676434691, 2.144965762002165, 2.3797676615582435, 3.713822357874736, 1.6757288210067407, 1.9532756253243093, 2.5611484551540906, 1.6134867190642461, 1.9657195678007369, 2.0601359207737273, 4.888228448769056, 4.418924739094507, 3.2670551856050696, 2.797809820033637, 2.7976891551713483, 2.328571511175757, 1.6458733863625474, 6.376200520879045, 1.176635179726327, 1.176635179726327, 1.176635179726327, 1.176635179726327, 1.176635179726327, 1.176635179726327, 1.176635179726327, 1.176635179726327, 1.176635179726327, 1.176635179726327, 1.176635179726327, 1.176635179726327, 1.176635179726327, 1.176635179726327, 1.176635179726327, 1.176635179726327, 1.176635179726327, 1.176635179726327, 1.176635179726327, 1.176635179726327, 1.176635179726327, 1.176635179726327, 8.367206180047088, 1.176635179726327, 1.176635179726327, 2.3797676615582435, 2.6135243963430943, 18.61887938259375, 9.365982878725333, 1.526375543515406, 2.6665087195426325, 3.434721859336237, 1.642119375512502, 2.3199494546673263, 2.3199494546673263, 1.6408302266301777, 3.713822357874736, 2.1100722189289396, 1.1741395332168794, 1.1741395332168794, 1.1741395332168794, 1.1741395332168794, 1.1741395332168794, 1.1741395332168794, 1.1741395332168794, 1.1741395332168794, 1.1741395332168794, 1.1741240262218895, 1.1741229284443182, 1.1741183029142612, 1.1741169401628229, 1.1741150798022657, 1.1741137560014572, 1.174112465434256, 1.1741124021835494, 1.1741111178703658, 1.1741104303301284, 1.1740944887977278, 1.1741429872700415, 1.5238345845086678, 9.38607723817687, 1.6134867190642461, 1.613462202311759, 4.550920402827999, 9.365982878725333, 1.639623682697759, 1.7031257560180022, 1.7031257560180022, 1.7031257560180022, 1.980656988510568, 1.63962373264989, 2.20014629578331, 2.6709477836867586, 2.6665087195426325, 3.434721859336237, 2.780808538347907, 4.777898476687986, 3.7602241123620352, 3.037120918080606, 3.0371894568864417, 2.31410613503826, 2.3155458812427088, 1.724998003058357, 1.724998003058357, 1.7250114190259427, 1.7250114190259427, 1.7250114190259427, 1.7250319025737038, 1.7250234009568863, 1.7250234009568863, 1.7250234009568863, 1.7250234009568863, 1.7250380504146285, 1.7250380504146285, 2.780808538347907, 2.84305334454976, 4.414468276214543, 2.620590267076404, 2.620590267076404, 2.6207184081847337, 1.0019326129236732, 1.0019326129236732, 1.0019326129236732, 1.0019326129236732, 1.0019326129236732, 1.0019326223136151, 18.61887938259375, 1.4858435427597918, 3.3940852880601837, 2.498494132535393, 2.498522583025245, 2.498522583025245, 2.499088455542362, 3.197066273807781, 1.6029369080670954, 1.6029369080670954, 1.6029490667939446, 1.6029490667939446, 1.6029568856845016, 1.6029568856845016, 1.603017806118561, 1.6029606727499057, 1.6029606727499057, 1.6029606727499057, 1.6029606727499057, 1.6031038863669573, 1.6031038863669573, 1.6031038863669573, 1.6031038863669573, 1.6031038863669573, 2.5611484551540906, 1.237281193577257, 8.367206180047088, 2.620590267076404, 2.620590267076404, 2.6207184081847337, 9.78127456302637, 0.9666050568587151, 1.4320892210635487, 1.6383652659765113, 1.638354262067549, 1.6383540375365186, 2.104395809166373, 1.172881150791203, 1.172881150791203, 1.172881150791203, 1.172881150791203, 1.172881150791203, 1.1728811055340433, 1.172877826510551, 1.1728772543268042, 1.1728771081431881, 1.1728763900425598, 1.1728763183897013, 1.1728761525917946, 1.172875966938393, 1.1728755612626316, 1.172875284061881, 1.172874747765514, 1.1728745508166343, 1.1728718993390417, 1.1728695284064081, 1.172866166138045, 1.4320892210635487, 2.759037676434691, 1.5226207458904546, 1.5226207458904546, 1.63962373264989, 1.639623682697759, 9.365982878725333, 3.6612456567595135, 9.78127456302637, 1.642119375512502, 3.970066208921968, 1.9532756253243093, 2.140527398397389, 1.4068652720083024, 1.0571365511524151, 1.0571365511524151, 1.0571365511524151, 1.0571365262323094, 1.057135757937501, 1.0571348130577398, 1.057134757295799, 1.0571344329294128, 1.0571326027499695, 1.0571321649526686, 1.0571306230686162, 1.9424029780522327, 1.496482502271427, 1.4964811906899644, 1.5226207458904546, 1.5226207458904546, 1.5238345845086678, 1.526375543515406, 1.541045987939831, 1.541044915484784, 9.38607723817687, 1.5861228893449006, 1.9657195678007369, 2.419744332296628, 2.0601359207737273, 3.970066208921968, 4.037867184837874, 0.9666050568587151, 1.0019326129236732, 1.0019326129236732, 1.0019326129236732, 2.104395809166373, 2.3155458812427088, 2.4126958562816765, 2.0715863311610283, 1.3895025118367612, 2.6665087195426325, 1.048443879119562, 1.048443879119562, 1.048443879119562, 1.048443879119562, 1.048443879119562, 1.0484438495343924, 1.487791664841403, 2.759037676434691, 1.5323549637109484, 1.9532756253243093, 18.61887938259375, 1.980656988510568, 4.037867184837874, 0.9666050568587151, 1.0019439473288128, 1.0019326129236732, 1.0019326129236732, 1.0019326129236732, 1.0019326129236732, 1.0019326129236732, 1.0019326223136151, 1.0571344329294128, 1.0571306230686162, 1.0571326027499695, 1.057134757295799, 1.057135757937501, 2.84305334454976, 11.308518560862263, 2.104395809166373, 1.7030927806866338, 1.2363714394769576, 1.2363714394769576, 1.2363714394769576, 1.4068652720083024, 2.31410613503826, 4.007153016470961, 9.365982878725333, 1.541045987939831], \"Category\": [\"Default\", \"Default\", \"Default\", \"Default\", \"Default\", \"Default\", \"Default\", \"Default\", \"Default\", \"Default\", \"Default\", \"Default\", \"Default\", \"Default\", \"Default\", \"Default\", \"Default\", \"Default\", \"Default\", \"Default\", \"Default\", \"Default\", \"Default\", \"Default\", \"Default\", \"Default\", \"Default\", \"Default\", \"Default\", \"Default\", \"Topic1\", \"Topic1\", \"Topic1\", \"Topic1\", \"Topic1\", \"Topic1\", \"Topic1\", \"Topic1\", \"Topic1\", \"Topic1\", \"Topic1\", \"Topic1\", \"Topic1\", \"Topic1\", \"Topic1\", \"Topic1\", \"Topic1\", \"Topic1\", \"Topic1\", \"Topic1\", \"Topic1\", \"Topic1\", \"Topic1\", \"Topic1\", \"Topic1\", \"Topic1\", \"Topic1\", \"Topic1\", \"Topic1\", \"Topic1\", \"Topic1\", \"Topic1\", \"Topic1\", \"Topic1\", \"Topic1\", \"Topic1\", \"Topic1\", \"Topic1\", \"Topic1\", \"Topic2\", \"Topic2\", \"Topic2\", \"Topic2\", \"Topic2\", \"Topic2\", \"Topic2\", \"Topic2\", \"Topic2\", \"Topic2\", \"Topic2\", \"Topic2\", \"Topic2\", \"Topic2\", \"Topic2\", \"Topic2\", \"Topic2\", \"Topic2\", \"Topic2\", \"Topic2\", \"Topic2\", \"Topic2\", \"Topic2\", \"Topic2\", \"Topic2\", \"Topic2\", \"Topic2\", \"Topic2\", \"Topic2\", \"Topic2\", \"Topic2\", \"Topic2\", \"Topic2\", \"Topic2\", \"Topic2\", \"Topic2\", \"Topic2\", \"Topic2\", \"Topic2\", \"Topic2\", \"Topic2\", \"Topic2\", \"Topic2\", \"Topic2\", \"Topic2\", \"Topic3\", \"Topic3\", \"Topic3\", \"Topic3\", \"Topic3\", \"Topic3\", \"Topic3\", \"Topic3\", \"Topic3\", \"Topic3\", \"Topic3\", \"Topic3\", \"Topic3\", \"Topic3\", \"Topic3\", \"Topic3\", \"Topic3\", \"Topic3\", \"Topic3\", \"Topic3\", \"Topic3\", \"Topic3\", \"Topic3\", \"Topic3\", \"Topic3\", \"Topic3\", \"Topic3\", \"Topic3\", \"Topic3\", \"Topic3\", \"Topic3\", \"Topic3\", \"Topic3\", \"Topic3\", \"Topic3\", \"Topic3\", \"Topic3\", \"Topic3\", \"Topic3\", \"Topic3\", \"Topic3\", \"Topic3\", \"Topic3\", \"Topic3\", \"Topic3\", \"Topic4\", \"Topic4\", \"Topic4\", \"Topic4\", \"Topic4\", \"Topic4\", \"Topic4\", \"Topic4\", \"Topic4\", \"Topic4\", \"Topic4\", \"Topic4\", \"Topic4\", \"Topic4\", \"Topic4\", \"Topic4\", \"Topic4\", \"Topic4\", \"Topic4\", \"Topic4\", \"Topic4\", \"Topic4\", \"Topic4\", \"Topic4\", \"Topic4\", \"Topic4\", \"Topic4\", \"Topic4\", \"Topic4\", \"Topic4\", \"Topic4\", \"Topic4\", \"Topic4\", \"Topic4\", \"Topic4\", \"Topic4\", \"Topic4\", \"Topic4\", \"Topic4\", \"Topic4\", \"Topic4\", \"Topic5\", \"Topic5\", \"Topic5\", \"Topic5\", \"Topic5\", \"Topic5\", \"Topic5\", \"Topic5\", \"Topic5\", \"Topic5\", \"Topic5\", \"Topic5\", \"Topic5\", \"Topic5\", \"Topic5\", \"Topic5\", \"Topic5\", \"Topic5\", \"Topic5\", \"Topic5\", \"Topic5\", \"Topic5\", \"Topic5\", \"Topic5\", \"Topic5\", \"Topic5\", \"Topic5\", \"Topic5\", \"Topic5\", \"Topic5\", \"Topic5\", \"Topic5\", \"Topic5\", \"Topic5\", \"Topic5\", \"Topic5\", \"Topic5\", \"Topic5\", \"Topic5\", \"Topic5\", \"Topic5\", \"Topic5\", \"Topic5\", \"Topic6\", \"Topic6\", \"Topic6\", \"Topic6\", \"Topic6\", \"Topic6\", \"Topic6\", \"Topic6\", \"Topic6\", \"Topic6\", \"Topic6\", \"Topic6\", \"Topic6\", \"Topic6\", \"Topic6\", \"Topic6\", \"Topic6\", \"Topic6\", \"Topic6\", \"Topic6\", \"Topic6\", \"Topic6\", \"Topic6\", \"Topic6\", \"Topic6\", \"Topic6\", \"Topic6\", \"Topic6\", \"Topic6\", \"Topic6\", \"Topic6\", \"Topic6\", \"Topic7\", \"Topic7\", \"Topic7\", \"Topic7\", \"Topic7\", \"Topic7\", \"Topic7\", \"Topic7\", \"Topic7\", \"Topic7\", \"Topic7\", \"Topic7\", \"Topic7\", \"Topic7\", \"Topic7\", \"Topic7\", \"Topic7\", \"Topic7\", \"Topic7\", \"Topic7\", \"Topic7\", \"Topic7\", \"Topic7\", \"Topic7\", \"Topic7\", \"Topic7\", \"Topic7\", \"Topic7\", \"Topic7\", \"Topic7\", \"Topic7\", \"Topic8\", \"Topic8\", \"Topic8\", \"Topic8\", \"Topic8\", \"Topic8\", \"Topic8\", \"Topic8\", \"Topic8\", \"Topic8\", \"Topic8\", \"Topic8\", \"Topic8\", \"Topic8\", \"Topic8\", \"Topic8\", \"Topic8\", \"Topic8\", \"Topic8\", \"Topic8\", \"Topic8\", \"Topic8\", \"Topic8\", \"Topic8\", \"Topic8\", \"Topic8\", \"Topic8\", \"Topic8\", \"Topic8\", \"Topic8\", \"Topic8\", \"Topic8\", \"Topic8\", \"Topic8\", \"Topic8\", \"Topic8\", \"Topic8\", \"Topic9\", \"Topic9\", \"Topic9\", \"Topic9\", \"Topic9\", \"Topic9\", \"Topic9\", \"Topic9\", \"Topic9\", \"Topic9\", \"Topic9\", \"Topic9\", \"Topic9\", \"Topic9\", \"Topic9\", \"Topic9\", \"Topic9\", \"Topic9\", \"Topic9\", \"Topic9\", \"Topic9\", \"Topic9\", \"Topic9\", \"Topic9\", \"Topic9\", \"Topic9\", \"Topic9\", \"Topic9\", \"Topic9\", \"Topic9\", \"Topic9\", \"Topic9\", \"Topic9\", \"Topic9\", \"Topic10\", \"Topic10\", \"Topic10\", \"Topic10\", \"Topic10\", \"Topic10\", \"Topic10\", \"Topic10\", \"Topic10\", \"Topic10\", \"Topic10\", \"Topic10\", \"Topic10\", \"Topic10\", \"Topic10\", \"Topic10\", \"Topic10\", \"Topic10\", \"Topic10\", \"Topic10\", \"Topic10\", \"Topic10\", \"Topic10\", \"Topic10\", \"Topic10\", \"Topic10\", \"Topic10\", \"Topic10\", \"Topic10\", \"Topic10\", \"Topic10\", \"Topic10\", \"Topic10\", \"Topic10\", \"Topic10\", \"Topic10\", \"Topic10\", \"Topic10\", \"Topic10\", \"Topic10\", \"Topic10\", \"Topic10\"], \"logprob\": [30.0, 29.0, 28.0, 27.0, 26.0, 25.0, 24.0, 23.0, 22.0, 21.0, 20.0, 19.0, 18.0, 17.0, 16.0, 15.0, 14.0, 13.0, 12.0, 11.0, 10.0, 9.0, 8.0, 7.0, 6.0, 5.0, 4.0, 3.0, 2.0, 1.0, -3.2527999877929688, -3.2527999877929688, -3.4512999057769775, -3.6149001121520996, -3.699199914932251, -3.810499906539917, -3.810499906539917, -3.810499906539917, -3.810699939727783, -4.054100036621094, -4.054100036621094, -4.054100036621094, -4.054100036621094, -4.1880998611450195, -3.6658999919891357, -3.9140000343322754, -4.5665998458862305, -4.5665998458862305, -4.188000202178955, -4.721399784088135, -4.775300025939941, -4.826099872589111, -4.567500114440918, -5.183300018310547, -5.183300018310547, -5.183300018310547, -5.183300018310547, -5.183300018310547, -5.183300018310547, -5.183300018310547, -3.2873001098632812, -5.183300018310547, -3.3320999145507812, -5.183300018310547, -3.6401000022888184, -4.375999927520752, -4.947800159454346, -4.830100059509277, -4.700099945068359, -2.8366000652313232, -3.192500114440918, -3.192500114440918, -3.327399969100952, -3.327399969100952, -3.7500998973846436, -3.993799924850464, -4.127600193023682, -3.554500102996826, -3.853600025177002, -4.506199836730957, -4.510799884796143, -4.510799884796143, -5.122900009155273, -5.122900009155273, -5.122900009155273, -5.122900009155273, -5.122900009155273, -5.122900009155273, -5.122900009155273, -5.122900009155273, -5.122900009155273, -5.122900009155273, -5.122900009155273, -5.122900009155273, -5.122900009155273, -5.122900009155273, -5.122900009155273, -5.122900009155273, -5.122900009155273, -3.9935998916625977, -4.127600193023682, -2.876800060272217, -4.510799884796143, -4.506199836730957, -3.729099988937378, -4.506199836730957, -4.506199836730957, -4.506199836730957, -4.506199836730957, -4.457699775695801, -4.947000026702881, -5.122900009155273, -5.122900009155273, -5.122900009155273, -2.0815000534057617, -3.122999906539917, -3.485100030899048, -3.6807000637054443, -3.924099922180176, -3.484999895095825, -4.058599948883057, -3.786099910736084, -4.436800003051758, -4.436800003051758, -4.4380998611450195, -2.717099905014038, -5.053500175476074, -5.053500175476074, -5.053500175476074, -5.053500175476074, -5.053500175476074, -5.053500175476074, -5.053500175476074, -5.053500175476074, -5.053500175476074, -5.053500175476074, -5.053500175476074, -5.053500175476074, -4.436699867248535, -5.053500175476074, -5.053500175476074, -5.053500175476074, -3.2567999362945557, -5.053500175476074, -3.6805999279022217, -3.123199939727783, -4.839300155639648, -4.8454999923706055, -4.973499774932861, -5.02869987487793, -5.053400039672852, -5.053400039672852, -5.053400039672852, -5.053400039672852, -5.053500175476074, -5.053500175476074, -5.053500175476074, -5.053500175476074, -5.053500175476074, -2.8431999683380127, -2.9598000049591064, -3.3217999935150146, -3.5174999237060547, -3.5176000595092773, -3.7609000205993652, -4.273499965667725, -2.95989990234375, -4.890200138092041, -4.890200138092041, -4.890200138092041, -4.890200138092041, -4.890200138092041, -4.890200138092041, -4.890200138092041, -4.890200138092041, -4.890200138092041, -4.890200138092041, -4.890200138092041, -4.890200138092041, -4.890200138092041, -4.890200138092041, -4.890200138092041, -4.890200138092041, -4.890200138092041, -4.890200138092041, -4.890200138092041, -4.890200138092041, -4.890200138092041, -4.890200138092041, -3.1575000286102295, -4.890200138092041, -4.890200138092041, -4.273499965667725, -4.273499965667725, -3.740999937057495, -4.199399948120117, -4.890200138092041, -4.890200138092041, -4.890200138092041, -4.890200138092041, -3.5427000522613525, -3.5427000522613525, -4.0553998947143555, -3.3492000102996826, -4.0553998947143555, -4.671999931335449, -4.671999931335449, -4.671999931335449, -4.671999931335449, -4.671999931335449, -4.671999931335449, -4.671999931335449, -4.671999931335449, -4.671999931335449, -4.672100067138672, -4.672100067138672, -4.672100067138672, -4.672100067138672, -4.672100067138672, -4.672100067138672, -4.672100067138672, -4.672100067138672, -4.672100067138672, -4.672100067138672, -4.6722002029418945, -4.6722002029418945, -4.6722002029418945, -2.873699903488159, -4.671999931335449, -4.672100067138672, -4.0553998947143555, -3.6767001152038574, -4.671999931335449, -4.671999931335449, -4.671999931335449, -4.671999931335449, -4.671999931335449, -4.671999931335449, -4.671999931335449, -4.671999931335449, -4.671999931335449, -4.671999931335449, -4.671999931335449, -2.6530001163482666, -2.936500072479248, -3.20169997215271, -3.2018001079559326, -3.5638999938964844, -3.5653998851776123, -4.002900123596191, -4.002900123596191, -4.002900123596191, -4.002900123596191, -4.002900123596191, -4.002900123596191, -4.002900123596191, -4.002900123596191, -4.002900123596191, -4.002900123596191, -4.002900123596191, -4.002900123596191, -3.563800096511841, -3.563800096511841, -3.3338000774383545, -4.002900123596191, -4.002900123596191, -4.002900123596191, -5.132199764251709, -5.132199764251709, -5.132199764251709, -5.132199764251709, -5.132199764251709, -5.132199764251709, -2.725600004196167, -5.132199764251709, -2.9500999450683594, -3.3473000526428223, -3.347399950027466, -3.347399950027466, -3.3477001190185547, -3.2151999473571777, -4.01639986038208, -4.01639986038208, -4.01639986038208, -4.01639986038208, -4.01639986038208, -4.01639986038208, -4.01639986038208, -4.016499996185303, -4.016499996185303, -4.016499996185303, -4.016499996185303, -4.016600131988525, -4.016600131988525, -4.016600131988525, -4.016600131988525, -4.016600131988525, -3.5776000022888184, -4.554699897766113, -2.78439998626709, -4.01639986038208, -4.01639986038208, -4.016600131988525, -2.7395999431610107, -5.145699977874756, -5.145699977874756, -3.872299909591675, -3.8724000453948975, -3.8724000453948975, -3.875, -4.488999843597412, -4.488999843597412, -4.488999843597412, -4.488999843597412, -4.488999843597412, -4.488999843597412, -4.489099979400635, -4.489099979400635, -4.489099979400635, -4.489099979400635, -4.489099979400635, -4.489099979400635, -4.489099979400635, -4.489200115203857, -4.489200115203857, -4.489200115203857, -4.489200115203857, -4.489299774169922, -4.4893999099731445, -4.489500045776367, -4.488999843597412, -3.8859000205993652, -4.488999843597412, -4.488999843597412, -4.488999843597412, -4.488999843597412, -3.609999895095825, -4.108099937438965, -4.090099811553955, -4.488999843597412, -4.488999843597412, -4.488999843597412, -4.489099979400635, -3.7342000007629395, -4.350800037384033, -4.350800037384033, -4.350800037384033, -4.350800037384033, -4.350800037384033, -4.350900173187256, -4.350900173187256, -4.350900173187256, -4.350900173187256, -4.350900173187256, -4.350900173187256, -3.750999927520752, -4.350900173187256, -4.350900173187256, -4.350800037384033, -4.350800037384033, -4.350900173187256, -4.350800037384033, -4.350900173187256, -4.350900173187256, -2.5524001121520996, -4.350800037384033, -4.350900173187256, -4.350800037384033, -4.531099796295166, -4.350800037384033, -4.350800037384033, -6.26669979095459, -6.26669979095459, -6.26669979095459, -6.26669979095459, -6.23330020904541, -6.260000228881836, -2.890899896621704, -3.105600118637085, -3.7583000659942627, -3.379699945449829, -4.374899864196777, -4.374899864196777, -4.374899864196777, -4.374899864196777, -4.374899864196777, -4.374899864196777, -4.374899864196777, -3.75819993019104, -4.374899864196777, -4.374899864196777, -2.1289000511169434, -4.374899864196777, -4.374899864196777, -6.290900230407715, -6.2895002365112305, -6.290900230407715, -6.290900230407715, -6.290900230407715, -6.290900230407715, -6.290900230407715, -6.290900230407715, -6.2906999588012695, -6.2906999588012695, -6.2906999588012695, -6.2906999588012695, -6.2906999588012695, -6.289599895477295, -6.289599895477295, -6.290200233459473, -6.290500164031982, -6.290500164031982, -6.290500164031982, -6.290500164031982, -6.290500164031982, -6.290500164031982, -6.2906999588012695, -6.2906999588012695, -6.2906999588012695], \"loglift\": [30.0, 29.0, 28.0, 27.0, 26.0, 25.0, 24.0, 23.0, 22.0, 21.0, 20.0, 19.0, 18.0, 17.0, 16.0, 15.0, 14.0, 13.0, 12.0, 11.0, 10.0, 9.0, 8.0, 7.0, 6.0, 5.0, 4.0, 3.0, 2.0, 1.0, 1.6227, 1.6227, 1.5954, 1.5692, 1.5542, 1.5328, 1.5328, 1.5328, 1.5327, 1.4787, 1.4787, 1.4787, 1.4787, 1.4445, 1.409, 1.3574, 1.3281, 1.3281, 1.2585, 1.1845, 1.1342, 1.0866, 1.085, 1.0676, 1.0676, 1.0676, 1.0676, 1.0676, 1.0676, 1.0676, 0.9386, 1.0676, 0.7053, 1.0676, 0.5424, 0.7892, 0.9719, 0.8444, 0.2476, 1.8008, 1.7587, 1.7587, 1.7378, 1.7378, 1.661, 1.6024, 1.5657, 1.5128, 1.4741, 1.4409, 1.4364, 1.1912, 1.1651, 1.1651, 1.1651, 1.1651, 1.1651, 1.1651, 1.1651, 1.1651, 1.1651, 1.1651, 1.1651, 1.1651, 1.1651, 1.1651, 1.1651, 1.1651, 1.1651, 0.9845, 0.9567, 0.662, 0.9915, 0.9744, 0.4534, 0.7229, 0.4415, -0.1675, -0.2803, -0.4202, 0.204, 0.9133, 0.833, 0.8352, 2.0119, 1.9091, 1.8453, 1.8022, 1.739, 1.7004, 1.6986, 1.596, 1.565, 1.565, 1.5636, 1.3204, 1.2726, 1.2726, 1.2726, 1.2726, 1.2726, 1.2726, 1.2726, 1.2726, 1.2726, 1.2726, 1.2726, 1.2726, 1.1426, 1.0123, 1.0065, 1.0065, 0.967, 0.9312, 0.9299, 0.4156, 0.2356, 0.1022, -0.6348, 0.4195, 0.6465, 0.5426, 0.0975, 0.8933, 0.7401, 0.4691, 0.9312, 0.7337, 0.6868, 2.033, 2.0173, 1.9573, 1.9167, 1.9166, 1.8569, 1.6912, 1.6506, 1.4101, 1.4101, 1.4101, 1.4101, 1.4101, 1.4101, 1.4101, 1.4101, 1.4101, 1.4101, 1.4101, 1.4101, 1.4101, 1.4101, 1.4101, 1.4101, 1.4101, 1.4101, 1.4101, 1.4101, 1.4101, 1.4101, 1.1813, 1.4101, 1.4101, 1.3225, 1.2288, -0.2022, 0.0266, 1.1499, 0.592, 0.3389, 1.0768, 2.0788, 2.0788, 1.9124, 1.8018, 1.6609, 1.6305, 1.6305, 1.6305, 1.6305, 1.6305, 1.6305, 1.6305, 1.6305, 1.6305, 1.6304, 1.6304, 1.6304, 1.6304, 1.6304, 1.6304, 1.6304, 1.6304, 1.6304, 1.6304, 1.6303, 1.6303, 1.3696, 1.3501, 1.3126, 1.3125, 0.8923, 0.5492, 1.2965, 1.2585, 1.2585, 1.2585, 1.1076, 1.2965, 1.0025, 0.8086, 0.8102, 0.5571, 0.7683, 2.2461, 2.202, 2.1504, 2.1503, 2.0601, 2.058, 1.9149, 1.9149, 1.9149, 1.9149, 1.9149, 1.9149, 1.9149, 1.9149, 1.9149, 1.9149, 1.9148, 1.9148, 1.8765, 1.8544, 1.6443, 1.4967, 1.4967, 1.4967, 1.3289, 1.3289, 1.3289, 1.3289, 1.3289, 1.3289, 0.8132, 0.9349, 2.2909, 2.2, 2.1999, 2.1999, 2.1994, 2.0856, 1.9748, 1.9748, 1.9748, 1.9748, 1.9748, 1.9748, 1.9747, 1.9747, 1.9747, 1.9747, 1.9747, 1.9745, 1.9745, 1.9745, 1.9745, 1.9745, 1.945, 1.6954, 1.5543, 1.4833, 1.4833, 1.483, 1.443, 1.3513, 0.9582, 2.0971, 2.0969, 2.0969, 1.844, 1.8146, 1.8146, 1.8146, 1.8146, 1.8146, 1.8146, 1.8145, 1.8145, 1.8145, 1.8144, 1.8144, 1.8144, 1.8144, 1.8144, 1.8144, 1.8144, 1.8144, 1.8143, 1.8142, 1.8141, 1.6149, 1.5622, 1.5536, 1.5536, 1.4796, 1.4796, 0.616, 1.0571, 0.0924, 1.4781, 0.5953, 1.3046, 1.2128, 2.3875, 2.0567, 2.0567, 2.0567, 2.0567, 2.0566, 2.0566, 2.0566, 2.0566, 2.0566, 2.0566, 2.0566, 2.0481, 1.7091, 1.709, 1.6918, 1.6918, 1.6909, 1.6894, 1.6797, 1.6797, 1.6714, 1.651, 1.4363, 1.2286, 1.2091, 0.7335, 0.7165, 0.2303, 0.1944, 0.1944, 0.1944, -0.5143, -0.6366, 2.6914, 2.6291, 2.3758, 2.1026, 2.0408, 2.0408, 2.0408, 2.0408, 2.0408, 2.0408, 1.6908, 1.6899, 1.6613, 1.4186, 1.41, 1.4047, 0.6924, 0.2061, 0.1716, 0.1702, 0.1702, 0.1702, 0.1702, 0.1702, 0.1702, 0.1168, 0.1168, 0.1167, 0.1167, 0.1167, -0.8715, -2.2521, -0.5712, -0.3599, -0.0397, -0.0397, -0.0397, -0.1689, -0.6665, -1.2157, -2.0647, -0.2601]}, \"token.table\": {\"Topic\": [2, 4, 8, 1, 8, 8, 8, 3, 3, 1, 5, 2, 4, 4, 7, 2, 4, 5, 7, 6, 1, 9, 5, 7, 2, 8, 4, 8, 2, 2, 8, 4, 3, 1, 2, 5, 7, 7, 8, 1, 2, 8, 1, 1, 2, 1, 8, 6, 4, 5, 1, 1, 5, 2, 4, 3, 4, 6, 3, 2, 2, 3, 5, 7, 5, 7, 4, 3, 1, 5, 6, 2, 4, 7, 3, 5, 9, 2, 4, 5, 7, 3, 7, 3, 5, 4, 8, 3, 6, 2, 6, 4, 8, 2, 2, 8, 1, 4, 5, 8, 1, 2, 4, 5, 8, 7, 2, 3, 4, 6, 10, 1, 3, 4, 3, 1, 2, 7, 6, 2, 1, 5, 4, 6, 4, 8, 3, 4, 4, 2, 5, 4, 2, 7, 2, 3, 1, 1, 7, 1, 3, 7, 1, 4, 5, 1, 3, 8, 1, 1, 6, 6, 5, 3, 6, 7, 1, 2, 4, 5, 6, 7, 5, 5, 8, 4, 5, 8, 4, 1, 4, 8, 1, 5, 2, 2, 3, 5, 7, 1, 2, 6, 1, 2, 2, 2, 1, 6, 4, 3, 4, 5, 10, 4, 4, 8, 6, 7, 1, 2, 3, 4, 5, 4, 8, 8, 3, 8, 2, 1, 5, 2, 3, 1, 7, 6, 5, 1, 1, 3, 8, 1, 2, 4, 1, 4, 3, 6, 6, 2, 6, 5, 2, 1, 1, 1, 9, 2, 3, 5, 3, 1, 3, 10, 1, 3, 1, 8, 5, 5, 8, 1, 1, 1, 2, 3, 5, 1, 7, 4, 1, 2, 7, 8, 1, 2, 10, 5, 8, 5, 3, 3, 3, 4, 10, 2, 3, 5, 1, 5, 4, 1, 2, 5, 8, 4, 6, 1, 3, 5, 7, 5, 5, 8, 4, 1, 7, 5, 3, 5, 3, 7, 2, 6, 1, 4, 8, 3, 8, 10, 2, 4, 7, 6, 5, 3, 5, 4, 1, 4, 3, 8, 2, 3, 4, 7, 4, 1, 2, 5, 8, 3, 2, 8, 2, 3, 2, 5, 6, 8, 6, 2, 4, 4, 7, 5, 3, 4, 5, 8, 7, 3, 3, 2, 8], \"Freq\": [0.698529996308566, 0.7148757024357508, 0.6567623636411067, 0.8088184246823481, 0.8526013051922775, 0.8526042439204272, 0.8526047659325066, 0.6304505290064113, 0.8720340321608423, 0.587155702664055, 0.587155702664055, 0.8394135292623893, 0.8498810992822682, 0.8498810992822682, 0.8002918006221401, 0.8394135292623893, 0.47391742852649577, 0.47391742852649577, 0.623823388725377, 0.5797022808185042, 0.5148262287997322, 0.5148262287997322, 0.6094475734114979, 0.8838905759243856, 0.6035789169562699, 0.6035789169562699, 0.8498810992822682, 0.6982805158308116, 0.8394135292623893, 0.7413446857871575, 0.8526121981101645, 0.8498810992822682, 0.6682342592885796, 0.4446137650300605, 0.4446137650300605, 0.8516875309191098, 0.6238548722456282, 0.623789891911656, 0.8526013051922775, 0.8088107410731543, 0.8394135147319619, 0.8526055699092043, 0.6527467174378776, 0.5749185501459968, 0.9666657020252772, 0.5808436248739658, 0.8526049385437867, 0.5797022808185042, 0.8498810992822682, 0.8517072114562926, 0.5664536753397279, 0.45451523015380835, 0.45451523015380835, 0.6426159005643702, 0.3213079502821851, 0.31366642147638624, 0.6273328429527725, 0.6585183975038953, 0.9563569856078107, 0.8394135266902905, 0.8820225360833143, 0.8720340321608423, 0.8516875309191098, 0.8082237127590828, 0.8517081431047402, 0.623845623289362, 0.8498810992822682, 0.8720340321608423, 0.587155702664055, 0.587155702664055, 0.5796973578406812, 0.38262508718082905, 0.38262508718082905, 0.623789891911656, 0.31962234316566446, 0.31962234316566446, 0.213081562110443, 0.5969978608131071, 0.8498810992822682, 0.8516875309191098, 0.6238470971556891, 0.3904498382308086, 0.3904498382308086, 0.6197876466000783, 0.6197876466000783, 0.9051975845190905, 0.8526013051922775, 0.8720340321608423, 0.5797108160282142, 0.8394135292623893, 0.5796994238240032, 0.8498810992822682, 0.8526013051922775, 0.8394135605082428, 0.5969368742007595, 0.8526053684019756, 0.2731310853599148, 0.2731310853599148, 0.2731310853599148, 0.2731310853599148, 0.42707744096841455, 0.10676936024210364, 0.10676936024210364, 0.10676936024210364, 0.10676936024210364, 0.800473052990529, 0.26854462598185985, 0.21483570078548786, 0.10741785039274393, 0.21483570078548786, 0.21483570078548786, 0.46620790770411874, 0.46620790770411874, 0.46620790770411874, 0.6443424866349072, 0.8088107410731543, 0.6489099013436088, 0.623845623289362, 0.5796973578406812, 0.6525903094791242, 0.8088107410731543, 0.8516875309191098, 0.8498810992822682, 0.5797063074310935, 0.9182581344870641, 0.8526059597626567, 0.4202090885398501, 0.4202090885398501, 0.8498810992822682, 0.8394135292623893, 0.8516850254542377, 0.8498810992822682, 0.6489103529376485, 0.6238470971556891, 0.41326680122890497, 0.41326680122890497, 0.7889764911526486, 0.7889764911526486, 0.8004821680211285, 0.970420328497843, 0.3127867595966275, 0.625573519193255, 0.8177360778153558, 0.8498810992822682, 0.8516875309191098, 0.4854048657257668, 0.4854048657257668, 0.8526048180194724, 0.8088107410731543, 0.351734518776103, 0.703469037552206, 0.8637272170684169, 0.8516875309191098, 0.6721371167962545, 0.38159341907181277, 0.38159341907181277, 0.2911443898380904, 0.2911443898380904, 0.2911443898380904, 0.2911443898380904, 0.38159341907181277, 0.38159341907181277, 0.8620877476344819, 0.47519577621480635, 0.47519577621480635, 0.8498810992822682, 0.6098960268060055, 0.6098960268060055, 0.8498810992822682, 0.5664536738332537, 0.8498810992822682, 0.8526061029320933, 0.587155702664055, 0.587155702664055, 0.8820374259682398, 0.2692643599066106, 0.2692643599066106, 0.5385287198132211, 0.800473052990529, 0.8088107410731543, 0.4530556966002308, 0.4530556966002308, 0.5767581169428355, 0.8406101932735202, 0.8394135605082428, 0.8394135147319619, 0.8949024869500893, 0.5797022808185042, 0.8498810992822682, 0.8720340321608423, 0.3750222126299752, 0.3750222126299752, 0.3750222126299752, 0.655146765321523, 0.6089691254558774, 0.6089691254558774, 0.3815747609040758, 0.3815747609040758, 0.2197357702364092, 0.2197357702364092, 0.2197357702364092, 0.2197357702364092, 0.2197357702364092, 0.8498810992822682, 0.8526050735017972, 0.8526097539243874, 0.6682336736194082, 0.8526013051922775, 0.8394135292623893, 0.7889764911526486, 0.851698779402217, 0.9262990795599824, 0.8720340321608423, 0.6304681728746877, 0.6238548722456282, 0.8371881528074616, 0.8620877476344819, 0.7889764911526486, 0.5967552670003147, 0.5967552670003147, 0.8526080303940595, 0.8088107410731543, 0.7413446857871575, 0.6075801506275303, 0.5728781441716015, 0.8498810992822682, 0.7505661088710367, 0.5797022808185042, 0.5797063074310935, 0.8394135227041809, 0.6585035370333101, 0.8516995757207242, 0.7429664876707563, 0.6527467162326843, 0.8177384108048017, 0.8349806680284013, 0.7108001170378585, 0.33929097037358014, 0.6785819407471603, 0.85170622939091, 0.8720340321608423, 0.748661203520013, 0.24955373450667098, 0.7196820383419933, 0.8088184246823481, 0.6304807090351568, 0.6527467162326843, 0.6103686853322814, 0.8517071655739052, 0.8516875309191098, 0.8526037217150887, 0.8088184246823481, 0.8088107410731543, 0.3537156505931405, 0.08842891264828512, 0.4421445632414256, 0.08842891264828512, 0.8717178963518002, 0.6238501401670223, 0.8498810992822682, 0.30670849495832847, 0.20447232997221898, 0.30670849495832847, 0.10223616498610949, 0.8088107410731543, 0.8394135147319619, 0.4827218566554001, 0.851708641851369, 0.6103686016832727, 0.8517029310572156, 0.8720340321608423, 0.8720340321608423, 0.8720340321608423, 0.8498810992822682, 0.8289482467476434, 0.8394135605082428, 0.6197757863045551, 0.6197757863045551, 0.5871670711896455, 0.5871670711896455, 0.8182923613169658, 0.374398932883548, 0.374398932883548, 0.374398932883548, 0.8526013380910198, 0.71484487104129, 0.7978247865964323, 0.8088107410731543, 0.6197852038722729, 0.6197852038722729, 0.623845623289362, 0.8517202061173114, 0.6098960453868582, 0.6098960453868582, 0.8498810992822682, 0.6527870587671775, 0.623789891911656, 0.8517039195953711, 0.8720340321608423, 0.8516875309191098, 0.8720340321608423, 0.6238501401670223, 0.6730183705227869, 0.5797063074310935, 0.6074263760458287, 0.30371318802291436, 0.6567623636411067, 0.36244521361238863, 0.36244521361238863, 0.36244521361238863, 0.602211495129694, 0.602211495129694, 0.623789891911656, 0.8642645943146999, 0.656239207434993, 0.898754798150381, 0.8516875309191098, 0.8498810992822682, 0.7236974798277209, 0.36184873991386046, 0.5119605175198797, 0.5119605175198797, 0.11951420563588554, 0.11951420563588554, 0.35854261690765665, 0.35854261690765665, 0.8498810992822682, 0.2518849680019669, 0.5037699360039338, 0.2518849680019669, 0.2518849680019669, 0.6304806493142422, 0.8394135292623893, 0.6103645022063943, 0.2787135980643718, 0.5574271961287436, 0.8394135292623893, 0.3596076415221687, 0.7192152830443374, 0.8526041376546001, 0.5797108160282142, 0.8394135605082428, 0.8498810992822682, 0.8588956750527912, 0.623789891911656, 0.8517052691022513, 0.508719563248184, 0.508719563248184, 0.5048829786282121, 0.5048829786282121, 0.623845623289362, 0.9351485711951034, 0.49371023842173656, 0.4671745854543601, 0.4671745854543601], \"Term\": [\"able\", \"absolutely\", \"acid\", \"actually\", \"ago\", \"alone\", \"also\", \"answer\", \"anyway\", \"associate\", \"associate\", \"attack\", \"audio\", \"awful\", \"back\", \"bad\", \"bath\", \"bath\", \"begin\", \"birth\", \"bit\", \"bit\", \"bloated\", \"body\", \"bout\", \"bout\", \"box\", \"brain\", \"brown\", \"button\", \"call\", \"carbonate\", \"carry\", \"cause\", \"cause\", \"certainly\", \"chill\", \"choose\", \"cigarette\", \"classic\", \"come\", \"commonest\", \"complete\", \"complication\", \"computer\", \"con\", \"condition\", \"confirm\", \"consent\", \"constantly\", \"control\", \"could\", \"could\", \"dark\", \"dark\", \"darle\", \"darle\", \"darling\", \"date\", \"definitely\", \"detail\", \"diarrhoea\", \"diet\", \"do\", \"doctor\", \"downhill\", \"due\", \"duloxetine\", \"eat\", \"eat\", \"enough\", \"ever\", \"ever\", \"excited\", \"expire\", \"expire\", \"expire\", \"eye\", \"fag\", \"fat\", \"feather\", \"feel\", \"feel\", \"feeling\", \"feeling\", \"female\", \"fibromyalgia\", \"fill\", \"find\", \"fine\", \"flip\", \"form\", \"formic\", \"frequently\", \"future\", \"gallbladder\", \"gallstone\", \"gallstone\", \"gallstone\", \"gallstone\", \"get\", \"get\", \"get\", \"get\", \"get\", \"give\", \"go\", \"go\", \"go\", \"go\", \"go\", \"golf\", \"golf\", \"golf\", \"good\", \"hand\", \"happy\", \"head\", \"hearing\", \"heart\", \"high\", \"higher\", \"hip\", \"identity\", \"inaudible\", \"inflammation\", \"initial\", \"initial\", \"interference\", \"issue\", \"jaundice\", \"joint\", \"keep\", \"knock\", \"know\", \"know\", \"lady\", \"laptop\", \"lay\", \"leave\", \"let\", \"let\", \"life\", \"lift\", \"likely\", \"little\", \"little\", \"liver\", \"long\", \"look\", \"look\", \"lovely\", \"low\", \"make\", \"management\", \"management\", \"mean\", \"mean\", \"mean\", \"mean\", \"medical\", \"medical\", \"mind\", \"minute\", \"minute\", \"money\", \"month\", \"month\", \"motion\", \"much\", \"muscle\", \"nasty\", \"nausea\", \"nausea\", \"need\", \"never\", \"never\", \"never\", \"new\", \"normally\", \"number\", \"number\", \"obviously\", \"okay\", \"one\", \"operate\", \"operation\", \"opinion\", \"optional\", \"outcome\", \"overspeake\", \"overspeake\", \"overspeake\", \"overspeaking\", \"pack\", \"pack\", \"page\", \"page\", \"pain\", \"pain\", \"pain\", \"pain\", \"pain\", \"pale\", \"pancreas\", \"pancreatitis\", \"paperwork\", \"paracetamol\", \"part\", \"participant\", \"pass\", \"people\", \"perfect\", \"period\", \"person\", \"personal\", \"perspire\", \"pick\", \"playing\", \"playing\", \"pop\", \"presentation\", \"press\", \"print\", \"pro\", \"probably\", \"problem\", \"professional\", \"protect\", \"prove\", \"purpose\", \"push\", \"put\", \"quality\", \"question\", \"questionnaire\", \"quiet\", \"quite\", \"quite\", \"raise\", \"randomisation\", \"randomise\", \"randomise\", \"randomised\", \"ready\", \"really\", \"record\", \"recurrent\", \"refer\", \"related\", \"remain\", \"restart\", \"rib\", \"right\", \"right\", \"right\", \"right\", \"risk\", \"roll\", \"save\", \"say\", \"say\", \"say\", \"say\", \"scan\", \"scientific\", \"second\", \"see\", \"serious\", \"shoot\", \"sick\", \"sickness\", \"sign\", \"signature\", \"silence\", \"slightly\", \"sometimes\", \"sometimes\", \"soon\", \"soon\", \"sorry\", \"sort\", \"sort\", \"sort\", \"sound\", \"speaker\", \"special\", \"stand\", \"start\", \"start\", \"stick\", \"stomach\", \"stone\", \"stone\", \"stool\", \"stop\", \"straight\", \"strangle\", \"stuff\", \"suggest\", \"sure\", \"surgery\", \"sweat\", \"sweetheart\", \"symptom\", \"symptom\", \"tablet\", \"take\", \"take\", \"take\", \"talk\", \"talk\", \"tap\", \"tape\", \"tell\", \"telling\", \"tenth\", \"term\", \"thank\", \"thank\", \"thing\", \"thing\", \"think\", \"think\", \"think\", \"think\", \"though\", \"time\", \"time\", \"time\", \"time\", \"today\", \"top\", \"tramadol\", \"trial\", \"trial\", \"trouble\", \"try\", \"try\", \"turn\", \"unique\", \"unpredictable\", \"urine\", \"use\", \"username\", \"wait\", \"want\", \"want\", \"well\", \"well\", \"wise\", \"would\", \"wrong\", \"yellow\", \"yellow\"]}, \"R\": 30, \"lambda.step\": 0.01, \"plot.opts\": {\"xlab\": \"PC1\", \"ylab\": \"PC2\"}, \"topic.order\": [4, 1, 7, 10, 6, 2, 9, 5, 3, 8]};\n",
              "\n",
              "function LDAvis_load_lib(url, callback){\n",
              "  var s = document.createElement('script');\n",
              "  s.src = url;\n",
              "  s.async = true;\n",
              "  s.onreadystatechange = s.onload = callback;\n",
              "  s.onerror = function(){console.warn(\"failed to load library \" + url);};\n",
              "  document.getElementsByTagName(\"head\")[0].appendChild(s);\n",
              "}\n",
              "\n",
              "if(typeof(LDAvis) !== \"undefined\"){\n",
              "   // already loaded: just create the visualization\n",
              "   !function(LDAvis){\n",
              "       new LDAvis(\"#\" + \"ldavis_el671397406116894722254614717\", ldavis_el671397406116894722254614717_data);\n",
              "   }(LDAvis);\n",
              "}else if(typeof define === \"function\" && define.amd){\n",
              "   // require.js is available: use it to load d3/LDAvis\n",
              "   require.config({paths: {d3: \"https://cdnjs.cloudflare.com/ajax/libs/d3/3.5.5/d3.min\"}});\n",
              "   require([\"d3\"], function(d3){\n",
              "      window.d3 = d3;\n",
              "      LDAvis_load_lib(\"https://cdn.rawgit.com/bmabey/pyLDAvis/files/ldavis.v1.0.0.js\", function(){\n",
              "        new LDAvis(\"#\" + \"ldavis_el671397406116894722254614717\", ldavis_el671397406116894722254614717_data);\n",
              "      });\n",
              "    });\n",
              "}else{\n",
              "    // require.js not available: dynamically load d3 & LDAvis\n",
              "    LDAvis_load_lib(\"https://cdnjs.cloudflare.com/ajax/libs/d3/3.5.5/d3.min.js\", function(){\n",
              "         LDAvis_load_lib(\"https://cdn.rawgit.com/bmabey/pyLDAvis/files/ldavis.v1.0.0.js\", function(){\n",
              "                 new LDAvis(\"#\" + \"ldavis_el671397406116894722254614717\", ldavis_el671397406116894722254614717_data);\n",
              "            })\n",
              "         });\n",
              "}\n",
              "</script>"
            ],
            "text/plain": [
              "PreparedData(topic_coordinates=              x         y  topics  cluster       Freq\n",
              "topic                                                \n",
              "3      0.136485 -0.068847       1        1  17.250715\n",
              "0     -0.002681  0.052241       2        1  14.856356\n",
              "6      0.061684  0.064828       3        1  12.583305\n",
              "9      0.014399  0.003644       4        1  11.415463\n",
              "5      0.075346  0.004439       5        1   9.128677\n",
              "1     -0.186626  0.143817       6        1   9.126748\n",
              "8     -0.154235 -0.220359       7        1   8.141032\n",
              "4      0.035403 -0.033915       8        1   7.581046\n",
              "2      0.036531  0.001659       9        1   4.960834\n",
              "7     -0.016306  0.052493      10        1   4.955824, topic_info=          Term       Freq      Total Category  logprob  loglift\n",
              "2        would  10.000000  10.000000  Default  30.0000  30.0000\n",
              "65          go  18.000000  18.000000  Default  29.0000  29.0000\n",
              "269     expire   9.000000   9.000000  Default  28.0000  28.0000\n",
              "300   personal   4.000000   4.000000  Default  27.0000  27.0000\n",
              "34       think   8.000000   8.000000  Default  26.0000  26.0000\n",
              "..         ...        ...        ...      ...      ...      ...\n",
              "248      quiet   0.058889   1.406865  Topic10  -6.2905  -0.1689\n",
              "251       tape   0.058888   2.314106  Topic10  -6.2905  -0.6665\n",
              "235  randomise   0.058880   4.007153  Topic10  -6.2907  -1.2157\n",
              "4          get   0.058879   9.365983  Topic10  -6.2907  -2.0647\n",
              "162      happy   0.058878   1.541046  Topic10  -6.2907  -0.2601\n",
              "\n",
              "[419 rows x 6 columns], token_table=      Topic      Freq        Term\n",
              "term                             \n",
              "151       2  0.698530        able\n",
              "211       4  0.714876  absolutely\n",
              "68        8  0.656762        acid\n",
              "261       1  0.808818    actually\n",
              "200       8  0.852601         ago\n",
              "...     ...       ...         ...\n",
              "312       7  0.623846        wise\n",
              "2         3  0.935149       would\n",
              "253       3  0.493710       wrong\n",
              "67        2  0.467175      yellow\n",
              "67        8  0.467175      yellow\n",
              "\n",
              "[355 rows x 3 columns], R=30, lambda_step=0.01, plot_opts={'xlab': 'PC1', 'ylab': 'PC2'}, topic_order=[4, 1, 7, 10, 6, 2, 9, 5, 3, 8])"
            ]
          },
          "metadata": {
            "tags": []
          },
          "execution_count": 27
        }
      ]
    },
    {
      "cell_type": "code",
      "metadata": {
        "id": "BEmOvyrUBLHQ",
        "colab": {
          "base_uri": "https://localhost:8080/",
          "height": 861
        },
        "outputId": "4bc18c67-76f1-47a4-edf3-f5f8d42fbe5b"
      },
      "source": [
        "%matplotlib inline\r\n",
        "vis = pyLDAvis.gensim.prepare(topic_model=lda_model, corpus=corpus, dictionary=id2word)\r\n",
        "pyLDAvis.enable_notebook()\r\n",
        "pyLDAvis.display(vis)"
      ],
      "execution_count": 15,
      "outputs": [
        {
          "output_type": "execute_result",
          "data": {
            "text/html": [
              "\n",
              "<link rel=\"stylesheet\" type=\"text/css\" href=\"https://cdn.rawgit.com/bmabey/pyLDAvis/files/ldavis.v1.0.0.css\">\n",
              "\n",
              "\n",
              "<div id=\"ldavis_el671397406414864322235065245\"></div>\n",
              "<script type=\"text/javascript\">\n",
              "\n",
              "var ldavis_el671397406414864322235065245_data = {\"mdsDat\": {\"x\": [-0.03405384653318546, 0.14180203971999297, 0.045966768875862124, -0.13877088229471432, -0.022868902772017516, -0.12139737907475338, 0.03026254120261098, 0.08414961127593842, 0.014597111723156843, 0.0003129378771092618], \"y\": [-0.10065385832343766, -0.11812516877878633, 0.15186450816296015, 0.026135537327153197, 0.024675484123636696, -0.04103969571325381, -0.028710461010212678, 0.07937958842507246, -0.018333337004129306, 0.024807402790997576], \"topics\": [1, 2, 3, 4, 5, 6, 7, 8, 9, 10], \"cluster\": [1, 1, 1, 1, 1, 1, 1, 1, 1, 1], \"Freq\": [20.505171868148476, 16.963867545141465, 12.53070632193761, 11.215886711764604, 10.370704707059339, 8.656615742216218, 8.377201994525427, 7.093600944260496, 2.7716510169805684, 1.5145931479657984]}, \"tinfo\": {\"Term\": [\"last\", \"probably\", \"think\", \"band\", \"much\", \"happen\", \"cause\", \"inaudible\", \"go\", \"people\", \"sort\", \"symptom\", \"still\", \"risk\", \"attack\", \"thing\", \"make\", \"bad\", \"problem\", \"mean\", \"right\", \"first\", \"do\", \"come\", \"know\", \"look\", \"time\", \"thank\", \"say\", \"operation\", \"cause\", \"trouble\", \"contraction\", \"intermittent\", \"spasm\", \"reflux\", \"abnormal\", \"safe\", \"best\", \"oesophagu\", \"long\", \"give\", \"control\", \"waiting\", \"answer\", \"watchful\", \"antibiotic\", \"medication\", \"call\", \"leaflet\", \"spot\", \"erosion\", \"going\", \"around\", \"dangerous\", \"sign\", \"normal\", \"space\", \"redness\", \"inflammation\", \"probably\", \"sometimes\", \"alone\", \"happen\", \"know\", \"leave\", \"mean\", \"people\", \"pain\", \"take\", \"thing\", \"go\", \"trial\", \"get\", \"question\", \"moment\", \"stone\", \"risk\", \"guide\", \"always\", \"bile\", \"inaudible\", \"wary\", \"organise\", \"treat\", \"forever\", \"stay\", \"sickness\", \"talk\", \"leakage\", \"type\", \"fairly\", \"liver\", \"spillage\", \"move\", \"load\", \"infect\", \"minimise\", \"increase\", \"course\", \"certainly\", \"want\", \"little\", \"band\", \"try\", \"much\", \"bit\", \"get\", \"say\", \"think\", \"fine\", \"alone\", \"leave\", \"pain\", \"could\", \"attack\", \"trial\", \"really\", \"wait\", \"invite\", \"put\", \"month\", \"name\", \"longer\", \"liable\", \"side\", \"hand\", \"end\", \"extra\", \"bowel\", \"urine\", \"jaundiced\", \"ask\", \"current\", \"change\", \"keyhole\", \"similar\", \"discomfort\", \"bout\", \"one\", \"thank\", \"right\", \"time\", \"rather\", \"couple\", \"moment\", \"question\", \"bad\", \"really\", \"come\", \"mean\", \"bit\", \"leave\", \"make\", \"take\", \"port\", \"stone\", \"hour\", \"doctor\", \"year\", \"well\", \"wipe\", \"painful\", \"completely\", \"anywhere\", \"usually\", \"line\", \"scan\", \"last\", \"do\", \"say\", \"go\", \"gallstone\", \"gallbladder\", \"couple\", \"come\", \"attack\", \"would\", \"could\", \"know\", \"think\", \"time\", \"mean\", \"able\", \"still\", \"prompt\", \"meet\", \"keyhole\", \"bout\", \"right\", \"really\", \"operation\", \"overspeake\", \"may\", \"term\", \"lot\", \"laproscopic\", \"feel\", \"watch\", \"must\", \"tell\", \"literally\", \"position\", \"toilet\", \"way\", \"comfortable\", \"round\", \"sat\", \"actually\", \"day\", \"gallbladder\", \"first\", \"port\", \"fine\", \"stone\", \"want\", \"make\", \"little\", \"go\", \"right\", \"pain\", \"take\", \"mean\", \"sort\", \"symptom\", \"remind\", \"date\", \"today\", \"feeling\", \"never\", \"mild\", \"range\", \"difficulty\", \"pre\", \"emptive\", \"often\", \"people\", \"day\", \"attack\", \"would\", \"really\", \"trial\", \"come\", \"get\", \"know\", \"mean\", \"go\", \"able\", \"still\", \"prompt\", \"meet\", \"audio\", \"result\", \"bile\", \"always\", \"band\", \"risk\", \"inaudible\", \"increase\", \"look\", \"slip\", \"filling\", \"irritation\", \"point\", \"mention\", \"presenting\", \"honestly\", \"first\", \"letter\", \"gallstone\", \"rather\", \"think\", \"would\", \"port\", \"fine\", \"sort\", \"say\", \"little\", \"band\", \"come\", \"pain\", \"bit\", \"thing\", \"get\", \"able\", \"still\", \"meet\", \"prompt\", \"interference\", \"one\", \"discomfort\", \"bout\", \"change\", \"similar\", \"right\", \"really\", \"couple\", \"sick\", \"ever\", \"result\", \"interference\", \"audio\", \"prompt\", \"meet\", \"bad\", \"much\", \"make\", \"letter\", \"actually\", \"try\", \"last\", \"thing\", \"thank\", \"happen\", \"time\", \"inaudible\", \"get\", \"able\", \"still\", \"problem\", \"honestly\", \"presenting\", \"filling\", \"irritation\", \"point\", \"mention\", \"slip\", \"sat\", \"round\", \"comfortable\", \"way\", \"toilet\", \"position\", \"literally\", \"tell\", \"must\", \"watch\", \"go\", \"know\", \"first\", \"pain\", \"day\", \"able\", \"problem\", \"probably\", \"do\", \"inaudible\", \"think\", \"band\", \"mean\", \"still\", \"prompt\", \"meet\", \"audio\", \"result\", \"interference\", \"ever\", \"sick\", \"honestly\", \"presenting\", \"filling\", \"irritation\", \"point\", \"mention\", \"slip\", \"today\", \"remind\", \"date\", \"feeling\", \"never\", \"mild\", \"range\", \"scan\", \"well\", \"year\", \"doctor\", \"gallbladder\", \"gallstone\", \"couple\", \"go\", \"come\", \"say\", \"last\", \"know\", \"attack\", \"would\", \"time\", \"could\", \"thank\", \"much\", \"line\", \"sickness\", \"overspeake\", \"still\", \"problem\", \"happen\", \"last\", \"able\", \"prompt\", \"meet\", \"audio\", \"result\", \"interference\", \"ever\", \"sick\", \"honestly\", \"presenting\", \"slip\", \"irritation\", \"point\", \"mention\", \"filling\", \"today\", \"date\", \"remind\", \"feeling\", \"never\", \"mild\", \"range\", \"difficulty\", \"pre\", \"emptive\", \"often\", \"obviously\", \"inflammation\", \"redness\", \"space\", \"normal\", \"sign\", \"certainly\", \"dangerous\", \"course\", \"around\", \"going\", \"minimise\", \"erosion\", \"load\", \"spot\", \"infect\", \"spillage\", \"increase\", \"move\", \"trouble\", \"bile\", \"liver\", \"fairly\", \"leakage\", \"type\", \"band\", \"always\", \"mean\", \"cause\", \"thing\", \"take\", \"probably\", \"symptom\", \"get\", \"risk\", \"could\", \"right\", \"inaudible\"], \"Freq\": [4.0, 2.0, 5.0, 6.0, 3.0, 3.0, 5.0, 3.0, 6.0, 4.0, 3.0, 3.0, 1.0, 3.0, 4.0, 4.0, 3.0, 2.0, 1.0, 6.0, 4.0, 2.0, 1.0, 3.0, 5.0, 1.0, 3.0, 2.0, 3.0, 1.0, 4.851186055246718, 1.669300518920511, 0.8750474348968035, 0.8750474348968035, 0.8750473665297969, 0.8750474348968035, 0.8750474348968035, 0.8750474348968035, 0.8750473665297969, 0.8750473665297969, 0.8750473665297969, 0.8750473665297969, 0.8750473665297969, 0.8750473665297969, 0.8750473665297969, 0.8750473665297969, 0.8750473665297969, 0.8750473665297969, 0.8750473665297969, 0.8750473665297969, 0.8745939565419393, 0.8745888290164433, 0.8745118477669971, 0.8745039855612365, 0.8744867570755701, 0.8743846167676902, 0.8743834545285778, 0.8743575434330715, 0.8743492026582647, 0.8743244538018707, 1.6697152331826257, 1.6705452086429078, 1.6705452086429078, 1.6705452086429078, 2.466042777287992, 1.6705452086429078, 2.4647249348685194, 1.6705447984408681, 1.6705452086429078, 1.6699534238336655, 1.6699104893535124, 1.6705445249728417, 0.8750474348968035, 0.8750472981627903, 0.8750473665297969, 0.8750473665297969, 0.8750473665297969, 3.139980662926923, 1.608255538810866, 1.6076172046742498, 1.6074336114962013, 2.3741502834068826, 0.8426336953498104, 0.8426336953498104, 0.8426336953498104, 0.8426329600721411, 0.8426329035123203, 0.8426317157560852, 0.8423172997127174, 0.8422830244613627, 0.8422737486507651, 0.8422574028625778, 0.8422452425011235, 0.842232742780745, 0.8422321771825378, 0.8422214308166015, 0.8422083654980158, 0.8422038972721791, 0.842205707186442, 0.8421200190580553, 0.8421060487823381, 1.6086644663146525, 1.6083042933763243, 3.139159866808673, 0.8421614208468204, 1.6082255621058856, 1.6083806491342927, 1.6078547559212628, 0.8426336387899896, 0.8426336387899896, 0.8426336953498104, 0.8426336387899896, 0.8426336387899896, 0.8426336387899896, 0.8426336953498104, 0.8426334125507068, 0.8422862483711436, 0.8422769160007253, 1.486686424321055, 0.7787405238935292, 0.7787405238935292, 0.7787405238935292, 0.7787405238935292, 0.7787405238935292, 0.7784158170103319, 0.77836969292399, 0.7783057709565052, 0.7783039326777017, 0.7782887250985092, 0.7782854663315395, 0.7782543827081351, 0.7782496198948715, 0.7782479487323228, 0.7782437708259513, 0.7782281454561217, 0.7782308193161995, 0.7782126036444195, 0.7781761723008596, 0.7781696547669199, 0.7780688836652381, 1.4866799067871153, 2.1933211306129317, 1.486686424321055, 0.7781831911835637, 0.7781536116064531, 0.7787405238935292, 0.7782328247112579, 0.7783192238150216, 0.780525409053585, 0.7811643780540507, 0.781056671627792, 0.7787403567772744, 0.7782983342831639, 0.7782789487975998, 0.7782662479622303, 0.7782480322904504, 0.7782350807806985, 1.4478616951557848, 1.4452060320983693, 1.444039000264757, 1.4432845131372587, 0.7584037593274218, 0.7584037593274218, 0.7584037593274218, 0.7584036845368659, 0.7584036845368659, 0.7584017399824136, 0.7566633830925997, 2.1339975840740353, 0.7568435535416623, 1.444907468199383, 2.8211853273698764, 0.7567644251335642, 0.756586722772845, 0.7568160306171064, 1.4439311522832092, 1.4448931084126584, 0.7565642108155317, 0.7567950892614662, 1.4440979352227732, 1.443980364468964, 0.7564413299322565, 0.7584914886494435, 0.06894583284787813, 0.07504623204788204, 0.06894587959197554, 0.0689458749175658, 0.06905990714320095, 0.06905893486597481, 0.06922615720005441, 0.0690589909588917, 1.4097345043000336, 1.4097327062790184, 0.73843229353368, 0.73843229353368, 0.73843229353368, 0.73843229353368, 0.7379892196627442, 0.7379811977228303, 0.7379708936793201, 0.7379374919812303, 0.7379145326359593, 0.7379039519738315, 0.7378602462322315, 0.7378455854454922, 0.7378255305957074, 0.7378127369846378, 0.7377079676831757, 0.7379991087783278, 0.73782885001912, 0.73843229353368, 0.7376926153498921, 0.7384322243790256, 0.7380056784704987, 0.73843229353368, 0.7380536026460189, 0.7379810594135214, 0.7384321552243711, 1.4084803154872831, 0.7378899135789821, 0.737804576735415, 0.7384321552243711, 0.7403047941116928, 1.9496947527233428, 1.9501468521600318, 0.6926730803355131, 0.6926730803355131, 0.6926729071615716, 0.6904218768202642, 0.6901692160395713, 0.6898614282208245, 0.6898479206533851, 0.6898221754607442, 0.6898138631115508, 0.6897069570649793, 0.6894241640184601, 1.9433057887738123, 0.690253667198391, 1.3166705706782902, 0.6926728494369244, 0.6905795805563513, 0.6927075996745248, 0.6905173533866947, 0.6927278033010367, 0.6904058870929962, 0.6903034258442574, 0.6899670066005109, 0.06297032397994848, 0.06297056930969898, 0.06297037448901475, 0.06297036727343386, 0.06297033841111027, 0.06297033119552937, 0.06308513830318317, 0.06307251103661324, 0.0630713709748315, 0.06305355570559655, 0.06304088514554124, 0.06303087713483696, 1.3034589097285318, 0.682764228051144, 0.682764228051144, 0.682764228051144, 0.682764228051144, 0.682764228051144, 0.682764060466821, 0.6827640046053801, 1.303459021451414, 0.682764228051144, 0.682764060466821, 0.6831652014745753, 1.9241538148516837, 0.6827638370210571, 0.6831139206717458, 0.682764283912585, 0.6827639487439391, 0.682764228051144, 0.682764228051144, 1.3038688209825215, 0.6827638370210571, 0.6827638370210571, 0.682764283912585, 0.6827640046053801, 0.682764283912585, 0.06206950447767543, 0.06206983266364125, 0.0620695533564363, 0.062069546373756175, 0.06206951844303568, 0.06257241106555442, 0.062502130390108, 0.06246818758202603, 0.06246033206688671, 0.06245074484707668, 0.0629672536958369, 0.0625168638451693, 0.06247759325215284, 0.6302988267726349, 0.6302988267726349, 0.6302987794705918, 0.6302987794705918, 0.6302987321685486, 0.6302984483562895, 0.6302984483562895, 1.20329794511029, 1.776295029460088, 1.203683078345946, 0.6302988267726349, 0.6306686814483403, 0.6302989213767213, 1.2032982289225493, 1.2032985127348084, 0.6303010499686649, 0.6302993943971532, 0.6302989686787646, 0.6302986375644621, 0.6310937376084488, 0.057299921294174154, 0.05730014597887931, 0.05730012824061311, 0.05729993903244035, 0.057299933119684954, 0.05729991538141876, 0.05729991538141876, 0.05729991538141876, 0.05729991538141876, 0.057299909468663354, 0.05791821812622606, 0.0578287758753085, 0.05781781953955453, 0.057800790804006005, 0.057788238024294364, 0.05775094627599417, 0.057741935236766406, 0.05772231671435321, 0.05769384679710802, 0.05768501905329761, 0.058370614867298595, 0.05795002875027157, 0.057931273490146595, 0.05783587709454245, 0.057815040544517096, 0.39797732780236333, 0.39807801837079543, 0.760182963492637, 0.398630966319832, 0.3979544839068821, 0.40020856278463124, 0.3979928527798749, 0.39808286068520976, 0.03628150742271246, 0.03628143580451263, 0.036281415012132036, 0.0362814080813385, 0.03628140115054497, 0.03628140115054497, 0.03628139653001595, 0.036281391909486926, 0.0362814080813385, 0.03628140115054497, 0.03628139421975144, 0.03628139421975144, 0.03628139421975144, 0.03628139421975144, 0.036281391909486926, 0.03628141732239654, 0.03628140346080948, 0.03628140346080948, 0.03628139421975144, 0.03628139421975144, 0.036281391909486926, 0.03628139421975144, 0.03719725931050121, 0.038690142996223996, 0.03829315407350775, 0.037678880153036026, 0.0372376127007087, 0.03714417174231103, 0.03717920228308599, 0.03922491378409078, 0.03835004664734697, 0.03783618375330155, 0.03802997336098374, 0.03826215032377485, 0.03784371752587077, 0.03724974852018314, 0.03731409862786273, 0.037128016062588066, 0.03628168762334429, 0.036281498181654416, 0.036281493561125394, 0.03628150511244795, 0.03628148200980284, 0.4860341374996647, 0.2556662350739868, 0.255666538065448, 0.25566629567227905, 0.02324245731150658, 0.023242472461079636, 0.023242472461079636, 0.023242462361364263, 0.02324245983643542, 0.02324245983643542, 0.02324245731150658, 0.023242454786577736, 0.023242467411221948, 0.023242462361364263, 0.023242454786577736, 0.023242454786577736, 0.023242454786577736, 0.023242454786577736, 0.02324245226164889, 0.023242467411221948, 0.023242467411221948, 0.023242462361364263, 0.023242454786577736, 0.023242454786577736, 0.02324245226164889, 0.023242454786577736, 0.02324245226164889, 0.02324245731150658, 0.023242454786577736, 0.023242454786577736, 0.023544817540461355, 0.023453690333586977, 0.023446451362593962, 0.023444009756402737, 0.0234364526443755, 0.02343612187869706, 0.023383739704919224, 0.023406274694843413, 0.02338118195200122, 0.023401227362086163, 0.023398934726696678, 0.023357705163618576, 0.023376462859993567, 0.023356013461293734, 0.02337493527804352, 0.023354937841606596, 0.023352099821587015, 0.023349976356430012, 0.02334922897749247, 0.02360613543741473, 0.02357341235960885, 0.023344706829934576, 0.023343752406831904, 0.02333400113164006, 0.023333117406544993, 0.023976236982299594, 0.023522396172335105, 0.02373590668023193, 0.023636742624850136, 0.023538280499686707, 0.02351587428113352, 0.023484956527450418, 0.023482747214712753, 0.023467885483542582, 0.023437750457800825, 0.023405878281015053, 0.02340020476590473, 0.023381866207717684], \"Total\": [4.0, 2.0, 5.0, 6.0, 3.0, 3.0, 5.0, 3.0, 6.0, 4.0, 3.0, 3.0, 1.0, 3.0, 4.0, 4.0, 3.0, 2.0, 1.0, 6.0, 4.0, 2.0, 1.0, 3.0, 5.0, 1.0, 3.0, 2.0, 3.0, 1.0, 5.376917931442165, 2.195001568201636, 1.400384758896733, 1.4003847711017963, 1.4003846635696213, 1.4003847788491082, 1.4003847816889614, 1.4003847824086364, 1.4003846839977045, 1.400384686155209, 1.400384691986841, 1.400384700209861, 1.40038470273479, 1.400384707957173, 1.4003847086475454, 1.400384712244393, 1.4003847163948573, 1.4003847222626558, 1.4003847462221242, 1.4003847731702175, 1.4000637367437618, 1.4000601479614523, 1.4000056522550193, 1.4000000506315207, 1.3999878837641702, 1.3999156011048344, 1.3999147448811513, 1.3998964263848697, 1.3998904969514394, 1.399872999061257, 2.922390267157834, 2.961630302104908, 2.961913211807616, 3.001306640852401, 5.6696881364499685, 3.6698123009239003, 6.818562494513388, 4.086081344053145, 4.25381794734922, 4.340454432984753, 4.727895492397549, 6.923524905079356, 2.7958981825156597, 5.42647952894174, 2.1082761828206116, 2.108330696693927, 2.7795801845446975, 3.6685432740592865, 2.1366953280502066, 2.1362834046471013, 2.13616343507018, 3.839426659693755, 1.3709177124578755, 1.3709177154565184, 1.3709177269165067, 1.3709175487947123, 1.3709175853291409, 1.3709172914346972, 1.3707176575114137, 1.3706987766020258, 1.3706986611549419, 1.370677617257635, 1.3706738289364457, 1.3706589883890892, 1.3706637127687822, 1.3706502551821869, 1.3706497300450668, 1.3706442626080138, 1.3706577897056056, 1.3705891141251656, 1.3705822762806552, 2.808195249370916, 3.428715661358235, 6.775790792997596, 1.9436221550667625, 3.855673761445689, 4.260914407342926, 5.42647952894174, 3.3691289404670437, 5.769180982664923, 2.662852208370705, 2.961913211807616, 3.6698123009239003, 4.25381794734922, 2.8547153631139053, 4.008542097885773, 2.7958981825156597, 2.708550955649383, 2.020779027898301, 1.3128330542549413, 1.3128330713663454, 1.3128330748877128, 1.3128330785525384, 1.3128330810694433, 1.312799673176743, 1.31279348372544, 1.3127883732684689, 1.3127891582345368, 1.3127840108743367, 1.3127858833123065, 1.312781919299526, 1.3127813374529222, 1.3127798722651383, 1.312779009247575, 1.3127763494794922, 1.3127816167288096, 1.312777011707693, 1.3127703816162182, 1.3127739410768309, 1.3127597378332545, 2.593777077203761, 4.194929531147101, 3.282306403130189, 1.9334690722145096, 2.0014222479356265, 2.108330696693927, 2.1082761828206116, 2.4587863065803908, 2.708550955649383, 3.940552474480405, 6.818562494513388, 4.260914407342926, 3.6698123009239003, 3.13001999366981, 4.340454432984753, 2.604778432924779, 2.7795801845446975, 1.9838031932828133, 1.982544851062285, 1.9819920413250476, 1.9816345639585022, 1.2943450978105189, 1.294345102415629, 1.2943451103215822, 1.2943450473858398, 1.2943450559317156, 1.2943448553392878, 1.2935205096473534, 4.050110531350959, 1.6575125728034117, 3.3691289404670437, 6.923524905079356, 1.9142632531440198, 1.964786364614021, 2.0014222479356265, 3.940552474480405, 4.008542097885773, 2.5438712694599186, 2.8547153631139053, 5.6696881364499685, 5.769180982664923, 3.282306403130189, 6.818562494513388, 0.968651400473051, 1.073781317562169, 1.177886087129641, 1.1778861075742049, 1.3127816167288096, 1.3127739410768309, 4.194929531147101, 2.708550955649383, 1.9474914707320816, 1.9474912659197092, 1.2761891814318855, 1.2761891920170565, 1.2761891920170565, 1.27618923433601, 1.2761243259271606, 1.276123148349305, 1.276121711373323, 1.2761167599060632, 1.2761134151911173, 1.2761118350453855, 1.2761054533931235, 1.2761033389877066, 1.2761003167469305, 1.276098479238714, 1.2760831362704301, 1.8491248309161499, 1.9061044498171782, 1.964786364614021, 2.517470545936841, 2.604778432924779, 2.662852208370705, 2.7795801845446975, 2.808195249370916, 3.13001999366981, 3.428715661358235, 6.923524905079356, 4.194929531147101, 4.25381794734922, 4.340454432984753, 6.818562494513388, 3.114987354939381, 3.2891515957803366, 1.23459006990419, 1.2345901218841036, 1.234590048020148, 1.2348697992240358, 1.2349012311386247, 1.234939398070979, 1.2349411165437851, 1.2349442683698861, 1.2349453280592533, 1.2349585625757151, 1.2349937737847854, 4.086081344053145, 1.9061044498171782, 4.008542097885773, 2.5438712694599186, 2.708550955649383, 2.7958981825156597, 3.940552474480405, 5.42647952894174, 5.6696881364499685, 6.818562494513388, 6.923524905079356, 0.968651400473051, 1.073781317562169, 1.177886087129641, 1.1778861075742049, 1.177886136695286, 1.1778861001522738, 2.13616343507018, 2.1362834046471013, 6.775790792997596, 3.6685432740592865, 3.839426659693755, 1.3706577897056056, 1.8462766057074218, 1.2255818355845975, 1.2255818420373024, 1.225581850877595, 1.225581856099978, 1.225581856099978, 1.2255818419560554, 1.2255818950832846, 2.517470545936841, 1.7985809281644203, 1.9142632531440198, 1.9334690722145096, 5.769180982664923, 2.5438712694599186, 2.604778432924779, 2.662852208370705, 3.114987354939381, 3.3691289404670437, 3.428715661358235, 6.775790792997596, 3.940552474480405, 4.25381794734922, 4.260914407342926, 4.727895492397549, 5.42647952894174, 0.968651400473051, 1.073781317562169, 1.1778861075742049, 1.177886087129641, 1.1778861085359968, 1.3127597378332545, 1.3127703816162182, 1.3127739410768309, 1.3127763494794922, 1.312777011707693, 4.194929531147101, 2.708550955649383, 2.0014222479356265, 1.1778860153497406, 1.177886057749495, 1.1778861001522738, 1.1778861085359968, 1.177886136695286, 1.177886087129641, 1.1778861075742049, 2.4587863065803908, 3.855673761445689, 3.13001999366981, 1.7985809281644203, 1.8491248309161499, 1.9436221550667625, 4.050110531350959, 4.727895492397549, 2.593777077203761, 3.001306640852401, 3.282306403130189, 3.839426659693755, 5.42647952894174, 0.968651400473051, 1.073781317562169, 1.2009916421233524, 1.2255818950832846, 1.2255818419560554, 1.2255818420373024, 1.225581850877595, 1.225581856099978, 1.225581856099978, 1.2255818355845975, 1.2760831362704301, 1.276098479238714, 1.2761003167469305, 1.2761033389877066, 1.2761054533931235, 1.2761118350453855, 1.2761134151911173, 1.2761167599060632, 1.276121711373323, 1.276123148349305, 6.923524905079356, 5.6696881364499685, 2.517470545936841, 4.25381794734922, 1.9061044498171782, 0.968651400473051, 1.2009916421233524, 2.922390267157834, 1.6575125728034117, 3.839426659693755, 5.769180982664923, 6.775790792997596, 6.818562494513388, 1.073781317562169, 1.177886087129641, 1.1778861075742049, 1.177886136695286, 1.1778861001522738, 1.1778861085359968, 1.177886057749495, 1.1778860153497406, 1.2255818950832846, 1.2255818419560554, 1.2255818420373024, 1.225581850877595, 1.225581856099978, 1.225581856099978, 1.2255818355845975, 1.234590048020148, 1.23459006990419, 1.2345901218841036, 1.2348697992240358, 1.2349012311386247, 1.234939398070979, 1.2349411165437851, 1.2935205096473534, 1.9816345639585022, 1.9819920413250476, 1.982544851062285, 1.964786364614021, 1.9142632531440198, 2.0014222479356265, 6.923524905079356, 3.940552474480405, 3.3691289404670437, 4.050110531350959, 5.6696881364499685, 4.008542097885773, 2.5438712694599186, 3.282306403130189, 2.8547153631139053, 2.593777077203761, 3.855673761445689, 1.2943448553392878, 1.3709172914346972, 1.9474912659197092, 1.073781317562169, 1.2009916421233524, 3.001306640852401, 4.050110531350959, 0.968651400473051, 1.177886087129641, 1.1778861075742049, 1.177886136695286, 1.1778861001522738, 1.1778861085359968, 1.177886057749495, 1.1778860153497406, 1.2255818950832846, 1.2255818419560554, 1.2255818355845975, 1.225581850877595, 1.225581856099978, 1.225581856099978, 1.2255818420373024, 1.234590048020148, 1.2345901218841036, 1.23459006990419, 1.2348697992240358, 1.2349012311386247, 1.234939398070979, 1.2349411165437851, 1.2349442683698861, 1.2349453280592533, 1.2349585625757151, 1.2349937737847854, 1.399652252579786, 1.399872999061257, 1.3998904969514394, 1.3998964263848697, 1.3999147448811513, 1.3999156011048344, 1.3705822762806552, 1.3999878837641702, 1.3705891141251656, 1.4000000506315207, 1.4000056522550193, 1.3706442626080138, 1.4000601479614523, 1.3706502551821869, 1.4000637367437618, 1.3706497300450668, 1.3706589883890892, 1.3706577897056056, 1.3706637127687822, 2.195001568201636, 2.13616343507018, 1.3706738289364457, 1.370677617257635, 1.3706987766020258, 1.3706986611549419, 6.775790792997596, 2.1362834046471013, 6.818562494513388, 5.376917931442165, 4.727895492397549, 4.340454432984753, 2.922390267157834, 3.2891515957803366, 5.42647952894174, 3.6685432740592865, 2.8547153631139053, 4.194929531147101, 3.839426659693755], \"Category\": [\"Default\", \"Default\", \"Default\", \"Default\", \"Default\", \"Default\", \"Default\", \"Default\", \"Default\", \"Default\", \"Default\", \"Default\", \"Default\", \"Default\", \"Default\", \"Default\", \"Default\", \"Default\", \"Default\", \"Default\", \"Default\", \"Default\", \"Default\", \"Default\", \"Default\", \"Default\", \"Default\", \"Default\", \"Default\", \"Default\", \"Topic1\", \"Topic1\", \"Topic1\", \"Topic1\", \"Topic1\", \"Topic1\", \"Topic1\", \"Topic1\", \"Topic1\", \"Topic1\", \"Topic1\", \"Topic1\", \"Topic1\", \"Topic1\", \"Topic1\", \"Topic1\", \"Topic1\", \"Topic1\", \"Topic1\", \"Topic1\", \"Topic1\", \"Topic1\", \"Topic1\", \"Topic1\", \"Topic1\", \"Topic1\", \"Topic1\", \"Topic1\", \"Topic1\", \"Topic1\", \"Topic1\", \"Topic1\", \"Topic1\", \"Topic1\", \"Topic1\", \"Topic1\", \"Topic1\", \"Topic1\", \"Topic1\", \"Topic1\", \"Topic1\", \"Topic1\", \"Topic1\", \"Topic1\", \"Topic1\", \"Topic1\", \"Topic1\", \"Topic2\", \"Topic2\", \"Topic2\", \"Topic2\", \"Topic2\", \"Topic2\", \"Topic2\", \"Topic2\", \"Topic2\", \"Topic2\", \"Topic2\", \"Topic2\", \"Topic2\", \"Topic2\", \"Topic2\", \"Topic2\", \"Topic2\", \"Topic2\", \"Topic2\", \"Topic2\", \"Topic2\", \"Topic2\", \"Topic2\", \"Topic2\", \"Topic2\", \"Topic2\", \"Topic2\", \"Topic2\", \"Topic2\", \"Topic2\", \"Topic2\", \"Topic2\", \"Topic2\", \"Topic2\", \"Topic2\", \"Topic2\", \"Topic2\", \"Topic2\", \"Topic2\", \"Topic2\", \"Topic2\", \"Topic3\", \"Topic3\", \"Topic3\", \"Topic3\", \"Topic3\", \"Topic3\", \"Topic3\", \"Topic3\", \"Topic3\", \"Topic3\", \"Topic3\", \"Topic3\", \"Topic3\", \"Topic3\", \"Topic3\", \"Topic3\", \"Topic3\", \"Topic3\", \"Topic3\", \"Topic3\", \"Topic3\", \"Topic3\", \"Topic3\", \"Topic3\", \"Topic3\", \"Topic3\", \"Topic3\", \"Topic3\", \"Topic3\", \"Topic3\", \"Topic3\", \"Topic3\", \"Topic3\", \"Topic3\", \"Topic3\", \"Topic3\", \"Topic3\", \"Topic3\", \"Topic3\", \"Topic4\", \"Topic4\", \"Topic4\", \"Topic4\", \"Topic4\", \"Topic4\", \"Topic4\", \"Topic4\", \"Topic4\", \"Topic4\", \"Topic4\", \"Topic4\", \"Topic4\", \"Topic4\", \"Topic4\", \"Topic4\", \"Topic4\", \"Topic4\", \"Topic4\", \"Topic4\", \"Topic4\", \"Topic4\", \"Topic4\", \"Topic4\", \"Topic4\", \"Topic4\", \"Topic4\", \"Topic4\", \"Topic4\", \"Topic4\", \"Topic4\", \"Topic4\", \"Topic4\", \"Topic4\", \"Topic5\", \"Topic5\", \"Topic5\", \"Topic5\", \"Topic5\", \"Topic5\", \"Topic5\", \"Topic5\", \"Topic5\", \"Topic5\", \"Topic5\", \"Topic5\", \"Topic5\", \"Topic5\", \"Topic5\", \"Topic5\", \"Topic5\", \"Topic5\", \"Topic5\", \"Topic5\", \"Topic5\", \"Topic5\", \"Topic5\", \"Topic5\", \"Topic5\", \"Topic5\", \"Topic5\", \"Topic5\", \"Topic5\", \"Topic5\", \"Topic5\", \"Topic5\", \"Topic6\", \"Topic6\", \"Topic6\", \"Topic6\", \"Topic6\", \"Topic6\", \"Topic6\", \"Topic6\", \"Topic6\", \"Topic6\", \"Topic6\", \"Topic6\", \"Topic6\", \"Topic6\", \"Topic6\", \"Topic6\", \"Topic6\", \"Topic6\", \"Topic6\", \"Topic6\", \"Topic6\", \"Topic6\", \"Topic6\", \"Topic6\", \"Topic6\", \"Topic6\", \"Topic6\", \"Topic6\", \"Topic6\", \"Topic6\", \"Topic6\", \"Topic6\", \"Topic6\", \"Topic6\", \"Topic6\", \"Topic6\", \"Topic7\", \"Topic7\", \"Topic7\", \"Topic7\", \"Topic7\", \"Topic7\", \"Topic7\", \"Topic7\", \"Topic7\", \"Topic7\", \"Topic7\", \"Topic7\", \"Topic7\", \"Topic7\", \"Topic7\", \"Topic7\", \"Topic7\", \"Topic7\", \"Topic7\", \"Topic7\", \"Topic7\", \"Topic7\", \"Topic7\", \"Topic7\", \"Topic7\", \"Topic7\", \"Topic7\", \"Topic7\", \"Topic7\", \"Topic7\", \"Topic7\", \"Topic7\", \"Topic7\", \"Topic7\", \"Topic7\", \"Topic7\", \"Topic7\", \"Topic7\", \"Topic8\", \"Topic8\", \"Topic8\", \"Topic8\", \"Topic8\", \"Topic8\", \"Topic8\", \"Topic8\", \"Topic8\", \"Topic8\", \"Topic8\", \"Topic8\", \"Topic8\", \"Topic8\", \"Topic8\", \"Topic8\", \"Topic8\", \"Topic8\", \"Topic8\", \"Topic8\", \"Topic8\", \"Topic8\", \"Topic8\", \"Topic8\", \"Topic8\", \"Topic8\", \"Topic8\", \"Topic8\", \"Topic8\", \"Topic8\", \"Topic8\", \"Topic8\", \"Topic8\", \"Topic8\", \"Topic8\", \"Topic8\", \"Topic8\", \"Topic8\", \"Topic8\", \"Topic8\", \"Topic8\", \"Topic8\", \"Topic8\", \"Topic8\", \"Topic8\", \"Topic9\", \"Topic9\", \"Topic9\", \"Topic9\", \"Topic9\", \"Topic9\", \"Topic9\", \"Topic9\", \"Topic9\", \"Topic9\", \"Topic9\", \"Topic9\", \"Topic9\", \"Topic9\", \"Topic9\", \"Topic9\", \"Topic9\", \"Topic9\", \"Topic9\", \"Topic9\", \"Topic9\", \"Topic9\", \"Topic9\", \"Topic9\", \"Topic9\", \"Topic9\", \"Topic9\", \"Topic9\", \"Topic9\", \"Topic9\", \"Topic9\", \"Topic9\", \"Topic9\", \"Topic9\", \"Topic9\", \"Topic9\", \"Topic9\", \"Topic9\", \"Topic9\", \"Topic9\", \"Topic9\", \"Topic9\", \"Topic9\", \"Topic9\", \"Topic9\", \"Topic9\", \"Topic9\", \"Topic9\", \"Topic9\", \"Topic9\", \"Topic9\", \"Topic10\", \"Topic10\", \"Topic10\", \"Topic10\", \"Topic10\", \"Topic10\", \"Topic10\", \"Topic10\", \"Topic10\", \"Topic10\", \"Topic10\", \"Topic10\", \"Topic10\", \"Topic10\", \"Topic10\", \"Topic10\", \"Topic10\", \"Topic10\", \"Topic10\", \"Topic10\", \"Topic10\", \"Topic10\", \"Topic10\", \"Topic10\", \"Topic10\", \"Topic10\", \"Topic10\", \"Topic10\", \"Topic10\", \"Topic10\", \"Topic10\", \"Topic10\", \"Topic10\", \"Topic10\", \"Topic10\", \"Topic10\", \"Topic10\", \"Topic10\", \"Topic10\", \"Topic10\", \"Topic10\", \"Topic10\", \"Topic10\", \"Topic10\", \"Topic10\", \"Topic10\", \"Topic10\", \"Topic10\", \"Topic10\", \"Topic10\", \"Topic10\", \"Topic10\", \"Topic10\", \"Topic10\", \"Topic10\", \"Topic10\", \"Topic10\", \"Topic10\", \"Topic10\", \"Topic10\", \"Topic10\", \"Topic10\", \"Topic10\", \"Topic10\", \"Topic10\", \"Topic10\", \"Topic10\", \"Topic10\"], \"logprob\": [30.0, 29.0, 28.0, 27.0, 26.0, 25.0, 24.0, 23.0, 22.0, 21.0, 20.0, 19.0, 18.0, 17.0, 16.0, 15.0, 14.0, 13.0, 12.0, 11.0, 10.0, 9.0, 8.0, 7.0, 6.0, 5.0, 4.0, 3.0, 2.0, 1.0, -2.7167999744415283, -3.783600091934204, -4.429500102996826, -4.429500102996826, -4.429500102996826, -4.429500102996826, -4.429500102996826, -4.429500102996826, -4.429500102996826, -4.429500102996826, -4.429500102996826, -4.429500102996826, -4.429500102996826, -4.429500102996826, -4.429500102996826, -4.429500102996826, -4.429500102996826, -4.429500102996826, -4.429500102996826, -4.429500102996826, -4.429999828338623, -4.429999828338623, -4.430099964141846, -4.430099964141846, -4.430200099945068, -4.430300235748291, -4.430300235748291, -4.430300235748291, -4.430300235748291, -4.430300235748291, -3.783400058746338, -3.782900094985962, -3.782900094985962, -3.782900094985962, -3.393399953842163, -3.782900094985962, -3.3940000534057617, -3.782900094985962, -3.782900094985962, -3.7832000255584717, -3.7832999229431152, -3.782900094985962, -4.429500102996826, -4.429500102996826, -4.429500102996826, -4.429500102996826, -4.429500102996826, -2.9621999263763428, -3.6312999725341797, -3.631700038909912, -3.6317999362945557, -3.24180006980896, -4.277699947357178, -4.277699947357178, -4.277699947357178, -4.277699947357178, -4.277699947357178, -4.277699947357178, -4.2779998779296875, -4.27810001373291, -4.27810001373291, -4.27810001373291, -4.27810001373291, -4.27810001373291, -4.27810001373291, -4.278200149536133, -4.278200149536133, -4.278200149536133, -4.278200149536133, -4.278299808502197, -4.278299808502197, -3.63100004196167, -3.6312999725341797, -2.9625000953674316, -4.278200149536133, -3.6312999725341797, -3.631200075149536, -3.631500005722046, -4.277699947357178, -4.277699947357178, -4.277699947357178, -4.277699947357178, -4.277699947357178, -4.277699947357178, -4.277699947357178, -4.277699947357178, -4.27810001373291, -4.27810001373291, -3.4070000648498535, -4.053599834442139, -4.053599834442139, -4.053599834442139, -4.053599834442139, -4.053599834442139, -4.053999900817871, -4.054100036621094, -4.054200172424316, -4.054200172424316, -4.054200172424316, -4.054200172424316, -4.054200172424316, -4.054299831390381, -4.054299831390381, -4.054299831390381, -4.054299831390381, -4.054299831390381, -4.054299831390381, -4.054299831390381, -4.0543999671936035, -4.054500102996826, -3.4070000648498535, -3.0181000232696533, -3.4070000648498535, -4.054299831390381, -4.0543999671936035, -4.053599834442139, -4.054299831390381, -4.054200172424316, -4.051300048828125, -4.05049991607666, -4.0507001876831055, -4.053599834442139, -4.054200172424316, -4.054200172424316, -4.054200172424316, -4.054299831390381, -4.054299831390381, -3.3225998878479004, -3.324399948120117, -3.325200080871582, -3.3257999420166016, -3.9691998958587646, -3.9691998958587646, -3.9691998958587646, -3.9691998958587646, -3.9691998958587646, -3.9691998958587646, -3.9714999198913574, -2.9347000122070312, -3.971299886703491, -3.3245999813079834, -2.6554999351501465, -3.971400022506714, -3.97160005569458, -3.971299886703491, -3.3252999782562256, -3.324700117111206, -3.9716999530792236, -3.971400022506714, -3.325200080871582, -3.3252999782562256, -3.9718000888824463, -3.969099998474121, -6.367099761962891, -6.282299995422363, -6.367099761962891, -6.367099761962891, -6.365499973297119, -6.365499973297119, -6.363100051879883, -6.365499973297119, -3.270900011062622, -3.270900011062622, -3.91759991645813, -3.91759991645813, -3.91759991645813, -3.91759991645813, -3.9182000160217285, -3.9182000160217285, -3.9182000160217285, -3.9182000160217285, -3.918299913406372, -3.918299913406372, -3.918299913406372, -3.9184000492095947, -3.9184000492095947, -3.9184000492095947, -3.918600082397461, -3.9182000160217285, -3.9184000492095947, -3.91759991645813, -3.918600082397461, -3.91759991645813, -3.9182000160217285, -3.91759991645813, -3.918100118637085, -3.9182000160217285, -3.91759991645813, -3.2718000411987305, -3.918299913406372, -3.9184000492095947, -3.91759991645813, -3.9149999618530273, -2.7660000324249268, -2.7657999992370605, -3.8008999824523926, -3.8008999824523926, -3.8008999824523926, -3.8041000366210938, -3.804500102996826, -3.805000066757202, -3.805000066757202, -3.805000066757202, -3.805000066757202, -3.8052000999450684, -3.8055999279022217, -2.7692999839782715, -3.8043999671936035, -3.158600091934204, -3.8008999824523926, -3.8039000034332275, -3.800800085067749, -3.803999900817871, -3.800800085067749, -3.8041999340057373, -3.80430006980896, -3.804800033569336, -6.198800086975098, -6.198800086975098, -6.198800086975098, -6.198800086975098, -6.198800086975098, -6.198800086975098, -6.197000026702881, -6.197199821472168, -6.197199821472168, -6.197500228881836, -6.197700023651123, -6.197800159454346, -3.1359000205993652, -3.7825000286102295, -3.7825000286102295, -3.7825000286102295, -3.7825000286102295, -3.7825000286102295, -3.7825000286102295, -3.7825000286102295, -3.1359000205993652, -3.7825000286102295, -3.7825000286102295, -3.781899929046631, -2.7464001178741455, -3.7825000286102295, -3.7820000648498535, -3.7825000286102295, -3.7825000286102295, -3.7825000286102295, -3.7825000286102295, -3.135499954223633, -3.7825000286102295, -3.7825000286102295, -3.7825000286102295, -3.7825000286102295, -3.7825000286102295, -6.1803998947143555, -6.1803998947143555, -6.1803998947143555, -6.1803998947143555, -6.1803998947143555, -6.172299861907959, -6.173399925231934, -6.173999786376953, -6.174099922180176, -6.174300193786621, -6.165999889373779, -6.1732001304626465, -6.173799991607666, -3.6960999965667725, -3.6960999965667725, -3.6960999965667725, -3.6960999965667725, -3.6960999965667725, -3.6960999965667725, -3.6960999965667725, -3.049499988555908, -2.6600000858306885, -3.0492000579833984, -3.6960999965667725, -3.695499897003174, -3.6960999965667725, -3.049499988555908, -3.049499988555908, -3.6960999965667725, -3.6960999965667725, -3.6960999965667725, -3.6960999965667725, -3.6949000358581543, -6.093999862670898, -6.093999862670898, -6.093999862670898, -6.093999862670898, -6.093999862670898, -6.093999862670898, -6.093999862670898, -6.093999862670898, -6.093999862670898, -6.093999862670898, -6.0833001136779785, -6.084799766540527, -6.085000038146973, -6.085299968719482, -6.0854997634887695, -6.08620023727417, -6.086299896240234, -6.086699962615967, -6.087200164794922, -6.087299823760986, -6.075500011444092, -6.082699775695801, -6.083099842071533, -6.084700107574463, -6.085100173950195, -3.216200113296509, -3.21589994430542, -2.569000005722046, -3.2144999504089355, -3.216200113296509, -3.210599899291992, -3.216099977493286, -3.21589994430542, -5.611299991607666, -5.611299991607666, -5.611299991607666, -5.611299991607666, -5.611299991607666, -5.611299991607666, -5.611299991607666, -5.611299991607666, -5.611299991607666, -5.611299991607666, -5.611299991607666, -5.611299991607666, -5.611299991607666, -5.611299991607666, -5.611299991607666, -5.611299991607666, -5.611299991607666, -5.611299991607666, -5.611299991607666, -5.611299991607666, -5.611299991607666, -5.611299991607666, -5.586299896240234, -5.546999931335449, -5.557300090789795, -5.573500156402588, -5.58519983291626, -5.587800025939941, -5.5868000984191895, -5.533199787139893, -5.555799961090088, -5.569300174713135, -5.564199924468994, -5.55810022354126, -5.5690999031066895, -5.58489990234375, -5.583199977874756, -5.588200092315674, -5.611199855804443, -5.611299991607666, -5.611299991607666, -5.611299991607666, -5.611299991607666, -2.4119999408721924, -3.0543999671936035, -3.0543999671936035, -3.0543999671936035, -5.452300071716309, -5.452300071716309, -5.452300071716309, -5.452300071716309, -5.452300071716309, -5.452300071716309, -5.452300071716309, -5.452300071716309, -5.452300071716309, -5.452300071716309, -5.452300071716309, -5.452300071716309, -5.452300071716309, -5.452300071716309, -5.452300071716309, -5.452300071716309, -5.452300071716309, -5.452300071716309, -5.452300071716309, -5.452300071716309, -5.452300071716309, -5.452300071716309, -5.452300071716309, -5.452300071716309, -5.452300071716309, -5.452300071716309, -5.4394001960754395, -5.44320011138916, -5.44350004196167, -5.443600177764893, -5.443999767303467, -5.443999767303467, -5.446199893951416, -5.445300102233887, -5.446300029754639, -5.445499897003174, -5.4456000328063965, -5.447299957275391, -5.446499824523926, -5.447400093078613, -5.446599960327148, -5.447500228881836, -5.4475998878479, -5.447700023651123, -5.447700023651123, -5.436800003051758, -5.4380998611450195, -5.44789981842041, -5.44789981842041, -5.448400020599365, -5.448400020599365, -5.421199798583984, -5.440299987792969, -5.431300163269043, -5.435500144958496, -5.439599990844727, -5.4405999183654785, -5.44189977645874, -5.441999912261963, -5.442599773406982, -5.443900108337402, -5.445300102233887, -5.445499897003174, -5.446300029754639], \"loglift\": [30.0, 29.0, 28.0, 27.0, 26.0, 25.0, 24.0, 23.0, 22.0, 21.0, 20.0, 19.0, 18.0, 17.0, 16.0, 15.0, 14.0, 13.0, 12.0, 11.0, 10.0, 9.0, 8.0, 7.0, 6.0, 5.0, 4.0, 3.0, 2.0, 1.0, 1.4816, 1.3107, 1.1143, 1.1143, 1.1143, 1.1143, 1.1143, 1.1143, 1.1143, 1.1143, 1.1143, 1.1143, 1.1143, 1.1143, 1.1143, 1.1143, 1.1143, 1.1143, 1.1143, 1.1143, 1.114, 1.114, 1.1139, 1.1139, 1.1139, 1.1138, 1.1138, 1.1138, 1.1138, 1.1138, 1.0247, 1.0119, 1.0118, 0.9986, 0.752, 0.7975, 0.5669, 0.6901, 0.6498, 0.6293, 0.5438, 0.1627, 0.4229, -0.2403, 0.7051, 0.7051, 0.4287, 1.6185, 1.49, 1.4898, 1.4897, 1.2934, 1.2874, 1.2874, 1.2874, 1.2874, 1.2874, 1.2874, 1.2872, 1.2871, 1.2871, 1.2871, 1.2871, 1.2871, 1.2871, 1.2871, 1.2871, 1.2871, 1.2871, 1.287, 1.287, 1.2169, 1.0171, 1.0047, 0.9377, 0.8997, 0.7998, 0.5577, 0.3882, -0.1497, 0.6235, 0.517, 0.3027, 0.155, 0.5539, 0.2144, 0.5743, 0.606, 1.7701, 1.5547, 1.5547, 1.5547, 1.5547, 1.5547, 1.5543, 1.5543, 1.5542, 1.5542, 1.5542, 1.5542, 1.5541, 1.5541, 1.5541, 1.5541, 1.5541, 1.5541, 1.5541, 1.554, 1.554, 1.5539, 1.5204, 1.4285, 1.285, 1.1669, 1.1323, 1.081, 1.0804, 0.9267, 0.8328, 0.4587, -0.0898, 0.3774, 0.5262, 0.6853, 0.3583, 0.8689, 0.804, 1.8729, 1.8717, 1.8712, 1.8708, 1.6533, 1.6533, 1.6533, 1.6533, 1.6533, 1.6533, 1.6516, 1.5471, 1.4039, 1.3412, 1.2901, 1.2598, 1.2335, 1.2153, 1.1839, 1.1674, 0.9752, 0.8602, 0.8202, 0.8027, 0.7202, -0.0082, -0.4547, -0.473, -0.6503, -0.6503, -0.7571, -0.7571, -1.9164, -1.4814, 1.943, 1.943, 1.7191, 1.7191, 1.7191, 1.7191, 1.7185, 1.7185, 1.7185, 1.7185, 1.7184, 1.7184, 1.7184, 1.7184, 1.7183, 1.7183, 1.7182, 1.3477, 1.3171, 1.2876, 1.0387, 1.0056, 0.983, 0.9407, 0.9299, 0.8213, 0.7308, 0.6738, 0.5283, 0.5143, 0.495, 0.0458, 1.9783, 1.9241, 1.8689, 1.8689, 1.8689, 1.8654, 1.865, 1.8646, 1.8645, 1.8645, 1.8645, 1.8643, 1.8639, 1.7037, 1.4311, 1.3335, 1.146, 1.0802, 1.0515, 0.7052, 0.3884, 0.3412, 0.1566, 0.1408, -0.2864, -0.3894, -0.482, -0.482, -0.482, -0.482, -1.0754, -1.0757, -2.23, -1.6167, -1.6624, -0.6326, 2.1315, 1.8946, 1.8946, 1.8946, 1.8946, 1.8946, 1.8946, 1.8946, 1.8214, 1.5111, 1.4487, 1.4393, 1.3816, 1.1644, 1.1412, 1.1187, 0.9618, 0.8834, 0.8659, 0.8316, 0.7267, 0.6502, 0.6486, 0.5446, 0.4068, -0.268, -0.371, -0.4636, -0.4636, -0.4636, -0.5639, -0.565, -0.5656, -0.5657, -0.5659, -1.7194, -1.2891, -0.9871, 2.0207, 2.0207, 2.0207, 2.0207, 2.0207, 2.0207, 2.0207, 1.9314, 1.871, 1.6903, 1.5974, 1.5703, 1.5199, 1.4323, 1.2776, 1.2313, 1.0854, 0.9959, 0.8391, 0.4944, -0.1816, -0.2847, -0.3966, -0.4169, -0.4169, -0.4169, -0.4169, -0.4169, -0.4169, -0.4169, -0.4465, -0.4481, -0.4483, -0.4486, -0.4488, -0.4495, -0.4496, -0.45, -0.4505, -0.4506, -2.1299, -1.9373, -1.1258, -1.652, -0.8496, 2.6962, 2.4815, 2.2391, 2.1607, 1.319, 0.9174, 0.751, 0.745, 0.1981, 0.1056, 0.1056, 0.1056, 0.1056, 0.1056, 0.1056, 0.1056, 0.0659, 0.0659, 0.0659, 0.0659, 0.0659, 0.0659, 0.0659, 0.0585, 0.0585, 0.0585, 0.0583, 0.0583, 0.0583, 0.0583, 0.0368, -0.3504, -0.3609, -0.3773, -0.3801, -0.3566, -0.4001, -1.5876, -1.0466, -0.9034, -1.0824, -1.4127, -1.077, -0.6381, -0.8912, -0.7566, -0.6838, -1.0803, 0.0113, -0.0462, -0.3973, 3.3974, 2.643, 1.7271, 1.4274, 0.4601, 0.2645, 0.2645, 0.2645, 0.2645, 0.2645, 0.2645, 0.2645, 0.2248, 0.2248, 0.2248, 0.2248, 0.2248, 0.2248, 0.2248, 0.2175, 0.2175, 0.2175, 0.2173, 0.2173, 0.2172, 0.2172, 0.2172, 0.2172, 0.2172, 0.2172, 0.105, 0.1009, 0.1006, 0.1005, 0.1001, 0.1001, 0.1191, 0.0988, 0.119, 0.0986, 0.0985, 0.1179, 0.0975, 0.1178, 0.0974, 0.1178, 0.1177, 0.1176, 0.1175, -0.3424, -0.3166, 0.1173, 0.1173, 0.1169, 0.1168, -1.454, -0.3188, -1.4704, -1.237, -1.1126, -1.028, -0.6338, -0.7521, -1.2534, -0.8632, -0.6137, -0.9989, -0.9111]}, \"token.table\": {\"Topic\": [1, 5, 8, 1, 2, 2, 1, 1, 4, 1, 3, 2, 4, 6, 8, 3, 8, 1, 2, 3, 7, 1, 2, 1, 2, 3, 7, 3, 3, 1, 1, 2, 3, 3, 4, 6, 7, 5, 4, 1, 1, 1, 2, 4, 3, 4, 2, 3, 1, 6, 5, 6, 6, 3, 4, 4, 6, 3, 1, 8, 3, 2, 5, 6, 7, 2, 5, 7, 5, 7, 2, 4, 5, 4, 7, 1, 2, 5, 6, 7, 8, 1, 1, 4, 5, 6, 1, 2, 3, 1, 8, 7, 4, 2, 8, 2, 2, 1, 8, 1, 3, 7, 3, 3, 1, 4, 5, 6, 5, 4, 8, 1, 2, 1, 2, 3, 7, 8, 3, 4, 5, 2, 5, 7, 2, 2, 1, 3, 7, 5, 3, 5, 8, 5, 1, 2, 3, 4, 5, 6, 1, 8, 7, 6, 2, 1, 3, 3, 2, 2, 8, 5, 3, 6, 1, 1, 1, 6, 3, 5, 2, 5, 1, 2, 5, 7, 4, 1, 6, 7, 3, 5, 7, 5, 6, 7, 1, 9, 8, 3, 1, 3, 6, 3, 7, 2, 3, 6, 1, 1, 6, 8, 1, 3, 5, 2, 5, 1, 5, 2, 4, 7, 4, 8, 2, 3, 1, 3, 7, 1, 2, 6, 7, 1, 1, 2, 1, 2, 1, 3, 5, 1, 6, 1, 2, 3, 5, 2, 5, 5, 3, 8, 1, 2, 7, 8, 1, 2, 4, 7, 3, 4, 8, 6, 5, 2, 1, 2, 6, 1, 2, 8, 2, 3, 4, 3, 1, 2, 5, 2, 5, 1, 5, 4, 4, 4, 6, 7, 4], \"Freq\": [0.7140894510392568, 0.5407963720353858, 0.5407963720353858, 0.6752392311925395, 0.33761961559626974, 0.9362053722129559, 0.7140894882848111, 0.7140894843342724, 0.7725915141558876, 0.7142856884533068, 0.7617423310082811, 0.24946725656877358, 0.24946725656877358, 0.24946725656877358, 0.8489784953286157, 0.40670472148137643, 0.40670472148137643, 0.14758424965443806, 0.4427527489633141, 0.14758424965443806, 0.14758424965443806, 0.7140895008543517, 0.9362579506629807, 0.23469140761820476, 0.4693828152364095, 0.23469140761820476, 0.23469140761820476, 0.761745772604024, 0.761738843105844, 0.7140894691246398, 0.9299007468129479, 0.729616906117958, 0.7617443751149949, 0.25377152226144595, 0.25377152226144595, 0.25377152226144595, 0.25377152226144595, 0.7836374514420834, 0.7725914765896928, 0.7140894626615555, 0.7140894912998659, 0.35029762088406824, 0.35029762088406824, 0.35029762088406824, 0.49964469068506323, 0.49964469068506323, 0.7296132660722983, 0.7617428317757414, 0.7142918960921889, 0.8099854212942378, 0.5246302216522887, 0.5246302216522887, 0.8097531407793729, 0.7617478380102157, 0.6033136740004713, 0.5044022078311021, 0.8097437681749667, 0.7617369428498469, 0.7142550278686548, 0.8489785522299419, 0.7617399295821579, 0.7295661557534855, 0.7836227079782809, 0.8098019731540744, 0.8159389815515589, 0.37553717658700286, 0.37553717658700286, 0.37553717658700286, 0.39722411116745127, 0.39722411116745127, 0.7294384705186561, 0.5089611868293112, 0.5089611868293112, 0.5223941891783078, 0.5223941891783078, 0.1842815391943472, 0.3685630783886944, 0.1842815391943472, 0.1842815391943472, 0.1842815391943472, 0.1842815391943472, 0.7140894925873872, 0.28887019652846563, 0.43330529479269847, 0.14443509826423281, 0.14443509826423281, 0.7142828304937758, 0.9360248855998834, 0.7617373983213189, 0.6663764284451722, 0.3331882142225861, 0.815938946235857, 0.5040822614793719, 0.5209111092017906, 0.2604555546008953, 0.7295767094533372, 0.7295809994922043, 0.7143505165615678, 0.8489785156248317, 0.7140894564379038, 0.7617114733354423, 0.8159389756660773, 0.7617414808319981, 0.7617413187821757, 0.3527530883298785, 0.17637654416493925, 0.17637654416493925, 0.17637654416493925, 0.7835828520527296, 0.49381368348307225, 0.24690684174153613, 0.7140894553831667, 0.7295548935113291, 0.5449870009690921, 0.27249350048454607, 0.27249350048454607, 0.5559938862581908, 0.5559938862581908, 0.7617308416753158, 0.7725916287880398, 0.7836294079317667, 0.5833087947595309, 0.29165439737976545, 0.29165439737976545, 0.7295681721565629, 0.7295807199678958, 0.7140894967805008, 0.7617114577775514, 0.5416306510674974, 0.7835828780366562, 0.31948677708845696, 0.31948677708845696, 0.31948677708845696, 0.7835828845359737, 0.2933169567059503, 0.14665847835297516, 0.14665847835297516, 0.14665847835297516, 0.14665847835297516, 0.14665847835297516, 0.7140894813421425, 0.8489785163180572, 0.8159389721892424, 0.8097563342476861, 0.7295839097573247, 0.47430889355645195, 0.47430889355645195, 0.7617114613642183, 0.729573556726011, 0.5187160853697586, 0.5187160853697586, 0.783624313486392, 0.7617114592378705, 0.8097813612817949, 0.714329214444339, 0.7144631805199025, 0.7140894997541889, 0.8097206813726526, 0.7617540142193324, 0.5134810678395885, 0.7294383818411727, 0.5134811218409993, 0.4701658662299608, 0.2350829331149804, 0.2350829331149804, 0.2350829331149804, 0.7725914813087372, 0.48946651610614317, 0.48946651610614317, 0.8159389721892424, 0.38390981258131374, 0.38390981258131374, 0.38390981258131374, 0.7836303782610359, 0.8097524459414931, 0.8159389816056496, 0.6843712910203115, 0.34218564551015573, 0.8489785310537737, 0.761711463407331, 0.47432115780112083, 0.47432115780112083, 0.8097552074374914, 0.5172050664635894, 0.5172050664635894, 0.36920110286802676, 0.36920110286802676, 0.36920110286802676, 0.7143415875582508, 0.7140894524873654, 0.8099854553970328, 0.8489785216675219, 0.23838302707472434, 0.47676605414944867, 0.23838302707472434, 0.8177632852836609, 0.7836385798348204, 0.7140894506722775, 0.7836480019026582, 0.2968126235801992, 0.2968126235801992, 0.2968126235801992, 0.773083992516381, 0.8489785827901842, 0.7294386074549227, 0.7617344330215626, 0.7143287775425783, 0.7617439908542999, 0.8159389858474886, 0.6753037334128259, 0.33765186670641295, 0.6420571810118699, 0.32102859050593496, 0.714338561876629, 0.7140895112711181, 0.7295760714160434, 0.7142531970192861, 0.7294384510794002, 0.359766559554677, 0.359766559554677, 0.359766559554677, 0.3040297690391964, 0.6080595380783927, 0.4607812455767867, 0.23039062278839334, 0.23039062278839334, 0.23039062278839334, 0.7295448442792627, 0.7836273540311558, 0.7835828780366562, 0.38553814388631147, 0.38553814388631147, 0.42302119478232925, 0.21151059739116462, 0.21151059739116462, 0.21151059739116462, 0.17333482915595344, 0.17333482915595344, 0.17333482915595344, 0.3466696583119069, 0.304663817810045, 0.304663817810045, 0.304663817810045, 0.8099854697546375, 0.7836342971037636, 0.7294383757435381, 0.3576668157136652, 0.3576668157136652, 0.3576668157136652, 0.9111610802349446, 0.5145032934478206, 0.5145032934478206, 0.7295549549580842, 0.7617411432156073, 0.7725915090548745, 0.4948586590588501, 0.7140894886368484, 0.71220119058603, 0.356100595293015, 0.7294383834366917, 0.7836234310877624, 0.7140894864506929, 0.7836355955257269, 0.5046339109075719, 0.7725914840575164, 0.39310165258964025, 0.39310165258964025, 0.39310165258964025, 0.5045428937905606], \"Term\": [\"abnormal\", \"actually\", \"actually\", \"alone\", \"alone\", \"always\", \"answer\", \"antibiotic\", \"anywhere\", \"around\", \"ask\", \"attack\", \"attack\", \"attack\", \"audio\", \"bad\", \"bad\", \"band\", \"band\", \"band\", \"band\", \"best\", \"bile\", \"bit\", \"bit\", \"bit\", \"bit\", \"bout\", \"bowel\", \"call\", \"cause\", \"certainly\", \"change\", \"come\", \"come\", \"come\", \"come\", \"comfortable\", \"completely\", \"contraction\", \"control\", \"could\", \"could\", \"could\", \"couple\", \"couple\", \"course\", \"current\", \"dangerous\", \"date\", \"day\", \"day\", \"difficulty\", \"discomfort\", \"do\", \"doctor\", \"emptive\", \"end\", \"erosion\", \"ever\", \"extra\", \"fairly\", \"feel\", \"feeling\", \"filling\", \"fine\", \"fine\", \"fine\", \"first\", \"first\", \"forever\", \"gallbladder\", \"gallbladder\", \"gallstone\", \"gallstone\", \"get\", \"get\", \"get\", \"get\", \"get\", \"get\", \"give\", \"go\", \"go\", \"go\", \"go\", \"going\", \"guide\", \"hand\", \"happen\", \"happen\", \"honestly\", \"hour\", \"inaudible\", \"inaudible\", \"increase\", \"infect\", \"inflammation\", \"interference\", \"intermittent\", \"invite\", \"irritation\", \"jaundiced\", \"keyhole\", \"know\", \"know\", \"know\", \"know\", \"laproscopic\", \"last\", \"last\", \"leaflet\", \"leakage\", \"leave\", \"leave\", \"leave\", \"letter\", \"letter\", \"liable\", \"line\", \"literally\", \"little\", \"little\", \"little\", \"liver\", \"load\", \"long\", \"longer\", \"look\", \"lot\", \"make\", \"make\", \"make\", \"may\", \"mean\", \"mean\", \"mean\", \"mean\", \"mean\", \"mean\", \"medication\", \"meet\", \"mention\", \"mild\", \"minimise\", \"moment\", \"moment\", \"month\", \"move\", \"much\", \"much\", \"must\", \"name\", \"never\", \"normal\", \"obviously\", \"oesophagu\", \"often\", \"one\", \"operation\", \"organise\", \"overspeake\", \"pain\", \"pain\", \"pain\", \"pain\", \"painful\", \"people\", \"people\", \"point\", \"port\", \"port\", \"port\", \"position\", \"pre\", \"presenting\", \"probably\", \"probably\", \"prompt\", \"put\", \"question\", \"question\", \"range\", \"rather\", \"rather\", \"really\", \"really\", \"really\", \"redness\", \"reflux\", \"remind\", \"result\", \"right\", \"right\", \"right\", \"risk\", \"round\", \"safe\", \"sat\", \"say\", \"say\", \"say\", \"scan\", \"sick\", \"sickness\", \"side\", \"sign\", \"similar\", \"slip\", \"sometimes\", \"sometimes\", \"sort\", \"sort\", \"space\", \"spasm\", \"spillage\", \"spot\", \"stay\", \"stone\", \"stone\", \"stone\", \"symptom\", \"symptom\", \"take\", \"take\", \"take\", \"take\", \"talk\", \"tell\", \"term\", \"thank\", \"thank\", \"thing\", \"thing\", \"thing\", \"thing\", \"think\", \"think\", \"think\", \"think\", \"time\", \"time\", \"time\", \"today\", \"toilet\", \"treat\", \"trial\", \"trial\", \"trial\", \"trouble\", \"try\", \"try\", \"type\", \"urine\", \"usually\", \"wait\", \"waiting\", \"want\", \"want\", \"wary\", \"watch\", \"watchful\", \"way\", \"well\", \"wipe\", \"would\", \"would\", \"would\", \"year\"]}, \"R\": 30, \"lambda.step\": 0.01, \"plot.opts\": {\"xlab\": \"PC1\", \"ylab\": \"PC2\"}, \"topic.order\": [10, 6, 9, 7, 4, 8, 5, 2, 1, 3]};\n",
              "\n",
              "function LDAvis_load_lib(url, callback){\n",
              "  var s = document.createElement('script');\n",
              "  s.src = url;\n",
              "  s.async = true;\n",
              "  s.onreadystatechange = s.onload = callback;\n",
              "  s.onerror = function(){console.warn(\"failed to load library \" + url);};\n",
              "  document.getElementsByTagName(\"head\")[0].appendChild(s);\n",
              "}\n",
              "\n",
              "if(typeof(LDAvis) !== \"undefined\"){\n",
              "   // already loaded: just create the visualization\n",
              "   !function(LDAvis){\n",
              "       new LDAvis(\"#\" + \"ldavis_el671397406414864322235065245\", ldavis_el671397406414864322235065245_data);\n",
              "   }(LDAvis);\n",
              "}else if(typeof define === \"function\" && define.amd){\n",
              "   // require.js is available: use it to load d3/LDAvis\n",
              "   require.config({paths: {d3: \"https://cdnjs.cloudflare.com/ajax/libs/d3/3.5.5/d3.min\"}});\n",
              "   require([\"d3\"], function(d3){\n",
              "      window.d3 = d3;\n",
              "      LDAvis_load_lib(\"https://cdn.rawgit.com/bmabey/pyLDAvis/files/ldavis.v1.0.0.js\", function(){\n",
              "        new LDAvis(\"#\" + \"ldavis_el671397406414864322235065245\", ldavis_el671397406414864322235065245_data);\n",
              "      });\n",
              "    });\n",
              "}else{\n",
              "    // require.js not available: dynamically load d3 & LDAvis\n",
              "    LDAvis_load_lib(\"https://cdnjs.cloudflare.com/ajax/libs/d3/3.5.5/d3.min.js\", function(){\n",
              "         LDAvis_load_lib(\"https://cdn.rawgit.com/bmabey/pyLDAvis/files/ldavis.v1.0.0.js\", function(){\n",
              "                 new LDAvis(\"#\" + \"ldavis_el671397406414864322235065245\", ldavis_el671397406414864322235065245_data);\n",
              "            })\n",
              "         });\n",
              "}\n",
              "</script>"
            ],
            "text/plain": [
              "<IPython.core.display.HTML object>"
            ]
          },
          "metadata": {
            "tags": []
          },
          "execution_count": 15
        }
      ]
    }
  ]
}