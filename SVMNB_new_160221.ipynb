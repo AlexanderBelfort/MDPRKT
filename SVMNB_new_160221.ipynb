{
  "nbformat": 4,
  "nbformat_minor": 0,
  "metadata": {
    "colab": {
      "name": "SVMNB.ipynb",
      "provenance": [],
      "collapsed_sections": [],
      "authorship_tag": "ABX9TyPOVJoFHkw/1Cjbb7F6DJud",
      "include_colab_link": true
    },
    "kernelspec": {
      "name": "python3",
      "display_name": "Python 3"
    }
  },
  "cells": [
    {
      "cell_type": "markdown",
      "metadata": {
        "id": "view-in-github",
        "colab_type": "text"
      },
      "source": [
        "<a href=\"https://colab.research.google.com/github/AlexanderBelfort/MDPRKT/blob/main/SVMNB_new_160221.ipynb\" target=\"_parent\"><img src=\"https://colab.research.google.com/assets/colab-badge.svg\" alt=\"Open In Colab\"/></a>"
      ]
    },
    {
      "cell_type": "code",
      "metadata": {
        "id": "vVm4WRth9enS",
        "colab": {
          "base_uri": "https://localhost:8080/",
          "height": 204
        },
        "outputId": "8ccb2000-c47a-4a17-fff1-49a55bd946db"
      },
      "source": [
        "import pandas as pd\r\n",
        "import numpy as np\r\n",
        "import nltk\r\n",
        "from nltk.tokenize import word_tokenize\r\n",
        "from nltk import pos_tag\r\n",
        "from nltk.corpus import stopwords\r\n",
        "from nltk.stem import WordNetLemmatizer\r\n",
        "from sklearn.preprocessing import LabelEncoder\r\n",
        "from collections import defaultdict\r\n",
        "from nltk.corpus import wordnet as wn\r\n",
        "from sklearn.feature_extraction.text import TfidfVectorizer\r\n",
        "from sklearn import model_selection, naive_bayes, svm\r\n",
        "from sklearn.metrics import accuracy_score\r\n",
        "import pickle\r\n",
        "\r\n",
        "# Set Random seed\r\n",
        "np.random.seed(500)\r\n",
        "\r\n",
        "# Add the Data using pandas\r\n",
        "\r\n",
        "Corpus = pd.read_csv(r\"symptom_Description.csv\", encoding='latin-1')\r\n",
        "#header=None, error_bad_lines=False)\r\n",
        "'''col_name = Corpus.columns[0]\r\n",
        "Corpus=Corpus.rename(columns = {col_name:'text'})\r\n",
        "\r\n",
        "col_name2 = Corpus.columns[1]\r\n",
        "Corpus=Corpus.rename(columns = {col_name2:'label'})\r\n",
        "'''\r\n",
        "Corpus.head()"
      ],
      "execution_count": null,
      "outputs": [
        {
          "output_type": "execute_result",
          "data": {
            "text/html": [
              "<div>\n",
              "<style scoped>\n",
              "    .dataframe tbody tr th:only-of-type {\n",
              "        vertical-align: middle;\n",
              "    }\n",
              "\n",
              "    .dataframe tbody tr th {\n",
              "        vertical-align: top;\n",
              "    }\n",
              "\n",
              "    .dataframe thead th {\n",
              "        text-align: right;\n",
              "    }\n",
              "</style>\n",
              "<table border=\"1\" class=\"dataframe\">\n",
              "  <thead>\n",
              "    <tr style=\"text-align: right;\">\n",
              "      <th></th>\n",
              "      <th>Disease</th>\n",
              "      <th>Description</th>\n",
              "    </tr>\n",
              "  </thead>\n",
              "  <tbody>\n",
              "    <tr>\n",
              "      <th>0</th>\n",
              "      <td>Drug Reaction</td>\n",
              "      <td>An adverse drug reaction (ADR) is an injury ca...</td>\n",
              "    </tr>\n",
              "    <tr>\n",
              "      <th>1</th>\n",
              "      <td>Malaria</td>\n",
              "      <td>An infectious disease caused by protozoan para...</td>\n",
              "    </tr>\n",
              "    <tr>\n",
              "      <th>2</th>\n",
              "      <td>Allergy</td>\n",
              "      <td>An allergy is an immune system response to a f...</td>\n",
              "    </tr>\n",
              "    <tr>\n",
              "      <th>3</th>\n",
              "      <td>Hypothyroidism</td>\n",
              "      <td>Hypothyroidism, also called underactive thyroi...</td>\n",
              "    </tr>\n",
              "    <tr>\n",
              "      <th>4</th>\n",
              "      <td>Psoriasis</td>\n",
              "      <td>Psoriasis is a common skin disorder that forms...</td>\n",
              "    </tr>\n",
              "  </tbody>\n",
              "</table>\n",
              "</div>"
            ],
            "text/plain": [
              "          Disease                                        Description\n",
              "0   Drug Reaction  An adverse drug reaction (ADR) is an injury ca...\n",
              "1         Malaria  An infectious disease caused by protozoan para...\n",
              "2         Allergy  An allergy is an immune system response to a f...\n",
              "3  Hypothyroidism  Hypothyroidism, also called underactive thyroi...\n",
              "4       Psoriasis  Psoriasis is a common skin disorder that forms..."
            ]
          },
          "metadata": {
            "tags": []
          },
          "execution_count": 16
        }
      ]
    },
    {
      "cell_type": "code",
      "metadata": {
        "id": "3MTB46fr_QJG",
        "colab": {
          "base_uri": "https://localhost:8080/",
          "height": 595
        },
        "outputId": "0ee375f4-f4b8-4e74-a47a-bab06c53ff16"
      },
      "source": [
        "nltk.download('wordnet')\r\n",
        "nltk.download('punkt')\r\n",
        "nltk.download('averaged_perceptron_tagger')\r\n",
        "nltk.download('stopwords')\r\n",
        "\r\n",
        "# Step - 1: Data Pre-processing - This will help in getting better results through the classification algorithms\r\n",
        "\r\n",
        "# Step - 1a : Remove blank rows if any.\r\n",
        "Corpus['Description'].dropna(inplace=True)\r\n",
        "\r\n",
        "# WordNetLemmatizer requires Pos tags to understand if the word is noun or verb or adjective etc. By default it is set to Noun\r\n",
        "tag_map = defaultdict(lambda: wn.NOUN)\r\n",
        "tag_map['J'] = wn.ADJ\r\n",
        "tag_map['V'] = wn.VERB\r\n",
        "tag_map['R'] = wn.ADV\r\n",
        "\r\n",
        "\r\n",
        "def text_preprocessing(text):\r\n",
        "    # Step - 1b : Change all the text to lower case. This is required as python interprets 'dog' and 'DOG' differently\r\n",
        "    text = text.lower()\r\n",
        "\r\n",
        "    # Step - 1c : Tokenization : In this each entry in the corpus will be broken into set of words\r\n",
        "    text_words_list = word_tokenize(text)\r\n",
        "\r\n",
        "    # Step - 1d : Remove Stop words, Non-Numeric and perfom Word Stemming/Lemmenting.\r\n",
        "    # Declaring Empty List to store the words that follow the rules for this step\r\n",
        "    Final_words = []\r\n",
        "    # Initializing WordNetLemmatizer()\r\n",
        "    word_Lemmatized = WordNetLemmatizer()\r\n",
        "    # pos_tag function below will provide the 'tag' i.e if the word is Noun(N) or Verb(V) or something else.\r\n",
        "    for word, tag in pos_tag(text_words_list):\r\n",
        "        # Below condition is to check for Stop words and consider only alphabets\r\n",
        "        if word not in stopwords.words('english') and word.isalpha():\r\n",
        "            word_Final = word_Lemmatized.lemmatize(word, tag_map[tag[0]])\r\n",
        "            Final_words.append(word_Final)\r\n",
        "        # The final processed set of words for each iteration will be stored in 'text_final'\r\n",
        "    return str(Final_words)\r\n",
        "\r\n",
        "\r\n",
        "Corpus['text_final'] = Corpus['Description'].map(text_preprocessing)\r\n",
        "\r\n",
        "# Step - 2: Split the model into Train and Test Data set\r\n",
        "Train_X, Test_X, Train_Y, Test_Y = model_selection.train_test_split(Corpus['text_final'], Corpus['Disease'],\r\n",
        "                                                                    test_size=0.3)\r\n",
        "\r\n",
        "# Step - 3: Label encode the target variable  - This is done to transform Categorical data of string type in the data set into numerical values\r\n",
        "Encoder = LabelEncoder()\r\n",
        "Encoder.fit(Train_Y)\r\n",
        "Train_Y = Encoder.transform(Train_Y)\r\n",
        "Test_Y = Encoder.transform(Test_Y)\r\n",
        "\r\n",
        "# Step - 4: Vectorize the words by using TF-IDF Vectorizer - This is done to find how important a word in document is in comaprison to the corpus\r\n",
        "Tfidf_vect = TfidfVectorizer(max_features=5000)\r\n",
        "Tfidf_vect.fit(Corpus['text_final'])\r\n",
        "\r\n",
        "Train_X_Tfidf = Tfidf_vect.transform(Train_X)\r\n",
        "Test_X_Tfidf = Tfidf_vect.transform(Test_X)\r\n",
        "\r\n",
        "# Step - 5: Now we can run different algorithms to classify out data check for accuracy\r\n",
        "\r\n",
        "# Classifier - Algorithm - Naive Bayes\r\n",
        "# fit the training dataset on the classifier\r\n",
        "Naive = naive_bayes.MultinomialNB()\r\n",
        "Naive.fit(Train_X_Tfidf, Train_Y)\r\n",
        "\r\n",
        "# predict the labels on validation dataset\r\n",
        "predictions_NB = Naive.predict(Test_X_Tfidf)\r\n",
        "\r\n",
        "# Use accuracy_score function to get the accuracy\r\n",
        "print(\"Naive Bayes Accuracy Score -> \", accuracy_score(predictions_NB, Test_Y) * 100)\r\n",
        "\r\n",
        "# Classifier - Algorithm - SVM\r\n",
        "# fit the training dataset on the classifier\r\n",
        "SVM = svm.SVC(C=1.0, kernel='linear', degree=3, gamma='auto')\r\n",
        "SVM.fit(Train_X_Tfidf, Train_Y)\r\n",
        "\r\n",
        "# predict the labels on validation dataset\r\n",
        "predictions_SVM = SVM.predict(Test_X_Tfidf)\r\n",
        "\r\n",
        "# Use accuracy_score function to get the accuracy\r\n",
        "print(\"SVM Accuracy Score -> \", accuracy_score(predictions_SVM, Test_Y) * 100)\r\n",
        "\r\n",
        "\r\n",
        "# Saving Encdoer, TFIDF Vectorizer and the trained model for future infrerencing/prediction\r\n",
        "\r\n",
        "# saving encoder to disk\r\n",
        "filename = 'labelencoder_fitted.pkl'\r\n",
        "pickle.dump(Encoder, open(filename, 'wb'))\r\n",
        "\r\n",
        "# saving TFIDF Vectorizer to disk\r\n",
        "filename = 'Tfidf_vect_fitted.pkl'\r\n",
        "pickle.dump(Tfidf_vect, open(filename, 'wb'))\r\n",
        "\r\n",
        "# saving the both models to disk\r\n",
        "filename = 'svm_trained_model.sav'\r\n",
        "pickle.dump(SVM, open(filename, 'wb'))\r\n",
        "\r\n",
        "filename = 'nb_trained_model.sav'\r\n",
        "pickle.dump(Naive, open(filename, 'wb'))\r\n",
        "\r\n",
        "print(\"Files saved to disk! Proceed to inference.py\")"
      ],
      "execution_count": null,
      "outputs": [
        {
          "output_type": "stream",
          "text": [
            "[nltk_data] Downloading package wordnet to /root/nltk_data...\n",
            "[nltk_data]   Package wordnet is already up-to-date!\n",
            "[nltk_data] Downloading package punkt to /root/nltk_data...\n",
            "[nltk_data]   Package punkt is already up-to-date!\n",
            "[nltk_data] Downloading package averaged_perceptron_tagger to\n",
            "[nltk_data]     /root/nltk_data...\n",
            "[nltk_data]   Package averaged_perceptron_tagger is already up-to-\n",
            "[nltk_data]       date!\n",
            "[nltk_data] Downloading package stopwords to /root/nltk_data...\n",
            "[nltk_data]   Package stopwords is already up-to-date!\n"
          ],
          "name": "stdout"
        },
        {
          "output_type": "error",
          "ename": "ValueError",
          "evalue": "ignored",
          "traceback": [
            "\u001b[0;31m---------------------------------------------------------------------------\u001b[0m",
            "\u001b[0;31mKeyError\u001b[0m                                  Traceback (most recent call last)",
            "\u001b[0;32m/usr/local/lib/python3.6/dist-packages/sklearn/preprocessing/_label.py\u001b[0m in \u001b[0;36m_encode_python\u001b[0;34m(values, uniques, encode)\u001b[0m\n\u001b[1;32m     64\u001b[0m         \u001b[0;32mtry\u001b[0m\u001b[0;34m:\u001b[0m\u001b[0;34m\u001b[0m\u001b[0;34m\u001b[0m\u001b[0m\n\u001b[0;32m---> 65\u001b[0;31m             \u001b[0mencoded\u001b[0m \u001b[0;34m=\u001b[0m \u001b[0mnp\u001b[0m\u001b[0;34m.\u001b[0m\u001b[0marray\u001b[0m\u001b[0;34m(\u001b[0m\u001b[0;34m[\u001b[0m\u001b[0mtable\u001b[0m\u001b[0;34m[\u001b[0m\u001b[0mv\u001b[0m\u001b[0;34m]\u001b[0m \u001b[0;32mfor\u001b[0m \u001b[0mv\u001b[0m \u001b[0;32min\u001b[0m \u001b[0mvalues\u001b[0m\u001b[0;34m]\u001b[0m\u001b[0;34m)\u001b[0m\u001b[0;34m\u001b[0m\u001b[0;34m\u001b[0m\u001b[0m\n\u001b[0m\u001b[1;32m     66\u001b[0m         \u001b[0;32mexcept\u001b[0m \u001b[0mKeyError\u001b[0m \u001b[0;32mas\u001b[0m \u001b[0me\u001b[0m\u001b[0;34m:\u001b[0m\u001b[0;34m\u001b[0m\u001b[0;34m\u001b[0m\u001b[0m\n",
            "\u001b[0;32m/usr/local/lib/python3.6/dist-packages/sklearn/preprocessing/_label.py\u001b[0m in \u001b[0;36m<listcomp>\u001b[0;34m(.0)\u001b[0m\n\u001b[1;32m     64\u001b[0m         \u001b[0;32mtry\u001b[0m\u001b[0;34m:\u001b[0m\u001b[0;34m\u001b[0m\u001b[0;34m\u001b[0m\u001b[0m\n\u001b[0;32m---> 65\u001b[0;31m             \u001b[0mencoded\u001b[0m \u001b[0;34m=\u001b[0m \u001b[0mnp\u001b[0m\u001b[0;34m.\u001b[0m\u001b[0marray\u001b[0m\u001b[0;34m(\u001b[0m\u001b[0;34m[\u001b[0m\u001b[0mtable\u001b[0m\u001b[0;34m[\u001b[0m\u001b[0mv\u001b[0m\u001b[0;34m]\u001b[0m \u001b[0;32mfor\u001b[0m \u001b[0mv\u001b[0m \u001b[0;32min\u001b[0m \u001b[0mvalues\u001b[0m\u001b[0;34m]\u001b[0m\u001b[0;34m)\u001b[0m\u001b[0;34m\u001b[0m\u001b[0;34m\u001b[0m\u001b[0m\n\u001b[0m\u001b[1;32m     66\u001b[0m         \u001b[0;32mexcept\u001b[0m \u001b[0mKeyError\u001b[0m \u001b[0;32mas\u001b[0m \u001b[0me\u001b[0m\u001b[0;34m:\u001b[0m\u001b[0;34m\u001b[0m\u001b[0;34m\u001b[0m\u001b[0m\n",
            "\u001b[0;31mKeyError\u001b[0m: 'Typhoid'",
            "\nDuring handling of the above exception, another exception occurred:\n",
            "\u001b[0;31mValueError\u001b[0m                                Traceback (most recent call last)",
            "\u001b[0;32m<ipython-input-17-267ff48ef3ed>\u001b[0m in \u001b[0;36m<module>\u001b[0;34m()\u001b[0m\n\u001b[1;32m     48\u001b[0m \u001b[0mEncoder\u001b[0m\u001b[0;34m.\u001b[0m\u001b[0mfit\u001b[0m\u001b[0;34m(\u001b[0m\u001b[0mTrain_Y\u001b[0m\u001b[0;34m)\u001b[0m\u001b[0;34m\u001b[0m\u001b[0;34m\u001b[0m\u001b[0m\n\u001b[1;32m     49\u001b[0m \u001b[0mTrain_Y\u001b[0m \u001b[0;34m=\u001b[0m \u001b[0mEncoder\u001b[0m\u001b[0;34m.\u001b[0m\u001b[0mtransform\u001b[0m\u001b[0;34m(\u001b[0m\u001b[0mTrain_Y\u001b[0m\u001b[0;34m)\u001b[0m\u001b[0;34m\u001b[0m\u001b[0;34m\u001b[0m\u001b[0m\n\u001b[0;32m---> 50\u001b[0;31m \u001b[0mTest_Y\u001b[0m \u001b[0;34m=\u001b[0m \u001b[0mEncoder\u001b[0m\u001b[0;34m.\u001b[0m\u001b[0mtransform\u001b[0m\u001b[0;34m(\u001b[0m\u001b[0mTest_Y\u001b[0m\u001b[0;34m)\u001b[0m\u001b[0;34m\u001b[0m\u001b[0;34m\u001b[0m\u001b[0m\n\u001b[0m\u001b[1;32m     51\u001b[0m \u001b[0;34m\u001b[0m\u001b[0m\n\u001b[1;32m     52\u001b[0m \u001b[0;31m# Step - 4: Vectorize the words by using TF-IDF Vectorizer - This is done to find how important a word in document is in comaprison to the corpus\u001b[0m\u001b[0;34m\u001b[0m\u001b[0;34m\u001b[0m\u001b[0;34m\u001b[0m\u001b[0m\n",
            "\u001b[0;32m/usr/local/lib/python3.6/dist-packages/sklearn/preprocessing/_label.py\u001b[0m in \u001b[0;36mtransform\u001b[0;34m(self, y)\u001b[0m\n\u001b[1;32m    271\u001b[0m             \u001b[0;32mreturn\u001b[0m \u001b[0mnp\u001b[0m\u001b[0;34m.\u001b[0m\u001b[0marray\u001b[0m\u001b[0;34m(\u001b[0m\u001b[0;34m[\u001b[0m\u001b[0;34m]\u001b[0m\u001b[0;34m)\u001b[0m\u001b[0;34m\u001b[0m\u001b[0;34m\u001b[0m\u001b[0m\n\u001b[1;32m    272\u001b[0m \u001b[0;34m\u001b[0m\u001b[0m\n\u001b[0;32m--> 273\u001b[0;31m         \u001b[0m_\u001b[0m\u001b[0;34m,\u001b[0m \u001b[0my\u001b[0m \u001b[0;34m=\u001b[0m \u001b[0m_encode\u001b[0m\u001b[0;34m(\u001b[0m\u001b[0my\u001b[0m\u001b[0;34m,\u001b[0m \u001b[0muniques\u001b[0m\u001b[0;34m=\u001b[0m\u001b[0mself\u001b[0m\u001b[0;34m.\u001b[0m\u001b[0mclasses_\u001b[0m\u001b[0;34m,\u001b[0m \u001b[0mencode\u001b[0m\u001b[0;34m=\u001b[0m\u001b[0;32mTrue\u001b[0m\u001b[0;34m)\u001b[0m\u001b[0;34m\u001b[0m\u001b[0;34m\u001b[0m\u001b[0m\n\u001b[0m\u001b[1;32m    274\u001b[0m         \u001b[0;32mreturn\u001b[0m \u001b[0my\u001b[0m\u001b[0;34m\u001b[0m\u001b[0;34m\u001b[0m\u001b[0m\n\u001b[1;32m    275\u001b[0m \u001b[0;34m\u001b[0m\u001b[0m\n",
            "\u001b[0;32m/usr/local/lib/python3.6/dist-packages/sklearn/preprocessing/_label.py\u001b[0m in \u001b[0;36m_encode\u001b[0;34m(values, uniques, encode, check_unknown)\u001b[0m\n\u001b[1;32m    110\u001b[0m     \u001b[0;32mif\u001b[0m \u001b[0mvalues\u001b[0m\u001b[0;34m.\u001b[0m\u001b[0mdtype\u001b[0m \u001b[0;34m==\u001b[0m \u001b[0mobject\u001b[0m\u001b[0;34m:\u001b[0m\u001b[0;34m\u001b[0m\u001b[0;34m\u001b[0m\u001b[0m\n\u001b[1;32m    111\u001b[0m         \u001b[0;32mtry\u001b[0m\u001b[0;34m:\u001b[0m\u001b[0;34m\u001b[0m\u001b[0;34m\u001b[0m\u001b[0m\n\u001b[0;32m--> 112\u001b[0;31m             \u001b[0mres\u001b[0m \u001b[0;34m=\u001b[0m \u001b[0m_encode_python\u001b[0m\u001b[0;34m(\u001b[0m\u001b[0mvalues\u001b[0m\u001b[0;34m,\u001b[0m \u001b[0muniques\u001b[0m\u001b[0;34m,\u001b[0m \u001b[0mencode\u001b[0m\u001b[0;34m)\u001b[0m\u001b[0;34m\u001b[0m\u001b[0;34m\u001b[0m\u001b[0m\n\u001b[0m\u001b[1;32m    113\u001b[0m         \u001b[0;32mexcept\u001b[0m \u001b[0mTypeError\u001b[0m\u001b[0;34m:\u001b[0m\u001b[0;34m\u001b[0m\u001b[0;34m\u001b[0m\u001b[0m\n\u001b[1;32m    114\u001b[0m             \u001b[0;32mraise\u001b[0m \u001b[0mTypeError\u001b[0m\u001b[0;34m(\u001b[0m\u001b[0;34m\"argument must be a string or number\"\u001b[0m\u001b[0;34m)\u001b[0m\u001b[0;34m\u001b[0m\u001b[0;34m\u001b[0m\u001b[0m\n",
            "\u001b[0;32m/usr/local/lib/python3.6/dist-packages/sklearn/preprocessing/_label.py\u001b[0m in \u001b[0;36m_encode_python\u001b[0;34m(values, uniques, encode)\u001b[0m\n\u001b[1;32m     66\u001b[0m         \u001b[0;32mexcept\u001b[0m \u001b[0mKeyError\u001b[0m \u001b[0;32mas\u001b[0m \u001b[0me\u001b[0m\u001b[0;34m:\u001b[0m\u001b[0;34m\u001b[0m\u001b[0;34m\u001b[0m\u001b[0m\n\u001b[1;32m     67\u001b[0m             raise ValueError(\"y contains previously unseen labels: %s\"\n\u001b[0;32m---> 68\u001b[0;31m                              % str(e))\n\u001b[0m\u001b[1;32m     69\u001b[0m         \u001b[0;32mreturn\u001b[0m \u001b[0muniques\u001b[0m\u001b[0;34m,\u001b[0m \u001b[0mencoded\u001b[0m\u001b[0;34m\u001b[0m\u001b[0;34m\u001b[0m\u001b[0m\n\u001b[1;32m     70\u001b[0m     \u001b[0;32melse\u001b[0m\u001b[0;34m:\u001b[0m\u001b[0;34m\u001b[0m\u001b[0;34m\u001b[0m\u001b[0m\n",
            "\u001b[0;31mValueError\u001b[0m: y contains previously unseen labels: 'Typhoid'"
          ]
        }
      ]
    },
    {
      "cell_type": "code",
      "metadata": {
        "colab": {
          "base_uri": "https://localhost:8080/"
        },
        "id": "xwzuyayR4LPA",
        "outputId": "79e6afef-d08c-43f6-86b9-cf5414173050"
      },
      "source": [
        "import pandas as pd\r\n",
        "import numpy as np\r\n",
        "from nltk.tokenize import word_tokenize\r\n",
        "from nltk import pos_tag\r\n",
        "from nltk.corpus import stopwords\r\n",
        "from nltk.stem import WordNetLemmatizer\r\n",
        "from sklearn.preprocessing import LabelEncoder\r\n",
        "from collections import defaultdict\r\n",
        "from nltk.corpus import wordnet as wn\r\n",
        "from sklearn.feature_extraction.text import TfidfVectorizer\r\n",
        "from sklearn import model_selection, naive_bayes, svm\r\n",
        "import pickle\r\n",
        "import ast\r\n",
        "\r\n",
        "# WordNetLemmatizer requires Pos tags to understand if the word is noun or verb or adjective etc. By default it is set to Noun\r\n",
        "tag_map = defaultdict(lambda: wn.NOUN)\r\n",
        "tag_map['J'] = wn.ADJ\r\n",
        "tag_map['V'] = wn.VERB\r\n",
        "tag_map['R'] = wn.ADV\r\n",
        "\r\n",
        "\r\n",
        "def text_preprocessing(text):\r\n",
        "    # Step - 1b : Change all the text to lower case. This is required as python interprets 'dog' and 'DOG' differently\r\n",
        "    text = text.lower()\r\n",
        "\r\n",
        "    # Step - 1c : Tokenization : In this each entry in the corpus will be broken into set of words\r\n",
        "    text_words_list = word_tokenize(text)\r\n",
        "\r\n",
        "    # Step - 1d : Remove Stop words, Non-Numeric and perfom Word Stemming/Lemmenting.\r\n",
        "    # Declaring Empty List to store the words that follow the rules for this step\r\n",
        "    Final_words = []\r\n",
        "    # Initializing WordNetLemmatizer()\r\n",
        "    word_Lemmatized = WordNetLemmatizer()\r\n",
        "    # pos_tag function below will provide the 'tag' i.e if the word is Noun(N) or Verb(V) or something else.\r\n",
        "    for word, tag in pos_tag(text_words_list):\r\n",
        "        # Below condition is to check for Stop words and consider only alphabets\r\n",
        "        if word not in stopwords.words('english') and word.isalpha():\r\n",
        "            word_Final = word_Lemmatized.lemmatize(word, tag_map[tag[0]])\r\n",
        "            Final_words.append(word_Final)\r\n",
        "        # The final processed set of words for each iteration will be stored in 'text_final'\r\n",
        "    return str(Final_words)\r\n",
        "\r\n",
        "\r\n",
        "# Loading Label encoder\r\n",
        "labelencode = pickle.load(open('labelencoder_fitted.pkl', 'rb'))\r\n",
        "\r\n",
        "# Loading TF-IDF Vectorizer\r\n",
        "Tfidf_vect = pickle.load(open('Tfidf_vect_fitted.pkl', 'rb'))\r\n",
        "\r\n",
        "# Loading models\r\n",
        "SVM = pickle.load(open('svm_trained_model.sav', 'rb'))\r\n",
        "Naive = pickle.load(open('nb_trained_model.sav', 'rb'))\r\n",
        "\r\n",
        "\r\n",
        "# Inference\r\n",
        "sample_text = \"Do I need to have my gallbladder removed?\"\r\n",
        "sample_text_processed = text_preprocessing(sample_text)\r\n",
        "sample_text_processed_vectorized = Tfidf_vect.transform([sample_text_processed])\r\n",
        "\r\n",
        "prediction_SVM = SVM.predict(sample_text_processed_vectorized)\r\n",
        "prediction_Naive = Naive.predict(sample_text_processed_vectorized)\r\n",
        "\r\n",
        "print(\"Prediction from SVM Model:\", labelencode.inverse_transform(prediction_SVM)[0])\r\n",
        "print(\"Prediction from NB Model:\", labelencode.inverse_transform(prediction_Naive)[0])"
      ],
      "execution_count": null,
      "outputs": [
        {
          "output_type": "stream",
          "text": [
            "Prediction from SVM Model: __GALLSTONES__\n",
            "Prediction from NB Model: __GALLSTONES__\n"
          ],
          "name": "stdout"
        }
      ]
    },
    {
      "cell_type": "code",
      "metadata": {
        "colab": {
          "base_uri": "https://localhost:8080/"
        },
        "id": "b9utgTZy4eTm",
        "outputId": "a2b4762a-b2b5-4059-bc44-65689f9cdde7"
      },
      "source": [
        "# Inference\r\n",
        "sample_text = \"How do you treat cancer?\"\r\n",
        "sample_text_processed = text_preprocessing(sample_text)\r\n",
        "sample_text_processed_vectorized = Tfidf_vect.transform([sample_text_processed])\r\n",
        "\r\n",
        "prediction_SVM = SVM.predict(sample_text_processed_vectorized)\r\n",
        "prediction_Naive = Naive.predict(sample_text_processed_vectorized)\r\n",
        "\r\n",
        "print(\"Prediction from SVM Model:\", labelencode.inverse_transform(prediction_SVM)[0])\r\n",
        "print(\"Prediction from NB Model:\", labelencode.inverse_transform(prediction_Naive)[0])"
      ],
      "execution_count": null,
      "outputs": [
        {
          "output_type": "stream",
          "text": [
            "Prediction from SVM Model: __OTHER_DISEASES__\n",
            "Prediction from NB Model: __OTHER_DISEASES__\n"
          ],
          "name": "stdout"
        }
      ]
    },
    {
      "cell_type": "code",
      "metadata": {
        "colab": {
          "base_uri": "https://localhost:8080/"
        },
        "id": "hcakXme94lFO",
        "outputId": "184ee744-dbb7-492c-e106-3b1722ee5ec0"
      },
      "source": [
        "# Inference\r\n",
        "sample_text = \"I have bile problems.\"\r\n",
        "sample_text_processed = text_preprocessing(sample_text)\r\n",
        "sample_text_processed_vectorized = Tfidf_vect.transform([sample_text_processed])\r\n",
        "\r\n",
        "prediction_SVM = SVM.predict(sample_text_processed_vectorized)\r\n",
        "prediction_Naive = Naive.predict(sample_text_processed_vectorized)\r\n",
        "\r\n",
        "print(\"Prediction from SVM Model:\", labelencode.inverse_transform(prediction_SVM)[0])\r\n",
        "print(\"Prediction from NB Model:\", labelencode.inverse_transform(prediction_Naive)[0])"
      ],
      "execution_count": null,
      "outputs": [
        {
          "output_type": "stream",
          "text": [
            "Prediction from SVM Model: __GALLSTONES__\n",
            "Prediction from NB Model: __GALLSTONES__\n"
          ],
          "name": "stdout"
        }
      ]
    },
    {
      "cell_type": "code",
      "metadata": {
        "colab": {
          "base_uri": "https://localhost:8080/"
        },
        "id": "EvMREeES94oH",
        "outputId": "d5793017-14e0-4c8d-f906-6de8ecf7a1ab"
      },
      "source": [
        "# Inference\r\n",
        "sample_text = \"I feel like I have dementia.\"\r\n",
        "sample_text_processed = text_preprocessing(sample_text)\r\n",
        "sample_text_processed_vectorized = Tfidf_vect.transform([sample_text_processed])\r\n",
        "\r\n",
        "prediction_SVM = SVM.predict(sample_text_processed_vectorized)\r\n",
        "prediction_Naive = Naive.predict(sample_text_processed_vectorized)\r\n",
        "\r\n",
        "print(\"Prediction from SVM Model:\", labelencode.inverse_transform(prediction_SVM)[0])\r\n",
        "print(\"Prediction from NB Model:\", labelencode.inverse_transform(prediction_Naive)[0])"
      ],
      "execution_count": null,
      "outputs": [
        {
          "output_type": "stream",
          "text": [
            "Prediction from SVM Model: __OTHER_DISEASES__\n",
            "Prediction from NB Model: __OTHER_DISEASES__\n"
          ],
          "name": "stdout"
        }
      ]
    },
    {
      "cell_type": "code",
      "metadata": {
        "id": "N2MR8cJNyBXS"
      },
      "source": [
        "import matplotlib.pyplot as plt\r\n",
        "import seaborn as sns\r\n",
        "acc_data = pd.read_csv(r\"accuracy_score_model1.csv\", encoding='latin-1')\r\n"
      ],
      "execution_count": null,
      "outputs": []
    },
    {
      "cell_type": "code",
      "metadata": {
        "colab": {
          "base_uri": "https://localhost:8080/",
          "height": 111
        },
        "id": "JadgzkW5yGQA",
        "outputId": "dae50201-c9fb-49c2-c8fe-95689026272c"
      },
      "source": [
        "acc_data"
      ],
      "execution_count": null,
      "outputs": [
        {
          "output_type": "execute_result",
          "data": {
            "text/html": [
              "<div>\n",
              "<style scoped>\n",
              "    .dataframe tbody tr th:only-of-type {\n",
              "        vertical-align: middle;\n",
              "    }\n",
              "\n",
              "    .dataframe tbody tr th {\n",
              "        vertical-align: top;\n",
              "    }\n",
              "\n",
              "    .dataframe thead th {\n",
              "        text-align: right;\n",
              "    }\n",
              "</style>\n",
              "<table border=\"1\" class=\"dataframe\">\n",
              "  <thead>\n",
              "    <tr style=\"text-align: right;\">\n",
              "      <th></th>\n",
              "      <th>Algorithm</th>\n",
              "      <th>Accuracy Score</th>\n",
              "    </tr>\n",
              "  </thead>\n",
              "  <tbody>\n",
              "    <tr>\n",
              "      <th>0</th>\n",
              "      <td>Naive Bayes</td>\n",
              "      <td>0.88</td>\n",
              "    </tr>\n",
              "    <tr>\n",
              "      <th>1</th>\n",
              "      <td>Support Vector Machine</td>\n",
              "      <td>0.96</td>\n",
              "    </tr>\n",
              "  </tbody>\n",
              "</table>\n",
              "</div>"
            ],
            "text/plain": [
              "                Algorithm  Accuracy Score\n",
              "0             Naive Bayes            0.88\n",
              "1  Support Vector Machine            0.96"
            ]
          },
          "metadata": {
            "tags": []
          },
          "execution_count": 12
        }
      ]
    },
    {
      "cell_type": "code",
      "metadata": {
        "colab": {
          "base_uri": "https://localhost:8080/",
          "height": 265
        },
        "id": "NXZ6137O0MnG",
        "outputId": "b50ead71-6f76-43d5-fa3a-1cb0bdfb8029"
      },
      "source": [
        "#### ACCURACY COMPARISON PLOT\r\n",
        "\r\n",
        "accc = acc_data.plot.barh(x='Algorithm', y='Accuracy Score', rot=0)\r\n"
      ],
      "execution_count": null,
      "outputs": [
        {
          "output_type": "display_data",
          "data": {
            "image/png": "[encoded data removed]",
            "text/plain": [
              "<Figure size 432x288 with 1 Axes>"
            ]
          },
          "metadata": {
            "tags": [],
            "needs_background": "light"
          }
        }
      ]
    },
    {
      "cell_type": "code",
      "metadata": {
        "colab": {
          "base_uri": "https://localhost:8080/"
        },
        "id": "69KxrSC644RM",
        "outputId": "8b6b2771-de37-4c2a-fa8e-02e9faaa0033"
      },
      "source": [
        "from sklearn.metrics import classification_report, confusion_matrix\r\n",
        "from sklearn.metrics import accuracy_score\r\n",
        "\r\n",
        "#SVM REPORT\r\n",
        "print(classification_report(Test_Y ,predictions_SVM))"
      ],
      "execution_count": null,
      "outputs": [
        {
          "output_type": "stream",
          "text": [
            "              precision    recall  f1-score   support\n",
            "\n",
            "           0       1.00      1.00      1.00        15\n",
            "           1       1.00      1.00      1.00        10\n",
            "\n",
            "    accuracy                           1.00        25\n",
            "   macro avg       1.00      1.00      1.00        25\n",
            "weighted avg       1.00      1.00      1.00        25\n",
            "\n"
          ],
          "name": "stdout"
        }
      ]
    },
    {
      "cell_type": "code",
      "metadata": {
        "colab": {
          "base_uri": "https://localhost:8080/"
        },
        "id": "tXjyhikB5kMq",
        "outputId": "fde7a1ed-ab90-4506-af0d-ebda4dcdb88a"
      },
      "source": [
        "#NB REPORT\r\n",
        "print(classification_report(Test_Y,predictions_NB))"
      ],
      "execution_count": null,
      "outputs": [
        {
          "output_type": "stream",
          "text": [
            "              precision    recall  f1-score   support\n",
            "\n",
            "           0       1.00      1.00      1.00        15\n",
            "           1       1.00      1.00      1.00        10\n",
            "\n",
            "    accuracy                           1.00        25\n",
            "   macro avg       1.00      1.00      1.00        25\n",
            "weighted avg       1.00      1.00      1.00        25\n",
            "\n"
          ],
          "name": "stdout"
        }
      ]
    },
    {
      "cell_type": "code",
      "metadata": {
        "id": "Wu7R3WuF69r0"
      },
      "source": [
        "naive_bayesss = classification_report(Test_Y,predictions_NB, output_dict=True)"
      ],
      "execution_count": null,
      "outputs": []
    },
    {
      "cell_type": "code",
      "metadata": {
        "colab": {
          "base_uri": "https://localhost:8080/"
        },
        "id": "6dDFGTvmNGYP",
        "outputId": "d8c9abd8-1420-47b8-d52a-35772a91050f"
      },
      "source": [
        "Encoder.classes_"
      ],
      "execution_count": null,
      "outputs": [
        {
          "output_type": "execute_result",
          "data": {
            "text/plain": [
              "array(['__GALLSTONES__', '__OTHER_DISEASES__'], dtype=object)"
            ]
          },
          "metadata": {
            "tags": []
          },
          "execution_count": 17
        }
      ]
    },
    {
      "cell_type": "code",
      "metadata": {
        "colab": {
          "base_uri": "https://localhost:8080/"
        },
        "id": "a4NS2hmlRl0O",
        "outputId": "58875428-0d34-4c9c-866d-aeb4e11c80af"
      },
      "source": [
        "naive_bayesss"
      ],
      "execution_count": null,
      "outputs": [
        {
          "output_type": "execute_result",
          "data": {
            "text/plain": [
              "{'0': {'f1-score': 0.88,\n",
              "  'precision': 0.7857142857142857,\n",
              "  'recall': 1.0,\n",
              "  'support': 11},\n",
              " '1': {'f1-score': 0.88,\n",
              "  'precision': 1.0,\n",
              "  'recall': 0.7857142857142857,\n",
              "  'support': 14},\n",
              " 'accuracy': 0.88,\n",
              " 'macro avg': {'f1-score': 0.88,\n",
              "  'precision': 0.8928571428571428,\n",
              "  'recall': 0.8928571428571428,\n",
              "  'support': 25},\n",
              " 'weighted avg': {'f1-score': 0.88,\n",
              "  'precision': 0.9057142857142857,\n",
              "  'recall': 0.88,\n",
              "  'support': 25}}"
            ]
          },
          "metadata": {
            "tags": []
          },
          "execution_count": 185
        }
      ]
    },
    {
      "cell_type": "code",
      "metadata": {
        "colab": {
          "base_uri": "https://localhost:8080/"
        },
        "id": "DFrMjvKmRxNV",
        "outputId": "276fb4df-58ff-4c64-8f8a-342b7773e8ff"
      },
      "source": [
        "svmmmm = classification_report(Test_Y,predictions_SVM, output_dict=True)\r\n",
        "svmmmm"
      ],
      "execution_count": null,
      "outputs": [
        {
          "output_type": "execute_result",
          "data": {
            "text/plain": [
              "{'0': {'f1-score': 0.9565217391304348,\n",
              "  'precision': 0.9166666666666666,\n",
              "  'recall': 1.0,\n",
              "  'support': 11},\n",
              " '1': {'f1-score': 0.962962962962963,\n",
              "  'precision': 1.0,\n",
              "  'recall': 0.9285714285714286,\n",
              "  'support': 14},\n",
              " 'accuracy': 0.96,\n",
              " 'macro avg': {'f1-score': 0.9597423510466989,\n",
              "  'precision': 0.9583333333333333,\n",
              "  'recall': 0.9642857142857143,\n",
              "  'support': 25},\n",
              " 'weighted avg': {'f1-score': 0.9601288244766506,\n",
              "  'precision': 0.9633333333333333,\n",
              "  'recall': 0.96,\n",
              "  'support': 25}}"
            ]
          },
          "metadata": {
            "tags": []
          },
          "execution_count": 187
        }
      ]
    },
    {
      "cell_type": "code",
      "metadata": {
        "colab": {
          "base_uri": "https://localhost:8080/",
          "height": 173
        },
        "id": "K32oer0HTK9u",
        "outputId": "94bea43b-42fc-40ee-b073-3a65e2d12848"
      },
      "source": [
        "statisticss = pd.read_csv(r'svm_nb_stats_csv.csv')\r\n",
        "statisticss"
      ],
      "execution_count": null,
      "outputs": [
        {
          "output_type": "execute_result",
          "data": {
            "text/html": [
              "<div>\n",
              "<style scoped>\n",
              "    .dataframe tbody tr th:only-of-type {\n",
              "        vertical-align: middle;\n",
              "    }\n",
              "\n",
              "    .dataframe tbody tr th {\n",
              "        vertical-align: top;\n",
              "    }\n",
              "\n",
              "    .dataframe thead th {\n",
              "        text-align: right;\n",
              "    }\n",
              "</style>\n",
              "<table border=\"1\" class=\"dataframe\">\n",
              "  <thead>\n",
              "    <tr style=\"text-align: right;\">\n",
              "      <th></th>\n",
              "      <th>Class</th>\n",
              "      <th>Model</th>\n",
              "      <th>Precision</th>\n",
              "      <th>Recall</th>\n",
              "      <th>F1</th>\n",
              "      <th>Support</th>\n",
              "    </tr>\n",
              "  </thead>\n",
              "  <tbody>\n",
              "    <tr>\n",
              "      <th>0</th>\n",
              "      <td>Gallstones</td>\n",
              "      <td>SVM</td>\n",
              "      <td>0.92</td>\n",
              "      <td>1.00</td>\n",
              "      <td>0.96</td>\n",
              "      <td>11</td>\n",
              "    </tr>\n",
              "    <tr>\n",
              "      <th>1</th>\n",
              "      <td>Gallstones</td>\n",
              "      <td>NB</td>\n",
              "      <td>0.79</td>\n",
              "      <td>1.00</td>\n",
              "      <td>0.88</td>\n",
              "      <td>14</td>\n",
              "    </tr>\n",
              "    <tr>\n",
              "      <th>2</th>\n",
              "      <td>Other Diseases</td>\n",
              "      <td>SVM</td>\n",
              "      <td>1.00</td>\n",
              "      <td>0.93</td>\n",
              "      <td>0.96</td>\n",
              "      <td>14</td>\n",
              "    </tr>\n",
              "    <tr>\n",
              "      <th>3</th>\n",
              "      <td>Other Diseases</td>\n",
              "      <td>NB</td>\n",
              "      <td>1.00</td>\n",
              "      <td>0.79</td>\n",
              "      <td>0.88</td>\n",
              "      <td>14</td>\n",
              "    </tr>\n",
              "  </tbody>\n",
              "</table>\n",
              "</div>"
            ],
            "text/plain": [
              "            Class Model  Precision  Recall    F1  Support\n",
              "0      Gallstones   SVM       0.92    1.00  0.96       11\n",
              "1      Gallstones    NB       0.79    1.00  0.88       14\n",
              "2  Other Diseases   SVM       1.00    0.93  0.96       14\n",
              "3  Other Diseases    NB       1.00    0.79  0.88       14"
            ]
          },
          "metadata": {
            "tags": []
          },
          "execution_count": 18
        }
      ]
    },
    {
      "cell_type": "code",
      "metadata": {
        "colab": {
          "base_uri": "https://localhost:8080/",
          "height": 351
        },
        "id": "4IJ1_R5oTo0d",
        "outputId": "b92af7c1-c731-4b04-dee8-9ede45341009"
      },
      "source": [
        "'''statisticss.plot('Recall', 'Precision')\r\n",
        "plt.title('Gallstone Performance')\r\n",
        "plt.grid(True)\r\n",
        "\r\n",
        "plt.show()'''\r\n",
        "from matplotlib import pyplot as plt\r\n",
        "from sklearn.metrics import confusion_matrix\r\n",
        "cm = confusion_matrix(Test_Y,predictions_SVM)\r\n",
        "print('SVC')\r\n",
        "#print(cm)\r\n",
        "import seaborn as sns\r\n",
        "f, ax = plt.subplots(figsize =(5,5))\r\n",
        "sns.heatmap(cm,annot = True,linewidths=0.5,linecolor=\"red\",fmt = \".0f\",ax=ax)\r\n",
        "plt.xlabel(\"Predicted\")\r\n",
        "plt.ylabel(\"Actual\")\r\n",
        "plt.show()"
      ],
      "execution_count": null,
      "outputs": [
        {
          "output_type": "stream",
          "text": [
            "SVC\n"
          ],
          "name": "stdout"
        },
        {
          "output_type": "display_data",
          "data": {
            "image/png": "[encoded data removed]",
            "text/plain": [
              "<Figure size 360x360 with 2 Axes>"
            ]
          },
          "metadata": {
            "tags": [],
            "needs_background": "light"
          }
        }
      ]
    },
    {
      "cell_type": "code",
      "metadata": {
        "colab": {
          "base_uri": "https://localhost:8080/",
          "height": 351
        },
        "id": "X-at5RPK5hey",
        "outputId": "3fead135-46af-4850-f786-f0a7569a4a6a"
      },
      "source": [
        "##### NB\r\n",
        "\r\n",
        "# 4. Naive Bayes Classification\r\n",
        "\r\n",
        "cm = confusion_matrix(Test_Y,predictions_NB)\r\n",
        "print('NB')\r\n",
        "#print(cm)\r\n",
        "import seaborn as sns\r\n",
        "f, ax = plt.subplots(figsize =(5,5))\r\n",
        "sns.heatmap(cm,annot = True,linewidths=0.5,linecolor=\"red\",fmt = \".0f\",ax=ax)\r\n",
        "plt.xlabel(\"Predicted\")\r\n",
        "plt.ylabel(\"Actual\")\r\n",
        "plt.show()"
      ],
      "execution_count": null,
      "outputs": [
        {
          "output_type": "stream",
          "text": [
            "NB\n"
          ],
          "name": "stdout"
        },
        {
          "output_type": "display_data",
          "data": {
            "image/png": "[encoded data removed]",
            "text/plain": [
              "<Figure size 360x360 with 2 Axes>"
            ]
          },
          "metadata": {
            "tags": [],
            "needs_background": "light"
          }
        }
      ]
    }
  ]
}