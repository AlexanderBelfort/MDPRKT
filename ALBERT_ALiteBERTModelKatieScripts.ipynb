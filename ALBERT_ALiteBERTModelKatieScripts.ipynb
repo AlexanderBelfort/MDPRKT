{
  "nbformat": 4,
  "nbformat_minor": 0,
  "metadata": {
    "colab": {
      "name": "ALBERTmodel_A_Lite_Bert.ipynb",
      "provenance": [],
      "authorship_tag": "ABX9TyN1V09cvGIDhZRPDxfDjvZ6",
      "include_colab_link": true
    },
    "kernelspec": {
      "name": "python3",
      "display_name": "Python 3"
    },
    "accelerator": "GPU",
    "widgets": {
      "application/vnd.jupyter.widget-state+json": {
        "c5a9938639be4c5db303125fc919bbec": {
          "model_module": "@jupyter-widgets/controls",
          "model_name": "HBoxModel",
          "state": {
            "_view_name": "HBoxView",
            "_dom_classes": [],
            "_model_name": "HBoxModel",
            "_view_module": "@jupyter-widgets/controls",
            "_model_module_version": "1.5.0",
            "_view_count": null,
            "_view_module_version": "1.5.0",
            "box_style": "",
            "layout": "IPY_MODEL_e062ed7810654035a899b764262c6bd7",
            "_model_module": "@jupyter-widgets/controls",
            "children": [
              "IPY_MODEL_af4df876bbab4d77a4aac5aa3c3b584e",
              "IPY_MODEL_1cafaab7a042433a81a9a70d1d176750"
            ]
          }
        },
        "e062ed7810654035a899b764262c6bd7": {
          "model_module": "@jupyter-widgets/base",
          "model_name": "LayoutModel",
          "state": {
            "_view_name": "LayoutView",
            "grid_template_rows": null,
            "right": null,
            "justify_content": null,
            "_view_module": "@jupyter-widgets/base",
            "overflow": null,
            "_model_module_version": "1.2.0",
            "_view_count": null,
            "flex_flow": null,
            "width": null,
            "min_width": null,
            "border": null,
            "align_items": null,
            "bottom": null,
            "_model_module": "@jupyter-widgets/base",
            "top": null,
            "grid_column": null,
            "overflow_y": null,
            "overflow_x": null,
            "grid_auto_flow": null,
            "grid_area": null,
            "grid_template_columns": null,
            "flex": null,
            "_model_name": "LayoutModel",
            "justify_items": null,
            "grid_row": null,
            "max_height": null,
            "align_content": null,
            "visibility": null,
            "align_self": null,
            "height": null,
            "min_height": null,
            "padding": null,
            "grid_auto_rows": null,
            "grid_gap": null,
            "max_width": null,
            "order": null,
            "_view_module_version": "1.2.0",
            "grid_template_areas": null,
            "object_position": null,
            "object_fit": null,
            "grid_auto_columns": null,
            "margin": null,
            "display": null,
            "left": null
          }
        },
        "af4df876bbab4d77a4aac5aa3c3b584e": {
          "model_module": "@jupyter-widgets/controls",
          "model_name": "FloatProgressModel",
          "state": {
            "_view_name": "ProgressView",
            "style": "IPY_MODEL_8eed7adb1a7645d7af210307d7df61bf",
            "_dom_classes": [],
            "description": "Downloading: 100%",
            "_model_name": "FloatProgressModel",
            "bar_style": "success",
            "max": 717,
            "_view_module": "@jupyter-widgets/controls",
            "_model_module_version": "1.5.0",
            "value": 717,
            "_view_count": null,
            "_view_module_version": "1.5.0",
            "orientation": "horizontal",
            "min": 0,
            "description_tooltip": null,
            "_model_module": "@jupyter-widgets/controls",
            "layout": "IPY_MODEL_ebeb1059e77747379f6493dc15769b57"
          }
        },
        "1cafaab7a042433a81a9a70d1d176750": {
          "model_module": "@jupyter-widgets/controls",
          "model_name": "HTMLModel",
          "state": {
            "_view_name": "HTMLView",
            "style": "IPY_MODEL_9e6603a9c0154fbba9ffe8d319cef3d0",
            "_dom_classes": [],
            "description": "",
            "_model_name": "HTMLModel",
            "placeholder": "​",
            "_view_module": "@jupyter-widgets/controls",
            "_model_module_version": "1.5.0",
            "value": " 717/717 [00:04&lt;00:00, 146B/s]",
            "_view_count": null,
            "_view_module_version": "1.5.0",
            "description_tooltip": null,
            "_model_module": "@jupyter-widgets/controls",
            "layout": "IPY_MODEL_44f9d4f38a14486188f200c8e1580da9"
          }
        },
        "8eed7adb1a7645d7af210307d7df61bf": {
          "model_module": "@jupyter-widgets/controls",
          "model_name": "ProgressStyleModel",
          "state": {
            "_view_name": "StyleView",
            "_model_name": "ProgressStyleModel",
            "description_width": "initial",
            "_view_module": "@jupyter-widgets/base",
            "_model_module_version": "1.5.0",
            "_view_count": null,
            "_view_module_version": "1.2.0",
            "bar_color": null,
            "_model_module": "@jupyter-widgets/controls"
          }
        },
        "ebeb1059e77747379f6493dc15769b57": {
          "model_module": "@jupyter-widgets/base",
          "model_name": "LayoutModel",
          "state": {
            "_view_name": "LayoutView",
            "grid_template_rows": null,
            "right": null,
            "justify_content": null,
            "_view_module": "@jupyter-widgets/base",
            "overflow": null,
            "_model_module_version": "1.2.0",
            "_view_count": null,
            "flex_flow": null,
            "width": null,
            "min_width": null,
            "border": null,
            "align_items": null,
            "bottom": null,
            "_model_module": "@jupyter-widgets/base",
            "top": null,
            "grid_column": null,
            "overflow_y": null,
            "overflow_x": null,
            "grid_auto_flow": null,
            "grid_area": null,
            "grid_template_columns": null,
            "flex": null,
            "_model_name": "LayoutModel",
            "justify_items": null,
            "grid_row": null,
            "max_height": null,
            "align_content": null,
            "visibility": null,
            "align_self": null,
            "height": null,
            "min_height": null,
            "padding": null,
            "grid_auto_rows": null,
            "grid_gap": null,
            "max_width": null,
            "order": null,
            "_view_module_version": "1.2.0",
            "grid_template_areas": null,
            "object_position": null,
            "object_fit": null,
            "grid_auto_columns": null,
            "margin": null,
            "display": null,
            "left": null
          }
        },
        "9e6603a9c0154fbba9ffe8d319cef3d0": {
          "model_module": "@jupyter-widgets/controls",
          "model_name": "DescriptionStyleModel",
          "state": {
            "_view_name": "StyleView",
            "_model_name": "DescriptionStyleModel",
            "description_width": "",
            "_view_module": "@jupyter-widgets/base",
            "_model_module_version": "1.5.0",
            "_view_count": null,
            "_view_module_version": "1.2.0",
            "_model_module": "@jupyter-widgets/controls"
          }
        },
        "44f9d4f38a14486188f200c8e1580da9": {
          "model_module": "@jupyter-widgets/base",
          "model_name": "LayoutModel",
          "state": {
            "_view_name": "LayoutView",
            "grid_template_rows": null,
            "right": null,
            "justify_content": null,
            "_view_module": "@jupyter-widgets/base",
            "overflow": null,
            "_model_module_version": "1.2.0",
            "_view_count": null,
            "flex_flow": null,
            "width": null,
            "min_width": null,
            "border": null,
            "align_items": null,
            "bottom": null,
            "_model_module": "@jupyter-widgets/base",
            "top": null,
            "grid_column": null,
            "overflow_y": null,
            "overflow_x": null,
            "grid_auto_flow": null,
            "grid_area": null,
            "grid_template_columns": null,
            "flex": null,
            "_model_name": "LayoutModel",
            "justify_items": null,
            "grid_row": null,
            "max_height": null,
            "align_content": null,
            "visibility": null,
            "align_self": null,
            "height": null,
            "min_height": null,
            "padding": null,
            "grid_auto_rows": null,
            "grid_gap": null,
            "max_width": null,
            "order": null,
            "_view_module_version": "1.2.0",
            "grid_template_areas": null,
            "object_position": null,
            "object_fit": null,
            "grid_auto_columns": null,
            "margin": null,
            "display": null,
            "left": null
          }
        },
        "70788b4b890d4b7bbdcbe70ef7d1f020": {
          "model_module": "@jupyter-widgets/controls",
          "model_name": "HBoxModel",
          "state": {
            "_view_name": "HBoxView",
            "_dom_classes": [],
            "_model_name": "HBoxModel",
            "_view_module": "@jupyter-widgets/controls",
            "_model_module_version": "1.5.0",
            "_view_count": null,
            "_view_module_version": "1.5.0",
            "box_style": "",
            "layout": "IPY_MODEL_843e19fc5c214d82af982af884875923",
            "_model_module": "@jupyter-widgets/controls",
            "children": [
              "IPY_MODEL_57c383f200a146b38c2412361a120595",
              "IPY_MODEL_3590ad9241814daa9d672404b576000e"
            ]
          }
        },
        "843e19fc5c214d82af982af884875923": {
          "model_module": "@jupyter-widgets/base",
          "model_name": "LayoutModel",
          "state": {
            "_view_name": "LayoutView",
            "grid_template_rows": null,
            "right": null,
            "justify_content": null,
            "_view_module": "@jupyter-widgets/base",
            "overflow": null,
            "_model_module_version": "1.2.0",
            "_view_count": null,
            "flex_flow": null,
            "width": null,
            "min_width": null,
            "border": null,
            "align_items": null,
            "bottom": null,
            "_model_module": "@jupyter-widgets/base",
            "top": null,
            "grid_column": null,
            "overflow_y": null,
            "overflow_x": null,
            "grid_auto_flow": null,
            "grid_area": null,
            "grid_template_columns": null,
            "flex": null,
            "_model_name": "LayoutModel",
            "justify_items": null,
            "grid_row": null,
            "max_height": null,
            "align_content": null,
            "visibility": null,
            "align_self": null,
            "height": null,
            "min_height": null,
            "padding": null,
            "grid_auto_rows": null,
            "grid_gap": null,
            "max_width": null,
            "order": null,
            "_view_module_version": "1.2.0",
            "grid_template_areas": null,
            "object_position": null,
            "object_fit": null,
            "grid_auto_columns": null,
            "margin": null,
            "display": null,
            "left": null
          }
        },
        "57c383f200a146b38c2412361a120595": {
          "model_module": "@jupyter-widgets/controls",
          "model_name": "FloatProgressModel",
          "state": {
            "_view_name": "ProgressView",
            "style": "IPY_MODEL_8311ad1e80c84715b89da4a489c90405",
            "_dom_classes": [],
            "description": "Downloading: 100%",
            "_model_name": "FloatProgressModel",
            "bar_style": "success",
            "max": 760289,
            "_view_module": "@jupyter-widgets/controls",
            "_model_module_version": "1.5.0",
            "value": 760289,
            "_view_count": null,
            "_view_module_version": "1.5.0",
            "orientation": "horizontal",
            "min": 0,
            "description_tooltip": null,
            "_model_module": "@jupyter-widgets/controls",
            "layout": "IPY_MODEL_ea3cf337868246a4b80d780acdb125ad"
          }
        },
        "3590ad9241814daa9d672404b576000e": {
          "model_module": "@jupyter-widgets/controls",
          "model_name": "HTMLModel",
          "state": {
            "_view_name": "HTMLView",
            "style": "IPY_MODEL_ea17a54e1b06448ca2e9b364693dfa8a",
            "_dom_classes": [],
            "description": "",
            "_model_name": "HTMLModel",
            "placeholder": "​",
            "_view_module": "@jupyter-widgets/controls",
            "_model_module_version": "1.5.0",
            "value": " 760k/760k [00:04&lt;00:00, 162kB/s]",
            "_view_count": null,
            "_view_module_version": "1.5.0",
            "description_tooltip": null,
            "_model_module": "@jupyter-widgets/controls",
            "layout": "IPY_MODEL_66ddc9f40a0147c9b1899adccde1272f"
          }
        },
        "8311ad1e80c84715b89da4a489c90405": {
          "model_module": "@jupyter-widgets/controls",
          "model_name": "ProgressStyleModel",
          "state": {
            "_view_name": "StyleView",
            "_model_name": "ProgressStyleModel",
            "description_width": "initial",
            "_view_module": "@jupyter-widgets/base",
            "_model_module_version": "1.5.0",
            "_view_count": null,
            "_view_module_version": "1.2.0",
            "bar_color": null,
            "_model_module": "@jupyter-widgets/controls"
          }
        },
        "ea3cf337868246a4b80d780acdb125ad": {
          "model_module": "@jupyter-widgets/base",
          "model_name": "LayoutModel",
          "state": {
            "_view_name": "LayoutView",
            "grid_template_rows": null,
            "right": null,
            "justify_content": null,
            "_view_module": "@jupyter-widgets/base",
            "overflow": null,
            "_model_module_version": "1.2.0",
            "_view_count": null,
            "flex_flow": null,
            "width": null,
            "min_width": null,
            "border": null,
            "align_items": null,
            "bottom": null,
            "_model_module": "@jupyter-widgets/base",
            "top": null,
            "grid_column": null,
            "overflow_y": null,
            "overflow_x": null,
            "grid_auto_flow": null,
            "grid_area": null,
            "grid_template_columns": null,
            "flex": null,
            "_model_name": "LayoutModel",
            "justify_items": null,
            "grid_row": null,
            "max_height": null,
            "align_content": null,
            "visibility": null,
            "align_self": null,
            "height": null,
            "min_height": null,
            "padding": null,
            "grid_auto_rows": null,
            "grid_gap": null,
            "max_width": null,
            "order": null,
            "_view_module_version": "1.2.0",
            "grid_template_areas": null,
            "object_position": null,
            "object_fit": null,
            "grid_auto_columns": null,
            "margin": null,
            "display": null,
            "left": null
          }
        },
        "ea17a54e1b06448ca2e9b364693dfa8a": {
          "model_module": "@jupyter-widgets/controls",
          "model_name": "DescriptionStyleModel",
          "state": {
            "_view_name": "StyleView",
            "_model_name": "DescriptionStyleModel",
            "description_width": "",
            "_view_module": "@jupyter-widgets/base",
            "_model_module_version": "1.5.0",
            "_view_count": null,
            "_view_module_version": "1.2.0",
            "_model_module": "@jupyter-widgets/controls"
          }
        },
        "66ddc9f40a0147c9b1899adccde1272f": {
          "model_module": "@jupyter-widgets/base",
          "model_name": "LayoutModel",
          "state": {
            "_view_name": "LayoutView",
            "grid_template_rows": null,
            "right": null,
            "justify_content": null,
            "_view_module": "@jupyter-widgets/base",
            "overflow": null,
            "_model_module_version": "1.2.0",
            "_view_count": null,
            "flex_flow": null,
            "width": null,
            "min_width": null,
            "border": null,
            "align_items": null,
            "bottom": null,
            "_model_module": "@jupyter-widgets/base",
            "top": null,
            "grid_column": null,
            "overflow_y": null,
            "overflow_x": null,
            "grid_auto_flow": null,
            "grid_area": null,
            "grid_template_columns": null,
            "flex": null,
            "_model_name": "LayoutModel",
            "justify_items": null,
            "grid_row": null,
            "max_height": null,
            "align_content": null,
            "visibility": null,
            "align_self": null,
            "height": null,
            "min_height": null,
            "padding": null,
            "grid_auto_rows": null,
            "grid_gap": null,
            "max_width": null,
            "order": null,
            "_view_module_version": "1.2.0",
            "grid_template_areas": null,
            "object_position": null,
            "object_fit": null,
            "grid_auto_columns": null,
            "margin": null,
            "display": null,
            "left": null
          }
        },
        "705c0f8a202c48a6886464a72697bc40": {
          "model_module": "@jupyter-widgets/controls",
          "model_name": "HBoxModel",
          "state": {
            "_view_name": "HBoxView",
            "_dom_classes": [],
            "_model_name": "HBoxModel",
            "_view_module": "@jupyter-widgets/controls",
            "_model_module_version": "1.5.0",
            "_view_count": null,
            "_view_module_version": "1.5.0",
            "box_style": "",
            "layout": "IPY_MODEL_5683c8c8104445dd989c1825b8405e6b",
            "_model_module": "@jupyter-widgets/controls",
            "children": [
              "IPY_MODEL_3ec703cac67846fd976209b03b4bd50c",
              "IPY_MODEL_f09ac1134c094d6780d088e4461d52a6"
            ]
          }
        },
        "5683c8c8104445dd989c1825b8405e6b": {
          "model_module": "@jupyter-widgets/base",
          "model_name": "LayoutModel",
          "state": {
            "_view_name": "LayoutView",
            "grid_template_rows": null,
            "right": null,
            "justify_content": null,
            "_view_module": "@jupyter-widgets/base",
            "overflow": null,
            "_model_module_version": "1.2.0",
            "_view_count": null,
            "flex_flow": null,
            "width": null,
            "min_width": null,
            "border": null,
            "align_items": null,
            "bottom": null,
            "_model_module": "@jupyter-widgets/base",
            "top": null,
            "grid_column": null,
            "overflow_y": null,
            "overflow_x": null,
            "grid_auto_flow": null,
            "grid_area": null,
            "grid_template_columns": null,
            "flex": null,
            "_model_name": "LayoutModel",
            "justify_items": null,
            "grid_row": null,
            "max_height": null,
            "align_content": null,
            "visibility": null,
            "align_self": null,
            "height": null,
            "min_height": null,
            "padding": null,
            "grid_auto_rows": null,
            "grid_gap": null,
            "max_width": null,
            "order": null,
            "_view_module_version": "1.2.0",
            "grid_template_areas": null,
            "object_position": null,
            "object_fit": null,
            "grid_auto_columns": null,
            "margin": null,
            "display": null,
            "left": null
          }
        },
        "3ec703cac67846fd976209b03b4bd50c": {
          "model_module": "@jupyter-widgets/controls",
          "model_name": "FloatProgressModel",
          "state": {
            "_view_name": "ProgressView",
            "style": "IPY_MODEL_6b049e3db4c640d092195861c295a207",
            "_dom_classes": [],
            "description": "Downloading: 100%",
            "_model_name": "FloatProgressModel",
            "bar_style": "success",
            "max": 234922444,
            "_view_module": "@jupyter-widgets/controls",
            "_model_module_version": "1.5.0",
            "value": 234922444,
            "_view_count": null,
            "_view_module_version": "1.5.0",
            "orientation": "horizontal",
            "min": 0,
            "description_tooltip": null,
            "_model_module": "@jupyter-widgets/controls",
            "layout": "IPY_MODEL_09e1bcb74c684844b103d196d527fea9"
          }
        },
        "f09ac1134c094d6780d088e4461d52a6": {
          "model_module": "@jupyter-widgets/controls",
          "model_name": "HTMLModel",
          "state": {
            "_view_name": "HTMLView",
            "style": "IPY_MODEL_ddc63dada4df431ba4d6abf692e87eef",
            "_dom_classes": [],
            "description": "",
            "_model_name": "HTMLModel",
            "placeholder": "​",
            "_view_module": "@jupyter-widgets/controls",
            "_model_module_version": "1.5.0",
            "value": " 235M/235M [00:04&lt;00:00, 53.0MB/s]",
            "_view_count": null,
            "_view_module_version": "1.5.0",
            "description_tooltip": null,
            "_model_module": "@jupyter-widgets/controls",
            "layout": "IPY_MODEL_cc11433ba1d5486abf56f0a6fe50caa0"
          }
        },
        "6b049e3db4c640d092195861c295a207": {
          "model_module": "@jupyter-widgets/controls",
          "model_name": "ProgressStyleModel",
          "state": {
            "_view_name": "StyleView",
            "_model_name": "ProgressStyleModel",
            "description_width": "initial",
            "_view_module": "@jupyter-widgets/base",
            "_model_module_version": "1.5.0",
            "_view_count": null,
            "_view_module_version": "1.2.0",
            "bar_color": null,
            "_model_module": "@jupyter-widgets/controls"
          }
        },
        "09e1bcb74c684844b103d196d527fea9": {
          "model_module": "@jupyter-widgets/base",
          "model_name": "LayoutModel",
          "state": {
            "_view_name": "LayoutView",
            "grid_template_rows": null,
            "right": null,
            "justify_content": null,
            "_view_module": "@jupyter-widgets/base",
            "overflow": null,
            "_model_module_version": "1.2.0",
            "_view_count": null,
            "flex_flow": null,
            "width": null,
            "min_width": null,
            "border": null,
            "align_items": null,
            "bottom": null,
            "_model_module": "@jupyter-widgets/base",
            "top": null,
            "grid_column": null,
            "overflow_y": null,
            "overflow_x": null,
            "grid_auto_flow": null,
            "grid_area": null,
            "grid_template_columns": null,
            "flex": null,
            "_model_name": "LayoutModel",
            "justify_items": null,
            "grid_row": null,
            "max_height": null,
            "align_content": null,
            "visibility": null,
            "align_self": null,
            "height": null,
            "min_height": null,
            "padding": null,
            "grid_auto_rows": null,
            "grid_gap": null,
            "max_width": null,
            "order": null,
            "_view_module_version": "1.2.0",
            "grid_template_areas": null,
            "object_position": null,
            "object_fit": null,
            "grid_auto_columns": null,
            "margin": null,
            "display": null,
            "left": null
          }
        },
        "ddc63dada4df431ba4d6abf692e87eef": {
          "model_module": "@jupyter-widgets/controls",
          "model_name": "DescriptionStyleModel",
          "state": {
            "_view_name": "StyleView",
            "_model_name": "DescriptionStyleModel",
            "description_width": "",
            "_view_module": "@jupyter-widgets/base",
            "_model_module_version": "1.5.0",
            "_view_count": null,
            "_view_module_version": "1.2.0",
            "_model_module": "@jupyter-widgets/controls"
          }
        },
        "cc11433ba1d5486abf56f0a6fe50caa0": {
          "model_module": "@jupyter-widgets/base",
          "model_name": "LayoutModel",
          "state": {
            "_view_name": "LayoutView",
            "grid_template_rows": null,
            "right": null,
            "justify_content": null,
            "_view_module": "@jupyter-widgets/base",
            "overflow": null,
            "_model_module_version": "1.2.0",
            "_view_count": null,
            "flex_flow": null,
            "width": null,
            "min_width": null,
            "border": null,
            "align_items": null,
            "bottom": null,
            "_model_module": "@jupyter-widgets/base",
            "top": null,
            "grid_column": null,
            "overflow_y": null,
            "overflow_x": null,
            "grid_auto_flow": null,
            "grid_area": null,
            "grid_template_columns": null,
            "flex": null,
            "_model_name": "LayoutModel",
            "justify_items": null,
            "grid_row": null,
            "max_height": null,
            "align_content": null,
            "visibility": null,
            "align_self": null,
            "height": null,
            "min_height": null,
            "padding": null,
            "grid_auto_rows": null,
            "grid_gap": null,
            "max_width": null,
            "order": null,
            "_view_module_version": "1.2.0",
            "grid_template_areas": null,
            "object_position": null,
            "object_fit": null,
            "grid_auto_columns": null,
            "margin": null,
            "display": null,
            "left": null
          }
        }
      }
    }
  },
  "cells": [
    {
      "cell_type": "markdown",
      "metadata": {
        "id": "view-in-github",
        "colab_type": "text"
      },
      "source": [
        "<a href=\"https://colab.research.google.com/github/AlexanderBelfort/MDPRKT/blob/main/ALBERT_ALiteBERTModelKatieScripts.ipynb\" target=\"_parent\"><img src=\"https://colab.research.google.com/assets/colab-badge.svg\" alt=\"Open In Colab\"/></a>"
      ]
    },
    {
      "cell_type": "code",
      "metadata": {
        "colab": {
          "base_uri": "https://localhost:8080/"
        },
        "id": "CS3QWRWy_pYQ",
        "outputId": "3b32e70e-4ddb-4c3f-868d-40644ea13414"
      },
      "source": [
        "!nvidia-smi"
      ],
      "execution_count": 1,
      "outputs": [
        {
          "output_type": "stream",
          "text": [
            "Tue Feb  2 13:48:55 2021       \n",
            "+-----------------------------------------------------------------------------+\n",
            "| NVIDIA-SMI 460.32.03    Driver Version: 418.67       CUDA Version: 10.1     |\n",
            "|-------------------------------+----------------------+----------------------+\n",
            "| GPU  Name        Persistence-M| Bus-Id        Disp.A | Volatile Uncorr. ECC |\n",
            "| Fan  Temp  Perf  Pwr:Usage/Cap|         Memory-Usage | GPU-Util  Compute M. |\n",
            "|                               |                      |               MIG M. |\n",
            "|===============================+======================+======================|\n",
            "|   0  Tesla T4            Off  | 00000000:00:04.0 Off |                    0 |\n",
            "| N/A   52C    P8    10W /  70W |      0MiB / 15079MiB |      0%      Default |\n",
            "|                               |                      |                 ERR! |\n",
            "+-------------------------------+----------------------+----------------------+\n",
            "                                                                               \n",
            "+-----------------------------------------------------------------------------+\n",
            "| Processes:                                                                  |\n",
            "|  GPU   GI   CI        PID   Type   Process name                  GPU Memory |\n",
            "|        ID   ID                                                   Usage      |\n",
            "|=============================================================================|\n",
            "|  No running processes found                                                 |\n",
            "+-----------------------------------------------------------------------------+\n"
          ],
          "name": "stdout"
        }
      ]
    },
    {
      "cell_type": "markdown",
      "metadata": {
        "id": "C797TLzBCy35"
      },
      "source": [
        ""
      ]
    },
    {
      "cell_type": "markdown",
      "metadata": {
        "id": "1qfQAtRsMVl7"
      },
      "source": [
        "# Reading Comprehension with ALBERT \n",
        "\n",
        "\n",
        "Since 2017, transformer models have shown to outperform existing approaches for this task. Many pretrained transformer models exist, including BERT, GPT-2, XLNET. One of the newcomers to the group is ALBERT (A Lite BERT) which was published in September 2019. The research group claims that it outperforms BERT, with much less parameters (shorter training and inference time). \n"
      ]
    },
    {
      "cell_type": "code",
      "metadata": {
        "colab": {
          "base_uri": "https://localhost:8080/"
        },
        "id": "HM3tWJo1AOkb",
        "outputId": "b74376e2-db0a-44bb-c59e-02463f01b7c0"
      },
      "source": [
        "!git clone https://github.com/huggingface/transformers \\\r\n",
        "&& cd transformers \\\r\n",
        "&& git checkout a3085020ed0d81d4903c50967687192e3101e770 "
      ],
      "execution_count": 2,
      "outputs": [
        {
          "output_type": "stream",
          "text": [
            "Cloning into 'transformers'...\n",
            "remote: Enumerating objects: 66, done.\u001b[K\n",
            "remote: Counting objects: 100% (66/66), done.\u001b[K\n",
            "remote: Compressing objects: 100% (54/54), done.\u001b[K\n",
            "remote: Total 61205 (delta 21), reused 15 (delta 6), pack-reused 61139\u001b[K\n",
            "Receiving objects: 100% (61205/61205), 45.97 MiB | 29.24 MiB/s, done.\n",
            "Resolving deltas: 100% (43235/43235), done.\n",
            "Note: checking out 'a3085020ed0d81d4903c50967687192e3101e770'.\n",
            "\n",
            "You are in 'detached HEAD' state. You can look around, make experimental\n",
            "changes and commit them, and you can discard any commits you make in this\n",
            "state without impacting any branches by performing another checkout.\n",
            "\n",
            "If you want to create a new branch to retain commits you create, you may\n",
            "do so (now or later) by using -b with the checkout command again. Example:\n",
            "\n",
            "  git checkout -b <new-branch-name>\n",
            "\n",
            "HEAD is now at a3085020 Added repetition penalty to PPLM example (#2436)\n"
          ],
          "name": "stdout"
        }
      ]
    },
    {
      "cell_type": "code",
      "metadata": {
        "id": "9tnzdR0JAUgB"
      },
      "source": [
        "!pip install ./transformers\r\n",
        "!pip install tensorboardX"
      ],
      "execution_count": null,
      "outputs": []
    },
    {
      "cell_type": "code",
      "metadata": {
        "colab": {
          "base_uri": "https://localhost:8080/",
          "height": 164,
          "referenced_widgets": [
            "c5a9938639be4c5db303125fc919bbec",
            "e062ed7810654035a899b764262c6bd7",
            "af4df876bbab4d77a4aac5aa3c3b584e",
            "1cafaab7a042433a81a9a70d1d176750",
            "8eed7adb1a7645d7af210307d7df61bf",
            "ebeb1059e77747379f6493dc15769b57",
            "9e6603a9c0154fbba9ffe8d319cef3d0",
            "44f9d4f38a14486188f200c8e1580da9",
            "70788b4b890d4b7bbdcbe70ef7d1f020",
            "843e19fc5c214d82af982af884875923",
            "57c383f200a146b38c2412361a120595",
            "3590ad9241814daa9d672404b576000e",
            "8311ad1e80c84715b89da4a489c90405",
            "ea3cf337868246a4b80d780acdb125ad",
            "ea17a54e1b06448ca2e9b364693dfa8a",
            "66ddc9f40a0147c9b1899adccde1272f",
            "705c0f8a202c48a6886464a72697bc40",
            "5683c8c8104445dd989c1825b8405e6b",
            "3ec703cac67846fd976209b03b4bd50c",
            "f09ac1134c094d6780d088e4461d52a6",
            "6b049e3db4c640d092195861c295a207",
            "09e1bcb74c684844b103d196d527fea9",
            "ddc63dada4df431ba4d6abf692e87eef",
            "cc11433ba1d5486abf56f0a6fe50caa0"
          ]
        },
        "id": "zTPGok4DAcMp",
        "outputId": "e4a39836-bf03-4625-9d40-6969f36ddf1b"
      },
      "source": [
        "import os\r\n",
        "import torch\r\n",
        "import time\r\n",
        "from torch.utils.data import DataLoader, RandomSampler, SequentialSampler\r\n",
        "\r\n",
        "from transformers import (\r\n",
        "    AlbertConfig,\r\n",
        "    AlbertForQuestionAnswering,\r\n",
        "    AlbertTokenizer,\r\n",
        "    squad_convert_examples_to_features\r\n",
        ")\r\n",
        "\r\n",
        "from transformers.data.processors.squad import SquadResult, SquadV2Processor, SquadExample\r\n",
        "\r\n",
        "from transformers.data.metrics.squad_metrics import compute_predictions_logits\r\n",
        "\r\n",
        "# READER NOTE: Set this flag to use own model, or use pretrained model in the Hugging Face repository\r\n",
        "use_own_model = False\r\n",
        "\r\n",
        "if use_own_model:\r\n",
        "  model_name_or_path = \"/content/model_output\"\r\n",
        "else:\r\n",
        "  model_name_or_path = \"ktrapeznikov/albert-xlarge-v2-squad-v2\"\r\n",
        "\r\n",
        "output_dir = \"\"\r\n",
        "\r\n",
        "# Config\r\n",
        "n_best_size = 1\r\n",
        "max_answer_length = 30\r\n",
        "do_lower_case = True\r\n",
        "null_score_diff_threshold = 0.0\r\n",
        "\r\n",
        "def to_list(tensor):\r\n",
        "    return tensor.detach().cpu().tolist()\r\n",
        "\r\n",
        "# Setup model\r\n",
        "config_class, model_class, tokenizer_class = (\r\n",
        "    AlbertConfig, AlbertForQuestionAnswering, AlbertTokenizer)\r\n",
        "config = config_class.from_pretrained(model_name_or_path)\r\n",
        "tokenizer = tokenizer_class.from_pretrained(\r\n",
        "    model_name_or_path, do_lower_case=True)\r\n",
        "model = model_class.from_pretrained(model_name_or_path, config=config)\r\n",
        "\r\n",
        "device = torch.device(\"cuda\" if torch.cuda.is_available() else \"cpu\")\r\n",
        "\r\n",
        "model.to(device)\r\n",
        "\r\n",
        "processor = SquadV2Processor()\r\n",
        "\r\n",
        "def run_prediction(question_texts, context_text):\r\n",
        "    \"\"\"Setup function to compute predictions\"\"\"\r\n",
        "    examples = []\r\n",
        "\r\n",
        "    for i, question_text in enumerate(question_texts):\r\n",
        "        example = SquadExample(\r\n",
        "            qas_id=str(i),\r\n",
        "            question_text=question_text,\r\n",
        "            context_text=context_text,\r\n",
        "            answer_text=None,\r\n",
        "            start_position_character=None,\r\n",
        "            title=\"Predict\",\r\n",
        "            is_impossible=False,\r\n",
        "            answers=None,\r\n",
        "        )\r\n",
        "\r\n",
        "        examples.append(example)\r\n",
        "\r\n",
        "    features, dataset = squad_convert_examples_to_features(\r\n",
        "        examples=examples,\r\n",
        "        tokenizer=tokenizer,\r\n",
        "        max_seq_length=384,\r\n",
        "        doc_stride=128,\r\n",
        "        max_query_length=64,\r\n",
        "        is_training=False,\r\n",
        "        return_dataset=\"pt\",\r\n",
        "        threads=1,\r\n",
        "    )\r\n",
        "\r\n",
        "    eval_sampler = SequentialSampler(dataset)\r\n",
        "    eval_dataloader = DataLoader(dataset, sampler=eval_sampler, batch_size=10)\r\n",
        "\r\n",
        "    all_results = []\r\n",
        "\r\n",
        "    for batch in eval_dataloader:\r\n",
        "        model.eval()\r\n",
        "        batch = tuple(t.to(device) for t in batch)\r\n",
        "\r\n",
        "        with torch.no_grad():\r\n",
        "            inputs = {\r\n",
        "                \"input_ids\": batch[0],\r\n",
        "                \"attention_mask\": batch[1],\r\n",
        "                \"token_type_ids\": batch[2],\r\n",
        "            }\r\n",
        "\r\n",
        "            example_indices = batch[3]\r\n",
        "\r\n",
        "            outputs = model(**inputs)\r\n",
        "\r\n",
        "            for i, example_index in enumerate(example_indices):\r\n",
        "                eval_feature = features[example_index.item()]\r\n",
        "                unique_id = int(eval_feature.unique_id)\r\n",
        "\r\n",
        "                output = [to_list(output[i]) for output in outputs]\r\n",
        "\r\n",
        "                start_logits, end_logits = output\r\n",
        "                result = SquadResult(unique_id, start_logits, end_logits)\r\n",
        "                all_results.append(result)\r\n",
        "\r\n",
        "    output_prediction_file = \"predictions.json\"\r\n",
        "    output_nbest_file = \"nbest_predictions.json\"\r\n",
        "    output_null_log_odds_file = \"null_predictions.json\"\r\n",
        "\r\n",
        "    predictions = compute_predictions_logits(\r\n",
        "        examples,\r\n",
        "        features,\r\n",
        "        all_results,\r\n",
        "        n_best_size,\r\n",
        "        max_answer_length,\r\n",
        "        do_lower_case,\r\n",
        "        output_prediction_file,\r\n",
        "        output_nbest_file,\r\n",
        "        output_null_log_odds_file,\r\n",
        "        False,  # verbose_logging\r\n",
        "        True,  # version_2_with_negative\r\n",
        "        null_score_diff_threshold,\r\n",
        "        tokenizer,\r\n",
        "    )\r\n",
        "\r\n",
        "    return predictions"
      ],
      "execution_count": 5,
      "outputs": [
        {
          "output_type": "display_data",
          "data": {
            "application/vnd.jupyter.widget-view+json": {
              "model_id": "c5a9938639be4c5db303125fc919bbec",
              "version_minor": 0,
              "version_major": 2
            },
            "text/plain": [
              "HBox(children=(FloatProgress(value=0.0, description='Downloading', max=717.0, style=ProgressStyle(description_…"
            ]
          },
          "metadata": {
            "tags": []
          }
        },
        {
          "output_type": "stream",
          "text": [
            "\n"
          ],
          "name": "stdout"
        },
        {
          "output_type": "display_data",
          "data": {
            "application/vnd.jupyter.widget-view+json": {
              "model_id": "70788b4b890d4b7bbdcbe70ef7d1f020",
              "version_minor": 0,
              "version_major": 2
            },
            "text/plain": [
              "HBox(children=(FloatProgress(value=0.0, description='Downloading', max=760289.0, style=ProgressStyle(descripti…"
            ]
          },
          "metadata": {
            "tags": []
          }
        },
        {
          "output_type": "stream",
          "text": [
            "\n"
          ],
          "name": "stdout"
        },
        {
          "output_type": "display_data",
          "data": {
            "application/vnd.jupyter.widget-view+json": {
              "model_id": "705c0f8a202c48a6886464a72697bc40",
              "version_minor": 0,
              "version_major": 2
            },
            "text/plain": [
              "HBox(children=(FloatProgress(value=0.0, description='Downloading', max=234922444.0, style=ProgressStyle(descri…"
            ]
          },
          "metadata": {
            "tags": []
          }
        },
        {
          "output_type": "stream",
          "text": [
            "\n"
          ],
          "name": "stdout"
        }
      ]
    },
    {
      "cell_type": "code",
      "metadata": {
        "id": "2AiCieXGBN95"
      },
      "source": [
        "with open (\"1.txt\", \"r\") as myfile:\r\n",
        "  next(myfile)\r\n",
        "  data=myfile.read().replace('\\n', '')\r\n",
        "\r\n",
        "# data"
      ],
      "execution_count": 6,
      "outputs": []
    },
    {
      "cell_type": "markdown",
      "metadata": {
        "id": "ryMP3iSaCX_q"
      },
      "source": [
        "I believe both **BERT** and **A Lite BERT** are robust. While ALBERT is claimed to be more powerful, it might be in the sense of speed. It returns keyhole to the surgery type whereas BERT returns laparoscopic cholecystectomy."
      ]
    },
    {
      "cell_type": "code",
      "metadata": {
        "colab": {
          "base_uri": "https://localhost:8080/"
        },
        "id": "ryLZq_znBY3Z",
        "outputId": "5c4965f4-b712-4e70-81f9-a619d2d5153c"
      },
      "source": [
        "context = data\r\n",
        "questions = [\"How long does ibuprofen take to work?\", \r\n",
        "             \"When does the pain come?\",\r\n",
        "             \"Should they send the patient the questonnaire by post or email?\",\r\n",
        "             \"What is medical management?\",\r\n",
        "             \"What is the name of the surgery?\",\r\n",
        "             \"What does the computer do?\"]\r\n",
        "\r\n",
        "# Run method\r\n",
        "predictions = run_prediction(questions, context)\r\n",
        "\r\n",
        "# Print results\r\n",
        "for key in predictions.keys():\r\n",
        "  print(predictions[key])\r\n",
        "\r\n",
        "# it gets 4/6 OR 5/6 if we accept keyhole surgery as correct\r\n",
        "# BERT actually gets the right name of the surgery"
      ],
      "execution_count": 9,
      "outputs": [
        {
          "output_type": "stream",
          "text": [
            "convert squad examples to features: 100%|██████████| 6/6 [00:01<00:00,  4.33it/s]\n",
            "add example index and unique id: 100%|██████████| 6/6 [00:00<00:00, 10768.43it/s]\n"
          ],
          "name": "stderr"
        },
        {
          "output_type": "stream",
          "text": [
            "30 minutes\n",
            "in the night time\n",
            "by post, or by email\n",
            "dietary advice and simple painkillers\n",
            "keyhole\n",
            "decides what happens to you - whether you get the surgery, or whether you don’t.\n"
          ],
          "name": "stdout"
        }
      ]
    }
  ]
}