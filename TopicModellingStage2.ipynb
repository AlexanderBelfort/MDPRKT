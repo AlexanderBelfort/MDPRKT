{
  "nbformat": 4,
  "nbformat_minor": 0,
  "metadata": {
    "colab": {
      "name": "TopicModelling.ipynb",
      "provenance": [],
      "collapsed_sections": [],
      "authorship_tag": "ABX9TyN3cozNrcDWavD8rrSd1NrL",
      "include_colab_link": true
    },
    "kernelspec": {
      "name": "python3",
      "display_name": "Python 3"
    }
  },
  "cells": [
    {
      "cell_type": "markdown",
      "metadata": {
        "id": "view-in-github",
        "colab_type": "text"
      },
      "source": [
        "<a href=\"https://colab.research.google.com/github/AlexanderBelfort/MDPRKT/blob/main/TopicModellingStage2.ipynb\" target=\"_parent\"><img src=\"https://colab.research.google.com/assets/colab-badge.svg\" alt=\"Open In Colab\"/></a>"
      ]
    },
    {
      "cell_type": "code",
      "metadata": {
        "id": "A18qGfBS6NWr"
      },
      "source": [
        "# Run in python console\r\n",
        "import nltk\r\n",
        "nltk.download('stopwords')\r\n",
        "\r\n",
        "# Run in terminal or command prompt\r\n",
        "%pip install spacy\r\n",
        "%pip install pyLDAvis"
      ],
      "execution_count": null,
      "outputs": []
    },
    {
      "cell_type": "code",
      "metadata": {
        "id": "nA2_fr9p6Z36"
      },
      "source": [
        "import re\r\n",
        "import string\r\n",
        "import numpy as np\r\n",
        "import pandas as pd\r\n",
        "from pprint import pprint\r\n",
        "\r\n",
        "# Gensim\r\n",
        "import gensim\r\n",
        "import gensim.corpora as corpora\r\n",
        "from gensim.utils import simple_preprocess\r\n",
        "from gensim.models import CoherenceModel\r\n",
        "\r\n",
        "# spacy for lemmatization\r\n",
        "import spacy\r\n",
        "\r\n",
        "# Plotting tools\r\n",
        "import pyLDAvis\r\n",
        "import pyLDAvis.gensim  # don't skip this\r\n",
        "import matplotlib.pyplot as plt\r\n",
        "%matplotlib inline\r\n",
        "\r\n",
        "# Enable logging for gensim - optional\r\n",
        "import logging\r\n",
        "logging.basicConfig(format='%(asctime)s : %(levelname)s : %(message)s', level=logging.ERROR)\r\n",
        "\r\n",
        "import warnings\r\n",
        "warnings.filterwarnings(\"ignore\",category=DeprecationWarning)"
      ],
      "execution_count": 107,
      "outputs": []
    },
    {
      "cell_type": "code",
      "metadata": {
        "colab": {
          "base_uri": "https://localhost:8080/",
          "height": 204
        },
        "id": "qpj6vGZw6u46",
        "outputId": "895f6922-d9c8-43d6-c12d-65446befdd03"
      },
      "source": [
        "# NLTK Stop words\r\n",
        "from nltk.corpus import stopwords\r\n",
        "stop_words = stopwords.words('english')\r\n",
        "stop_words.extend(['from', 'subject', 're', 'edu', 'use'])\r\n",
        "\r\n",
        "# Import Dataset\r\n",
        "df = pd.read_csv('output_list.txt', sep='\\t')\r\n",
        "#print(df.target_names.unique())\r\n",
        "#df.head()\r\n",
        "\r\n",
        "# testing\r\n",
        "\r\n",
        "#print(df.columns)\r\n",
        "# returns R - Researcher and P - Participant which are not great names for columns\r\n",
        "# df.columns[0]\r\n",
        "# needs renaming to CONTENT\r\n",
        "col_name = df.columns[0]\r\n",
        "df=df.rename(columns = {col_name:'content'})\r\n",
        "# testing\r\n",
        "# df.columns[0]\r\n",
        "# returns content now\r\n",
        "\r\n",
        "df.head()"
      ],
      "execution_count": 84,
      "outputs": [
        {
          "output_type": "execute_result",
          "data": {
            "text/html": [
              "<div>\n",
              "<style scoped>\n",
              "    .dataframe tbody tr th:only-of-type {\n",
              "        vertical-align: middle;\n",
              "    }\n",
              "\n",
              "    .dataframe tbody tr th {\n",
              "        vertical-align: top;\n",
              "    }\n",
              "\n",
              "    .dataframe thead th {\n",
              "        text-align: right;\n",
              "    }\n",
              "</style>\n",
              "<table border=\"1\" class=\"dataframe\">\n",
              "  <thead>\n",
              "    <tr style=\"text-align: right;\">\n",
              "      <th></th>\n",
              "      <th>content</th>\n",
              "      <th>P = Participant</th>\n",
              "    </tr>\n",
              "  </thead>\n",
              "  <tbody>\n",
              "    <tr>\n",
              "      <th>0</th>\n",
              "      <td>R – [surgeon] dictating with Mr [name].  Parti...</td>\n",
              "      <td>NaN</td>\n",
              "    </tr>\n",
              "    <tr>\n",
              "      <th>1</th>\n",
              "      <td>P - At night time would would would would woul...</td>\n",
              "      <td>NaN</td>\n",
              "    </tr>\n",
              "    <tr>\n",
              "      <th>2</th>\n",
              "      <td>R - You are feeling pain.  Okay.</td>\n",
              "      <td>NaN</td>\n",
              "    </tr>\n",
              "    <tr>\n",
              "      <th>3</th>\n",
              "      <td>P - Sometimes when there is a pain it comes in...</td>\n",
              "      <td>NaN</td>\n",
              "    </tr>\n",
              "    <tr>\n",
              "      <th>4</th>\n",
              "      <td>R - Okay.</td>\n",
              "      <td>NaN</td>\n",
              "    </tr>\n",
              "  </tbody>\n",
              "</table>\n",
              "</div>"
            ],
            "text/plain": [
              "                                             content  P = Participant\n",
              "0  R – [surgeon] dictating with Mr [name].  Parti...              NaN\n",
              "1  P - At night time would would would would woul...              NaN\n",
              "2                   R - You are feeling pain.  Okay.              NaN\n",
              "3  P - Sometimes when there is a pain it comes in...              NaN\n",
              "4                                          R - Okay.              NaN"
            ]
          },
          "metadata": {
            "tags": []
          },
          "execution_count": 84
        }
      ]
    },
    {
      "cell_type": "code",
      "metadata": {
        "colab": {
          "base_uri": "https://localhost:8080/"
        },
        "id": "R2dOLlj37Zdb",
        "outputId": "10c31656-0f56-4bb1-bcb1-01ad01d3075a"
      },
      "source": [
        "# DATA CLEANING STEP\r\n",
        "#\r\n",
        "#\r\n",
        "# Convert to list\r\n",
        "data = df.content.values.tolist()\r\n",
        "\r\n",
        "# Remove new line characters\r\n",
        "data = [re.sub('\\s+', ' ', token) for token in data]\r\n",
        "\r\n",
        "# Remove distracting single quotes\r\n",
        "data = [re.sub(\"\\'\", \"\", token) for token in data]\r\n",
        "\r\n",
        "# remove text in square brackets like [surgeon], [name]\r\n",
        "data = [re.sub('\\[.*?\\]', '', token) for token in data]\r\n",
        "\r\n",
        "# remove numbers\r\n",
        "data = [re.sub('\\w*\\d\\w*', '', token) for token in data]\r\n",
        "\r\n",
        "# remove punctuation\r\n",
        "# might not be necessary now / we can do it later\r\n",
        "# data = [re.sub('[%s]' % re.escape(string.punctuation), '', token) for token in data]\r\n",
        "\r\n",
        "# all to lower\r\n",
        "data = [word.lower() for word in data]\r\n",
        "\r\n",
        "# filter out short tokens like P and R and i\r\n",
        "# neccessary?\r\n",
        "#data = [re.sub(r'\\b\\w{1,1}\\b', '', token) for token in data]\r\n",
        "\r\n",
        "\r\n",
        "pprint(data[:5])"
      ],
      "execution_count": 108,
      "outputs": [
        {
          "output_type": "stream",
          "text": [
            "['r –  dictating with mr . participant study number is .. thanks very much for '\n",
            " 'coming along today. the reason that you’ve come up is obviously your general '\n",
            " 'practitioner has conducted an ultrasound scan and you’ve been found to have '\n",
            " 'stones in the gallbladder. are you having any symptoms from that just now? '\n",
            " 'are you having any major problems? are you getting a lot of pain?',\n",
            " 'p - at night time would would would would would, about  o’clock,  o’clock, i '\n",
            " 'am feeling the pain.',\n",
            " 'r - you are feeling pain. okay.',\n",
            " 'p - sometimes when there is a pain it comes in the night time.',\n",
            " 'r - okay.']\n"
          ],
          "name": "stdout"
        }
      ]
    },
    {
      "cell_type": "code",
      "metadata": {
        "colab": {
          "base_uri": "https://localhost:8080/"
        },
        "id": "UumGwTwd7rWC",
        "outputId": "89ccd1c8-fbed-403a-d5c9-74e8f75be9e1"
      },
      "source": [
        "# Let’s tokenize each sentence into a list of words\r\n",
        "# removing punctuations and unnecessary characters altogether\r\n",
        "# on this step\r\n",
        "\r\n",
        "def sent_to_words(sentences):\r\n",
        "    for sentence in sentences:\r\n",
        "        yield(gensim.utils.simple_preprocess(str(sentence), deacc=True))  # deacc=True removes punctuations\r\n",
        "\r\n",
        "data_words = list(sent_to_words(data))\r\n",
        "\r\n",
        "print(data_words[:3])"
      ],
      "execution_count": 109,
      "outputs": [
        {
          "output_type": "stream",
          "text": [
            "[['dictating', 'with', 'mr', 'participant', 'study', 'number', 'is', 'thanks', 'very', 'much', 'for', 'coming', 'along', 'today', 'the', 'reason', 'that', 'you', 've', 'come', 'up', 'is', 'obviously', 'your', 'general', 'practitioner', 'has', 'conducted', 'an', 'ultrasound', 'scan', 'and', 'you', 've', 'been', 'found', 'to', 'have', 'stones', 'in', 'the', 'gallbladder', 'are', 'you', 'having', 'any', 'symptoms', 'from', 'that', 'just', 'now', 'are', 'you', 'having', 'any', 'major', 'problems', 'are', 'you', 'getting', 'lot', 'of', 'pain'], ['at', 'night', 'time', 'would', 'would', 'would', 'would', 'would', 'about', 'clock', 'clock', 'am', 'feeling', 'the', 'pain'], ['you', 'are', 'feeling', 'pain', 'okay']]\n"
          ],
          "name": "stdout"
        }
      ]
    },
    {
      "cell_type": "code",
      "metadata": {
        "colab": {
          "base_uri": "https://localhost:8080/"
        },
        "id": "vQEOdh6L75pq",
        "outputId": "b6c2198d-d965-4d2e-bd9b-fe37922ea7a5"
      },
      "source": [
        "# Build the bigram and trigram models\r\n",
        "bigram = gensim.models.Phrases(data_words, min_count=5, threshold=100) # higher threshold fewer phrases.\r\n",
        "trigram = gensim.models.Phrases(bigram[data_words], threshold=100)  \r\n",
        "\r\n",
        "# Faster way to get a sentence clubbed as a trigram/bigram\r\n",
        "bigram_mod = gensim.models.phrases.Phraser(bigram)\r\n",
        "trigram_mod = gensim.models.phrases.Phraser(trigram)\r\n",
        "\r\n",
        "# See trigram example\r\n",
        "print(trigram_mod[bigram_mod[data_words[0]]])\r\n",
        "\r\n",
        "# this does not work so good as the words\r\n",
        "# gallblader surgery\r\n",
        "# laporscopic cholefcystemy\r\n",
        "# or any of that kind do not really appear often\r\n",
        "# maybe mentioned once\r\n",
        "\r\n",
        "\r\n"
      ],
      "execution_count": 105,
      "outputs": [
        {
          "output_type": "stream",
          "text": [
            "['dictating', 'with', 'mr', 'participant', 'study', 'number', 'is', 'thanks', 'very', 'much', 'for', 'coming', 'along', 'today', 'the', 'reason', 'that', 'you', 've', 'come', 'up', 'is', 'obviously', 'your', 'general', 'practitioner', 'has', 'conducted', 'an', 'ultrasound', 'scan', 'and', 'you', 've', 'been', 'found', 'to', 'have', 'stones', 'in', 'the', 'gallbladder', 'are', 'you', 'having', 'any', 'symptoms', 'from', 'that', 'just', 'now', 'are', 'you', 'having', 'any', 'major', 'problems', 'are', 'you', 'getting', 'lot', 'of', 'pain']\n"
          ],
          "name": "stdout"
        },
        {
          "output_type": "stream",
          "text": [
            "/usr/local/lib/python3.6/dist-packages/gensim/models/phrases.py:598: UserWarning: For a faster implementation, use the gensim.models.phrases.Phraser class\n",
            "  warnings.warn(\"For a faster implementation, use the gensim.models.phrases.Phraser class\")\n"
          ],
          "name": "stderr"
        }
      ]
    },
    {
      "cell_type": "code",
      "metadata": {
        "id": "Lr8PaVVA8Pgy"
      },
      "source": [
        "# Define functions for stopwords, bigrams, trigrams and lemmatization\r\n",
        "def remove_stopwords(texts):\r\n",
        "    return [[word for word in simple_preprocess(str(doc)) if word not in stop_words] for doc in texts]\r\n",
        "\r\n",
        "def make_bigrams(texts):\r\n",
        "    return [bigram_mod[doc] for doc in texts]\r\n",
        "\r\n",
        "def make_trigrams(texts):\r\n",
        "    return [trigram_mod[bigram_mod[doc]] for doc in texts]\r\n",
        "\r\n",
        "def lemmatization(texts, allowed_postags=['NOUN', 'ADJ', 'VERB', 'ADV']):\r\n",
        "    \"\"\"https://spacy.io/api/annotation\"\"\"\r\n",
        "    texts_out = []\r\n",
        "    for sent in texts:\r\n",
        "        doc = nlp(\" \".join(sent)) \r\n",
        "        texts_out.append([token.lemma_ for token in doc if token.pos_ in allowed_postags])\r\n",
        "    return texts_out"
      ],
      "execution_count": 110,
      "outputs": []
    },
    {
      "cell_type": "code",
      "metadata": {
        "colab": {
          "base_uri": "https://localhost:8080/"
        },
        "id": "3mQYgZFj8SN6",
        "outputId": "675581e0-7367-4f13-e122-df110b62320e"
      },
      "source": [
        "# Remove Stop Words\r\n",
        "data_words_nostops = remove_stopwords(data_words)\r\n",
        "\r\n",
        "# Form Bigrams\r\n",
        "data_words_bigrams = make_bigrams(data_words_nostops)\r\n",
        "\r\n",
        "# Initialize spacy 'en' model, keeping only tagger component (for efficiency)\r\n",
        "# python3 -m spacy download en\r\n",
        "nlp = spacy.load('en', disable=['parser', 'ner'])\r\n",
        "\r\n",
        "# Do lemmatization keeping only noun, adj, vb, adv\r\n",
        "data_lemmatized = lemmatization(data_words_bigrams, allowed_postags=['NOUN', 'ADJ', 'VERB', 'ADV'])\r\n",
        "\r\n",
        "print(data_lemmatized[:1])\r\n",
        "\r\n",
        "# # # # # # # # # \r\n",
        "## # # # # # \r\n",
        "##\r\n",
        "#"
      ],
      "execution_count": 115,
      "outputs": [
        {
          "output_type": "stream",
          "text": [
            "[['dictate', 'study', 'number', 'thank', 'much', 'come', 'along', 'today', 'reason', 'come', 'obviously', 'general', 'practitioner', 'conduct', 'find', 'stone', 'gallbladder', 'symptom', 'major', 'problem', 'get', 'lot', 'pain']]\n"
          ],
          "name": "stdout"
        }
      ]
    },
    {
      "cell_type": "code",
      "metadata": {
        "colab": {
          "base_uri": "https://localhost:8080/"
        },
        "id": "T1hLzPn6872C",
        "outputId": "126716e9-b3c2-4d3c-fb40-5fc6f30cdbe0"
      },
      "source": [
        "# Create Dictionary\r\n",
        "id2word = corpora.Dictionary(data_lemmatized)\r\n",
        "\r\n",
        "# Create Corpus\r\n",
        "texts = data_lemmatized\r\n",
        "\r\n",
        "# Term Document Frequency\r\n",
        "corpus = [id2word.doc2bow(text) for text in texts]\r\n",
        "\r\n",
        "# View\r\n",
        "print(corpus[:1])\r\n",
        "\r\n",
        "# words really are not repeated that often :/\r\n",
        "# maximum of two repetitions in the first sentence\r\n",
        "# that is why I added would 5 times at index 1\r\n",
        "# print(corpus[1])"
      ],
      "execution_count": 122,
      "outputs": [
        {
          "output_type": "stream",
          "text": [
            "[(13, 1), (22, 2), (23, 1), (24, 1), (25, 1), (26, 5)]\n"
          ],
          "name": "stdout"
        }
      ]
    },
    {
      "cell_type": "code",
      "metadata": {
        "id": "UDbNagrm9I3q"
      },
      "source": [
        "# testing if the word with id 25 is actually would\r\n",
        "# id2word[26]\r\n",
        "# out: would\r\n",
        "# test passed\r\n",
        "# # # # # # # # # # # # # # # # # # # #"
      ],
      "execution_count": 124,
      "outputs": []
    },
    {
      "cell_type": "code",
      "metadata": {
        "id": "Z9UYuNji9RH5",
        "colab": {
          "base_uri": "https://localhost:8080/"
        },
        "outputId": "cb07683d-b885-41d3-b14f-a7fc8fb0045d"
      },
      "source": [
        "# Human readable format of corpus (term-frequency)\r\n",
        "[[(id2word[id], freq) for id, freq in cp] for cp in corpus[:2]]"
      ],
      "execution_count": 127,
      "outputs": [
        {
          "output_type": "execute_result",
          "data": {
            "text/plain": [
              "[[('along', 1),\n",
              "  ('come', 2),\n",
              "  ('conduct', 1),\n",
              "  ('dictate', 1),\n",
              "  ('find', 1),\n",
              "  ('gallbladder', 1),\n",
              "  ('general', 1),\n",
              "  ('get', 1),\n",
              "  ('lot', 1),\n",
              "  ('major', 1),\n",
              "  ('much', 1),\n",
              "  ('number', 1),\n",
              "  ('obviously', 1),\n",
              "  ('pain', 1),\n",
              "  ('practitioner', 1),\n",
              "  ('problem', 1),\n",
              "  ('reason', 1),\n",
              "  ('stone', 1),\n",
              "  ('study', 1),\n",
              "  ('symptom', 1),\n",
              "  ('thank', 1),\n",
              "  ('today', 1)],\n",
              " [('pain', 1),\n",
              "  ('clock', 2),\n",
              "  ('feeling', 1),\n",
              "  ('night', 1),\n",
              "  ('time', 1),\n",
              "  ('would', 5)]]"
            ]
          },
          "metadata": {
            "tags": []
          },
          "execution_count": 127
        }
      ]
    },
    {
      "cell_type": "code",
      "metadata": {
        "id": "DwJ4L2Cc9gEo"
      },
      "source": [
        "# # # # # # # # # # # # # # # # #\r\n",
        "# Build LDA model\r\n",
        "lda_model = gensim.models.ldamodel.LdaModel(corpus=corpus,\r\n",
        "                                           id2word=id2word,\r\n",
        "                                           num_topics=5, \r\n",
        "                                           random_state=100,\r\n",
        "                                           update_every=1,\r\n",
        "                                           chunksize=100,\r\n",
        "                                           passes=10,\r\n",
        "                                           alpha='auto',\r\n",
        "                                           per_word_topics=True)"
      ],
      "execution_count": 133,
      "outputs": []
    },
    {
      "cell_type": "code",
      "metadata": {
        "colab": {
          "base_uri": "https://localhost:8080/"
        },
        "id": "WotOGrXH-2CI",
        "outputId": "30eedbb8-8e13-42f8-d1ff-0181815f02f8"
      },
      "source": [
        "# Print the Keyword in the 10 topics\r\n",
        "pprint(lda_model.print_topics())\r\n",
        "doc_lda = lda_model[corpus]"
      ],
      "execution_count": 132,
      "outputs": [
        {
          "output_type": "stream",
          "text": [
            "[(0,\n",
            "  '0.021*\"send\" + 0.017*\"back\" + 0.017*\"ask\" + 0.016*\"need\" + '\n",
            "  '0.014*\"gallstone\" + 0.014*\"chance\" + 0.014*\"side\" + 0.014*\"work\" + '\n",
            "  '0.014*\"would\" + 0.014*\"mean\"'),\n",
            " (1,\n",
            "  '0.072*\"name\" + 0.071*\"sign\" + 0.041*\"get\" + 0.040*\"put\" + 0.040*\"initial\" + '\n",
            "  '0.040*\"box\" + 0.038*\"point\" + 0.036*\"print\" + 0.036*\"apologise\" + '\n",
            "  '0.036*\"capital\"'),\n",
            " (2,\n",
            "  '0.067*\"thank\" + 0.036*\"stop\" + 0.024*\"may\" + 0.021*\"fine\" + '\n",
            "  '0.014*\"information\" + 0.014*\"contact\" + 0.014*\"sometimes\" + 0.013*\"take\" + '\n",
            "  '0.012*\"say\" + 0.012*\"study\"'),\n",
            " (3,\n",
            "  '0.033*\"go\" + 0.026*\"would\" + 0.022*\"study\" + 0.022*\"surgery\" + '\n",
            "  '0.016*\"gallbladder\" + 0.016*\"liver\" + 0.016*\"part\" + 0.014*\"need\" + '\n",
            "  '0.012*\"keyhole\" + 0.011*\"say\"'),\n",
            " (4,\n",
            "  '0.033*\"pain\" + 0.033*\"take\" + 0.032*\"would\" + 0.020*\"time\" + '\n",
            "  '0.016*\"treatment\" + 0.014*\"ibuprofen\" + 0.013*\"operation\" + 0.013*\"quite\" + '\n",
            "  '0.013*\"get\" + 0.012*\"patient\"')]\n"
          ],
          "name": "stdout"
        }
      ]
    },
    {
      "cell_type": "code",
      "metadata": {
        "colab": {
          "base_uri": "https://localhost:8080/"
        },
        "id": "mioF1tdYAFFg",
        "outputId": "1361a941-875e-4a61-ed72-5ffe0f9958d9"
      },
      "source": [
        "# Compute Perplexity\r\n",
        "print('\\nPerplexity: ', lda_model.log_perplexity(corpus))  # a measure of how good the model is. lower the better.\r\n",
        "\r\n",
        "# Compute Coherence Score\r\n",
        "coherence_model_lda = CoherenceModel(model=lda_model, texts=data_lemmatized, dictionary=id2word, coherence='c_v')\r\n",
        "coherence_lda = coherence_model_lda.get_coherence()\r\n",
        "print('\\nCoherence Score: ', coherence_lda)"
      ],
      "execution_count": 134,
      "outputs": [
        {
          "output_type": "stream",
          "text": [
            "\n",
            "Perplexity:  -6.210910947738692\n",
            "\n",
            "Coherence Score:  0.6221580178722319\n"
          ],
          "name": "stdout"
        }
      ]
    },
    {
      "cell_type": "code",
      "metadata": {
        "colab": {
          "base_uri": "https://localhost:8080/",
          "height": 881
        },
        "id": "Ht8gG265A2QH",
        "outputId": "3e921d2e-7dec-4738-ac17-3be6d6e49cab"
      },
      "source": [
        "# Visualize the topics\r\n",
        "pyLDAvis.enable_notebook()\r\n",
        "vis = pyLDAvis.gensim.prepare(lda_model, corpus, id2word)\r\n",
        "vis"
      ],
      "execution_count": 135,
      "outputs": [
        {
          "output_type": "execute_result",
          "data": {
            "text/html": [
              "\n",
              "<link rel=\"stylesheet\" type=\"text/css\" href=\"https://cdn.rawgit.com/bmabey/pyLDAvis/files/ldavis.v1.0.0.css\">\n",
              "\n",
              "\n",
              "<div id=\"ldavis_el611404525252996561466529715\"></div>\n",
              "<script type=\"text/javascript\">\n",
              "\n",
              "var ldavis_el611404525252996561466529715_data = {\"mdsDat\": {\"x\": [-0.10189462336387299, -0.10119269583314017, -3.3764638070259365e-06, -0.06879854740116396, 0.27188924306198403], \"y\": [0.08805511157725514, -0.07055038101325252, 0.0176702572784976, -0.03345268008972239, -0.001722307752777807], \"topics\": [1, 2, 3, 4, 5], \"cluster\": [1, 1, 1, 1, 1], \"Freq\": [31.926213641150873, 31.403435129947567, 15.809249683330446, 13.298560022823775, 7.562541522747343]}, \"tinfo\": {\"Term\": [\"thank\", \"name\", \"sign\", \"stop\", \"get\", \"put\", \"fine\", \"point\", \"box\", \"initial\", \"think\", \"finish\", \"letter\", \"capital\", \"press\", \"next\", \"date\", \"print\", \"apologise\", \"bite\", \"may\", \"pain\", \"surgery\", \"send\", \"take\", \"back\", \"go\", \"ask\", \"information\", \"time\", \"surgery\", \"liver\", \"keyhole\", \"make\", \"gallbladder\", \"normally\", \"change\", \"mind\", \"cut\", \"avoid\", \"talk\", \"part\", \"go\", \"discussion\", \"route\", \"necessary\", \"nurse\", \"blood\", \"supply\", \"surgeon\", \"withdraw\", \"entirely\", \"simple\", \"eye\", \"observe\", \"case\", \"line\", \"stage\", \"tell\", \"small\", \"keep\", \"study\", \"need\", \"would\", \"medical\", \"see\", \"absolutely\", \"way\", \"operation\", \"say\", \"thing\", \"option\", \"research\", \"obviously\", \"take\", \"get\", \"treatment\", \"patient\", \"month\", \"pain\", \"ibuprofen\", \"time\", \"do\", \"half\", \"call\", \"big\", \"know\", \"lot\", \"stomach\", \"anti\", \"protect\", \"clock\", \"medication\", \"population\", \"advantage\", \"ago\", \"confirm\", \"doctor\", \"regularly\", \"take\", \"damage\", \"randomised\", \"third\", \"ongoing\", \"bad\", \"questionnaire\", \"painkiller\", \"give\", \"often\", \"quite\", \"would\", \"people\", \"operation\", \"night\", \"gallstone\", \"say\", \"get\", \"good\", \"problem\", \"option\", \"send\", \"come\", \"study\", \"go\", \"need\", \"thank\", \"may\", \"year\", \"stop\", \"even\", \"sometimes\", \"number\", \"follow\", \"future\", \"term\", \"day\", \"fine\", \"information\", \"long\", \"contact\", \"twice\", \"ever\", \"admit\", \"today\", \"dictate\", \"stone\", \"general\", \"along\", \"practitioner\", \"much\", \"major\", \"touch\", \"separate\", \"share\", \"relevant\", \"come\", \"finish\", \"letter\", \"happy\", \"point\", \"week\", \"think\", \"say\", \"consent\", \"problem\", \"part\", \"thing\", \"study\", \"take\", \"happen\", \"go\", \"time\", \"good\", \"research\", \"mean\", \"pop\", \"question\", \"sheet\", \"phone\", \"back\", \"ask\", \"regard\", \"clear\", \"bit\", \"first\", \"side\", \"chance\", \"read\", \"run\", \"clinical\", \"material\", \"manage\", \"slightly\", \"less\", \"purpose\", \"disappear\", \"later\", \"use\", \"already\", \"family\", \"paracetamol\", \"feel\", \"strong\", \"common\", \"work\", \"discuss\", \"send\", \"gallstone\", \"information\", \"could\", \"secretary\", \"condition\", \"need\", \"give\", \"people\", \"happen\", \"quite\", \"research\", \"would\", \"good\", \"think\", \"sign\", \"name\", \"box\", \"initial\", \"bite\", \"apologise\", \"print\", \"capital\", \"date\", \"next\", \"press\", \"point\", \"letter\", \"finish\", \"put\", \"think\", \"fine\", \"get\", \"kind\", \"sorry\", \"stop\", \"translator\", \"meantime\", \"surname\", \"report\", \"notice\", \"fry\", \"chap\", \"mistake\", \"write\", \"sir\", \"first\", \"thank\", \"problem\", \"small\", \"whenever\", \"need\", \"moment\"], \"Freq\": [12.0, 7.0, 6.0, 9.0, 11.0, 7.0, 7.0, 5.0, 4.0, 4.0, 7.0, 5.0, 5.0, 3.0, 3.0, 3.0, 3.0, 3.0, 3.0, 3.0, 5.0, 13.0, 8.0, 7.0, 16.0, 4.0, 16.0, 3.0, 4.0, 8.0, 7.5911496478821, 5.548947068434952, 4.278858420226453, 3.6178826475584382, 5.59008297347837, 2.958344279044245, 2.9577187509301623, 2.949769717374149, 2.2964073602142236, 2.2938966175795183, 2.2880821148082995, 5.5190022672904915, 11.389904852372522, 1.634439117033063, 1.6344349617619935, 1.6344303270365699, 1.6344290484916253, 1.6337015564182213, 1.633689889695603, 1.6330541332219646, 1.632765022246396, 1.6316427794213864, 1.627821208582362, 1.627053282525089, 1.6270058165440253, 2.9576992531197592, 2.9575397546379367, 1.6046837003585022, 1.562452401933909, 2.845014055166315, 2.2922747833174566, 7.611452302327831, 4.830701751705473, 8.830228467007394, 2.8101542076190706, 2.7131532401356915, 2.8052538644831486, 2.122451731431829, 3.3841604764380278, 3.666664251369794, 3.09702389389997, 2.6285594326115787, 2.2963822687696887, 2.105938524383393, 2.9214541021251805, 2.451439564909736, 5.522813253999499, 4.215304216634851, 3.558028549110574, 11.15540196628383, 4.8725619632265875, 6.75730140811131, 2.9104069193862894, 2.259741246348661, 2.252947012099399, 2.2599305165484784, 4.208912417361946, 3.5684399821121615, 1.6111281488916114, 1.6111281488916114, 1.6111281488916114, 1.6111281488916114, 1.6111279916904488, 1.611127834489286, 1.6110846041695603, 1.610646641730448, 1.6106416112932433, 1.6058076755420911, 1.6048347575465178, 11.073342959386222, 1.604468007234081, 1.604454330732931, 1.6041806435087764, 1.6040949688751382, 1.60380021669519, 2.9141954674058916, 2.792112730098044, 3.227496126936309, 2.2613629335424457, 4.364175604068027, 10.855810505744843, 4.085977020947944, 4.453358338851788, 2.9162233624039358, 2.9132915607207166, 4.07444002762186, 4.356583731119534, 3.0656565867923837, 2.584052589712646, 2.585981762380553, 2.8884619514841967, 2.2190569566530125, 3.4757972497387133, 3.584408476213041, 2.536910790658109, 11.32689096141447, 4.09462560682308, 1.960542886625186, 6.16365253391268, 1.5060777848353821, 2.384019580336348, 1.960582772616635, 1.0831510271452083, 1.083150314895361, 1.0831498400621293, 1.0831483364235628, 3.6510569780305233, 2.399284677341454, 1.5219563663756297, 2.3871712067717845, 1.0756128913168588, 0.6444560866411184, 0.6444560075022465, 0.6444548995580396, 0.6444547412802957, 0.6444545830025519, 0.6444545434331159, 0.644454464294244, 0.6444543060165001, 0.6444541873081923, 0.6444540685998844, 0.6444521296975223, 0.6444518527114705, 0.6444517735725986, 0.6444516152948548, 1.905695691439389, 1.961869254118605, 1.9368626368130875, 1.5317088078403671, 1.5478885919271512, 1.0754644267931326, 1.7332607947964607, 2.028065754926789, 1.0832257342403029, 1.3755693963149735, 1.5794634190467376, 1.54107615955433, 2.0103081000116165, 2.1978814714645742, 1.0968517069301524, 1.1880295006048387, 1.1282198233162777, 1.0951218894676733, 1.0832218564355787, 1.9970023899971467, 1.5667971395952307, 1.5620007196552925, 1.5617830334206833, 1.528594070840585, 2.4698214183770335, 2.43282407839341, 1.1154026306558753, 1.1153994352616057, 1.1137232512551143, 1.0697464379090627, 2.016287260120682, 2.0168298114393566, 0.7756770992575253, 0.6636408510876697, 0.6636408510876697, 0.6636408510876697, 0.6636408510876697, 0.6636406513755279, 0.6636405848048139, 0.6636399856683883, 0.6636399856683883, 0.6636388539662512, 0.663639253390535, 0.6636378554055421, 0.6633886812232355, 0.6619219286828238, 0.6555790044871644, 1.1154043614944378, 1.1153941761752038, 2.006835150730091, 1.109365465749378, 2.941025973802258, 2.0189227946858748, 1.5612719034789921, 0.9965064701258418, 0.9964787101381256, 1.115377600067431, 2.2814507959275216, 1.3516519091373462, 1.5671470352677404, 1.0892544530657509, 1.40035877142153, 1.115361955949653, 1.9980792378659662, 1.1153830588659746, 1.0380017269680617, 5.809838585886885, 5.892009508718921, 3.225844719012158, 3.225844719012158, 2.928589013103909, 2.928589013103909, 2.928589013103909, 2.928589013103909, 2.928589013103909, 2.928589013103909, 2.928589013103909, 3.1178616718175554, 2.6396621533876243, 2.634040840920112, 3.23140546025541, 2.723598424550738, 2.547896142920454, 3.3155513078544656, 0.3414831860117446, 0.3349364209515595, 1.9804365969990776, 0.24346811805163046, 0.2419193497043001, 0.14485836370457578, 0.14485836370457578, 0.14485831638330682, 0.14485831638330682, 0.14485813656248478, 0.14336413785184138, 0.14336412838758758, 0.14336412838758758, 0.2520037392604149, 0.5290089706177129, 0.24564400678364226, 0.17022302761217056, 0.15190708439305986, 0.1617666411361221, 0.14603241385156973], \"Total\": [12.0, 7.0, 6.0, 9.0, 11.0, 7.0, 7.0, 5.0, 4.0, 4.0, 7.0, 5.0, 5.0, 3.0, 3.0, 3.0, 3.0, 3.0, 3.0, 3.0, 5.0, 13.0, 8.0, 7.0, 16.0, 4.0, 16.0, 3.0, 4.0, 8.0, 8.36205791900991, 6.3569200738415885, 5.05066777715552, 4.390110202971906, 6.810672095862403, 3.7282928110161313, 3.727824106383655, 3.7210632181335943, 3.066349933907879, 3.0642059351384106, 3.0661222159796386, 7.662877292718855, 16.420495922558423, 2.404368300455227, 2.4043678490969373, 2.404365284319772, 2.404364899363749, 2.404120843493973, 2.4041173032990035, 2.40390635643175, 2.403722986397244, 2.4034365198207572, 2.4042054302999754, 2.403973663844426, 2.4039704362152703, 4.380627015006651, 4.38051502679796, 2.3942678252984435, 2.3439463521014945, 4.335268682388435, 3.517838247360329, 13.807432959558287, 10.016747602898764, 22.377720261113346, 5.259448690675798, 5.029640464776017, 5.464480892856807, 3.7159823199619435, 8.301925625577566, 10.027803660086269, 7.446318718463905, 5.680233277946995, 4.847265171874821, 4.603498237620333, 16.45664613841429, 11.720285552335653, 6.300373253248239, 4.995512549330342, 4.339687817611845, 13.921167580715482, 6.099475843240911, 8.459274588895754, 3.6905305728480475, 3.0380024389062714, 3.0346846051164094, 3.136691447220607, 5.884086440091484, 5.233487626580855, 2.3854855093793654, 2.385485530754171, 2.3854855707087004, 2.3854856150102632, 2.3854854332922555, 2.385485401121615, 2.3854690850150293, 2.3853277076130617, 2.3853261356832274, 2.383720671963172, 2.3834766080678538, 16.45664613841429, 2.3855100869435293, 2.385506667367319, 2.385479270815944, 2.3854795801044837, 2.3852645512200237, 4.349688876024635, 4.352724646484793, 5.141632415847136, 3.489031580412735, 7.430448989993852, 22.377720261113346, 7.401681504660284, 8.301925625577566, 5.014531919564272, 5.497485303524335, 10.027803660086269, 11.720285552335653, 6.787214128622774, 5.63985798327178, 5.680233277946995, 7.715141331301702, 4.821251748618454, 13.807432959558287, 16.420495922558423, 10.016747602898764, 12.68430521239333, 5.0589620745621176, 2.8352214088644385, 9.005708709538343, 2.402899796412696, 3.9342241842957484, 3.4971850901820365, 1.9578116046825773, 1.9578114842844498, 1.9578119161088863, 1.957811711542732, 7.04269552786891, 4.6309930605146645, 3.0429735564654976, 5.037011485476629, 2.413290302783627, 1.5191059512980354, 1.5191059683837818, 1.5191062391964842, 1.519106280630882, 1.5191062192017424, 1.5191062961310557, 1.5191062366423291, 1.5191063280047628, 1.5191063091525254, 1.5191062903002888, 1.5191077689662527, 1.519107808779628, 1.5191080015612048, 1.519108071409003, 4.821251748618454, 5.424318169782545, 5.40493249126466, 5.381025236662705, 5.5187108288369835, 3.2855244155781658, 7.275938960172079, 10.027803660086269, 3.6726621073146912, 5.63985798327178, 7.662877292718855, 7.446318718463905, 13.807432959558287, 16.45664613841429, 4.287660409018047, 16.420495922558423, 8.459274588895754, 6.787214128622774, 4.847265171874821, 2.8933992593563937, 2.4354223516286875, 2.4372892444163616, 2.4373455671823194, 2.452823184246622, 4.0015704604287485, 3.999837540220507, 1.983926799220274, 1.9839251172535084, 1.9836457959135445, 2.1535911965270564, 4.190492726879662, 4.210595656447178, 1.7373646128695803, 1.532164980217205, 1.532164980217205, 1.532164980217205, 1.5321649998673506, 1.5321649131406065, 1.5321649059820208, 1.5321648980412002, 1.5321648982337468, 1.5321634578863244, 1.5321647858808043, 1.532162691199833, 1.5321575915214392, 1.5329280362419826, 1.535744025207314, 2.6295336885328533, 2.6364621410478035, 4.869324916508126, 2.6485857221881606, 7.715141331301702, 5.497485303524335, 4.6309930605146645, 2.689305766208501, 2.689318743621134, 3.183233138141392, 10.016747602898764, 5.141632415847136, 7.401681504660284, 4.287660409018047, 7.430448989993852, 4.847265171874821, 22.377720261113346, 6.787214128622774, 7.275938960172079, 6.86286620496278, 7.456878244122199, 4.260712769493785, 4.260712769493785, 3.9697528120284566, 3.9697528120284566, 3.9697528120284566, 3.9697528120284566, 3.9697528120284566, 3.9697528120284566, 3.9697528120284566, 5.5187108288369835, 5.40493249126466, 5.424318169782545, 7.205604631501418, 7.275938960172079, 7.04269552786891, 11.720285552335653, 1.3783646796258566, 1.4024774578936277, 9.005708709538343, 1.2776245953764322, 1.2864713023815055, 1.1790141256842668, 1.1790141256842668, 1.1790142167794255, 1.1790142334221039, 1.179014910388911, 1.1875508139475845, 1.1875508244605955, 1.1875508244605955, 2.1535911965270564, 12.68430521239333, 5.63985798327178, 4.335268682388435, 1.7919591784573798, 10.016747602898764, 2.4960261950049327], \"Category\": [\"Default\", \"Default\", \"Default\", \"Default\", \"Default\", \"Default\", \"Default\", \"Default\", \"Default\", \"Default\", \"Default\", \"Default\", \"Default\", \"Default\", \"Default\", \"Default\", \"Default\", \"Default\", \"Default\", \"Default\", \"Default\", \"Default\", \"Default\", \"Default\", \"Default\", \"Default\", \"Default\", \"Default\", \"Default\", \"Default\", \"Topic1\", \"Topic1\", \"Topic1\", \"Topic1\", \"Topic1\", \"Topic1\", \"Topic1\", \"Topic1\", \"Topic1\", \"Topic1\", \"Topic1\", \"Topic1\", \"Topic1\", \"Topic1\", \"Topic1\", \"Topic1\", \"Topic1\", \"Topic1\", \"Topic1\", \"Topic1\", \"Topic1\", \"Topic1\", \"Topic1\", \"Topic1\", \"Topic1\", \"Topic1\", \"Topic1\", \"Topic1\", \"Topic1\", \"Topic1\", \"Topic1\", \"Topic1\", \"Topic1\", \"Topic1\", \"Topic1\", \"Topic1\", \"Topic1\", \"Topic1\", \"Topic1\", \"Topic1\", \"Topic1\", \"Topic1\", \"Topic1\", \"Topic1\", \"Topic1\", \"Topic1\", \"Topic2\", \"Topic2\", \"Topic2\", \"Topic2\", \"Topic2\", \"Topic2\", \"Topic2\", \"Topic2\", \"Topic2\", \"Topic2\", \"Topic2\", \"Topic2\", \"Topic2\", \"Topic2\", \"Topic2\", \"Topic2\", \"Topic2\", \"Topic2\", \"Topic2\", \"Topic2\", \"Topic2\", \"Topic2\", \"Topic2\", \"Topic2\", \"Topic2\", \"Topic2\", \"Topic2\", \"Topic2\", \"Topic2\", \"Topic2\", \"Topic2\", \"Topic2\", \"Topic2\", \"Topic2\", \"Topic2\", \"Topic2\", \"Topic2\", \"Topic2\", \"Topic2\", \"Topic2\", \"Topic2\", \"Topic2\", \"Topic2\", \"Topic2\", \"Topic2\", \"Topic2\", \"Topic2\", \"Topic2\", \"Topic2\", \"Topic3\", \"Topic3\", \"Topic3\", \"Topic3\", \"Topic3\", \"Topic3\", \"Topic3\", \"Topic3\", \"Topic3\", \"Topic3\", \"Topic3\", \"Topic3\", \"Topic3\", \"Topic3\", \"Topic3\", \"Topic3\", \"Topic3\", \"Topic3\", \"Topic3\", \"Topic3\", \"Topic3\", \"Topic3\", \"Topic3\", \"Topic3\", \"Topic3\", \"Topic3\", \"Topic3\", \"Topic3\", \"Topic3\", \"Topic3\", \"Topic3\", \"Topic3\", \"Topic3\", \"Topic3\", \"Topic3\", \"Topic3\", \"Topic3\", \"Topic3\", \"Topic3\", \"Topic3\", \"Topic3\", \"Topic3\", \"Topic3\", \"Topic3\", \"Topic3\", \"Topic3\", \"Topic3\", \"Topic3\", \"Topic3\", \"Topic4\", \"Topic4\", \"Topic4\", \"Topic4\", \"Topic4\", \"Topic4\", \"Topic4\", \"Topic4\", \"Topic4\", \"Topic4\", \"Topic4\", \"Topic4\", \"Topic4\", \"Topic4\", \"Topic4\", \"Topic4\", \"Topic4\", \"Topic4\", \"Topic4\", \"Topic4\", \"Topic4\", \"Topic4\", \"Topic4\", \"Topic4\", \"Topic4\", \"Topic4\", \"Topic4\", \"Topic4\", \"Topic4\", \"Topic4\", \"Topic4\", \"Topic4\", \"Topic4\", \"Topic4\", \"Topic4\", \"Topic4\", \"Topic4\", \"Topic4\", \"Topic4\", \"Topic4\", \"Topic4\", \"Topic4\", \"Topic4\", \"Topic4\", \"Topic4\", \"Topic4\", \"Topic4\", \"Topic5\", \"Topic5\", \"Topic5\", \"Topic5\", \"Topic5\", \"Topic5\", \"Topic5\", \"Topic5\", \"Topic5\", \"Topic5\", \"Topic5\", \"Topic5\", \"Topic5\", \"Topic5\", \"Topic5\", \"Topic5\", \"Topic5\", \"Topic5\", \"Topic5\", \"Topic5\", \"Topic5\", \"Topic5\", \"Topic5\", \"Topic5\", \"Topic5\", \"Topic5\", \"Topic5\", \"Topic5\", \"Topic5\", \"Topic5\", \"Topic5\", \"Topic5\", \"Topic5\", \"Topic5\", \"Topic5\", \"Topic5\", \"Topic5\", \"Topic5\"], \"logprob\": [30.0, 29.0, 28.0, 27.0, 26.0, 25.0, 24.0, 23.0, 22.0, 21.0, 20.0, 19.0, 18.0, 17.0, 16.0, 15.0, 14.0, 13.0, 12.0, 11.0, 10.0, 9.0, 8.0, 7.0, 6.0, 5.0, 4.0, 3.0, 2.0, 1.0, -3.8113999366760254, -4.12470006942749, -4.3846001625061035, -4.5524001121521, -4.117300033569336, -4.753699779510498, -4.753900051116943, -4.7565999031066895, -5.006999969482422, -5.0081000328063965, -5.0106000900268555, -4.130099773406982, -3.405600070953369, -5.3470001220703125, -5.3470001220703125, -5.3470001220703125, -5.3470001220703125, -5.347499847412109, -5.347499847412109, -5.347899913787842, -5.348100185394287, -5.348700046539307, -5.351099967956543, -5.351600170135498, -5.351600170135498, -4.753900051116943, -4.754000186920166, -5.3653998374938965, -5.392099857330322, -4.792799949645996, -5.008800029754639, -3.8087000846862793, -4.263299942016602, -3.6602001190185547, -4.805099964141846, -4.840199947357178, -4.80679988861084, -5.0858001708984375, -4.619200229644775, -4.539100170135498, -4.707900047302246, -4.8719000816345215, -5.006999969482422, -5.093599796295166, -4.766300201416016, -4.941699981689453, -4.1128997802734375, -4.3831000328063965, -4.552599906921387, -3.409899950027466, -4.2382001876831055, -3.9112000465393066, -4.753499984741211, -5.0065999031066895, -5.0096001625061035, -5.006499767303467, -4.3846001625061035, -4.549699783325195, -5.344900131225586, -5.344900131225586, -5.344900131225586, -5.344900131225586, -5.344900131225586, -5.344900131225586, -5.344900131225586, -5.345200061798096, -5.345200061798096, -5.348199844360352, -5.348800182342529, -3.41729998588562, -5.348999977111816, -5.348999977111816, -5.3491997718811035, -5.349299907684326, -5.349400043487549, -4.752200126647949, -4.795000076293945, -4.650100231170654, -5.005899906158447, -4.348400115966797, -3.4370999336242676, -4.414299964904785, -4.328199863433838, -4.751500129699707, -4.752500057220459, -4.417099952697754, -4.350100040435791, -4.701600074768066, -4.872499942779541, -4.871699810028076, -4.761099815368652, -5.024700164794922, -4.576000213623047, -4.545199871063232, -4.890900135040283, -2.7083001136779785, -3.725800037384033, -4.462299823760986, -3.316800117492676, -4.72599983215332, -4.26669979095459, -4.462299823760986, -5.055600166320801, -5.055600166320801, -5.055600166320801, -5.055600166320801, -3.8405001163482666, -4.260300159454346, -4.7154998779296875, -4.265399932861328, -5.062600135803223, -5.57480001449585, -5.57480001449585, -5.574900150299072, -5.574900150299072, -5.574900150299072, -5.574900150299072, -5.574900150299072, -5.574900150299072, -5.574900150299072, -5.574900150299072, -5.574900150299072, -5.574900150299072, -5.574900150299072, -5.574900150299072, -4.490699768066406, -4.461599826812744, -4.474400043487549, -4.709099769592285, -4.698599815368652, -5.062699794769287, -4.5854997634887695, -4.428400039672852, -5.055600166320801, -4.8165998458862305, -4.678400039672852, -4.703000068664551, -4.43720006942749, -4.3480000495910645, -5.043099880218506, -4.963200092315674, -5.014900207519531, -5.044600009918213, -5.055600166320801, -4.270899772644043, -4.513500213623047, -4.516600131988525, -4.51669979095459, -4.5381999015808105, -4.0584001541137695, -4.073500156402588, -4.853300094604492, -4.853300094604492, -4.854899883270264, -4.895100116729736, -4.261300086975098, -4.261000156402588, -5.216599941253662, -5.372600078582764, -5.372600078582764, -5.372600078582764, -5.372600078582764, -5.372600078582764, -5.372600078582764, -5.372600078582764, -5.372600078582764, -5.372600078582764, -5.372600078582764, -5.372600078582764, -5.373000144958496, -5.375199794769287, -5.384799957275391, -4.853300094604492, -4.853400230407715, -4.265999794006348, -4.858799934387207, -3.8838000297546387, -4.260000228881836, -4.517099857330322, -4.966100215911865, -4.966100215911865, -4.853400230407715, -4.137800216674805, -4.661200046539307, -4.513299942016602, -4.877099990844727, -4.625800132751465, -4.853400230407715, -4.270400047302246, -4.853400230407715, -4.925300121307373, -2.6386001110076904, -2.624500036239624, -3.226900100708008, -3.226900100708008, -3.3236000537872314, -3.3236000537872314, -3.3236000537872314, -3.3236000537872314, -3.3236000537872314, -3.3236000537872314, -3.3236000537872314, -3.260999917984009, -3.427500009536743, -3.4296000003814697, -3.2251999378204346, -3.396199941635132, -3.4628000259399414, -3.19950008392334, -5.472599983215332, -5.4918999671936035, -3.7147998809814453, -5.8109002113342285, -5.817299842834473, -6.330100059509277, -6.330100059509277, -6.330100059509277, -6.330100059509277, -6.330100059509277, -6.3404998779296875, -6.3404998779296875, -6.3404998779296875, -5.776400089263916, -5.034900188446045, -5.802000045776367, -6.168799877166748, -6.282599925994873, -6.219699859619141, -6.322000026702881], \"loglift\": [30.0, 29.0, 28.0, 27.0, 26.0, 25.0, 24.0, 23.0, 22.0, 21.0, 20.0, 19.0, 18.0, 17.0, 16.0, 15.0, 14.0, 13.0, 12.0, 11.0, 10.0, 9.0, 8.0, 7.0, 6.0, 5.0, 4.0, 3.0, 2.0, 1.0, 1.045, 1.0058, 0.9759, 0.9483, 0.9442, 0.9104, 0.9103, 0.9095, 0.8526, 0.8522, 0.849, 0.8136, 0.7759, 0.7558, 0.7558, 0.7558, 0.7558, 0.7554, 0.7554, 0.7551, 0.755, 0.7544, 0.7518, 0.7514, 0.7514, 0.749, 0.7489, 0.7416, 0.7362, 0.7205, 0.7134, 0.5462, 0.4125, 0.2119, 0.515, 0.5245, 0.475, 0.5817, 0.2444, 0.1357, 0.2645, 0.3712, 0.3947, 0.3597, -0.5869, -0.4229, 1.0265, 0.9884, 0.9597, 0.9368, 0.9337, 0.9336, 0.9208, 0.8623, 0.8604, 0.8304, 0.8232, 0.7753, 0.7658, 0.7658, 0.7658, 0.7658, 0.7658, 0.7658, 0.7658, 0.7656, 0.7655, 0.7632, 0.7627, 0.7621, 0.7616, 0.7616, 0.7615, 0.7614, 0.7613, 0.7577, 0.7142, 0.6926, 0.7246, 0.6261, 0.4349, 0.5641, 0.5354, 0.6162, 0.5232, 0.2576, 0.1686, 0.3635, 0.3778, 0.3714, 0.1758, 0.3823, -0.2211, -0.3637, -0.2151, 1.7314, 1.6331, 1.4757, 1.4654, 1.3774, 1.3436, 1.2659, 1.2526, 1.2526, 1.2526, 1.2526, 1.1876, 1.187, 1.1517, 1.0979, 1.0365, 0.9871, 0.9871, 0.9871, 0.9871, 0.9871, 0.9871, 0.9871, 0.9871, 0.9871, 0.9871, 0.9871, 0.9871, 0.9871, 0.9871, 0.9164, 0.8276, 0.8183, 0.5881, 0.5733, 0.7278, 0.41, 0.2463, 0.6236, 0.4336, 0.2653, 0.2693, -0.0823, -0.1687, 0.4813, -0.7817, -0.17, 0.0204, 0.3461, 1.6467, 1.5764, 1.5726, 1.5724, 1.5446, 1.535, 1.5203, 1.4417, 1.4416, 1.4403, 1.3178, 1.286, 1.2814, 1.2111, 1.1808, 1.1808, 1.1808, 1.1808, 1.1808, 1.1808, 1.1808, 1.1808, 1.1808, 1.1808, 1.1808, 1.1804, 1.1777, 1.1663, 1.1599, 1.1573, 1.1311, 1.1473, 1.0531, 1.0158, 0.9302, 1.0247, 1.0247, 0.9688, 0.5381, 0.6815, 0.4651, 0.6473, 0.3487, 0.5483, -0.3984, 0.2117, 0.0702, 2.4154, 2.3464, 2.3037, 2.3037, 2.2778, 2.2778, 2.2778, 2.2778, 2.2778, 2.2778, 2.2778, 2.011, 1.8653, 1.8596, 1.78, 1.5993, 1.5652, 1.3193, 1.1866, 1.1499, 1.0674, 0.9242, 0.9109, 0.4853, 0.4853, 0.4853, 0.4853, 0.4853, 0.4677, 0.4677, 0.4677, 0.4365, -0.5952, -0.5518, -0.6555, 0.1142, -1.5439, -0.2567]}, \"token.table\": {\"Topic\": [1, 2, 3, 3, 2, 2, 3, 4, 2, 5, 2, 4, 1, 1, 4, 2, 2, 4, 5, 1, 5, 2, 5, 1, 2, 1, 4, 1, 4, 4, 2, 2, 3, 2, 4, 1, 3, 4, 2, 1, 3, 4, 2, 3, 4, 2, 4, 1, 2, 5, 3, 3, 4, 1, 4, 1, 2, 2, 1, 3, 3, 1, 4, 4, 3, 5, 3, 5, 4, 3, 3, 1, 3, 2, 4, 3, 1, 2, 3, 4, 5, 2, 4, 1, 2, 3, 1, 2, 3, 4, 2, 1, 3, 4, 1, 2, 3, 2, 4, 3, 4, 5, 1, 4, 1, 2, 3, 4, 4, 4, 3, 5, 1, 2, 1, 2, 3, 2, 3, 4, 3, 1, 4, 4, 3, 4, 1, 2, 3, 4, 2, 1, 1, 2, 3, 3, 5, 1, 1, 2, 4, 5, 1, 2, 1, 1, 3, 1, 1, 1, 2, 3, 4, 2, 4, 2, 1, 2, 1, 2, 1, 2, 3, 1, 2, 4, 1, 3, 2, 1, 2, 3, 4, 4, 3, 5, 4, 2, 3, 5, 5, 1, 2, 3, 4, 2, 4, 1, 2, 3, 5, 4, 1, 2, 1, 2, 3, 4, 2, 4, 4, 2, 3, 1, 3, 4, 1, 4, 1, 2, 3, 2, 4, 1, 2, 1, 2, 4, 3, 3, 4, 2, 4, 5, 1, 4, 1, 2, 2, 3, 1, 2, 3, 3, 5, 2, 4, 1, 2, 3, 4, 1, 1, 1, 1, 2, 3, 1, 1, 3, 3, 5, 1, 2, 3, 4, 2, 3, 4, 5, 2, 2, 3, 3, 3, 2, 3, 4, 4, 1, 2, 1, 3, 2, 1, 1, 2, 4, 1, 2, 3, 4, 3], \"Freq\": [0.5489999981373551, 0.3659999987582368, 0.1829999993791184, 0.6582819242451712, 0.8384095239647171, 0.8384592161558172, 0.6582818079993494, 0.6526722036397469, 0.8384037438985011, 0.7557145600879531, 0.2500101541486285, 0.500020308297257, 0.6526976457637008, 0.24990188474473468, 0.49980376948946936, 0.8384814166533573, 0.6376145163312704, 0.504122259155376, 0.7557145600879531, 0.8319049374794931, 0.7041075431039746, 0.6590470708646445, 0.7557145600879531, 0.6848334701226431, 0.22827782337421434, 0.4749921776358746, 0.4749921776358746, 0.804758999992166, 0.5040512826332743, 0.6526712285632821, 0.8384037142858207, 0.41483002844087263, 0.41483002844087263, 0.37929617286390166, 0.37929617286390166, 0.3141460133780444, 0.3141460133780444, 0.3141460133780444, 0.8384597687004093, 0.5445641176782045, 0.2722820588391022, 0.2722820588391022, 0.39706083771431966, 0.39706083771431966, 0.19853041885715983, 0.37184317698832847, 0.37184317698832847, 0.6522412781019811, 0.8383951134587446, 0.7557145600879531, 0.5107743477599345, 0.6582817889375732, 0.6526712634865756, 0.37755999045929994, 0.37755999045929994, 0.8318193180393092, 0.8128912471479263, 0.8390244811498196, 0.8321418034161998, 0.8323276746645085, 0.6582819316490247, 0.8319558696003381, 0.6526743760131068, 0.6511501810108019, 0.5679643517416666, 0.42597326380625, 0.3687099350369003, 0.5530649025553505, 0.46434067970403525, 0.5107743756387282, 0.5107744070494533, 0.8809703235669062, 0.14682838726115102, 0.5457040509188367, 0.3638027006125578, 0.6582817822208068, 0.17064430649485618, 0.34128861298971236, 0.08532215324742809, 0.08532215324742809, 0.25596645974228427, 0.5834722822179267, 0.19449076073930888, 0.6698945057370792, 0.24359800208621063, 0.06089950052155266, 0.1473358554849241, 0.44200756645477224, 0.1473358554849241, 0.1473358554849241, 0.6583273187627958, 0.4664548516467135, 0.23322742582335676, 0.23322742582335676, 0.3716763835957019, 0.18583819179785094, 0.3716763835957019, 0.8197425694440142, 0.16394851388880285, 0.4318728129939651, 0.4318728129939651, 0.7041075431039746, 0.568530972537107, 0.2842654862685535, 0.7919744826797449, 0.6797996665626498, 0.16994991664066245, 0.16994991664066245, 0.6526718770460279, 0.6526712601859675, 0.37003237380528964, 0.5550485607079345, 0.6848509779437785, 0.22828365931459282, 0.9438533016467681, 0.3286259250841237, 0.6572518501682474, 0.7643086762418281, 0.19107716906045702, 0.19107716906045702, 0.6582817847474816, 0.9111388587220842, 0.6526712201927185, 0.6526712285632821, 0.7906760203072333, 0.6912284896502251, 0.5704019901018416, 0.19013399670061384, 0.19013399670061384, 0.19013399670061384, 0.8384037781525082, 0.8062211857568858, 0.8012736420805261, 0.9217252871892574, 0.6582817765781495, 0.13410437548557788, 0.8046262529134672, 0.8318203615079343, 0.4991640199213007, 0.29949841195278043, 0.1996656079685203, 0.7557145600879531, 0.3988408154701279, 0.5982612232051918, 0.8046578292176472, 0.2859442592293414, 0.5718885184586828, 0.8318204946883256, 0.831956986604516, 0.4344522136786679, 0.21722610683933394, 0.21722610683933394, 0.21722610683933394, 0.5732249634047193, 0.28661248170235964, 0.83840583532155, 0.3613619460474617, 0.4818159280632823, 0.5281473230416849, 0.5281473230416849, 0.14366611050430367, 0.7901636077736701, 0.07183305525215183, 0.22974115783032306, 0.6892234734909692, 0.6523463439624531, 0.7829957039376195, 0.2609985679792065, 0.8007186370768317, 0.13510443530573085, 0.5404177412229234, 0.13510443530573085, 0.2702088706114617, 0.8153869438470326, 0.36240347828144515, 0.5436052174221677, 0.8212127964837397, 0.838403789459216, 0.6582817684088172, 0.7557145600879531, 0.7557145600879531, 0.17730942923847925, 0.5319282877154378, 0.17730942923847925, 0.17730942923847925, 0.8384037298560657, 0.6526712635685965, 0.2775617178961516, 0.1387808589480758, 0.1387808589480758, 0.4163425768442274, 0.8205837713278565, 0.2299015006595006, 0.6897045019785019, 0.1345813693555586, 0.5383254774222344, 0.1345813693555586, 0.1345813693555586, 0.8383963152814115, 0.5755844182576704, 0.5040508553002165, 0.8391103958101288, 0.6582810129318054, 0.41260379390930696, 0.20630189695465348, 0.20630189695465348, 0.8318194741920147, 0.6526712285632821, 0.398890937197068, 0.398890937197068, 0.199445468598534, 0.37184138264455496, 0.37184138264455496, 0.5964641053391075, 0.3976427368927383, 0.2592305071438736, 0.38884576071581034, 0.38884576071581034, 0.6582811267380344, 0.6582810431992251, 0.8205648090812537, 0.477270843872636, 0.477270843872636, 0.8742702860302287, 0.8318756686904487, 0.6526712571365548, 0.691998632561617, 0.23066621085387234, 0.2541797195980093, 0.5083594391960186, 0.8353284368889272, 0.8384037514108993, 0.6582818155569651, 0.6662440673486514, 0.2220813557828838, 0.38029556508855733, 0.38029556508855733, 0.5793980693900054, 0.21727427602125202, 0.14484951734750134, 0.07242475867375067, 0.8319061625052732, 0.8319791636845246, 0.9567022947560762, 0.18229716886220115, 0.6684229524947375, 0.1215314459081341, 0.6522897194301799, 0.8532618497035459, 0.5107742943905873, 0.8672134433703422, 0.0788375857609402, 0.4028836413570634, 0.2685890942380423, 0.2685890942380423, 0.13429454711902114, 0.13743930583721523, 0.27487861167443045, 0.13743930583721523, 0.41231791751164565, 0.8384059440247862, 0.8274941221542446, 0.11821344602203493, 0.6582818068925448, 0.6582811439905257, 0.9523245304405771, 0.41437202927743205, 0.41437202927743205, 0.6526713113466606, 0.5382156931307689, 0.26910784656538445, 0.6087308286363937, 0.30436541431819686, 0.5580484265611769, 0.8320426319164367, 0.4107345544388591, 0.20536727721942954, 0.4107345544388591, 0.4021857407718005, 0.4915603498322006, 0.044687304530200055, 0.08937460906040011, 0.7054122805883577], \"Term\": [\"absolutely\", \"absolutely\", \"absolutely\", \"admit\", \"advantage\", \"ago\", \"along\", \"already\", \"anti\", \"apologise\", \"ask\", \"ask\", \"avoid\", \"back\", \"back\", \"bad\", \"big\", \"bit\", \"bite\", \"blood\", \"box\", \"call\", \"capital\", \"case\", \"case\", \"chance\", \"chance\", \"change\", \"clear\", \"clinical\", \"clock\", \"come\", \"come\", \"common\", \"common\", \"condition\", \"condition\", \"condition\", \"confirm\", \"consent\", \"consent\", \"consent\", \"contact\", \"contact\", \"contact\", \"could\", \"could\", \"cut\", \"damage\", \"date\", \"day\", \"dictate\", \"disappear\", \"discuss\", \"discuss\", \"discussion\", \"do\", \"doctor\", \"entirely\", \"even\", \"ever\", \"eye\", \"family\", \"feel\", \"fine\", \"fine\", \"finish\", \"finish\", \"first\", \"follow\", \"future\", \"gallbladder\", \"gallbladder\", \"gallstone\", \"gallstone\", \"general\", \"get\", \"get\", \"get\", \"get\", \"get\", \"give\", \"give\", \"go\", \"go\", \"go\", \"good\", \"good\", \"good\", \"good\", \"half\", \"happen\", \"happen\", \"happen\", \"happy\", \"happy\", \"happy\", \"ibuprofen\", \"ibuprofen\", \"information\", \"information\", \"initial\", \"keep\", \"keep\", \"keyhole\", \"know\", \"know\", \"know\", \"later\", \"less\", \"letter\", \"letter\", \"line\", \"line\", \"liver\", \"long\", \"long\", \"lot\", \"lot\", \"lot\", \"major\", \"make\", \"manage\", \"material\", \"may\", \"mean\", \"medical\", \"medical\", \"medical\", \"medical\", \"medication\", \"mind\", \"moment\", \"month\", \"much\", \"name\", \"name\", \"necessary\", \"need\", \"need\", \"need\", \"next\", \"night\", \"night\", \"normally\", \"number\", \"number\", \"nurse\", \"observe\", \"obviously\", \"obviously\", \"obviously\", \"obviously\", \"often\", \"often\", \"ongoing\", \"operation\", \"operation\", \"option\", \"option\", \"pain\", \"pain\", \"pain\", \"painkiller\", \"painkiller\", \"paracetamol\", \"part\", \"part\", \"patient\", \"people\", \"people\", \"people\", \"people\", \"phone\", \"point\", \"point\", \"pop\", \"population\", \"practitioner\", \"press\", \"print\", \"problem\", \"problem\", \"problem\", \"problem\", \"protect\", \"purpose\", \"put\", \"put\", \"put\", \"put\", \"question\", \"questionnaire\", \"questionnaire\", \"quite\", \"quite\", \"quite\", \"quite\", \"randomised\", \"read\", \"regard\", \"regularly\", \"relevant\", \"research\", \"research\", \"research\", \"route\", \"run\", \"say\", \"say\", \"say\", \"secretary\", \"secretary\", \"see\", \"see\", \"send\", \"send\", \"send\", \"separate\", \"share\", \"sheet\", \"side\", \"side\", \"sign\", \"simple\", \"slightly\", \"small\", \"small\", \"sometimes\", \"sometimes\", \"stage\", \"stomach\", \"stone\", \"stop\", \"stop\", \"strong\", \"strong\", \"study\", \"study\", \"study\", \"study\", \"supply\", \"surgeon\", \"surgery\", \"take\", \"take\", \"take\", \"talk\", \"tell\", \"term\", \"thank\", \"thank\", \"thing\", \"thing\", \"thing\", \"thing\", \"think\", \"think\", \"think\", \"think\", \"third\", \"time\", \"time\", \"today\", \"touch\", \"treatment\", \"twice\", \"twice\", \"use\", \"way\", \"way\", \"week\", \"week\", \"whenever\", \"withdraw\", \"work\", \"work\", \"work\", \"would\", \"would\", \"would\", \"would\", \"year\"]}, \"R\": 30, \"lambda.step\": 0.01, \"plot.opts\": {\"xlab\": \"PC1\", \"ylab\": \"PC2\"}, \"topic.order\": [4, 5, 3, 1, 2]};\n",
              "\n",
              "function LDAvis_load_lib(url, callback){\n",
              "  var s = document.createElement('script');\n",
              "  s.src = url;\n",
              "  s.async = true;\n",
              "  s.onreadystatechange = s.onload = callback;\n",
              "  s.onerror = function(){console.warn(\"failed to load library \" + url);};\n",
              "  document.getElementsByTagName(\"head\")[0].appendChild(s);\n",
              "}\n",
              "\n",
              "if(typeof(LDAvis) !== \"undefined\"){\n",
              "   // already loaded: just create the visualization\n",
              "   !function(LDAvis){\n",
              "       new LDAvis(\"#\" + \"ldavis_el611404525252996561466529715\", ldavis_el611404525252996561466529715_data);\n",
              "   }(LDAvis);\n",
              "}else if(typeof define === \"function\" && define.amd){\n",
              "   // require.js is available: use it to load d3/LDAvis\n",
              "   require.config({paths: {d3: \"https://cdnjs.cloudflare.com/ajax/libs/d3/3.5.5/d3.min\"}});\n",
              "   require([\"d3\"], function(d3){\n",
              "      window.d3 = d3;\n",
              "      LDAvis_load_lib(\"https://cdn.rawgit.com/bmabey/pyLDAvis/files/ldavis.v1.0.0.js\", function(){\n",
              "        new LDAvis(\"#\" + \"ldavis_el611404525252996561466529715\", ldavis_el611404525252996561466529715_data);\n",
              "      });\n",
              "    });\n",
              "}else{\n",
              "    // require.js not available: dynamically load d3 & LDAvis\n",
              "    LDAvis_load_lib(\"https://cdnjs.cloudflare.com/ajax/libs/d3/3.5.5/d3.min.js\", function(){\n",
              "         LDAvis_load_lib(\"https://cdn.rawgit.com/bmabey/pyLDAvis/files/ldavis.v1.0.0.js\", function(){\n",
              "                 new LDAvis(\"#\" + \"ldavis_el611404525252996561466529715\", ldavis_el611404525252996561466529715_data);\n",
              "            })\n",
              "         });\n",
              "}\n",
              "</script>"
            ],
            "text/plain": [
              "PreparedData(topic_coordinates=              x         y  topics  cluster       Freq\n",
              "topic                                                \n",
              "3     -0.101895  0.088055       1        1  31.926214\n",
              "4     -0.101193 -0.070550       2        1  31.403435\n",
              "2     -0.000003  0.017670       3        1  15.809250\n",
              "0     -0.068799 -0.033453       4        1  13.298560\n",
              "1      0.271889 -0.001722       5        1   7.562542, topic_info=         Term       Freq      Total Category  logprob  loglift\n",
              "20      thank  12.000000  12.000000  Default  30.0000  30.0000\n",
              "340      name   7.000000   7.000000  Default  29.0000  29.0000\n",
              "369      sign   6.000000   6.000000  Default  28.0000  28.0000\n",
              "104      stop   9.000000   9.000000  Default  27.0000  27.0000\n",
              "7         get  11.000000  11.000000  Default  26.0000  26.0000\n",
              "..        ...        ...        ...      ...      ...      ...\n",
              "15    problem   0.245644   5.639858   Topic5  -5.8020  -0.5518\n",
              "245     small   0.170223   4.335269   Topic5  -6.1688  -0.6555\n",
              "178  whenever   0.151907   1.791959   Topic5  -6.2826   0.1142\n",
              "45       need   0.161767  10.016748   Topic5  -6.2197  -1.5439\n",
              "86     moment   0.146032   2.496026   Topic5  -6.3220  -0.2567\n",
              "\n",
              "[259 rows x 6 columns], token_table=      Topic      Freq        Term\n",
              "term                             \n",
              "46        1  0.549000  absolutely\n",
              "46        2  0.366000  absolutely\n",
              "46        3  0.183000  absolutely\n",
              "36        3  0.658282       admit\n",
              "211       2  0.838410   advantage\n",
              "...     ...       ...         ...\n",
              "26        1  0.402186       would\n",
              "26        2  0.491560       would\n",
              "26        3  0.044687       would\n",
              "26        4  0.089375       would\n",
              "351       3  0.705412        year\n",
              "\n",
              "[283 rows x 3 columns], R=30, lambda_step=0.01, plot_opts={'xlab': 'PC1', 'ylab': 'PC2'}, topic_order=[4, 5, 3, 1, 2])"
            ]
          },
          "metadata": {
            "tags": []
          },
          "execution_count": 135
        }
      ]
    },
    {
      "cell_type": "code",
      "metadata": {
        "id": "BEmOvyrUBLHQ"
      },
      "source": [
        ""
      ],
      "execution_count": null,
      "outputs": []
    }
  ]
}