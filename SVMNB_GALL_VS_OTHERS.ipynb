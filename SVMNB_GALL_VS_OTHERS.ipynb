{
  "nbformat": 4,
  "nbformat_minor": 0,
  "metadata": {
    "colab": {
      "name": "SVMNB.ipynb",
      "provenance": [],
      "collapsed_sections": [],
      "authorship_tag": "ABX9TyNknGZm/kjt925HzHh8c4WL",
      "include_colab_link": true
    },
    "kernelspec": {
      "name": "python3",
      "display_name": "Python 3"
    }
  },
  "cells": [
    {
      "cell_type": "markdown",
      "metadata": {
        "id": "view-in-github",
        "colab_type": "text"
      },
      "source": [
        "<a href=\"https://colab.research.google.com/github/AlexanderBelfort/MDPRKT/blob/main/SVMNB_GALL_VS_OTHERS.ipynb\" target=\"_parent\"><img src=\"https://colab.research.google.com/assets/colab-badge.svg\" alt=\"Open In Colab\"/></a>"
      ]
    },
    {
      "cell_type": "code",
      "metadata": {
        "colab": {
          "base_uri": "https://localhost:8080/",
          "height": 204
        },
        "id": "vVm4WRth9enS",
        "outputId": "f6c560dc-ad58-42f4-b95f-b1789d36b1cd"
      },
      "source": [
        "import pandas as pd\r\n",
        "import numpy as np\r\n",
        "import nltk\r\n",
        "from nltk.tokenize import word_tokenize\r\n",
        "from nltk import pos_tag\r\n",
        "from nltk.corpus import stopwords\r\n",
        "from nltk.stem import WordNetLemmatizer\r\n",
        "from sklearn.preprocessing import LabelEncoder\r\n",
        "from collections import defaultdict\r\n",
        "from nltk.corpus import wordnet as wn\r\n",
        "from sklearn.feature_extraction.text import TfidfVectorizer\r\n",
        "from sklearn import model_selection, naive_bayes, svm\r\n",
        "from sklearn.metrics import accuracy_score\r\n",
        "import pickle\r\n",
        "\r\n",
        "# Set Random seed\r\n",
        "np.random.seed(500)\r\n",
        "\r\n",
        "# Add the Data using pandas\r\n",
        "\r\n",
        "Corpus = pd.read_csv(r\"corpus_dual_2.csv\", encoding='latin-1')\r\n",
        "#header=None, error_bad_lines=False)\r\n",
        "'''col_name = Corpus.columns[0]\r\n",
        "Corpus=Corpus.rename(columns = {col_name:'text'})\r\n",
        "\r\n",
        "col_name2 = Corpus.columns[1]\r\n",
        "Corpus=Corpus.rename(columns = {col_name2:'label'})\r\n",
        "'''\r\n",
        "Corpus.head()"
      ],
      "execution_count": 15,
      "outputs": [
        {
          "output_type": "execute_result",
          "data": {
            "text/html": [
              "<div>\n",
              "<style scoped>\n",
              "    .dataframe tbody tr th:only-of-type {\n",
              "        vertical-align: middle;\n",
              "    }\n",
              "\n",
              "    .dataframe tbody tr th {\n",
              "        vertical-align: top;\n",
              "    }\n",
              "\n",
              "    .dataframe thead th {\n",
              "        text-align: right;\n",
              "    }\n",
              "</style>\n",
              "<table border=\"1\" class=\"dataframe\">\n",
              "  <thead>\n",
              "    <tr style=\"text-align: right;\">\n",
              "      <th></th>\n",
              "      <th>text</th>\n",
              "      <th>label</th>\n",
              "    </tr>\n",
              "  </thead>\n",
              "  <tbody>\n",
              "    <tr>\n",
              "      <th>0</th>\n",
              "      <td>Cholesterol gallstones result from oversaturat...</td>\n",
              "      <td>__GALLSTONES__</td>\n",
              "    </tr>\n",
              "    <tr>\n",
              "      <th>1</th>\n",
              "      <td>Gallstones are highly prevalent in most develo...</td>\n",
              "      <td>__GALLSTONES__</td>\n",
              "    </tr>\n",
              "    <tr>\n",
              "      <th>2</th>\n",
              "      <td>Lung cancer does not usually cause noticeable ...</td>\n",
              "      <td>__OTHER_DISEASES__</td>\n",
              "    </tr>\n",
              "    <tr>\n",
              "      <th>3</th>\n",
              "      <td>Multiple studies on the subjet of gallstones h...</td>\n",
              "      <td>__GALLSTONES__</td>\n",
              "    </tr>\n",
              "    <tr>\n",
              "      <th>4</th>\n",
              "      <td>Research indicates that gallstones have been h...</td>\n",
              "      <td>__GALLSTONES__</td>\n",
              "    </tr>\n",
              "  </tbody>\n",
              "</table>\n",
              "</div>"
            ],
            "text/plain": [
              "                                                text               label\n",
              "0  Cholesterol gallstones result from oversaturat...      __GALLSTONES__\n",
              "1  Gallstones are highly prevalent in most develo...      __GALLSTONES__\n",
              "2  Lung cancer does not usually cause noticeable ...  __OTHER_DISEASES__\n",
              "3  Multiple studies on the subjet of gallstones h...      __GALLSTONES__\n",
              "4  Research indicates that gallstones have been h...      __GALLSTONES__"
            ]
          },
          "metadata": {
            "tags": []
          },
          "execution_count": 15
        }
      ]
    },
    {
      "cell_type": "code",
      "metadata": {
        "id": "3MTB46fr_QJG",
        "colab": {
          "base_uri": "https://localhost:8080/"
        },
        "outputId": "a3df1aac-cf90-47c2-e878-125303c12fee"
      },
      "source": [
        "nltk.download('wordnet')\r\n",
        "nltk.download('punkt')\r\n",
        "nltk.download('averaged_perceptron_tagger')\r\n",
        "nltk.download('stopwords')\r\n",
        "\r\n",
        "# Step - 1: Data Pre-processing - This will help in getting better results through the classification algorithms\r\n",
        "\r\n",
        "# Step - 1a : Remove blank rows if any.\r\n",
        "Corpus['text'].dropna(inplace=True)\r\n",
        "\r\n",
        "# WordNetLemmatizer requires Pos tags to understand if the word is noun or verb or adjective etc. By default it is set to Noun\r\n",
        "tag_map = defaultdict(lambda: wn.NOUN)\r\n",
        "tag_map['J'] = wn.ADJ\r\n",
        "tag_map['V'] = wn.VERB\r\n",
        "tag_map['R'] = wn.ADV\r\n",
        "\r\n",
        "\r\n",
        "def text_preprocessing(text):\r\n",
        "    # Step - 1b : Change all the text to lower case. This is required as python interprets 'dog' and 'DOG' differently\r\n",
        "    text = text.lower()\r\n",
        "\r\n",
        "    # Step - 1c : Tokenization : In this each entry in the corpus will be broken into set of words\r\n",
        "    text_words_list = word_tokenize(text)\r\n",
        "\r\n",
        "    # Step - 1d : Remove Stop words, Non-Numeric and perfom Word Stemming/Lemmenting.\r\n",
        "    # Declaring Empty List to store the words that follow the rules for this step\r\n",
        "    Final_words = []\r\n",
        "    # Initializing WordNetLemmatizer()\r\n",
        "    word_Lemmatized = WordNetLemmatizer()\r\n",
        "    # pos_tag function below will provide the 'tag' i.e if the word is Noun(N) or Verb(V) or something else.\r\n",
        "    for word, tag in pos_tag(text_words_list):\r\n",
        "        # Below condition is to check for Stop words and consider only alphabets\r\n",
        "        if word not in stopwords.words('english') and word.isalpha():\r\n",
        "            word_Final = word_Lemmatized.lemmatize(word, tag_map[tag[0]])\r\n",
        "            Final_words.append(word_Final)\r\n",
        "        # The final processed set of words for each iteration will be stored in 'text_final'\r\n",
        "    return str(Final_words)\r\n",
        "\r\n",
        "\r\n",
        "Corpus['text_final'] = Corpus['text'].map(text_preprocessing)\r\n",
        "\r\n",
        "# Step - 2: Split the model into Train and Test Data set\r\n",
        "Train_X, Test_X, Train_Y, Test_Y = model_selection.train_test_split(Corpus['text_final'], Corpus['label'],\r\n",
        "                                                                    test_size=0.3)\r\n",
        "\r\n",
        "# Step - 3: Label encode the target variable  - This is done to transform Categorical data of string type in the data set into numerical values\r\n",
        "Encoder = LabelEncoder()\r\n",
        "Encoder.fit(Train_Y)\r\n",
        "Train_Y = Encoder.transform(Train_Y)\r\n",
        "Test_Y = Encoder.transform(Test_Y)\r\n",
        "\r\n",
        "# Step - 4: Vectorize the words by using TF-IDF Vectorizer - This is done to find how important a word in document is in comaprison to the corpus\r\n",
        "Tfidf_vect = TfidfVectorizer(max_features=5000)\r\n",
        "Tfidf_vect.fit(Corpus['text_final'])\r\n",
        "\r\n",
        "Train_X_Tfidf = Tfidf_vect.transform(Train_X)\r\n",
        "Test_X_Tfidf = Tfidf_vect.transform(Test_X)\r\n",
        "\r\n",
        "# Step - 5: Now we can run different algorithms to classify out data check for accuracy\r\n",
        "\r\n",
        "# Classifier - Algorithm - Naive Bayes\r\n",
        "# fit the training dataset on the classifier\r\n",
        "Naive = naive_bayes.MultinomialNB()\r\n",
        "Naive.fit(Train_X_Tfidf, Train_Y)\r\n",
        "\r\n",
        "# predict the labels on validation dataset\r\n",
        "predictions_NB = Naive.predict(Test_X_Tfidf)\r\n",
        "\r\n",
        "# Use accuracy_score function to get the accuracy\r\n",
        "print(\"Naive Bayes Accuracy Score -> \", accuracy_score(predictions_NB, Test_Y) * 100)\r\n",
        "\r\n",
        "# Classifier - Algorithm - SVM\r\n",
        "# fit the training dataset on the classifier\r\n",
        "SVM = svm.SVC(C=1.0, kernel='linear', degree=3, gamma='auto')\r\n",
        "SVM.fit(Train_X_Tfidf, Train_Y)\r\n",
        "\r\n",
        "# predict the labels on validation dataset\r\n",
        "predictions_SVM = SVM.predict(Test_X_Tfidf)\r\n",
        "\r\n",
        "# Use accuracy_score function to get the accuracy\r\n",
        "print(\"SVM Accuracy Score -> \", accuracy_score(predictions_SVM, Test_Y) * 100)\r\n",
        "\r\n",
        "\r\n",
        "# Saving Encdoer, TFIDF Vectorizer and the trained model for future infrerencing/prediction\r\n",
        "\r\n",
        "# saving encoder to disk\r\n",
        "filename = 'labelencoder_fitted.pkl'\r\n",
        "pickle.dump(Encoder, open(filename, 'wb'))\r\n",
        "\r\n",
        "# saving TFIDF Vectorizer to disk\r\n",
        "filename = 'Tfidf_vect_fitted.pkl'\r\n",
        "pickle.dump(Tfidf_vect, open(filename, 'wb'))\r\n",
        "\r\n",
        "# saving the both models to disk\r\n",
        "filename = 'svm_trained_model.sav'\r\n",
        "pickle.dump(SVM, open(filename, 'wb'))\r\n",
        "\r\n",
        "filename = 'nb_trained_model.sav'\r\n",
        "pickle.dump(Naive, open(filename, 'wb'))\r\n",
        "\r\n",
        "print(\"Files saved to disk! Proceed to inference.py\")"
      ],
      "execution_count": 19,
      "outputs": [
        {
          "output_type": "stream",
          "text": [
            "[nltk_data] Downloading package wordnet to /root/nltk_data...\n",
            "[nltk_data]   Package wordnet is already up-to-date!\n",
            "[nltk_data] Downloading package punkt to /root/nltk_data...\n",
            "[nltk_data]   Package punkt is already up-to-date!\n",
            "[nltk_data] Downloading package averaged_perceptron_tagger to\n",
            "[nltk_data]     /root/nltk_data...\n",
            "[nltk_data]   Package averaged_perceptron_tagger is already up-to-\n",
            "[nltk_data]       date!\n",
            "[nltk_data] Downloading package stopwords to /root/nltk_data...\n",
            "[nltk_data]   Unzipping corpora/stopwords.zip.\n",
            "Naive Bayes Accuracy Score ->  75.0\n",
            "SVM Accuracy Score ->  83.33333333333334\n",
            "Files saved to disk! Proceed to inference.py\n"
          ],
          "name": "stdout"
        }
      ]
    },
    {
      "cell_type": "code",
      "metadata": {
        "colab": {
          "base_uri": "https://localhost:8080/"
        },
        "id": "xwzuyayR4LPA",
        "outputId": "47b3a60c-ad78-4371-c3a3-40fb697ac393"
      },
      "source": [
        "import pandas as pd\r\n",
        "import numpy as np\r\n",
        "from nltk.tokenize import word_tokenize\r\n",
        "from nltk import pos_tag\r\n",
        "from nltk.corpus import stopwords\r\n",
        "from nltk.stem import WordNetLemmatizer\r\n",
        "from sklearn.preprocessing import LabelEncoder\r\n",
        "from collections import defaultdict\r\n",
        "from nltk.corpus import wordnet as wn\r\n",
        "from sklearn.feature_extraction.text import TfidfVectorizer\r\n",
        "from sklearn import model_selection, naive_bayes, svm\r\n",
        "import pickle\r\n",
        "import ast\r\n",
        "\r\n",
        "# WordNetLemmatizer requires Pos tags to understand if the word is noun or verb or adjective etc. By default it is set to Noun\r\n",
        "tag_map = defaultdict(lambda: wn.NOUN)\r\n",
        "tag_map['J'] = wn.ADJ\r\n",
        "tag_map['V'] = wn.VERB\r\n",
        "tag_map['R'] = wn.ADV\r\n",
        "\r\n",
        "\r\n",
        "def text_preprocessing(text):\r\n",
        "    # Step - 1b : Change all the text to lower case. This is required as python interprets 'dog' and 'DOG' differently\r\n",
        "    text = text.lower()\r\n",
        "\r\n",
        "    # Step - 1c : Tokenization : In this each entry in the corpus will be broken into set of words\r\n",
        "    text_words_list = word_tokenize(text)\r\n",
        "\r\n",
        "    # Step - 1d : Remove Stop words, Non-Numeric and perfom Word Stemming/Lemmenting.\r\n",
        "    # Declaring Empty List to store the words that follow the rules for this step\r\n",
        "    Final_words = []\r\n",
        "    # Initializing WordNetLemmatizer()\r\n",
        "    word_Lemmatized = WordNetLemmatizer()\r\n",
        "    # pos_tag function below will provide the 'tag' i.e if the word is Noun(N) or Verb(V) or something else.\r\n",
        "    for word, tag in pos_tag(text_words_list):\r\n",
        "        # Below condition is to check for Stop words and consider only alphabets\r\n",
        "        if word not in stopwords.words('english') and word.isalpha():\r\n",
        "            word_Final = word_Lemmatized.lemmatize(word, tag_map[tag[0]])\r\n",
        "            Final_words.append(word_Final)\r\n",
        "        # The final processed set of words for each iteration will be stored in 'text_final'\r\n",
        "    return str(Final_words)\r\n",
        "\r\n",
        "\r\n",
        "# Loading Label encoder\r\n",
        "labelencode = pickle.load(open('labelencoder_fitted.pkl', 'rb'))\r\n",
        "\r\n",
        "# Loading TF-IDF Vectorizer\r\n",
        "Tfidf_vect = pickle.load(open('Tfidf_vect_fitted.pkl', 'rb'))\r\n",
        "\r\n",
        "# Loading models\r\n",
        "SVM = pickle.load(open('svm_trained_model.sav', 'rb'))\r\n",
        "Naive = pickle.load(open('nb_trained_model.sav', 'rb'))\r\n",
        "\r\n",
        "\r\n",
        "# Inference\r\n",
        "sample_text = \"Do I need to have my gallbladder removed?\"\r\n",
        "sample_text_processed = text_preprocessing(sample_text)\r\n",
        "sample_text_processed_vectorized = Tfidf_vect.transform([sample_text_processed])\r\n",
        "\r\n",
        "prediction_SVM = SVM.predict(sample_text_processed_vectorized)\r\n",
        "prediction_Naive = Naive.predict(sample_text_processed_vectorized)\r\n",
        "\r\n",
        "print(\"Prediction from SVM Model:\", labelencode.inverse_transform(prediction_SVM)[0])\r\n",
        "print(\"Prediction from NB Model:\", labelencode.inverse_transform(prediction_Naive)[0])"
      ],
      "execution_count": 26,
      "outputs": [
        {
          "output_type": "stream",
          "text": [
            "Prediction from SVM Model: __GALLSTONES__\n",
            "Prediction from NB Model: __GALLSTONES__\n"
          ],
          "name": "stdout"
        }
      ]
    },
    {
      "cell_type": "code",
      "metadata": {
        "colab": {
          "base_uri": "https://localhost:8080/"
        },
        "id": "b9utgTZy4eTm",
        "outputId": "ca98afbb-6038-49cd-f722-dd3ae7c991c9"
      },
      "source": [
        "# Inference\r\n",
        "sample_text = \"How do you treat cancer?\"\r\n",
        "sample_text_processed = text_preprocessing(sample_text)\r\n",
        "sample_text_processed_vectorized = Tfidf_vect.transform([sample_text_processed])\r\n",
        "\r\n",
        "prediction_SVM = SVM.predict(sample_text_processed_vectorized)\r\n",
        "prediction_Naive = Naive.predict(sample_text_processed_vectorized)\r\n",
        "\r\n",
        "print(\"Prediction from SVM Model:\", labelencode.inverse_transform(prediction_SVM)[0])\r\n",
        "print(\"Prediction from NB Model:\", labelencode.inverse_transform(prediction_Naive)[0])"
      ],
      "execution_count": 27,
      "outputs": [
        {
          "output_type": "stream",
          "text": [
            "Prediction from SVM Model: __OTHER_DISEASES__\n",
            "Prediction from NB Model: __OTHER_DISEASES__\n"
          ],
          "name": "stdout"
        }
      ]
    },
    {
      "cell_type": "code",
      "metadata": {
        "colab": {
          "base_uri": "https://localhost:8080/"
        },
        "id": "hcakXme94lFO",
        "outputId": "5df1d672-9fdf-4b44-bc09-2d40ffdb7d0b"
      },
      "source": [
        "# Inference\r\n",
        "sample_text = \"I have bile problems.\"\r\n",
        "sample_text_processed = text_preprocessing(sample_text)\r\n",
        "sample_text_processed_vectorized = Tfidf_vect.transform([sample_text_processed])\r\n",
        "\r\n",
        "prediction_SVM = SVM.predict(sample_text_processed_vectorized)\r\n",
        "prediction_Naive = Naive.predict(sample_text_processed_vectorized)\r\n",
        "\r\n",
        "print(\"Prediction from SVM Model:\", labelencode.inverse_transform(prediction_SVM)[0])\r\n",
        "print(\"Prediction from NB Model:\", labelencode.inverse_transform(prediction_Naive)[0])"
      ],
      "execution_count": 28,
      "outputs": [
        {
          "output_type": "stream",
          "text": [
            "Prediction from SVM Model: __GALLSTONES__\n",
            "Prediction from NB Model: __GALLSTONES__\n"
          ],
          "name": "stdout"
        }
      ]
    }
  ]
}