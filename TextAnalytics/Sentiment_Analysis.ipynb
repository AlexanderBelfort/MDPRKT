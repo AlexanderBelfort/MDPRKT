{
  "nbformat": 4,
  "nbformat_minor": 0,
  "metadata": {
    "colab": {
      "name": "Sentiment_Analysis.ipynb",
      "provenance": []
    },
    "kernelspec": {
      "name": "python3",
      "display_name": "Python 3"
    }
  },
  "cells": [
    {
      "cell_type": "code",
      "metadata": {
        "id": "fpUpFX39d4tr"
      },
      "source": [
        "#Importing the libraries\r\n",
        "import numpy as np\r\n",
        "import tensorflow as tf\r\n",
        "from gensim.models import Word2Vec\r\n",
        "from nltk.corpus import brown\r\n",
        "from keras.layers.core import Activation, Dense, Dropout, SpatialDropout1D\r\n",
        "from keras.layers.embeddings import Embedding\r\n",
        "from keras.layers.recurrent import LSTM\r\n",
        "from keras.layers import Bidirectional\r\n",
        "from keras.models import Sequential\r\n",
        "from keras.preprocessing import sequence\r\n",
        "from sklearn.model_selection import train_test_split\r\n",
        "import collections\r\n",
        "import matplotlib.pyplot as plt\r\n",
        "import nltk\r\n",
        "import numpy as np\r\n",
        "import os"
      ],
      "execution_count": null,
      "outputs": []
    },
    {
      "cell_type": "code",
      "metadata": {
        "colab": {
          "base_uri": "https://localhost:8080/"
        },
        "id": "vT9kJXHiedsy",
        "outputId": "e2b88a47-cbf0-4a6c-e1d8-9209426c8584"
      },
      "source": [
        "from nltk.corpus import nps_chat as nps\r\n",
        "nltk.download('nps_chat')\r\n",
        "nltk.download('punkt')"
      ],
      "execution_count": null,
      "outputs": [
        {
          "output_type": "stream",
          "text": [
            "[nltk_data] Downloading package nps_chat to /root/nltk_data...\n",
            "[nltk_data]   Unzipping corpora/nps_chat.zip.\n",
            "[nltk_data] Downloading package punkt to /root/nltk_data...\n",
            "[nltk_data]   Unzipping tokenizers/punkt.zip.\n"
          ],
          "name": "stdout"
        },
        {
          "output_type": "execute_result",
          "data": {
            "text/plain": [
              "True"
            ]
          },
          "metadata": {
            "tags": []
          },
          "execution_count": 2
        }
      ]
    },
    {
      "cell_type": "code",
      "metadata": {
        "id": "q175BBHhefla"
      },
      "source": [
        "def get_dialogue_data(output_file):\r\n",
        "    open(output_file, 'w').close();\r\n",
        "    tagged_sents=brown.tagged_sents()\r\n",
        "    with open(output_file,'a') as fileWrite:\r\n",
        "        for sentence in tagged_sents:\r\n",
        "            for tuple_word in sentence:\r\n",
        "                fileWrite.write(tuple_word[0]+'\\t'+tuple_word[1])\r\n",
        "                fileWrite.write('\\n')\r\n",
        "                fileWrite.write('\\n')\r\n",
        "                fileWrite.write('\\n')\r\n",
        "\r\n",
        "def get_sentence_data(output_file):\r\n",
        "    open(output_file,'w').close();\r\n",
        "    sentences=brown.sents()\r\n",
        "    with open(output_file,'a') as fileWrite:\r\n",
        "        for eachSentence in sentences:\r\n",
        "            fileWrite.write(' '.join(eachSentence))\r\n",
        "            fileWrite.write('\\n')\r\n",
        "\r\n",
        "\r\n",
        "def get_dialogue_data(output_file):\r\n",
        "    open(output_file,'w').close();\r\n",
        "    posts=nps.xml_posts()\r\n",
        "    with open(output_file,'a') as fileWrite:\r\n",
        "        for eachPost in posts:\r\n",
        "            fileWrite.write(eachPost.get('class').lower()+'\\t'+eachPost.text)\r\n",
        "            fileWrite.write('\\n')"
      ],
      "execution_count": null,
      "outputs": []
    },
    {
      "cell_type": "code",
      "metadata": {
        "colab": {
          "base_uri": "https://localhost:8080/"
        },
        "id": "iDjawzv1emgR",
        "outputId": "facdc228-f5d7-40cf-a971-f1d1eca7eed2"
      },
      "source": [
        "print(\"preparing module\")\r\n",
        "data_folder='/content/dialogue'\r\n",
        "output_file='test.txt'\r\n",
        "get_dialogue_data(data_folder+'/'+output_file)\r\n",
        "output_file='data.txt'\r\n",
        "get_dialogue_data(data_folder+'/'+output_file)"
      ],
      "execution_count": null,
      "outputs": [
        {
          "output_type": "stream",
          "text": [
            "preparing module\n"
          ],
          "name": "stdout"
        }
      ]
    },
    {
      "cell_type": "code",
      "metadata": {
        "id": "tZkm_3aFe1Ah"
      },
      "source": [
        "#Representing the each row of the input as a sequence of word indices.\r\n",
        "maxlen = 0\r\n",
        "word_freqs = collections.Counter()\r\n",
        "num_recs = 0\r\n",
        "ftrain = open(os.path.join(\"/content/dialogue\", \"data.txt\"), 'rb')\r\n",
        "for line in ftrain:\r\n",
        "    label, sentence = line.strip().split(b\"\\t\")\r\n",
        "    words = nltk.word_tokenize(sentence.decode(\"ascii\", \"ignore\").lower())\r\n",
        "    if len(words) > maxlen:\r\n",
        "        maxlen = len(words)\r\n",
        "    for word in words:\r\n",
        "        word_freqs[word] += 1\r\n",
        "    num_recs += 1\r\n",
        "ftrain.close()\r\n",
        "#print(len(word_freqs))"
      ],
      "execution_count": null,
      "outputs": []
    },
    {
      "cell_type": "code",
      "metadata": {
        "id": "TuRhqHhqfJrq"
      },
      "source": [
        "MAX_FEATURES = 6000 \r\n",
        "MAX_SENTENCE_LENGTH = 40\r\n",
        "vocab_size = min(MAX_FEATURES, len(word_freqs)) + 2\r\n",
        "word2index = {x[0]: i+2 for i, x in\r\n",
        "enumerate(word_freqs.most_common(MAX_FEATURES))}\r\n",
        "word2index[\"PAD\"] = 0\r\n",
        "word2index[\"UNK\"] = 1\r\n",
        "index2word = {v:k for k, v in word2index.items()}"
      ],
      "execution_count": null,
      "outputs": []
    },
    {
      "cell_type": "code",
      "metadata": {
        "id": "OyLXAMbIfLiZ"
      },
      "source": [
        "#Building the Data\r\n",
        "labels=[]\r\n",
        "file_name=\"data.txt\"\r\n",
        "file_path=\"/content/dialogue\"\r\n",
        "with open(os.path.join(file_path,file_name),'r') as fileRead:\r\n",
        "    for line in fileRead:\r\n",
        "        l=line.split(\"\\t\")\r\n",
        "        #print(l[0])\r\n",
        "        labels.append(l[0])\r\n",
        "label_set_list=list(set(labels))\r\n",
        "nos_labels=len(label_set_list)"
      ],
      "execution_count": null,
      "outputs": []
    },
    {
      "cell_type": "code",
      "metadata": {
        "id": "0m5TgFpcfPCh"
      },
      "source": [
        "#Building the data sets to feed to the network and converting the input sentences to into a word sequence.\r\n",
        "X = np.empty((num_recs, ), dtype=list)\r\n",
        "y = np.zeros((num_recs, nos_labels))\r\n",
        "i = 0\r\n",
        "ftrain = open(os.path.join(\"/content/dialogue\", \"data.txt\"), 'rb')\r\n",
        "for line in ftrain:\r\n",
        "    label, sentence = line.strip().split(b\"\\t\")\r\n",
        "    words = nltk.word_tokenize(sentence.decode(\"ascii\", \"ignore\").lower())\r\n",
        "    label=label.decode(\"ascii\",\"ignore\").lower()\r\n",
        "    seqs = []\r\n",
        "    dummy_vec=[0]*nos_labels\r\n",
        "    for word in words:\r\n",
        "        if word in word2index:\r\n",
        "            seqs.append(word2index[word])\r\n",
        "        else:\r\n",
        "            seqs.append(word2index[\"UNK\"])\r\n",
        "    X[i] = seqs\r\n",
        "    dummy_vec[label_set_list.index(label)]=1\r\n",
        "    y[i]=dummy_vec\r\n",
        "    i+=1\r\n",
        "    \r\n",
        "ftrain.close()\r\n",
        "X = sequence.pad_sequences(X, maxlen=MAX_SENTENCE_LENGTH)"
      ],
      "execution_count": null,
      "outputs": []
    },
    {
      "cell_type": "code",
      "metadata": {
        "id": "uPpY3TQ0fVIh"
      },
      "source": [
        "#Splitting the Data\r\n",
        "Xtrain, Xtest, ytrain, ytest = train_test_split(X, y, test_size=0.2, random_state=42)"
      ],
      "execution_count": null,
      "outputs": []
    },
    {
      "cell_type": "code",
      "metadata": {
        "colab": {
          "base_uri": "https://localhost:8080/"
        },
        "id": "W4eGlfjvfWni",
        "outputId": "6a2cb4d4-fcdc-4786-c747-713bd36598c3"
      },
      "source": [
        "#Defining the model\r\n",
        "EMBEDDING_SIZE = 128\r\n",
        "HIDDEN_LAYER_SIZE = 100\r\n",
        "BATCH_SIZE = 32\r\n",
        "NUM_EPOCHS = 7\r\n",
        "model = Sequential()\r\n",
        "model.add(Embedding(vocab_size, EMBEDDING_SIZE,input_length=MAX_SENTENCE_LENGTH))\r\n",
        "model.add(Bidirectional(LSTM(HIDDEN_LAYER_SIZE, dropout=0.2, recurrent_dropout=0.2)))\r\n",
        "#model.add(dropout=0.2)\r\n",
        "model.add(Dense(nos_labels, activation = \"softmax\") )\r\n",
        "#model.add(Activation(\"softmax\"))\r\n",
        "model.compile(loss=\"categorical_crossentropy\", optimizer=\"adam\",metrics=[\"accuracy\"])"
      ],
      "execution_count": null,
      "outputs": [
        {
          "output_type": "stream",
          "text": [
            "WARNING:tensorflow:Layer lstm will not use cuDNN kernel since it doesn't meet the cuDNN kernel criteria. It will use generic GPU kernel as fallback when running on GPU\n",
            "WARNING:tensorflow:Layer lstm will not use cuDNN kernel since it doesn't meet the cuDNN kernel criteria. It will use generic GPU kernel as fallback when running on GPU\n",
            "WARNING:tensorflow:Layer lstm will not use cuDNN kernel since it doesn't meet the cuDNN kernel criteria. It will use generic GPU kernel as fallback when running on GPU\n"
          ],
          "name": "stdout"
        }
      ]
    },
    {
      "cell_type": "code",
      "metadata": {
        "colab": {
          "base_uri": "https://localhost:8080/"
        },
        "id": "8YWj-kdJfYBq",
        "outputId": "ba847cb5-ee2b-4814-879b-ed514d1ddbc5"
      },
      "source": [
        "\r\n",
        "#Modelling the data\r\n",
        "history = model.fit(Xtrain, ytrain, batch_size=BATCH_SIZE, epochs=NUM_EPOCHS,\r\n",
        "                    validation_data=(Xtest, ytest))"
      ],
      "execution_count": null,
      "outputs": [
        {
          "output_type": "stream",
          "text": [
            "Epoch 1/7\n",
            "265/265 [==============================] - 80s 280ms/step - loss: 1.7832 - accuracy: 0.4432 - val_loss: 0.8415 - val_accuracy: 0.7611\n",
            "Epoch 2/7\n",
            "265/265 [==============================] - 73s 275ms/step - loss: 0.7137 - accuracy: 0.8027 - val_loss: 0.6925 - val_accuracy: 0.8122\n",
            "Epoch 3/7\n",
            "265/265 [==============================] - 73s 274ms/step - loss: 0.4804 - accuracy: 0.8695 - val_loss: 0.6297 - val_accuracy: 0.8273\n",
            "Epoch 4/7\n",
            "265/265 [==============================] - 72s 272ms/step - loss: 0.3518 - accuracy: 0.8954 - val_loss: 0.6763 - val_accuracy: 0.8169\n",
            "Epoch 5/7\n",
            "265/265 [==============================] - 73s 274ms/step - loss: 0.2406 - accuracy: 0.9308 - val_loss: 0.6610 - val_accuracy: 0.8207\n",
            "Epoch 6/7\n",
            "265/265 [==============================] - 72s 273ms/step - loss: 0.1926 - accuracy: 0.9456 - val_loss: 0.7647 - val_accuracy: 0.8108\n",
            "Epoch 7/7\n",
            "265/265 [==============================] - 72s 272ms/step - loss: 0.1543 - accuracy: 0.9566 - val_loss: 0.8270 - val_accuracy: 0.7928\n"
          ],
          "name": "stdout"
        }
      ]
    },
    {
      "cell_type": "code",
      "metadata": {
        "id": "7ZbNhyvJpVEw"
      },
      "source": [
        "# This Python 3 environment comes with many helpful analytics libraries installed\r\n",
        "# It is defined by the kaggle/python Docker image: https://github.com/kaggle/docker-python\r\n",
        "# For example, here's several helpful packages to load\r\n",
        "\r\n",
        "import numpy as np # linear algebra\r\n",
        "import pandas as pd # data processing, CSV file I/O (e.g. pd.read_csv)\r\n",
        "from textblob import TextBlob\r\n",
        "\r\n",
        "# Input data files are available in the read-only \"../input/\" directory\r\n",
        "# For example, running this (by clicking run or pressing Shift+Enter) will list all files under the input directory\r\n",
        "\r\n",
        "import os\r\n",
        "           \r\n",
        "\r\n",
        "# You can write up to 5GB to the current directory (/kaggle/working/) that gets preserved as output when you create a version using \"Save & Run All\" \r\n",
        "# You can also write temporary files to /kaggle/temp/, but they won't be saved outside of the current session"
      ],
      "execution_count": 27,
      "outputs": []
    },
    {
      "cell_type": "code",
      "metadata": {
        "colab": {
          "base_uri": "https://localhost:8080/",
          "height": 605
        },
        "id": "ImHavKk2pXe3",
        "outputId": "b6c2b5a8-b7ec-41a2-db70-cd9f4f0301d9"
      },
      "source": [
        "for dirname, _, filenames in os.walk('/content/dialogue'):\r\n",
        "    \r\n",
        "    dff = {\"Transcript\":[],\r\n",
        "           \"Total_Dialogues\":[],\r\n",
        "           \"Positive_Dialogues\":[],\r\n",
        "           \"Neutral_Dialogues\":[],\r\n",
        "           \"Negative_Dialogues\":[],\r\n",
        "           \"Positive_Sentiment\":[],\r\n",
        "           \"Neutral_Sentiment\":[],\r\n",
        "           \"Negative_Sentiment\":[]}\r\n",
        "    df = pd.DataFrame(dff)\r\n",
        "    \r\n",
        "    for filename in filenames:\r\n",
        "        print(filename)\r\n",
        "        \r\n",
        "        fname = os.path.join(dirname, filename)\r\n",
        "        with open(fname,'r',encoding=\"utf-8\") as f:\r\n",
        "            raw_data = f.read()\r\n",
        "            data = TextBlob(raw_data)\r\n",
        "            pos = []\r\n",
        "            neu = []\r\n",
        "            neg = []\r\n",
        "            for sentence in data.sentences:\r\n",
        "                pol = sentence.sentiment.polarity\r\n",
        "                if pol > 0.25:\r\n",
        "                    pos.append(pol)\r\n",
        "                elif pol > -0.25 and pol <= 0.25:\r\n",
        "                    neu.append(pol)\r\n",
        "                else:\r\n",
        "                    neg.append(pol)\r\n",
        "                \r\n",
        "            total = len(data.sentences)\r\n",
        "                \r\n",
        "            pos_t = len(pos)\r\n",
        "            neu_t = len(neu)\r\n",
        "            neg_t = len(neg)\r\n",
        "                \r\n",
        "            pos_avg = sum(pos)/pos_t\r\n",
        "            neu_avg = sum(neu)/neu_t\r\n",
        "            neg_avg = sum(neg)/neg_t\r\n",
        "                \r\n",
        "            df = df.append({\"Transcript\":filename[:-4],\r\n",
        "                            \"Total_Dialogues\":total,\r\n",
        "                            \"Positive_Dialogues\":pos_t,\r\n",
        "                            \"Neutral_Dialogues\":neu_t,\r\n",
        "                            \"Negative_Dialogues\":neg_t,\r\n",
        "                            \"Positive_Sentiment\":pos_avg,\r\n",
        "                            \"Neutral_Sentiment\":neu_avg,\r\n",
        "                            \"Negative_Sentiment\":neg_avg}, ignore_index=True)"
      ],
      "execution_count": 84,
      "outputs": [
        {
          "output_type": "stream",
          "text": [
            "19.txt\n",
            "22.txt\n",
            "7.txt\n",
            "4.txt\n",
            "23.txt\n",
            "0.txt\n",
            "29.txt\n",
            "1.txt\n",
            "18.txt\n",
            "14.txt\n",
            "3.txt\n",
            "20.txt\n",
            "17.txt\n",
            "25.txt\n",
            "2.txt\n",
            "9.txt\n",
            "24.txt\n",
            "10.txt\n",
            "12.txt\n",
            "13.txt\n",
            "26.txt\n",
            "5.txt\n"
          ],
          "name": "stdout"
        },
        {
          "output_type": "error",
          "ename": "ZeroDivisionError",
          "evalue": "ignored",
          "traceback": [
            "\u001b[0;31m---------------------------------------------------------------------------\u001b[0m",
            "\u001b[0;31mZeroDivisionError\u001b[0m                         Traceback (most recent call last)",
            "\u001b[0;32m<ipython-input-84-45d6f5d794f9>\u001b[0m in \u001b[0;36m<module>\u001b[0;34m()\u001b[0m\n\u001b[1;32m     38\u001b[0m             \u001b[0mpos_avg\u001b[0m \u001b[0;34m=\u001b[0m \u001b[0msum\u001b[0m\u001b[0;34m(\u001b[0m\u001b[0mpos\u001b[0m\u001b[0;34m)\u001b[0m\u001b[0;34m/\u001b[0m\u001b[0mpos_t\u001b[0m\u001b[0;34m\u001b[0m\u001b[0;34m\u001b[0m\u001b[0m\n\u001b[1;32m     39\u001b[0m             \u001b[0mneu_avg\u001b[0m \u001b[0;34m=\u001b[0m \u001b[0msum\u001b[0m\u001b[0;34m(\u001b[0m\u001b[0mneu\u001b[0m\u001b[0;34m)\u001b[0m\u001b[0;34m/\u001b[0m\u001b[0mneu_t\u001b[0m\u001b[0;34m\u001b[0m\u001b[0;34m\u001b[0m\u001b[0m\n\u001b[0;32m---> 40\u001b[0;31m             \u001b[0mneg_avg\u001b[0m \u001b[0;34m=\u001b[0m \u001b[0msum\u001b[0m\u001b[0;34m(\u001b[0m\u001b[0mneg\u001b[0m\u001b[0;34m)\u001b[0m\u001b[0;34m/\u001b[0m\u001b[0mneg_t\u001b[0m\u001b[0;34m\u001b[0m\u001b[0;34m\u001b[0m\u001b[0m\n\u001b[0m\u001b[1;32m     41\u001b[0m \u001b[0;34m\u001b[0m\u001b[0m\n\u001b[1;32m     42\u001b[0m             df = df.append({\"Transcript\":filename[:-4],\n",
            "\u001b[0;31mZeroDivisionError\u001b[0m: division by zero"
          ]
        }
      ]
    },
    {
      "cell_type": "code",
      "metadata": {
        "colab": {
          "base_uri": "https://localhost:8080/",
          "height": 204
        },
        "id": "iaSAxbfVphtY",
        "outputId": "c0cb424f-6f79-4e29-f615-024abd4d60ad"
      },
      "source": [
        "df.head()"
      ],
      "execution_count": 85,
      "outputs": [
        {
          "output_type": "execute_result",
          "data": {
            "text/html": [
              "<div>\n",
              "<style scoped>\n",
              "    .dataframe tbody tr th:only-of-type {\n",
              "        vertical-align: middle;\n",
              "    }\n",
              "\n",
              "    .dataframe tbody tr th {\n",
              "        vertical-align: top;\n",
              "    }\n",
              "\n",
              "    .dataframe thead th {\n",
              "        text-align: right;\n",
              "    }\n",
              "</style>\n",
              "<table border=\"1\" class=\"dataframe\">\n",
              "  <thead>\n",
              "    <tr style=\"text-align: right;\">\n",
              "      <th></th>\n",
              "      <th>Transcript</th>\n",
              "      <th>Total_Dialogues</th>\n",
              "      <th>Positive_Dialogues</th>\n",
              "      <th>Neutral_Dialogues</th>\n",
              "      <th>Negative_Dialogues</th>\n",
              "      <th>Positive_Sentiment</th>\n",
              "      <th>Neutral_Sentiment</th>\n",
              "      <th>Negative_Sentiment</th>\n",
              "    </tr>\n",
              "  </thead>\n",
              "  <tbody>\n",
              "    <tr>\n",
              "      <th>0</th>\n",
              "      <td>19</td>\n",
              "      <td>69.0</td>\n",
              "      <td>19.0</td>\n",
              "      <td>47.0</td>\n",
              "      <td>3.0</td>\n",
              "      <td>0.474875</td>\n",
              "      <td>0.040898</td>\n",
              "      <td>-0.454167</td>\n",
              "    </tr>\n",
              "    <tr>\n",
              "      <th>1</th>\n",
              "      <td>22</td>\n",
              "      <td>245.0</td>\n",
              "      <td>61.0</td>\n",
              "      <td>176.0</td>\n",
              "      <td>8.0</td>\n",
              "      <td>0.453825</td>\n",
              "      <td>0.011102</td>\n",
              "      <td>-0.434375</td>\n",
              "    </tr>\n",
              "    <tr>\n",
              "      <th>2</th>\n",
              "      <td>7</td>\n",
              "      <td>66.0</td>\n",
              "      <td>19.0</td>\n",
              "      <td>40.0</td>\n",
              "      <td>7.0</td>\n",
              "      <td>0.426115</td>\n",
              "      <td>0.018338</td>\n",
              "      <td>-0.319337</td>\n",
              "    </tr>\n",
              "    <tr>\n",
              "      <th>3</th>\n",
              "      <td>4</td>\n",
              "      <td>165.0</td>\n",
              "      <td>21.0</td>\n",
              "      <td>133.0</td>\n",
              "      <td>11.0</td>\n",
              "      <td>0.493005</td>\n",
              "      <td>0.001903</td>\n",
              "      <td>-0.472908</td>\n",
              "    </tr>\n",
              "    <tr>\n",
              "      <th>4</th>\n",
              "      <td>23</td>\n",
              "      <td>132.0</td>\n",
              "      <td>35.0</td>\n",
              "      <td>84.0</td>\n",
              "      <td>13.0</td>\n",
              "      <td>0.485703</td>\n",
              "      <td>0.003631</td>\n",
              "      <td>-0.448237</td>\n",
              "    </tr>\n",
              "  </tbody>\n",
              "</table>\n",
              "</div>"
            ],
            "text/plain": [
              "  Transcript  Total_Dialogues  ...  Neutral_Sentiment  Negative_Sentiment\n",
              "0         19             69.0  ...           0.040898           -0.454167\n",
              "1         22            245.0  ...           0.011102           -0.434375\n",
              "2          7             66.0  ...           0.018338           -0.319337\n",
              "3          4            165.0  ...           0.001903           -0.472908\n",
              "4         23            132.0  ...           0.003631           -0.448237\n",
              "\n",
              "[5 rows x 8 columns]"
            ]
          },
          "metadata": {
            "tags": []
          },
          "execution_count": 85
        }
      ]
    },
    {
      "cell_type": "code",
      "metadata": {
        "id": "zDwYoQTesaXf"
      },
      "source": [
        "import seaborn as sns\r\n",
        "import matplotlib.pyplot as plt\r\n"
      ],
      "execution_count": 86,
      "outputs": []
    },
    {
      "cell_type": "code",
      "metadata": {
        "colab": {
          "base_uri": "https://localhost:8080/",
          "height": 610
        },
        "id": "QA1jRqDDsbLG",
        "outputId": "5e166c9e-d76d-4b84-b15c-b0fee2b7ae01"
      },
      "source": [
        "colors = [\"#006D2C\",\"#74C476\"]\r\n",
        "ax = df.loc[:,['Positive_Dialogues','Negative_Dialogues']].plot.bar(stacked=True, color=colors,figsize=(14, 10))\r\n",
        "ax.set_xticklabels(df.Transcript,rotation=80)\r\n",
        "ax.set_xlabel(\"Movies\")\r\n",
        "ax.set_ylabel(\"Dialogue Count\")\r\n",
        "plt.show()"
      ],
      "execution_count": 87,
      "outputs": [
        {
          "output_type": "display_data",
          "data": {
            "image/png": "[encoded data removed]",
            "text/plain": [
              "<Figure size 1008x720 with 1 Axes>"
            ]
          },
          "metadata": {
            "tags": [],
            "needs_background": "light"
          }
        }
      ]
    }
  ]
}