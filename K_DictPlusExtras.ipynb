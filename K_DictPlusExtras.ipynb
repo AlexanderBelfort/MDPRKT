{
  "nbformat": 4,
  "nbformat_minor": 0,
  "metadata": {
    "colab": {
      "name": "SVM Practice.ipynb",
      "provenance": [],
      "collapsed_sections": [],
      "authorship_tag": "ABX9TyPfhhrBFjpLu9dZKv4k5PV2",
      "include_colab_link": true
    },
    "kernelspec": {
      "name": "python3",
      "display_name": "Python 3"
    }
  },
  "cells": [
    {
      "cell_type": "markdown",
      "metadata": {
        "id": "view-in-github",
        "colab_type": "text"
      },
      "source": [
        "<a href=\"https://colab.research.google.com/github/AlexanderBelfort/MDPRKT/blob/main/K_DictPlusExtras.ipynb\" target=\"_parent\"><img src=\"https://colab.research.google.com/assets/colab-badge.svg\" alt=\"Open In Colab\"/></a>"
      ]
    },
    {
      "cell_type": "code",
      "metadata": {
        "id": "s9c5HZRKnJKL"
      },
      "source": [
        "%pip install spacy\r\n",
        "!python -m spacy download en_core_web_md"
      ],
      "execution_count": null,
      "outputs": []
    },
    {
      "cell_type": "code",
      "metadata": {
        "id": "Y_IvBxN-nVC7"
      },
      "source": [
        "class medicalCategory:\r\n",
        "  gallstoneDisease = \"Gallstone Disease\"\r\n",
        "  arthritis = \"Arthritis\"\r\n",
        "\r\n",
        "train_x = [\"Gallstones are hardened deposits of digestive fluid that can form in your gallbladder\",\\\r\n",
        "           \"People who experience symptoms from their gallstones usually require gallbladder removal surgery.\",\\\r\n",
        "           \"Arthritis is inflammation of one or more of your joints that causes pain and stiffness.\",\\\r\n",
        "           \"Although there is no cure for arthritis, there are many treatment options available to help manage pain and keep people staying active.\"]\r\n",
        "train_y = [medicalCategory.gallstoneDisease, medicalCategory.gallstoneDisease, medicalCategory.arthritis, medicalCategory.arthritis]\r\n"
      ],
      "execution_count": 194,
      "outputs": []
    },
    {
      "cell_type": "markdown",
      "metadata": {
        "id": "rCaSLxFHpaDh"
      },
      "source": [
        "**Fit vectorizer to transform text to bag-of-words vectors**"
      ]
    },
    {
      "cell_type": "code",
      "metadata": {
        "colab": {
          "base_uri": "https://localhost:8080/"
        },
        "id": "UHv7FkhCpeQK",
        "outputId": "69d391c5-8f46-435e-8ed9-4e85630612c6"
      },
      "source": [
        "from sklearn.feature_extraction.text import CountVectorizer\r\n",
        "\r\n",
        "vectorizer = CountVectorizer(binary=True)\r\n",
        "train_x_vectors = vectorizer.fit_transform(train_x)\r\n",
        "\r\n",
        "print(vectorizer.get_feature_names())\r\n",
        "print(train_x_vectors.toarray())"
      ],
      "execution_count": 195,
      "outputs": [
        {
          "output_type": "stream",
          "text": [
            "['active', 'although', 'and', 'are', 'arthritis', 'available', 'can', 'causes', 'cure', 'deposits', 'digestive', 'experience', 'fluid', 'for', 'form', 'from', 'gallbladder', 'gallstones', 'hardened', 'help', 'in', 'inflammation', 'is', 'joints', 'keep', 'manage', 'many', 'more', 'no', 'of', 'one', 'options', 'or', 'pain', 'people', 'removal', 'require', 'staying', 'stiffness', 'surgery', 'symptoms', 'that', 'their', 'there', 'to', 'treatment', 'usually', 'who', 'your']\n",
            "[[0 0 0 1 0 0 1 0 0 1 1 0 1 0 1 0 1 1 1 0 1 0 0 0 0 0 0 0 0 1 0 0 0 0 0 0\n",
            "  0 0 0 0 0 1 0 0 0 0 0 0 1]\n",
            " [0 0 0 0 0 0 0 0 0 0 0 1 0 0 0 1 1 1 0 0 0 0 0 0 0 0 0 0 0 0 0 0 0 0 1 1\n",
            "  1 0 0 1 1 0 1 0 0 0 1 1 0]\n",
            " [0 0 1 0 1 0 0 1 0 0 0 0 0 0 0 0 0 0 0 0 0 1 1 1 0 0 0 1 0 1 1 0 1 1 0 0\n",
            "  0 0 1 0 0 1 0 0 0 0 0 0 1]\n",
            " [1 1 1 1 1 1 0 0 1 0 0 0 0 1 0 0 0 0 0 1 0 0 1 0 1 1 1 0 1 0 0 1 0 1 1 0\n",
            "  0 1 0 0 0 0 0 1 1 1 0 0 0]]\n"
          ],
          "name": "stdout"
        }
      ]
    },
    {
      "cell_type": "markdown",
      "metadata": {
        "id": "zaL9pJTapwU6"
      },
      "source": [
        "\r\n",
        "**Train SVM Model**"
      ]
    },
    {
      "cell_type": "code",
      "metadata": {
        "colab": {
          "base_uri": "https://localhost:8080/"
        },
        "id": "01LH5ns2pyMr",
        "outputId": "8e50f566-d3aa-4706-e6f8-e5cc021e7b5c"
      },
      "source": [
        "from sklearn import svm\r\n",
        "clf_svm = svm.SVC(kernel='linear')\r\n",
        "clf_svm.fit(train_x_vectors, train_y)"
      ],
      "execution_count": 196,
      "outputs": [
        {
          "output_type": "execute_result",
          "data": {
            "text/plain": [
              "SVC(C=1.0, break_ties=False, cache_size=200, class_weight=None, coef0=0.0,\n",
              "    decision_function_shape='ovr', degree=3, gamma='scale', kernel='linear',\n",
              "    max_iter=-1, probability=False, random_state=None, shrinking=True,\n",
              "    tol=0.001, verbose=False)"
            ]
          },
          "metadata": {
            "tags": []
          },
          "execution_count": 196
        }
      ]
    },
    {
      "cell_type": "markdown",
      "metadata": {
        "id": "HnZmqJ2MqWu5"
      },
      "source": [
        "**Testing**"
      ]
    },
    {
      "cell_type": "code",
      "metadata": {
        "colab": {
          "base_uri": "https://localhost:8080/"
        },
        "id": "qj1b2Fkdp2Sy",
        "outputId": "7240bf28-dcf6-44bd-b645-175ef1688bbd"
      },
      "source": [
        "test_x1 = vectorizer.transform(['Is there a cure for arthritis?'])\r\n",
        "\r\n",
        "clf_svm.predict(test_x1)\r\n"
      ],
      "execution_count": 197,
      "outputs": [
        {
          "output_type": "execute_result",
          "data": {
            "text/plain": [
              "array(['Arthritis'], dtype='<U17')"
            ]
          },
          "metadata": {
            "tags": []
          },
          "execution_count": 197
        }
      ]
    },
    {
      "cell_type": "code",
      "metadata": {
        "colab": {
          "base_uri": "https://localhost:8080/"
        },
        "id": "Qia9EsLgqU0q",
        "outputId": "6a9e95e3-6527-4994-c763-aa72d40006f0"
      },
      "source": [
        "test_x2 = vectorizer.transform(['I need gallstones surgery.'])\r\n",
        "\r\n",
        "clf_svm.predict(test_x2)"
      ],
      "execution_count": 198,
      "outputs": [
        {
          "output_type": "execute_result",
          "data": {
            "text/plain": [
              "array(['Gallstone Disease'], dtype='<U17')"
            ]
          },
          "metadata": {
            "tags": []
          },
          "execution_count": 198
        }
      ]
    },
    {
      "cell_type": "markdown",
      "metadata": {
        "id": "ojLW3AuIuB3R"
      },
      "source": [
        "**Cleaning data practice**"
      ]
    },
    {
      "cell_type": "code",
      "metadata": {
        "colab": {
          "base_uri": "https://localhost:8080/"
        },
        "id": "EakT93cauDpQ",
        "outputId": "8c5fd6fa-0110-451a-ed04-3cd5e27dbfca"
      },
      "source": [
        "import nltk\r\n",
        "from nltk.corpus import stopwords\r\n",
        "import string\r\n",
        "import re\r\n",
        "\r\n",
        "# load doc into memory\r\n",
        "def load_doc(filename):\r\n",
        "  # open the file as read only\r\n",
        "  file = open(filename, 'r')\r\n",
        "  # read all text\r\n",
        "  text = file.read()\r\n",
        "  # close the file\r\n",
        "  file.close()\r\n",
        "  return text\r\n",
        "  # turn a doc into clean tokens\r\n",
        "\r\n",
        "def clean_doc(doc):\r\n",
        "\r\n",
        "  # toLower\r\n",
        "  doc = doc.lower()\r\n",
        "  # split into tokens by white space\r\n",
        "  tokens = doc.split()\r\n",
        "  # prepare regex for char filtering\r\n",
        "  re_punc = re.compile('[%s]' % re.escape(string.punctuation))\r\n",
        "  # remove punctuation from each word\r\n",
        "  tokens = [re_punc.sub('', w) for w in tokens]\r\n",
        "  # remove remaining tokens that are not alphabetic\r\n",
        "  tokens = [word for word in tokens if word.isalpha()]\r\n",
        "  # filter out stop words\r\n",
        "  stop_words = set(stopwords.words('english'))\r\n",
        "  tokens = [w for w in tokens if not w in stop_words]\r\n",
        "  # filter out short tokens\r\n",
        "  tokens = [word for word in tokens if len(word) > 1]\r\n",
        "  return tokens\r\n",
        "\r\n",
        "# load the gallstones document\r\n",
        "filename1 = '1gal.txt'\r\n",
        "text = load_doc(filename1)\r\n",
        "tokens1 = clean_doc(text)\r\n",
        "\r\n",
        "print(tokens1)\r\n",
        "\r\n",
        "filename2 = '2art.txt'\r\n",
        "text = load_doc(filename2)\r\n",
        "tokens2 = clean_doc(text)\r\n",
        "\r\n",
        "print(tokens2)\r\n",
        "\r\n",
        "filename2 = '3cgall.txt'\r\n",
        "text = load_doc(filename2)\r\n",
        "tokens2 = clean_doc(text)\r\n",
        "\r\n",
        "print(tokens2)\r\n"
      ],
      "execution_count": 199,
      "outputs": [
        {
          "output_type": "stream",
          "text": [
            "['gallstones', 'hardened', 'deposits', 'digestive', 'fluid', 'form', 'gallbladder', 'gallbladder', 'small', 'pearshaped', 'organ', 'right', 'side', 'abdomen', 'beneath', 'liver', 'gallbladder', 'holds', 'digestive', 'fluid', 'called', 'bile', 'thats', 'released', 'small', 'intestine', 'gallstones', 'range', 'size', 'small', 'grain', 'sand', 'large', 'golf', 'ball', 'people', 'develop', 'one', 'gallstone', 'others', 'develop', 'many', 'gallstones', 'time', 'people', 'experience', 'symptoms', 'gallstones', 'usually', 'require', 'gallbladder', 'removal', 'surgery', 'gallstones', 'dont', 'cause', 'signs', 'symptoms', 'typically', 'dont', 'need', 'treatment']\n",
            "['arthritis', 'inflammation', 'one', 'joints', 'causes', 'pain', 'stiffness', 'arthritis', 'mainly', 'adult', 'disease', 'forms', 'affect', 'children', 'many', 'types', 'arthritis', 'include', 'osteoarthritis', 'rheumatoid', 'arthritis', 'posttraumatic', 'arthritis', 'septic', 'arthritis', 'psoriatic', 'arthritis', 'conditions', 'different', 'causes', 'symptoms', 'treatment', 'often', 'pain', 'swelling', 'stiffness', 'primary', 'symptoms', 'arthritis', 'joint', 'body', 'may', 'affected', 'disease', 'particularly', 'common', 'weightbearing', 'joints', 'knee', 'hip', 'spine', 'although', 'cure', 'arthritis', 'many', 'treatment', 'options', 'available', 'help', 'manage', 'pain', 'keep', 'people', 'staying', 'active']\n",
            "['researcher', 'participant', 'surgeon', 'dictating', 'mr', 'name', 'participant', 'study', 'number', 'thanks', 'much', 'coming', 'along', 'today', 'reason', 'come', 'obviously', 'general', 'practitioner', 'conducted', 'ultrasound', 'scan', 'found', 'stones', 'gallbladder', 'symptoms', 'major', 'problems', 'getting', 'lot', 'pain', 'night', 'time', 'feeling', 'pain', 'feeling', 'pain', 'okay', 'sometimes', 'pain', 'comes', 'night', 'time', 'okay', 'dinner', 'common', 'happen', 'sometimes', 'happens', 'twice', 'week', 'sometimes', 'takes', 'long', 'sometimes', 'happen', 'okay', 'fine', 'ever', 'admitted', 'hospital', 'five', 'months', 'ago', 'without', 'loss', 'pain', 'lots', 'pain', 'went', 'hospital', 'yeah', 'gave', 'neurofen', 'need', 'use', 'inaudible', 'two', 'months', 'ago', 'okay', 'good', 'mentioned', 'started', 'recording', 'conducting', 'study', 'called', 'cgall', 'study', 'reason', 'study', 'people', 'gallstones', 'absolutely', 'certain', 'right', 'thing', 'done', 'two', 'options', 'planning', 'randomised', 'trial', 'translator', 'sorry', 'need', 'translator', 'chapping', 'sorry', 'interpreter', 'family', 'member', 'come', 'room', 'make', 'sure', 'grasp', 'english', 'seems', 'good', 'talking', 'gallbladder', 'anything', 'understand', 'name', 'stop', 'us', 'get', 'support', 'way', 'study', 'moment', 'whereby', 'people', 'gallstones', 'like', 'put', 'study', 'randomised', 'treatment', 'get', 'either', 'go', 'surgery', 'laparoscopic', 'cholecystectomy', 'observed', 'best', 'medical', 'management', 'dietary', 'advice', 'simple', 'painkillers', 'like', 'getting', 'someone', 'like', 'name', 'think', 'one', 'treatments', 'shown', 'better', 'one', 'would', 'start', 'talking', 'operation', 'side', 'things', 'know', 'obviously', 'operation', 'would', 'done', 'keyhole', 'time', 'good', 'chance', 'helping', 'symptoms', 'know', 'gallbladder', 'third', 'patients', 'still', 'ongoing', 'pain', 'around', 'patients', 'quite', 'bad', 'pain', 'also', 'risks', 'operation', 'including', 'bleeding', 'damage', 'inside', 'operation', 'high', 'happen', 'patients', 'option', 'keep', 'eye', 'things', 'sort', 'done', 'present', 'time', 'get', 'pain', 'take', 'neurofen', 'whatever', 'big', 'studies', 'seen', 'know', 'around', 'half', 'people', 'problems', 'gallbladder', 'okay', 'mm', 'hmm', 'even', 'taking', 'painkiller', 'mean', 'yes', 'yes', 'right', 'think', 'genuinely', 'say', 'moment', 'option', 'absolutely', 'right', 'reason', 'conducting', 'study', 'keen', 'would', 'able', 'part', 'study', 'agree', 'part', 'would', 'blindly', 'one', 'options', 'would', 'chosen', 'whether', 'would', 'going', 'surgery', 'whether', 'would', 'keeping', 'eye', 'things', 'stage', 'point', 'got', 'opportunity', 'change', 'mind', 'withdraw', 'study', 'obviously', 'go', 'line', 'observed', 'things', 'become', 'worse', 'would', 'see', 'look', 'taking', 'gallbladder', 'required', 'obviously', 'got', 'put', 'line', 'gallbladder', 'changed', 'mind', 'absolutely', 'fine', 'obligation', 'would', 'happy', 'part', 'study', 'often', 'need', 'contact', 'research', 'purposes', 'absolutely', 'calling', 'would', 'sending', 'information', 'sheets', 'would', 'happen', 'every', 'three', 'months', 'problems', 'issues', 'questions', 'could', 'phone', 'secretary', 'would', 'give', 'phone', 'back', 'discuss', 'matters', 'okay', 'mean', 'calling', 'personally', 'said', 'send', 'questionnaires', 'questionnaires', 'sent', 'need', 'fill', 'send', 'back', 'would', 'send', 'back', 'asking', 'condition', 'yeah', 'asking', 'condition', 'study', 'run', 'city', 'name', 'pi', 'materials', 'sent', 'city', 'sent', 'back', 'city', 'obviously', 'regarding', 'gallstones', 'clinical', 'condition', 'would', 'still', 'managing', 'problem', 'could', 'give', 'secretary', 'phone', 'would', 'get', 'back', 'discuss', 'things', 'main', 'time', 'gets', 'pain', 'quite', 'often', 'night', 'quite', 'uncomfortable', 'hours', 'taking', 'painkiller', 'gradually', 'dies', 'yeah', 'first', 'taking', 'paracetamol', 'okay', 'paracetamol', 'working', 'needing', 'stronger', 'one', 'okay', 'give', 'advice', 'regarding', 'medical', 'management', 'good', 'painkillers', 'paracetamol', 'beyond', 'paracetamol', 'including', 'buscopan', 'antispasmodic', 'also', 'ibuprofen', 'slightly', 'stronger', 'think', 'worked', 'ibuprofen', 'worked', 'used', 'twice', 'ibuprofen', 'fine', 'take', 'might', 'get', 'doctor', 'see', 'whenever', 'gets', 'pain', 'like', 'ibuprofen', 'stronger', 'long', 'take', 'take', 'pain', 'well', 'ibuprofen', 'work', 'within', 'minutes', 'ask', 'general', 'practitioner', 'give', 'ibuprofen', 'also', 'give', 'antiacid', 'medication', 'take', 'protect', 'stomach', 'requiring', 'ibuprofen', 'kind', 'side', 'effects', 'ibuprofen', 'take', 'lot', 'ibuprofen', 'damage', 'lining', 'stomach', 'give', 'antiacid', 'medication', 'protect', 'say', 'take', 'lot', 'ibuprofen', 'four', 'times', 'need', 'take', 'regularly', 'mean', 'yeah', 'yeah', 'even', 'pain', 'recommend', 'taking', 'regularly', 'would', 'recommend', 'taking', 'sore', 'taking', 'one', 'tablet', 'occasionally', 'night', 'time', 'going', 'cause', 'problems', 'meantime', 'noticed', 'whenever', 'gets', 'fried', 'food', 'kind', 'greasy', 'happens', 'typical', 'gallstone', 'disease', 'part', 'go', 'route', 'nonsurgery', 'go', 'route', 'medical', 'management', 'part', 'advice', 'would', 'avoid', 'fatty', 'foods', 'like', 'fatty', 'greasy', 'foods', 'avoid', 'yes', 'absolutely', 'meantime', 'avoiding', 'yeah', 'actually', 'think', 'family', 'well', 'yeah', 'sister', 'two', 'sister', 'surgeries', 'yeah', 'mean', 'hereditary', 'know', 'around', 'people', 'gallstones', 'lot', 'people', 'gallstones', 'less', 'common', 'people', 'troubled', 'gallstones', 'kind', 'chances', 'watch', 'stay', 'research', 'disappear', 'know', 'half', 'people', 'go', 'watch', 'wait', 'medical', 'treatment', 'would', 'never', 'troubled', 'go', 'hospital', 'fact', 'lot', 'cases', 'half', 'people', 'need', 'taking', 'regular', 'painkillers', 'advantages', 'operation', 'side', 'operation', 'common', 'thing', 'done', 'whilst', 'operation', 'take', 'away', 'pain', 'lot', 'patients', 'know', 'depending', 'study', 'third', 'patients', 'would', 'ongoing', 'pain', 'patients', 'would', 'quite', 'severe', 'ongoing', 'pain', 'genuinely', 'need', 'know', 'best', 'treatment', 'seem', 'advantages', 'disadvantages', 'suppose', 'even', 'treatment', 'going', 'pain', 'quite', 'often', 'like', 'short', 'time', 'twice', 'month', 'month', 'every', 'week', 'option', 'got', 'getting', 'pain', 'often', 'put', 'line', 'operation', 'could', 'contact', 'secretary', 'would', 'see', 'time', 'would', 'opportunity', 'say', 'surgeon', 'spoke', 'sure', 'right', 'treatment', 'surgeon', 'thought', 'treatments', 'good', 'decided', 'would', 'prefer', 'one', 'would', 'always', 'option', 'right', 'point', 'change', 'mind', 'absolutely', 'says', 'okay', 'fantastic', 'great', 'kind', 'surgery', 'says', 'required', 'go', 'route', 'surgery', 'surgery', 'normally', 'keyhole', 'make', 'small', 'cut', 'belly', 'button', 'go', 'camera', 'make', 'three', 'cuts', 'go', 'inside', 'free', 'gallbladder', 'surrounding', 'structures', 'liver', 'blood', 'supply', 'keyhole', 'take', 'gallbladder', 'normally', 'someone', 'like', 'would', 'either', 'one', 'night', 'stay', 'normally', 'would', 'one', 'night', 'stay', 'afterwards', 'would', 'advise', 'work', 'around', 'week', 'heavy', 'lifting', 'six', 'weeks', 'cases', 'need', 'open', 'operation', 'large', 'cut', 'underneath', 'right', 'ribs', 'seem', 'safe', 'keyhole', 'way', 'first', 'try', 'small', 'keyhole', 'yes', 'yeah', 'work', 'normally', 'succeed', 'small', 'keyhole', 'surgery', 'asking', 'stage', 'liver', 'part', 'liver', 'removed', 'deliberately', 'gallbladder', 'quite', 'closely', 'attached', 'liver', 'sometimes', 'small', 'amount', 'liver', 'come', 'away', 'surface', 'liver', 'traumatised', 'intend', 'remove', 'liver', 'occasionally', 'cases', 'either', 'blood', 'supply', 'drainage', 'system', 'liver', 'affected', 'surgery', 'might', 'need', 'another', 'operation', 'rare', 'cases', 'kind', 'condition', 'moment', 'got', 'reports', 'big', 'problem', 'small', 'problem', 'small', 'problem', 'point', 'view', 'nothing', 'scan', 'suggests', 'anything', 'bad', 'going', 'got', 'gallstones', 'come', 'hospital', 'pain', 'controlled', 'ibuprofen', 'perfect', 'pain', 'keeps', 'control', 'need', 'anything', 'need', 'anything', 'pain', 'controlled', 'simple', 'painkillers', 'like', 'paracetamol', 'ibuprofen', 'changing', 'diet', 'need', 'another', 'discussion', 'course', 'go', 'study', 'chance', 'going', 'line', 'operation', 'case', 'talk', 'like', 'happy', 'included', 'study', 'need', 'get', 'speak', 'rn', 'one', 'research', 'nurses', 'go', 'things', 'need', 'find', 'part', 'study', 'going', 'going', 'discussions', 'necessary', 'okay', 'subject', 'number', 'seen', 'surgeon', 'moving', 'research', 'nurse', 'rn', 'discuss', 'consent', 'associated', 'issues', 'go', 'back', 'surgeon', 'said', 'computer', 'consent', 'take', 'part', 'study', 'decides', 'happens', 'whether', 'get', 'surgery', 'whether', 'necessary', 'get', 'surgery', 'condition', 'deteriorates', 'say', 'waiting', 'see', 'one', 'works', 'best', 'two', 'options', 'okay', 'questions', 'want', 'ask', 'quite', 'clear', 'quite', 'clear', 'good', 'pop', 'side', 'need', 'pop', 'side', 'get', 'later', 'keep', 'hold', 'bit', 'information', 'sheet', 'already', 'chance', 'look', 'mm', 'hmm', 'main', 'bit', 'take', 'consent', 'form', 'first', 'one', 'get', 'wait', 'get', 'glasses', 'okay', 'chance', 'read', 'information', 'sheet', 'stuff', 'sent', 'chance', 'read', 'time', 'consider', 'ask', 'questions', 'quite', 'happy', 'answers', 'yeah', 'participation', 'entirely', 'voluntary', 'entirely', 'whether', 'take', 'part', 'withdraw', 'study', 'way', 'line', 'go', 'enough', 'questionnaires', 'want', 'contact', 'us', 'say', 'tell', 'stop', 'sending', 'stop', 'sending', 'fine', 'surgeon', 'going', 'cause', 'problems', 'sections', 'medical', 'notes', 'might', 'looked', 'people', 'outside', 'health', 'board', 'city', 'coordinating', 'centre', 'regulatory', 'authorities', 'make', 'sure', 'putting', 'accurate', 'correct', 'means', 'information', 'doctor', 'yes', 'purely', 'medical', 'notes', 'okay', 'confirm', 'yes', 'gallstones', 'ultrasound', 'said', 'confirm', 'committing', 'act', 'fraud', 'money', 'involved', 'government', 'funded', 'standard', 'catch', 'personal', 'data', 'includes', 'contact', 'details', 'held', 'securely', 'city', 'send', 'questionnaires', 'says', 'happy', 'send', 'study', 'questionnaires', 'post', 'email', 'easiest', 'way', 'post', 'fine', 'problem', 'might', 'get', 'information', 'medical', 'notes', 'held', 'also', 'information', 'says', 'office', 'national', 'statistics', 'england', 'things', 'like', 'many', 'times', 'gp', 'collated', 'nhs', 'information', 'services', 'division', 'edinburgh', 'number', 'generated', 'far', 'study', 'large', 'people', 'know', 'number', 'quite', 'good', 'reading', 'upside', 'point', 'okay', 'one', 'saying', 'happy', 'send', 'letter', 'gp', 'may', 'contacted', 'future', 'long', 'term', 'follow', 'ups', 'study', 'finished', 'another', 'study', 'may', 'appear', 'want', 'follow', 'years', 'sometimes', 'might', 'get', 'touch', 'would', 'separate', 'consent', 'drop', 'letter', 'say', 'interested', 'taking', 'point', 'say', 'yes', 'whatever', 'information', 'collected', 'might', 'shared', 'researchers', 'personal', 'information', 'information', 'number', 'times', 'went', 'gp', 'conditions', 'things', 'like', 'absolutely', 'name', 'address', 'anything', 'happy', 'contacted', 'future', 'taking', 'part', 'relevant', 'research', 'might', 'come', 'happy', 'contact', 'take', 'part', 'happy', 'contacted', 'putting', 'consent', 'forms', 'things', 'looking', 'longer', 'term', 'good', 'old', 'days', 'started', 'research', 'everything', 'stopped', 'days', 'goes', 'years', 'years', 'years', 'okay', 'okay', 'happy', 'sir', 'get', 'initial', 'boxes', 'put', 'initials', 'boxes', 'please', 'first', 'name', 'surname', 'initial', 'theinitial', 'make', 'decided', 'start', 'research', 'quite', 'big', 'population', 'obviously', 'biggest', 'health', 'authority', 'uk', 'population', 'million', 'people', 'well', 'sorry', 'side', 'popped', 'sorry', 'fine', 'told', 'happy', 'statements', 'mind', 'put', 'would', 'great', 'okay', 'well', 'sir', 'fault', 'written', 'yes', 'need', 'put', 'initials', 'boxes', 'sorry', 'mistake', 'okay', 'scribble', 'get', 'initial', 'next', 'boxes', 'initials', 'apologise', 'get', 'sign', 'please', 'sign', 'name', 'print', 'name', 'well', 'please', 'capital', 'letters', 'fine', 'put', 'date', 'thank', 'sir', 'bottom', 'bit', 'us', 'finished', 'think', 'point', 'press', 'stop']\n"
          ],
          "name": "stdout"
        }
      ]
    },
    {
      "cell_type": "markdown",
      "metadata": {
        "id": "4urth3_7wUkp"
      },
      "source": [
        "**Create a vocabulary.**"
      ]
    },
    {
      "cell_type": "code",
      "metadata": {
        "colab": {
          "base_uri": "https://localhost:8080/"
        },
        "id": "8rP6uCAPwWH4",
        "outputId": "2dabdc0c-b20c-48a7-c067-91f3339d2be5"
      },
      "source": [
        "from os import listdir\r\n",
        "from collections import Counter\r\n",
        "\r\n",
        "# load doc and add to vocab\r\n",
        "def add_doc_to_vocab(filename, vocab):\r\n",
        "  # load doc\r\n",
        "  \r\n",
        "  doc = load_doc(filename)\r\n",
        "  # clean doc\r\n",
        "  tokens = clean_doc(doc)\r\n",
        "  # update counts\r\n",
        "  vocab.update(tokens)\r\n",
        "\r\n",
        "# load all docs in a directory\r\n",
        "def process_docs(directory, vocab):\r\n",
        "  # walk through all files in the folder\r\n",
        "  for filename in listdir(directory):\r\n",
        "    # create the full path of the file to open\r\n",
        "    path = directory + '/' + filename\r\n",
        "    # add doc to vocab\r\n",
        "    add_doc_to_vocab(path, vocab)\r\n",
        "  \r\n",
        "# define vocab\r\n",
        "vocab = Counter()\r\n",
        "\r\n",
        "# add all docs to vocab\r\n",
        "# this is my words + katie's first file\r\n",
        "process_docs('gallstones', vocab)\r\n",
        "process_docs('arthritis', vocab)\r\n",
        "\r\n",
        "# print the size of the vocab\r\n",
        "print('Words in the vocab: ', len(vocab), '\\n')\r\n",
        "\r\n",
        "# print the top words in the vocab\r\n",
        "prettyPrint = dict(vocab.most_common(50))\r\n",
        "for k, v in prettyPrint.items():\r\n",
        "  print (k, '---->', v)\r\n"
      ],
      "execution_count": 203,
      "outputs": [
        {
          "output_type": "stream",
          "text": [
            "Words in the vocab:  574 \n",
            "\n",
            "would ----> 29\n",
            "pain ----> 24\n",
            "study ----> 21\n",
            "okay ----> 18\n",
            "need ----> 17\n",
            "get ----> 16\n",
            "people ----> 14\n",
            "one ----> 14\n",
            "take ----> 14\n",
            "gallstones ----> 13\n",
            "gallbladder ----> 13\n",
            "go ----> 13\n",
            "ibuprofen ----> 12\n",
            "like ----> 11\n",
            "operation ----> 11\n",
            "quite ----> 11\n",
            "part ----> 11\n",
            "time ----> 10\n",
            "surgery ----> 10\n",
            "yeah ----> 10\n",
            "taking ----> 10\n",
            "happy ----> 10\n",
            "information ----> 10\n",
            "small ----> 9\n",
            "liver ----> 9\n",
            "things ----> 9\n",
            "arthritis ----> 9\n",
            "treatment ----> 8\n",
            "name ----> 8\n",
            "good ----> 8\n",
            "know ----> 8\n",
            "yes ----> 8\n",
            "going ----> 8\n",
            "right ----> 7\n",
            "side ----> 7\n",
            "fine ----> 7\n",
            "absolutely ----> 7\n",
            "put ----> 7\n",
            "medical ----> 7\n",
            "say ----> 7\n",
            "research ----> 7\n",
            "might ----> 7\n",
            "symptoms ----> 6\n",
            "surgeon ----> 6\n",
            "obviously ----> 6\n",
            "lot ----> 6\n",
            "night ----> 6\n",
            "sometimes ----> 6\n",
            "keyhole ----> 6\n",
            "patients ----> 6\n"
          ],
          "name": "stdout"
        }
      ]
    }
  ]
}