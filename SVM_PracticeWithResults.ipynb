{
  "nbformat": 4,
  "nbformat_minor": 0,
  "metadata": {
    "colab": {
      "name": "SVM Practice.ipynb",
      "provenance": [],
      "collapsed_sections": [],
      "authorship_tag": "ABX9TyN113mBZ1S+zjdFSakscPDp",
      "include_colab_link": true
    },
    "kernelspec": {
      "name": "python3",
      "display_name": "Python 3"
    }
  },
  "cells": [
    {
      "cell_type": "markdown",
      "metadata": {
        "id": "view-in-github",
        "colab_type": "text"
      },
      "source": [
        "<a href=\"https://colab.research.google.com/github/AlexanderBelfort/MDPRKT/blob/main/SVM_PracticeWithResults.ipynb\" target=\"_parent\"><img src=\"https://colab.research.google.com/assets/colab-badge.svg\" alt=\"Open In Colab\"/></a>"
      ]
    },
    {
      "cell_type": "code",
      "metadata": {
        "id": "s9c5HZRKnJKL"
      },
      "source": [
        "%pip install spacy\r\n",
        "!python -m spacy download en_core_web_md"
      ],
      "execution_count": null,
      "outputs": []
    },
    {
      "cell_type": "code",
      "metadata": {
        "colab": {
          "base_uri": "https://localhost:8080/",
          "height": 123
        },
        "id": "Y_IvBxN-nVC7",
        "outputId": "57c80663-1ed2-403f-982c-0ba55167d463"
      },
      "source": [
        "class medicalCategory:\r\n",
        "  gallstoneDisease = \"Gallstone Disease\"\r\n",
        "  arthritis = \"Arthritis\"\r\n",
        "\r\n",
        "train_x = [\"Gallstones are hardened deposits of digestive fluid that can form in your gallbladder\",\\\r\n",
        "           \"People who experience symptoms from their gallstones usually require gallbladder removal surgery.\",\\\r\n",
        "           \"Arthritis is inflammation of one or more of your joints that causes pain and stiffness.\",\\\r\n",
        "           \"Although there is no cure for arthritis, there are many treatment options available to help manage pain and keep people staying active.\"]\r\n",
        "train_y = [medicalCategory.gallstoneDisease, medicalCategory.gallstoneDisease, medicalCategory.arthritis, medicalCategory.arthritis]\r\n"
      ],
      "execution_count": 125,
      "outputs": [
        {
          "output_type": "stream",
          "text": [
            "[[['Gallstones are hardened deposits of digestive fluid that can form in your gallbladder. Your gallbladder is a small', ' pear-shaped organ on the right side of your abdomen', \" just beneath your liver. The gallbladder holds a digestive fluid called bile that's released into your small intestine.\\n\"], ['\\n'], ['Gallstones range in size from as small as a grain of sand to as large as a golf ball. Some people develop just one gallstone', ' while others develop many gallstones at the same time.\\n'], ['\\n'], [\"People who experience symptoms from their gallstones usually require gallbladder removal surgery. Gallstones that don't cause any signs and symptoms typically don't need treatment.\"], ['Arthritis is inflammation of one or more of your joints that causes pain and stiffness. While arthritis is mainly an adult disease', ' some forms affect children.\\n'], ['\\n'], ['There are many types of arthritis. Some of these include osteoarthritis', ' rheumatoid arthritis', ' post-traumatic arthritis', ' septic arthritis', ' and psoriatic arthritis.\\n'], ['\\n'], ['While each of these conditions have different causes', ' the symptoms and treatment are often the same. Pain', ' swelling', ' and stiffness are the primary symptoms of arthritis. Any joint in the body may be affected by the disease', ' but it is particularly common in weight-bearing joints such as the knee', ' hip', ' and spine.\\n'], ['\\n'], ['Although there is no cure for arthritis', ' there are many treatment options available to help manage pain and keep people staying active.']]]\n"
          ],
          "name": "stdout"
        },
        {
          "output_type": "execute_result",
          "data": {
            "application/vnd.google.colaboratory.intrinsic+json": {
              "type": "string"
            },
            "text/plain": [
              "'\\nclass medicalCategory:\\n  gallstoneDisease = \"Gallstone Disease\"\\n  arthritis = \"Arthritis\"\\n\\ntrain_x = [\"Gallstones are hardened deposits of digestive fluid that can form in your gallbladder\",           \"People who experience symptoms from their gallstones usually require gallbladder removal surgery.\",           \"Arthritis is inflammation of one or more of your joints that causes pain and stiffness.\",           \"Although there is no cure for arthritis, there are many treatment options available to help manage pain and keep people staying active.\"]\\ntrain_y = [medicalCategory.gallstoneDisease, medicalCategory.gallstoneDisease, medicalCategory.arthritis, medicalCategory.arthritis]\\n'"
            ]
          },
          "metadata": {
            "tags": []
          },
          "execution_count": 125
        }
      ]
    },
    {
      "cell_type": "markdown",
      "metadata": {
        "id": "rCaSLxFHpaDh"
      },
      "source": [
        "**Fit vectorizer to transform text to bag-of-words vectors**"
      ]
    },
    {
      "cell_type": "code",
      "metadata": {
        "colab": {
          "base_uri": "https://localhost:8080/"
        },
        "id": "UHv7FkhCpeQK",
        "outputId": "b8b58868-c160-4f90-9806-fb72a656b1a8"
      },
      "source": [
        "from sklearn.feature_extraction.text import CountVectorizer\r\n",
        "\r\n",
        "vectorizer = CountVectorizer(binary=True)\r\n",
        "train_x_vectors = vectorizer.fit_transform(train_x)\r\n",
        "\r\n",
        "print(vectorizer.get_feature_names())\r\n",
        "print(train_x_vectors.toarray())"
      ],
      "execution_count": 101,
      "outputs": [
        {
          "output_type": "stream",
          "text": [
            "['active', 'although', 'and', 'are', 'arthritis', 'available', 'can', 'causes', 'cure', 'deposits', 'digestive', 'experience', 'fluid', 'for', 'form', 'from', 'gallbladder', 'gallstones', 'hardened', 'help', 'in', 'inflammation', 'is', 'joints', 'keep', 'manage', 'many', 'more', 'no', 'of', 'one', 'options', 'or', 'pain', 'people', 'removal', 'require', 'staying', 'stiffness', 'surgery', 'symptoms', 'that', 'their', 'there', 'to', 'treatment', 'usually', 'who', 'your']\n",
            "[[0 0 0 1 0 0 1 0 0 1 1 0 1 0 1 0 1 1 1 0 1 0 0 0 0 0 0 0 0 1 0 0 0 0 0 0\n",
            "  0 0 0 0 0 1 0 0 0 0 0 0 1]\n",
            " [0 0 0 0 0 0 0 0 0 0 0 1 0 0 0 1 1 1 0 0 0 0 0 0 0 0 0 0 0 0 0 0 0 0 1 1\n",
            "  1 0 0 1 1 0 1 0 0 0 1 1 0]\n",
            " [0 0 1 0 1 0 0 1 0 0 0 0 0 0 0 0 0 0 0 0 0 1 1 1 0 0 0 1 0 1 1 0 1 1 0 0\n",
            "  0 0 1 0 0 1 0 0 0 0 0 0 1]\n",
            " [1 1 1 1 1 1 0 0 1 0 0 0 0 1 0 0 0 0 0 1 0 0 1 0 1 1 1 0 1 0 0 1 0 1 1 0\n",
            "  0 1 0 0 0 0 0 1 1 1 0 0 0]]\n"
          ],
          "name": "stdout"
        }
      ]
    },
    {
      "cell_type": "markdown",
      "metadata": {
        "id": "zaL9pJTapwU6"
      },
      "source": [
        "\r\n",
        "**Train SVM Model**"
      ]
    },
    {
      "cell_type": "code",
      "metadata": {
        "colab": {
          "base_uri": "https://localhost:8080/"
        },
        "id": "01LH5ns2pyMr",
        "outputId": "68a6b34f-63b4-44ef-fbdc-e897c3d28720"
      },
      "source": [
        "from sklearn import svm\r\n",
        "clf_svm = svm.SVC(kernel='linear')\r\n",
        "clf_svm.fit(train_x_vectors, train_y)"
      ],
      "execution_count": 102,
      "outputs": [
        {
          "output_type": "execute_result",
          "data": {
            "text/plain": [
              "SVC(C=1.0, break_ties=False, cache_size=200, class_weight=None, coef0=0.0,\n",
              "    decision_function_shape='ovr', degree=3, gamma='scale', kernel='linear',\n",
              "    max_iter=-1, probability=False, random_state=None, shrinking=True,\n",
              "    tol=0.001, verbose=False)"
            ]
          },
          "metadata": {
            "tags": []
          },
          "execution_count": 102
        }
      ]
    },
    {
      "cell_type": "markdown",
      "metadata": {
        "id": "HnZmqJ2MqWu5"
      },
      "source": [
        "**Testing**"
      ]
    },
    {
      "cell_type": "code",
      "metadata": {
        "colab": {
          "base_uri": "https://localhost:8080/"
        },
        "id": "qj1b2Fkdp2Sy",
        "outputId": "a8062656-63f0-493e-d4a8-2d84e6531d1e"
      },
      "source": [
        "test_x1 = vectorizer.transform(['Is there a cure for arthritis?'])\r\n",
        "\r\n",
        "clf_svm.predict(test_x1)\r\n"
      ],
      "execution_count": 116,
      "outputs": [
        {
          "output_type": "execute_result",
          "data": {
            "text/plain": [
              "array(['Arthritis'], dtype='<U17')"
            ]
          },
          "metadata": {
            "tags": []
          },
          "execution_count": 116
        }
      ]
    },
    {
      "cell_type": "code",
      "metadata": {
        "colab": {
          "base_uri": "https://localhost:8080/"
        },
        "id": "Qia9EsLgqU0q",
        "outputId": "88eea718-a408-4cb6-ff5e-fe62832249b0"
      },
      "source": [
        "test_x2 = vectorizer.transform(['I need gallstones surgery.'])\r\n",
        "\r\n",
        "clf_svm.predict(test_x2)"
      ],
      "execution_count": 126,
      "outputs": [
        {
          "output_type": "execute_result",
          "data": {
            "text/plain": [
              "array(['Gallstone Disease'], dtype='<U17')"
            ]
          },
          "metadata": {
            "tags": []
          },
          "execution_count": 126
        }
      ]
    },
    {
      "cell_type": "markdown",
      "metadata": {
        "id": "ojLW3AuIuB3R"
      },
      "source": [
        "**Cleaning data practice**"
      ]
    },
    {
      "cell_type": "code",
      "metadata": {
        "colab": {
          "base_uri": "https://localhost:8080/"
        },
        "id": "EakT93cauDpQ",
        "outputId": "7a9e3ef4-06ab-4f13-cd33-39252b2ba803"
      },
      "source": [
        "import nltk\r\n",
        "from nltk.corpus import stopwords\r\n",
        "import string\r\n",
        "import re\r\n",
        "\r\n",
        "# load doc into memory\r\n",
        "def load_doc(filename):\r\n",
        "  # open the file as read only\r\n",
        "  file = open(filename, 'r')\r\n",
        "  # read all text\r\n",
        "  text = file.read()\r\n",
        "  # close the file\r\n",
        "  file.close()\r\n",
        "  return text\r\n",
        "  # turn a doc into clean tokens\r\n",
        "\r\n",
        "def clean_doc(doc):\r\n",
        "\r\n",
        "  # toLower\r\n",
        "  doc = doc.lower()\r\n",
        "  # split into tokens by white space\r\n",
        "  tokens = doc.split()\r\n",
        "  # prepare regex for char filtering\r\n",
        "  re_punc = re.compile('[%s]' % re.escape(string.punctuation))\r\n",
        "  # remove punctuation from each word\r\n",
        "  tokens = [re_punc.sub('', w) for w in tokens]\r\n",
        "  # remove remaining tokens that are not alphabetic\r\n",
        "  tokens = [word for word in tokens if word.isalpha()]\r\n",
        "  # filter out stop words\r\n",
        "  stop_words = set(stopwords.words('english'))\r\n",
        "  tokens = [w for w in tokens if not w in stop_words]\r\n",
        "  # filter out short tokens\r\n",
        "  tokens = [word for word in tokens if len(word) > 1]\r\n",
        "  return tokens\r\n",
        "\r\n",
        "# load the gallstones document\r\n",
        "filename1 = '1gal.txt'\r\n",
        "text = load_doc(filename1)\r\n",
        "tokens1 = clean_doc(text)\r\n",
        "\r\n",
        "print(tokens1)\r\n",
        "\r\n",
        "filename2 = '2art.txt'\r\n",
        "text = load_doc(filename2)\r\n",
        "tokens2 = clean_doc(text)\r\n",
        "\r\n",
        "print(tokens2)\r\n",
        "\r\n"
      ],
      "execution_count": 146,
      "outputs": [
        {
          "output_type": "stream",
          "text": [
            "['gallstones', 'hardened', 'deposits', 'digestive', 'fluid', 'form', 'gallbladder', 'gallbladder', 'small', 'pearshaped', 'organ', 'right', 'side', 'abdomen', 'beneath', 'liver', 'gallbladder', 'holds', 'digestive', 'fluid', 'called', 'bile', 'thats', 'released', 'small', 'intestine', 'gallstones', 'range', 'size', 'small', 'grain', 'sand', 'large', 'golf', 'ball', 'people', 'develop', 'one', 'gallstone', 'others', 'develop', 'many', 'gallstones', 'time', 'people', 'experience', 'symptoms', 'gallstones', 'usually', 'require', 'gallbladder', 'removal', 'surgery', 'gallstones', 'dont', 'cause', 'signs', 'symptoms', 'typically', 'dont', 'need', 'treatment']\n",
            "['arthritis', 'inflammation', 'one', 'joints', 'causes', 'pain', 'stiffness', 'arthritis', 'mainly', 'adult', 'disease', 'forms', 'affect', 'children', 'many', 'types', 'arthritis', 'include', 'osteoarthritis', 'rheumatoid', 'arthritis', 'posttraumatic', 'arthritis', 'septic', 'arthritis', 'psoriatic', 'arthritis', 'conditions', 'different', 'causes', 'symptoms', 'treatment', 'often', 'pain', 'swelling', 'stiffness', 'primary', 'symptoms', 'arthritis', 'joint', 'body', 'may', 'affected', 'disease', 'particularly', 'common', 'weightbearing', 'joints', 'knee', 'hip', 'spine', 'although', 'cure', 'arthritis', 'many', 'treatment', 'options', 'available', 'help', 'manage', 'pain', 'keep', 'people', 'staying', 'active']\n"
          ],
          "name": "stdout"
        }
      ]
    },
    {
      "cell_type": "markdown",
      "metadata": {
        "id": "4urth3_7wUkp"
      },
      "source": [
        "**Create a vocabulary.**"
      ]
    },
    {
      "cell_type": "code",
      "metadata": {
        "colab": {
          "base_uri": "https://localhost:8080/"
        },
        "id": "8rP6uCAPwWH4",
        "outputId": "70ce59dc-e7c2-4d9d-9798-136ac0506ad6"
      },
      "source": [
        "from os import listdir\r\n",
        "from collections import Counter\r\n",
        "\r\n",
        "# load doc and add to vocab\r\n",
        "def add_doc_to_vocab(filename, vocab):\r\n",
        "  # load doc\r\n",
        "  doc = load_doc(filename)\r\n",
        "  # clean doc\r\n",
        "  tokens = clean_doc(doc)\r\n",
        "  # update counts\r\n",
        "  vocab.update(tokens)\r\n",
        "\r\n",
        "# load all docs in a directory\r\n",
        "def process_docs(directory, vocab):\r\n",
        "  # walk through all files in the folder\r\n",
        "  for filename in listdir(directory):\r\n",
        "    # create the full path of the file to open\r\n",
        "    path = directory + '/' + filename\r\n",
        "    # add doc to vocab\r\n",
        "    add_doc_to_vocab(path, vocab)\r\n",
        "  \r\n",
        "# define vocab\r\n",
        "vocab = Counter()\r\n",
        "\r\n",
        "# add all docs to vocab\r\n",
        "process_docs('gallstones', vocab)\r\n",
        "process_docs('arthritis', vocab)\r\n",
        "\r\n",
        "# print the size of the vocab\r\n",
        "print(len(vocab))\r\n",
        "\r\n",
        "# print the top words in the vocab\r\n",
        "prettyprint = dict(vocab.most_common(50))\r\n",
        "for k, v in prettyprint.items():\r\n",
        "  print (k, '---->', v)\r\n"
      ],
      "execution_count": 156,
      "outputs": [
        {
          "output_type": "stream",
          "text": [
            "90\n",
            "arthritis ----> 9\n",
            "gallstones ----> 5\n",
            "gallbladder ----> 4\n",
            "symptoms ----> 4\n",
            "small ----> 3\n",
            "people ----> 3\n",
            "many ----> 3\n",
            "treatment ----> 3\n",
            "pain ----> 3\n",
            "digestive ----> 2\n",
            "fluid ----> 2\n",
            "develop ----> 2\n",
            "one ----> 2\n",
            "dont ----> 2\n",
            "joints ----> 2\n",
            "causes ----> 2\n",
            "stiffness ----> 2\n",
            "disease ----> 2\n",
            "hardened ----> 1\n",
            "deposits ----> 1\n",
            "form ----> 1\n",
            "pearshaped ----> 1\n",
            "organ ----> 1\n",
            "right ----> 1\n",
            "side ----> 1\n",
            "abdomen ----> 1\n",
            "beneath ----> 1\n",
            "liver ----> 1\n",
            "holds ----> 1\n",
            "called ----> 1\n",
            "bile ----> 1\n",
            "thats ----> 1\n",
            "released ----> 1\n",
            "intestine ----> 1\n",
            "range ----> 1\n",
            "size ----> 1\n",
            "grain ----> 1\n",
            "sand ----> 1\n",
            "large ----> 1\n",
            "golf ----> 1\n",
            "ball ----> 1\n",
            "gallstone ----> 1\n",
            "others ----> 1\n",
            "time ----> 1\n",
            "experience ----> 1\n",
            "usually ----> 1\n",
            "require ----> 1\n",
            "removal ----> 1\n",
            "surgery ----> 1\n",
            "cause ----> 1\n"
          ],
          "name": "stdout"
        }
      ]
    }
  ]
}