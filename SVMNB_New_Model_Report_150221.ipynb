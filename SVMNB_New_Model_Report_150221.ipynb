{
  "nbformat": 4,
  "nbformat_minor": 0,
  "metadata": {
    "colab": {
      "name": "SVMNB.ipynb",
      "provenance": [],
      "collapsed_sections": [],
      "authorship_tag": "ABX9TyMvtdqJECDAwwQtd8w57MLM",
      "include_colab_link": true
    },
    "kernelspec": {
      "name": "python3",
      "display_name": "Python 3"
    }
  },
  "cells": [
    {
      "cell_type": "markdown",
      "metadata": {
        "id": "view-in-github",
        "colab_type": "text"
      },
      "source": [
        "<a href=\"https://colab.research.google.com/github/AlexanderBelfort/MDPRKT/blob/main/SVMNB_New_Model_Report_150221.ipynb\" target=\"_parent\"><img src=\"https://colab.research.google.com/assets/colab-badge.svg\" alt=\"Open In Colab\"/></a>"
      ]
    },
    {
      "cell_type": "code",
      "metadata": {
        "id": "vVm4WRth9enS",
        "colab": {
          "base_uri": "https://localhost:8080/",
          "height": 200
        },
        "outputId": "7458553b-9705-42b9-a951-99302c1c195a"
      },
      "source": [
        "import pandas as pd\r\n",
        "import numpy as np\r\n",
        "import nltk\r\n",
        "from nltk.tokenize import word_tokenize\r\n",
        "from nltk import pos_tag\r\n",
        "from nltk.corpus import stopwords\r\n",
        "from nltk.stem import WordNetLemmatizer\r\n",
        "from sklearn.preprocessing import LabelEncoder\r\n",
        "from collections import defaultdict\r\n",
        "from nltk.corpus import wordnet as wn\r\n",
        "from sklearn.feature_extraction.text import TfidfVectorizer\r\n",
        "from sklearn import model_selection, naive_bayes, svm\r\n",
        "from sklearn.metrics import accuracy_score\r\n",
        "import pickle\r\n",
        "\r\n",
        "# Set Random seed\r\n",
        "np.random.seed(500)\r\n",
        "\r\n",
        "# Add the Data using pandas\r\n",
        "\r\n",
        "Corpus = pd.read_csv(r\"SVM_vs_NB.csv\", encoding='latin-1')\r\n",
        "#header=None, error_bad_lines=False)\r\n",
        "'''col_name = Corpus.columns[0]\r\n",
        "Corpus=Corpus.rename(columns = {col_name:'text'})\r\n",
        "\r\n",
        "col_name2 = Corpus.columns[1]\r\n",
        "Corpus=Corpus.rename(columns = {col_name2:'label'})\r\n",
        "'''\r\n",
        "Corpus.head()"
      ],
      "execution_count": 148,
      "outputs": [
        {
          "output_type": "execute_result",
          "data": {
            "text/html": [
              "<div>\n",
              "<style scoped>\n",
              "    .dataframe tbody tr th:only-of-type {\n",
              "        vertical-align: middle;\n",
              "    }\n",
              "\n",
              "    .dataframe tbody tr th {\n",
              "        vertical-align: top;\n",
              "    }\n",
              "\n",
              "    .dataframe thead th {\n",
              "        text-align: right;\n",
              "    }\n",
              "</style>\n",
              "<table border=\"1\" class=\"dataframe\">\n",
              "  <thead>\n",
              "    <tr style=\"text-align: right;\">\n",
              "      <th></th>\n",
              "      <th>text</th>\n",
              "      <th>label</th>\n",
              "    </tr>\n",
              "  </thead>\n",
              "  <tbody>\n",
              "    <tr>\n",
              "      <th>0</th>\n",
              "      <td>Cholesterol gallstones result from oversaturat...</td>\n",
              "      <td>__GALLSTONES__</td>\n",
              "    </tr>\n",
              "    <tr>\n",
              "      <th>1</th>\n",
              "      <td>Gallstones are highly prevalent in most develo...</td>\n",
              "      <td>__GALLSTONES__</td>\n",
              "    </tr>\n",
              "    <tr>\n",
              "      <th>2</th>\n",
              "      <td>Lung cancer does not usually cause noticeable ...</td>\n",
              "      <td>__OTHER_DISEASES__</td>\n",
              "    </tr>\n",
              "    <tr>\n",
              "      <th>3</th>\n",
              "      <td>Multiple studies on the subjet of gallstones h...</td>\n",
              "      <td>__GALLSTONES__</td>\n",
              "    </tr>\n",
              "    <tr>\n",
              "      <th>4</th>\n",
              "      <td>Research indicates that gallstones have been h...</td>\n",
              "      <td>__GALLSTONES__</td>\n",
              "    </tr>\n",
              "  </tbody>\n",
              "</table>\n",
              "</div>"
            ],
            "text/plain": [
              "                                                text               label\n",
              "0  Cholesterol gallstones result from oversaturat...      __GALLSTONES__\n",
              "1  Gallstones are highly prevalent in most develo...      __GALLSTONES__\n",
              "2  Lung cancer does not usually cause noticeable ...  __OTHER_DISEASES__\n",
              "3  Multiple studies on the subjet of gallstones h...      __GALLSTONES__\n",
              "4  Research indicates that gallstones have been h...      __GALLSTONES__"
            ]
          },
          "metadata": {
            "tags": []
          },
          "execution_count": 148
        }
      ]
    },
    {
      "cell_type": "code",
      "metadata": {
        "id": "3MTB46fr_QJG",
        "colab": {
          "base_uri": "https://localhost:8080/"
        },
        "outputId": "a0271026-691e-4246-d371-5f9f238bc7b0"
      },
      "source": [
        "nltk.download('wordnet')\r\n",
        "nltk.download('punkt')\r\n",
        "nltk.download('averaged_perceptron_tagger')\r\n",
        "nltk.download('stopwords')\r\n",
        "\r\n",
        "# Step - 1: Data Pre-processing - This will help in getting better results through the classification algorithms\r\n",
        "\r\n",
        "# Step - 1a : Remove blank rows if any.\r\n",
        "Corpus['text'].dropna(inplace=True)\r\n",
        "\r\n",
        "# WordNetLemmatizer requires Pos tags to understand if the word is noun or verb or adjective etc. By default it is set to Noun\r\n",
        "tag_map = defaultdict(lambda: wn.NOUN)\r\n",
        "tag_map['J'] = wn.ADJ\r\n",
        "tag_map['V'] = wn.VERB\r\n",
        "tag_map['R'] = wn.ADV\r\n",
        "\r\n",
        "\r\n",
        "def text_preprocessing(text):\r\n",
        "    # Step - 1b : Change all the text to lower case. This is required as python interprets 'dog' and 'DOG' differently\r\n",
        "    text = text.lower()\r\n",
        "\r\n",
        "    # Step - 1c : Tokenization : In this each entry in the corpus will be broken into set of words\r\n",
        "    text_words_list = word_tokenize(text)\r\n",
        "\r\n",
        "    # Step - 1d : Remove Stop words, Non-Numeric and perfom Word Stemming/Lemmenting.\r\n",
        "    # Declaring Empty List to store the words that follow the rules for this step\r\n",
        "    Final_words = []\r\n",
        "    # Initializing WordNetLemmatizer()\r\n",
        "    word_Lemmatized = WordNetLemmatizer()\r\n",
        "    # pos_tag function below will provide the 'tag' i.e if the word is Noun(N) or Verb(V) or something else.\r\n",
        "    for word, tag in pos_tag(text_words_list):\r\n",
        "        # Below condition is to check for Stop words and consider only alphabets\r\n",
        "        if word not in stopwords.words('english') and word.isalpha():\r\n",
        "            word_Final = word_Lemmatized.lemmatize(word, tag_map[tag[0]])\r\n",
        "            Final_words.append(word_Final)\r\n",
        "        # The final processed set of words for each iteration will be stored in 'text_final'\r\n",
        "    return str(Final_words)\r\n",
        "\r\n",
        "\r\n",
        "Corpus['text_final'] = Corpus['text'].map(text_preprocessing)\r\n",
        "\r\n",
        "# Step - 2: Split the model into Train and Test Data set\r\n",
        "Train_X, Test_X, Train_Y, Test_Y = model_selection.train_test_split(Corpus['text_final'], Corpus['label'],\r\n",
        "                                                                    test_size=0.3)\r\n",
        "\r\n",
        "# Step - 3: Label encode the target variable  - This is done to transform Categorical data of string type in the data set into numerical values\r\n",
        "Encoder = LabelEncoder()\r\n",
        "Encoder.fit(Train_Y)\r\n",
        "Train_Y = Encoder.transform(Train_Y)\r\n",
        "Test_Y = Encoder.transform(Test_Y)\r\n",
        "\r\n",
        "# Step - 4: Vectorize the words by using TF-IDF Vectorizer - This is done to find how important a word in document is in comaprison to the corpus\r\n",
        "Tfidf_vect = TfidfVectorizer(max_features=5000)\r\n",
        "Tfidf_vect.fit(Corpus['text_final'])\r\n",
        "\r\n",
        "Train_X_Tfidf = Tfidf_vect.transform(Train_X)\r\n",
        "Test_X_Tfidf = Tfidf_vect.transform(Test_X)\r\n",
        "\r\n",
        "# Step - 5: Now we can run different algorithms to classify out data check for accuracy\r\n",
        "\r\n",
        "# Classifier - Algorithm - Naive Bayes\r\n",
        "# fit the training dataset on the classifier\r\n",
        "Naive = naive_bayes.MultinomialNB()\r\n",
        "Naive.fit(Train_X_Tfidf, Train_Y)\r\n",
        "\r\n",
        "# predict the labels on validation dataset\r\n",
        "predictions_NB = Naive.predict(Test_X_Tfidf)\r\n",
        "\r\n",
        "# Use accuracy_score function to get the accuracy\r\n",
        "print(\"Naive Bayes Accuracy Score -> \", accuracy_score(predictions_NB, Test_Y) * 100)\r\n",
        "\r\n",
        "# Classifier - Algorithm - SVM\r\n",
        "# fit the training dataset on the classifier\r\n",
        "SVM = svm.SVC(C=1.0, kernel='linear', degree=3, gamma='auto')\r\n",
        "SVM.fit(Train_X_Tfidf, Train_Y)\r\n",
        "\r\n",
        "# predict the labels on validation dataset\r\n",
        "predictions_SVM = SVM.predict(Test_X_Tfidf)\r\n",
        "\r\n",
        "# Use accuracy_score function to get the accuracy\r\n",
        "print(\"SVM Accuracy Score -> \", accuracy_score(predictions_SVM, Test_Y) * 100)\r\n",
        "\r\n",
        "\r\n",
        "# Saving Encdoer, TFIDF Vectorizer and the trained model for future infrerencing/prediction\r\n",
        "\r\n",
        "# saving encoder to disk\r\n",
        "filename = 'labelencoder_fitted.pkl'\r\n",
        "pickle.dump(Encoder, open(filename, 'wb'))\r\n",
        "\r\n",
        "# saving TFIDF Vectorizer to disk\r\n",
        "filename = 'Tfidf_vect_fitted.pkl'\r\n",
        "pickle.dump(Tfidf_vect, open(filename, 'wb'))\r\n",
        "\r\n",
        "# saving the both models to disk\r\n",
        "filename = 'svm_trained_model.sav'\r\n",
        "pickle.dump(SVM, open(filename, 'wb'))\r\n",
        "\r\n",
        "filename = 'nb_trained_model.sav'\r\n",
        "pickle.dump(Naive, open(filename, 'wb'))\r\n",
        "\r\n",
        "print(\"Files saved to disk! Proceed to inference.py\")"
      ],
      "execution_count": 81,
      "outputs": [
        {
          "output_type": "stream",
          "text": [
            "[nltk_data] Downloading package wordnet to /root/nltk_data...\n",
            "[nltk_data]   Package wordnet is already up-to-date!\n",
            "[nltk_data] Downloading package punkt to /root/nltk_data...\n",
            "[nltk_data]   Package punkt is already up-to-date!\n",
            "[nltk_data] Downloading package averaged_perceptron_tagger to\n",
            "[nltk_data]     /root/nltk_data...\n",
            "[nltk_data]   Package averaged_perceptron_tagger is already up-to-\n",
            "[nltk_data]       date!\n",
            "[nltk_data] Downloading package stopwords to /root/nltk_data...\n",
            "[nltk_data]   Package stopwords is already up-to-date!\n",
            "Naive Bayes Accuracy Score ->  88.0\n",
            "SVM Accuracy Score ->  96.0\n",
            "Files saved to disk! Proceed to inference.py\n"
          ],
          "name": "stdout"
        }
      ]
    },
    {
      "cell_type": "code",
      "metadata": {
        "colab": {
          "base_uri": "https://localhost:8080/"
        },
        "id": "xwzuyayR4LPA",
        "outputId": "33fe6b0b-ee72-4a30-9f1b-2ad3a4c0b0eb"
      },
      "source": [
        "import pandas as pd\r\n",
        "import numpy as np\r\n",
        "from nltk.tokenize import word_tokenize\r\n",
        "from nltk import pos_tag\r\n",
        "from nltk.corpus import stopwords\r\n",
        "from nltk.stem import WordNetLemmatizer\r\n",
        "from sklearn.preprocessing import LabelEncoder\r\n",
        "from collections import defaultdict\r\n",
        "from nltk.corpus import wordnet as wn\r\n",
        "from sklearn.feature_extraction.text import TfidfVectorizer\r\n",
        "from sklearn import model_selection, naive_bayes, svm\r\n",
        "import pickle\r\n",
        "import ast\r\n",
        "\r\n",
        "# WordNetLemmatizer requires Pos tags to understand if the word is noun or verb or adjective etc. By default it is set to Noun\r\n",
        "tag_map = defaultdict(lambda: wn.NOUN)\r\n",
        "tag_map['J'] = wn.ADJ\r\n",
        "tag_map['V'] = wn.VERB\r\n",
        "tag_map['R'] = wn.ADV\r\n",
        "\r\n",
        "\r\n",
        "def text_preprocessing(text):\r\n",
        "    # Step - 1b : Change all the text to lower case. This is required as python interprets 'dog' and 'DOG' differently\r\n",
        "    text = text.lower()\r\n",
        "\r\n",
        "    # Step - 1c : Tokenization : In this each entry in the corpus will be broken into set of words\r\n",
        "    text_words_list = word_tokenize(text)\r\n",
        "\r\n",
        "    # Step - 1d : Remove Stop words, Non-Numeric and perfom Word Stemming/Lemmenting.\r\n",
        "    # Declaring Empty List to store the words that follow the rules for this step\r\n",
        "    Final_words = []\r\n",
        "    # Initializing WordNetLemmatizer()\r\n",
        "    word_Lemmatized = WordNetLemmatizer()\r\n",
        "    # pos_tag function below will provide the 'tag' i.e if the word is Noun(N) or Verb(V) or something else.\r\n",
        "    for word, tag in pos_tag(text_words_list):\r\n",
        "        # Below condition is to check for Stop words and consider only alphabets\r\n",
        "        if word not in stopwords.words('english') and word.isalpha():\r\n",
        "            word_Final = word_Lemmatized.lemmatize(word, tag_map[tag[0]])\r\n",
        "            Final_words.append(word_Final)\r\n",
        "        # The final processed set of words for each iteration will be stored in 'text_final'\r\n",
        "    return str(Final_words)\r\n",
        "\r\n",
        "\r\n",
        "# Loading Label encoder\r\n",
        "labelencode = pickle.load(open('labelencoder_fitted.pkl', 'rb'))\r\n",
        "\r\n",
        "# Loading TF-IDF Vectorizer\r\n",
        "Tfidf_vect = pickle.load(open('Tfidf_vect_fitted.pkl', 'rb'))\r\n",
        "\r\n",
        "# Loading models\r\n",
        "SVM = pickle.load(open('svm_trained_model.sav', 'rb'))\r\n",
        "Naive = pickle.load(open('nb_trained_model.sav', 'rb'))\r\n",
        "\r\n",
        "\r\n",
        "# Inference\r\n",
        "sample_text = \"Do I need to have my gallbladder removed?\"\r\n",
        "sample_text_processed = text_preprocessing(sample_text)\r\n",
        "sample_text_processed_vectorized = Tfidf_vect.transform([sample_text_processed])\r\n",
        "\r\n",
        "prediction_SVM = SVM.predict(sample_text_processed_vectorized)\r\n",
        "prediction_Naive = Naive.predict(sample_text_processed_vectorized)\r\n",
        "\r\n",
        "print(\"Prediction from SVM Model:\", labelencode.inverse_transform(prediction_SVM)[0])\r\n",
        "print(\"Prediction from NB Model:\", labelencode.inverse_transform(prediction_Naive)[0])"
      ],
      "execution_count": 79,
      "outputs": [
        {
          "output_type": "stream",
          "text": [
            "Prediction from SVM Model: __GALLSTONES__\n",
            "Prediction from NB Model: __GALLSTONES__\n"
          ],
          "name": "stdout"
        }
      ]
    },
    {
      "cell_type": "code",
      "metadata": {
        "colab": {
          "base_uri": "https://localhost:8080/"
        },
        "id": "b9utgTZy4eTm",
        "outputId": "9634b33e-39af-47ee-bb99-125af1eeee1a"
      },
      "source": [
        "# Inference\r\n",
        "sample_text = \"How do you treat cancer?\"\r\n",
        "sample_text_processed = text_preprocessing(sample_text)\r\n",
        "sample_text_processed_vectorized = Tfidf_vect.transform([sample_text_processed])\r\n",
        "\r\n",
        "prediction_SVM = SVM.predict(sample_text_processed_vectorized)\r\n",
        "prediction_Naive = Naive.predict(sample_text_processed_vectorized)\r\n",
        "\r\n",
        "print(\"Prediction from SVM Model:\", labelencode.inverse_transform(prediction_SVM)[0])\r\n",
        "print(\"Prediction from NB Model:\", labelencode.inverse_transform(prediction_Naive)[0])"
      ],
      "execution_count": 156,
      "outputs": [
        {
          "output_type": "stream",
          "text": [
            "Prediction from SVM Model: __OTHER_DISEASES__\n",
            "Prediction from NB Model: __GALLSTONES__\n"
          ],
          "name": "stdout"
        }
      ]
    },
    {
      "cell_type": "code",
      "metadata": {
        "colab": {
          "base_uri": "https://localhost:8080/"
        },
        "id": "hcakXme94lFO",
        "outputId": "184cf4fa-813f-47f7-af0c-82da55017386"
      },
      "source": [
        "# Inference\r\n",
        "sample_text = \"I have bile problems.\"\r\n",
        "sample_text_processed = text_preprocessing(sample_text)\r\n",
        "sample_text_processed_vectorized = Tfidf_vect.transform([sample_text_processed])\r\n",
        "\r\n",
        "prediction_SVM = SVM.predict(sample_text_processed_vectorized)\r\n",
        "prediction_Naive = Naive.predict(sample_text_processed_vectorized)\r\n",
        "\r\n",
        "print(\"Prediction from SVM Model:\", labelencode.inverse_transform(prediction_SVM)[0])\r\n",
        "print(\"Prediction from NB Model:\", labelencode.inverse_transform(prediction_Naive)[0])"
      ],
      "execution_count": 155,
      "outputs": [
        {
          "output_type": "stream",
          "text": [
            "Prediction from SVM Model: __GALLSTONES__\n",
            "Prediction from NB Model: __GALLSTONES__\n"
          ],
          "name": "stdout"
        }
      ]
    },
    {
      "cell_type": "code",
      "metadata": {
        "colab": {
          "base_uri": "https://localhost:8080/"
        },
        "id": "EvMREeES94oH",
        "outputId": "d43648ae-b150-4572-b452-119f529ea743"
      },
      "source": [
        "# Inference\r\n",
        "sample_text = \"I feel like I have dementia.\"\r\n",
        "sample_text_processed = text_preprocessing(sample_text)\r\n",
        "sample_text_processed_vectorized = Tfidf_vect.transform([sample_text_processed])\r\n",
        "\r\n",
        "prediction_SVM = SVM.predict(sample_text_processed_vectorized)\r\n",
        "prediction_Naive = Naive.predict(sample_text_processed_vectorized)\r\n",
        "\r\n",
        "print(\"Prediction from SVM Model:\", labelencode.inverse_transform(prediction_SVM)[0])\r\n",
        "print(\"Prediction from NB Model:\", labelencode.inverse_transform(prediction_Naive)[0])"
      ],
      "execution_count": 154,
      "outputs": [
        {
          "output_type": "stream",
          "text": [
            "Prediction from SVM Model: __OTHER_DISEASES__\n",
            "Prediction from NB Model: __OTHER_DISEASES__\n"
          ],
          "name": "stdout"
        }
      ]
    },
    {
      "cell_type": "code",
      "metadata": {
        "id": "N2MR8cJNyBXS"
      },
      "source": [
        "import matplotlib.pyplot as plt\r\n",
        "import seaborn as sns\r\n",
        "acc_data = pd.read_csv(r\"SVM_vs_NB_scores_binary.csv\", encoding='latin-1')\r\n"
      ],
      "execution_count": 109,
      "outputs": []
    },
    {
      "cell_type": "code",
      "metadata": {
        "colab": {
          "base_uri": "https://localhost:8080/",
          "height": 109
        },
        "id": "JadgzkW5yGQA",
        "outputId": "6b4eb258-fd03-4a25-da6f-01de1c0bfd37"
      },
      "source": [
        "acc_data"
      ],
      "execution_count": 124,
      "outputs": [
        {
          "output_type": "execute_result",
          "data": {
            "text/html": [
              "<div>\n",
              "<style scoped>\n",
              "    .dataframe tbody tr th:only-of-type {\n",
              "        vertical-align: middle;\n",
              "    }\n",
              "\n",
              "    .dataframe tbody tr th {\n",
              "        vertical-align: top;\n",
              "    }\n",
              "\n",
              "    .dataframe thead th {\n",
              "        text-align: right;\n",
              "    }\n",
              "</style>\n",
              "<table border=\"1\" class=\"dataframe\">\n",
              "  <thead>\n",
              "    <tr style=\"text-align: right;\">\n",
              "      <th></th>\n",
              "      <th>Algorithm</th>\n",
              "      <th>Accuracy Score</th>\n",
              "    </tr>\n",
              "  </thead>\n",
              "  <tbody>\n",
              "    <tr>\n",
              "      <th>0</th>\n",
              "      <td>Naive Bayes</td>\n",
              "      <td>0.88</td>\n",
              "    </tr>\n",
              "    <tr>\n",
              "      <th>1</th>\n",
              "      <td>Support Vector Machine</td>\n",
              "      <td>0.96</td>\n",
              "    </tr>\n",
              "  </tbody>\n",
              "</table>\n",
              "</div>"
            ],
            "text/plain": [
              "                Algorithm  Accuracy Score\n",
              "0             Naive Bayes            0.88\n",
              "1  Support Vector Machine            0.96"
            ]
          },
          "metadata": {
            "tags": []
          },
          "execution_count": 124
        }
      ]
    },
    {
      "cell_type": "code",
      "metadata": {
        "colab": {
          "base_uri": "https://localhost:8080/",
          "height": 265
        },
        "id": "NXZ6137O0MnG",
        "outputId": "a6333674-f570-4622-a5fb-35597052cbd2"
      },
      "source": [
        "#### ACCURACY COMPARISON PLOT\r\n",
        "\r\n",
        "accc = acc_data.plot.barh(x='Algorithm', y='Accuracy Score', rot=0)\r\n"
      ],
      "execution_count": 132,
      "outputs": [
        {
          "output_type": "display_data",
          "data": {
            "image/png": "[encoded data removed]",
            "text/plain": [
              "<Figure size 432x288 with 1 Axes>"
            ]
          },
          "metadata": {
            "tags": [],
            "needs_background": "light"
          }
        }
      ]
    },
    {
      "cell_type": "code",
      "metadata": {
        "colab": {
          "base_uri": "https://localhost:8080/"
        },
        "id": "69KxrSC644RM",
        "outputId": "2730fb02-f771-4e4a-b4c0-3c74c21c29a9"
      },
      "source": [
        "from sklearn.metrics import classification_report, confusion_matrix\r\n",
        "from sklearn.metrics import accuracy_score\r\n",
        "\r\n",
        "#SVM REPORT\r\n",
        "print(classification_report(Test_Y ,predictions_SVM))"
      ],
      "execution_count": 134,
      "outputs": [
        {
          "output_type": "stream",
          "text": [
            "              precision    recall  f1-score   support\n",
            "\n",
            "           0       0.92      1.00      0.96        11\n",
            "           1       1.00      0.93      0.96        14\n",
            "\n",
            "    accuracy                           0.96        25\n",
            "   macro avg       0.96      0.96      0.96        25\n",
            "weighted avg       0.96      0.96      0.96        25\n",
            "\n"
          ],
          "name": "stdout"
        }
      ]
    },
    {
      "cell_type": "code",
      "metadata": {
        "colab": {
          "base_uri": "https://localhost:8080/"
        },
        "id": "tXjyhikB5kMq",
        "outputId": "b733ad55-32b8-47b9-8b3d-e6fe02396a34"
      },
      "source": [
        "#NB REPORT\r\n",
        "print(classification_report(Test_Y,predictions_NB))"
      ],
      "execution_count": 136,
      "outputs": [
        {
          "output_type": "stream",
          "text": [
            "              precision    recall  f1-score   support\n",
            "\n",
            "           0       0.79      1.00      0.88        11\n",
            "           1       1.00      0.79      0.88        14\n",
            "\n",
            "    accuracy                           0.88        25\n",
            "   macro avg       0.89      0.89      0.88        25\n",
            "weighted avg       0.91      0.88      0.88        25\n",
            "\n"
          ],
          "name": "stdout"
        }
      ]
    },
    {
      "cell_type": "code",
      "metadata": {
        "id": "Wu7R3WuF69r0"
      },
      "source": [
        "naive_bayesss = classification_report(Test_Y,predictions_NB, output_dict=True)"
      ],
      "execution_count": 184,
      "outputs": []
    },
    {
      "cell_type": "code",
      "metadata": {
        "colab": {
          "base_uri": "https://localhost:8080/"
        },
        "id": "6dDFGTvmNGYP",
        "outputId": "8bd5b814-2c69-4e67-bcba-6e8b1831fa6e"
      },
      "source": [
        "Encoder.classes_"
      ],
      "execution_count": 183,
      "outputs": [
        {
          "output_type": "execute_result",
          "data": {
            "text/plain": [
              "array(['__GALLSTONES__', '__OTHER_DISEASES__'], dtype=object)"
            ]
          },
          "metadata": {
            "tags": []
          },
          "execution_count": 183
        }
      ]
    },
    {
      "cell_type": "code",
      "metadata": {
        "colab": {
          "base_uri": "https://localhost:8080/"
        },
        "id": "a4NS2hmlRl0O",
        "outputId": "58875428-0d34-4c9c-866d-aeb4e11c80af"
      },
      "source": [
        "naive_bayesss"
      ],
      "execution_count": 185,
      "outputs": [
        {
          "output_type": "execute_result",
          "data": {
            "text/plain": [
              "{'0': {'f1-score': 0.88,\n",
              "  'precision': 0.7857142857142857,\n",
              "  'recall': 1.0,\n",
              "  'support': 11},\n",
              " '1': {'f1-score': 0.88,\n",
              "  'precision': 1.0,\n",
              "  'recall': 0.7857142857142857,\n",
              "  'support': 14},\n",
              " 'accuracy': 0.88,\n",
              " 'macro avg': {'f1-score': 0.88,\n",
              "  'precision': 0.8928571428571428,\n",
              "  'recall': 0.8928571428571428,\n",
              "  'support': 25},\n",
              " 'weighted avg': {'f1-score': 0.88,\n",
              "  'precision': 0.9057142857142857,\n",
              "  'recall': 0.88,\n",
              "  'support': 25}}"
            ]
          },
          "metadata": {
            "tags": []
          },
          "execution_count": 185
        }
      ]
    },
    {
      "cell_type": "code",
      "metadata": {
        "colab": {
          "base_uri": "https://localhost:8080/"
        },
        "id": "DFrMjvKmRxNV",
        "outputId": "276fb4df-58ff-4c64-8f8a-342b7773e8ff"
      },
      "source": [
        "svmmmm = classification_report(Test_Y,predictions_SVM, output_dict=True)\r\n",
        "svmmmm"
      ],
      "execution_count": 187,
      "outputs": [
        {
          "output_type": "execute_result",
          "data": {
            "text/plain": [
              "{'0': {'f1-score': 0.9565217391304348,\n",
              "  'precision': 0.9166666666666666,\n",
              "  'recall': 1.0,\n",
              "  'support': 11},\n",
              " '1': {'f1-score': 0.962962962962963,\n",
              "  'precision': 1.0,\n",
              "  'recall': 0.9285714285714286,\n",
              "  'support': 14},\n",
              " 'accuracy': 0.96,\n",
              " 'macro avg': {'f1-score': 0.9597423510466989,\n",
              "  'precision': 0.9583333333333333,\n",
              "  'recall': 0.9642857142857143,\n",
              "  'support': 25},\n",
              " 'weighted avg': {'f1-score': 0.9601288244766506,\n",
              "  'precision': 0.9633333333333333,\n",
              "  'recall': 0.96,\n",
              "  'support': 25}}"
            ]
          },
          "metadata": {
            "tags": []
          },
          "execution_count": 187
        }
      ]
    },
    {
      "cell_type": "code",
      "metadata": {
        "colab": {
          "base_uri": "https://localhost:8080/",
          "height": 170
        },
        "id": "K32oer0HTK9u",
        "outputId": "f52e52c6-8963-48cc-dade-9bed4f0a081a"
      },
      "source": [
        "statisticss = pd.read_csv(r'svm_nb_stats_csv.csv')\r\n",
        "statisticss"
      ],
      "execution_count": 191,
      "outputs": [
        {
          "output_type": "execute_result",
          "data": {
            "text/html": [
              "<div>\n",
              "<style scoped>\n",
              "    .dataframe tbody tr th:only-of-type {\n",
              "        vertical-align: middle;\n",
              "    }\n",
              "\n",
              "    .dataframe tbody tr th {\n",
              "        vertical-align: top;\n",
              "    }\n",
              "\n",
              "    .dataframe thead th {\n",
              "        text-align: right;\n",
              "    }\n",
              "</style>\n",
              "<table border=\"1\" class=\"dataframe\">\n",
              "  <thead>\n",
              "    <tr style=\"text-align: right;\">\n",
              "      <th></th>\n",
              "      <th>Class</th>\n",
              "      <th>Model</th>\n",
              "      <th>Precision</th>\n",
              "      <th>Recall</th>\n",
              "      <th>F1</th>\n",
              "      <th>Support</th>\n",
              "    </tr>\n",
              "  </thead>\n",
              "  <tbody>\n",
              "    <tr>\n",
              "      <th>0</th>\n",
              "      <td>Gallstones</td>\n",
              "      <td>SVM</td>\n",
              "      <td>0.92</td>\n",
              "      <td>1.00</td>\n",
              "      <td>0.96</td>\n",
              "      <td>11</td>\n",
              "    </tr>\n",
              "    <tr>\n",
              "      <th>1</th>\n",
              "      <td>Gallstones</td>\n",
              "      <td>NB</td>\n",
              "      <td>0.79</td>\n",
              "      <td>1.00</td>\n",
              "      <td>0.88</td>\n",
              "      <td>14</td>\n",
              "    </tr>\n",
              "    <tr>\n",
              "      <th>2</th>\n",
              "      <td>Other Diseases</td>\n",
              "      <td>SVM</td>\n",
              "      <td>1.00</td>\n",
              "      <td>0.93</td>\n",
              "      <td>0.96</td>\n",
              "      <td>14</td>\n",
              "    </tr>\n",
              "    <tr>\n",
              "      <th>3</th>\n",
              "      <td>Other Diseases</td>\n",
              "      <td>NB</td>\n",
              "      <td>1.00</td>\n",
              "      <td>0.79</td>\n",
              "      <td>0.88</td>\n",
              "      <td>14</td>\n",
              "    </tr>\n",
              "  </tbody>\n",
              "</table>\n",
              "</div>"
            ],
            "text/plain": [
              "            Class Model  Precision  Recall    F1  Support\n",
              "0      Gallstones   SVM       0.92    1.00  0.96       11\n",
              "1      Gallstones    NB       0.79    1.00  0.88       14\n",
              "2  Other Diseases   SVM       1.00    0.93  0.96       14\n",
              "3  Other Diseases    NB       1.00    0.79  0.88       14"
            ]
          },
          "metadata": {
            "tags": []
          },
          "execution_count": 191
        }
      ]
    },
    {
      "cell_type": "code",
      "metadata": {
        "colab": {
          "base_uri": "https://localhost:8080/",
          "height": 295
        },
        "id": "4IJ1_R5oTo0d",
        "outputId": "bb183039-7c04-4155-fea9-c4d923e498cf"
      },
      "source": [
        "statisticss.plot('Recall', 'Precision')\r\n",
        "plt.title('Gallstone Performance')\r\n",
        "plt.grid(True)\r\n",
        "\r\n",
        "plt.show()"
      ],
      "execution_count": 211,
      "outputs": [
        {
          "output_type": "display_data",
          "data": {
            "image/png": "[encoded data removed]",
            "text/plain": [
              "<Figure size 432x288 with 1 Axes>"
            ]
          },
          "metadata": {
            "tags": [],
            "needs_background": "light"
          }
        }
      ]
    }
  ]
}