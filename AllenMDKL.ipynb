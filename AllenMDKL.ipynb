{
  "nbformat": 4,
  "nbformat_minor": 0,
  "metadata": {
    "colab": {
      "name": "AllenMDKL.ipynb",
      "provenance": [],
      "authorship_tag": "ABX9TyMlLjlPFiEZzvZbSM6z2fGH",
      "include_colab_link": true
    },
    "kernelspec": {
      "name": "python3",
      "display_name": "Python 3"
    }
  },
  "cells": [
    {
      "cell_type": "markdown",
      "metadata": {
        "id": "view-in-github",
        "colab_type": "text"
      },
      "source": [
        "<a href=\"https://colab.research.google.com/github/AlexanderBelfort/MDPRKT/blob/main/AllenMDKL.ipynb\" target=\"_parent\"><img src=\"https://colab.research.google.com/assets/colab-badge.svg\" alt=\"Open In Colab\"/></a>"
      ]
    },
    {
      "cell_type": "markdown",
      "metadata": {
        "id": "eV7zzeWAxznT"
      },
      "source": [
        "**Install AllenNLP Framework and the models.**"
      ]
    },
    {
      "cell_type": "code",
      "metadata": {
        "id": "xhKd59izxsoo"
      },
      "source": [
        "# !pip install allennlp\r\n",
        "!pip install allennlp==1.0.0 allennlp-models==1.0.0"
      ],
      "execution_count": null,
      "outputs": []
    },
    {
      "cell_type": "markdown",
      "metadata": {
        "id": "dHNpW-9eynG7"
      },
      "source": [
        "**Import the Predictor**"
      ]
    },
    {
      "cell_type": "code",
      "metadata": {
        "id": "7iEBptrNyqZm"
      },
      "source": [
        "from allennlp.predictors.predictor import Predictor\r\n",
        "## Old Model commented\r\n",
        "# predictor = Predictor.from_path(\"https://s3-us-west-2.amazonaws.com/allennlp/models/bidaf-model-2017.09.15-charpad.tar.gz\")\r\n",
        "predictor = Predictor.from_path(\"https://storage.googleapis.com/allennlp-public-models/bidaf-model-2020.03.19.tar.gz\")\r\n"
      ],
      "execution_count": null,
      "outputs": []
    },
    {
      "cell_type": "markdown",
      "metadata": {
        "id": "nHWSgFjVywV3"
      },
      "source": [
        "**Open our data.**"
      ]
    },
    {
      "cell_type": "code",
      "metadata": {
        "id": "c3fzGmSYyy2i"
      },
      "source": [
        "with open (\"1.txt\", \"r\") as myfile:\r\n",
        "  next(myfile)\r\n",
        "  data=myfile.read().replace('\\n', '')\r\n",
        "\r\n",
        "# data"
      ],
      "execution_count": null,
      "outputs": []
    },
    {
      "cell_type": "markdown",
      "metadata": {
        "id": "m2PRdrnezDWv"
      },
      "source": [
        "**Ask questions regarding the study.**"
      ]
    },
    {
      "cell_type": "code",
      "metadata": {
        "colab": {
          "base_uri": "https://localhost:8080/",
          "height": 35
        },
        "id": "HNtLaJn3y5qY",
        "outputId": "21a0be03-f260-4ccd-f16f-95cf27a08ab0"
      },
      "source": [
        "# \"How long does ibuprofen take to work?\"\r\n",
        "# \"When does the pain come?\"\r\n",
        "# \"Should they send the patient the questonnaire by post or email?\"\r\n",
        "# \"What is medical management?\r\n",
        "# \"What is the name of the surgery?\"\r\n",
        "# \"What does the computer do?\"\r\n",
        "\r\n",
        "result=predictor.predict(\r\n",
        "  passage=data,\r\n",
        "  question= \"How long does ibuprofen take to work?\"\r\n",
        "  # \"how are union territoris managed?\"\r\n",
        ")\r\n",
        "\r\n",
        "result['best_span_str']"
      ],
      "execution_count": 6,
      "outputs": [
        {
          "output_type": "execute_result",
          "data": {
            "application/vnd.google.colaboratory.intrinsic+json": {
              "type": "string"
            },
            "text/plain": [
              "'30 minutes or so'"
            ]
          },
          "metadata": {
            "tags": []
          },
          "execution_count": 6
        }
      ]
    },
    {
      "cell_type": "code",
      "metadata": {
        "colab": {
          "base_uri": "https://localhost:8080/"
        },
        "id": "5ct_fTbXzViM",
        "outputId": "5a0ad89e-2129-4f65-c72a-0bdddf1cce29"
      },
      "source": [
        "# TESTING\r\n",
        "\r\n",
        "x = [\"How long does ibuprofen take to work?\",\\\r\n",
        "     \"When does the pain come?\",\\\r\n",
        "     \"Should they send the patient the questonnaire by post or email?\",\\\r\n",
        "     \"What is medical management?\",\\\r\n",
        "     \"What is the name of the surgery?\",\\\r\n",
        "     \"What does the computer do?\"]\r\n",
        "\r\n",
        "y = [item.strip() for item in x]\r\n",
        "\r\n",
        "def testing(theList):\r\n",
        "  \r\n",
        "  for each_element in theList:\r\n",
        "    result = predictor.predict(passage=data, question = each_element)\r\n",
        "    print(result['best_span_str'])\r\n",
        "\r\n",
        "testing(y)"
      ],
      "execution_count": 48,
      "outputs": [
        {
          "output_type": "stream",
          "text": [
            "30 minutes or so\n",
            "in the night time\n",
            "post\n",
            "dietary advice and simple painkillers like you have been getting\n",
            "P2 - What kind of surgery, he says, is required for this?R - So, if we go down the route for surgery, then the surgery is normally keyhole\n",
            "if you consent to take part in the study, decides what happens to you - whether you get the surgery, or whether you don’t\n"
          ],
          "name": "stdout"
        }
      ]
    }
  ]
}